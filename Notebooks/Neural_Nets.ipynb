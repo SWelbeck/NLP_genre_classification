{
 "cells": [
  {
   "cell_type": "code",
   "execution_count": 75,
   "id": "still-domestic",
   "metadata": {},
   "outputs": [
    {
     "name": "stdout",
     "output_type": "stream",
     "text": [
      "Requirement already satisfied: pip in /home/ec2-user/anaconda3/envs/tensorflow2_p36/lib/python3.6/site-packages (21.0.1)\n",
      "Requirement already satisfied: wordcloud in /home/ec2-user/anaconda3/envs/tensorflow2_p36/lib/python3.6/site-packages (1.8.1)\n",
      "Requirement already satisfied: numpy>=1.6.1 in /home/ec2-user/anaconda3/envs/tensorflow2_p36/lib/python3.6/site-packages (from wordcloud) (1.18.5)\n",
      "Requirement already satisfied: pillow in /home/ec2-user/anaconda3/envs/tensorflow2_p36/lib/python3.6/site-packages (from wordcloud) (7.0.0)\n",
      "Requirement already satisfied: matplotlib in /home/ec2-user/anaconda3/envs/tensorflow2_p36/lib/python3.6/site-packages (from wordcloud) (3.1.3)\n",
      "Requirement already satisfied: pyparsing!=2.0.4,!=2.1.2,!=2.1.6,>=2.0.1 in /home/ec2-user/anaconda3/envs/tensorflow2_p36/lib/python3.6/site-packages (from matplotlib->wordcloud) (2.4.7)\n",
      "Requirement already satisfied: cycler>=0.10 in /home/ec2-user/anaconda3/envs/tensorflow2_p36/lib/python3.6/site-packages (from matplotlib->wordcloud) (0.10.0)\n",
      "Requirement already satisfied: python-dateutil>=2.1 in /home/ec2-user/anaconda3/envs/tensorflow2_p36/lib/python3.6/site-packages (from matplotlib->wordcloud) (2.8.1)\n",
      "Requirement already satisfied: kiwisolver>=1.0.1 in /home/ec2-user/anaconda3/envs/tensorflow2_p36/lib/python3.6/site-packages (from matplotlib->wordcloud) (1.1.0)\n",
      "Requirement already satisfied: six in /home/ec2-user/anaconda3/envs/tensorflow2_p36/lib/python3.6/site-packages (from cycler>=0.10->matplotlib->wordcloud) (1.15.0)\n",
      "Requirement already satisfied: setuptools in /home/ec2-user/anaconda3/envs/tensorflow2_p36/lib/python3.6/site-packages (from kiwisolver>=1.0.1->matplotlib->wordcloud) (45.2.0.post20200210)\n",
      "Requirement already satisfied: neattext in /home/ec2-user/anaconda3/envs/tensorflow2_p36/lib/python3.6/site-packages (0.1.0)\n",
      "Requirement already satisfied: imblearn in /home/ec2-user/anaconda3/envs/tensorflow2_p36/lib/python3.6/site-packages (0.0)\n",
      "Requirement already satisfied: imbalanced-learn in /home/ec2-user/anaconda3/envs/tensorflow2_p36/lib/python3.6/site-packages (from imblearn) (0.7.0)\n",
      "Requirement already satisfied: numpy>=1.13.3 in /home/ec2-user/anaconda3/envs/tensorflow2_p36/lib/python3.6/site-packages (from imbalanced-learn->imblearn) (1.18.5)\n",
      "Requirement already satisfied: scikit-learn>=0.23 in /home/ec2-user/anaconda3/envs/tensorflow2_p36/lib/python3.6/site-packages (from imbalanced-learn->imblearn) (0.24.1)\n",
      "Requirement already satisfied: scipy>=0.19.1 in /home/ec2-user/anaconda3/envs/tensorflow2_p36/lib/python3.6/site-packages (from imbalanced-learn->imblearn) (1.4.1)\n",
      "Requirement already satisfied: joblib>=0.11 in /home/ec2-user/anaconda3/envs/tensorflow2_p36/lib/python3.6/site-packages (from imbalanced-learn->imblearn) (0.14.1)\n",
      "Requirement already satisfied: threadpoolctl>=2.0.0 in /home/ec2-user/anaconda3/envs/tensorflow2_p36/lib/python3.6/site-packages (from scikit-learn>=0.23->imbalanced-learn->imblearn) (2.1.0)\n",
      "Requirement already satisfied: mglearn in /home/ec2-user/anaconda3/envs/tensorflow2_p36/lib/python3.6/site-packages (0.1.9)\n",
      "Requirement already satisfied: numpy in /home/ec2-user/anaconda3/envs/tensorflow2_p36/lib/python3.6/site-packages (from mglearn) (1.18.5)\n",
      "Requirement already satisfied: pandas in /home/ec2-user/anaconda3/envs/tensorflow2_p36/lib/python3.6/site-packages (from mglearn) (1.0.1)\n",
      "Requirement already satisfied: imageio in /home/ec2-user/anaconda3/envs/tensorflow2_p36/lib/python3.6/site-packages (from mglearn) (2.6.1)\n",
      "Requirement already satisfied: joblib in /home/ec2-user/anaconda3/envs/tensorflow2_p36/lib/python3.6/site-packages (from mglearn) (0.14.1)\n",
      "Requirement already satisfied: cycler in /home/ec2-user/anaconda3/envs/tensorflow2_p36/lib/python3.6/site-packages (from mglearn) (0.10.0)\n",
      "Requirement already satisfied: scikit-learn in /home/ec2-user/anaconda3/envs/tensorflow2_p36/lib/python3.6/site-packages (from mglearn) (0.24.1)\n",
      "Requirement already satisfied: pillow in /home/ec2-user/anaconda3/envs/tensorflow2_p36/lib/python3.6/site-packages (from mglearn) (7.0.0)\n",
      "Requirement already satisfied: matplotlib in /home/ec2-user/anaconda3/envs/tensorflow2_p36/lib/python3.6/site-packages (from mglearn) (3.1.3)\n",
      "Requirement already satisfied: six in /home/ec2-user/anaconda3/envs/tensorflow2_p36/lib/python3.6/site-packages (from cycler->mglearn) (1.15.0)\n",
      "Requirement already satisfied: python-dateutil>=2.1 in /home/ec2-user/anaconda3/envs/tensorflow2_p36/lib/python3.6/site-packages (from matplotlib->mglearn) (2.8.1)\n",
      "Requirement already satisfied: pyparsing!=2.0.4,!=2.1.2,!=2.1.6,>=2.0.1 in /home/ec2-user/anaconda3/envs/tensorflow2_p36/lib/python3.6/site-packages (from matplotlib->mglearn) (2.4.7)\n",
      "Requirement already satisfied: kiwisolver>=1.0.1 in /home/ec2-user/anaconda3/envs/tensorflow2_p36/lib/python3.6/site-packages (from matplotlib->mglearn) (1.1.0)\n",
      "Requirement already satisfied: setuptools in /home/ec2-user/anaconda3/envs/tensorflow2_p36/lib/python3.6/site-packages (from kiwisolver>=1.0.1->matplotlib->mglearn) (45.2.0.post20200210)\n",
      "Requirement already satisfied: pytz>=2017.2 in /home/ec2-user/anaconda3/envs/tensorflow2_p36/lib/python3.6/site-packages (from pandas->mglearn) (2019.3)\n",
      "Requirement already satisfied: threadpoolctl>=2.0.0 in /home/ec2-user/anaconda3/envs/tensorflow2_p36/lib/python3.6/site-packages (from scikit-learn->mglearn) (2.1.0)\n",
      "Requirement already satisfied: scipy>=0.19.1 in /home/ec2-user/anaconda3/envs/tensorflow2_p36/lib/python3.6/site-packages (from scikit-learn->mglearn) (1.4.1)\n",
      "Requirement already satisfied: scikit-plot in /home/ec2-user/anaconda3/envs/tensorflow2_p36/lib/python3.6/site-packages (0.3.7)\n",
      "Requirement already satisfied: joblib>=0.10 in /home/ec2-user/anaconda3/envs/tensorflow2_p36/lib/python3.6/site-packages (from scikit-plot) (0.14.1)\n",
      "Requirement already satisfied: matplotlib>=1.4.0 in /home/ec2-user/anaconda3/envs/tensorflow2_p36/lib/python3.6/site-packages (from scikit-plot) (3.1.3)\n",
      "Requirement already satisfied: scipy>=0.9 in /home/ec2-user/anaconda3/envs/tensorflow2_p36/lib/python3.6/site-packages (from scikit-plot) (1.4.1)\n",
      "Requirement already satisfied: scikit-learn>=0.18 in /home/ec2-user/anaconda3/envs/tensorflow2_p36/lib/python3.6/site-packages (from scikit-plot) (0.24.1)\n",
      "Requirement already satisfied: cycler>=0.10 in /home/ec2-user/anaconda3/envs/tensorflow2_p36/lib/python3.6/site-packages (from matplotlib>=1.4.0->scikit-plot) (0.10.0)\n",
      "Requirement already satisfied: numpy>=1.11 in /home/ec2-user/anaconda3/envs/tensorflow2_p36/lib/python3.6/site-packages (from matplotlib>=1.4.0->scikit-plot) (1.18.5)\n",
      "Requirement already satisfied: python-dateutil>=2.1 in /home/ec2-user/anaconda3/envs/tensorflow2_p36/lib/python3.6/site-packages (from matplotlib>=1.4.0->scikit-plot) (2.8.1)\n",
      "Requirement already satisfied: kiwisolver>=1.0.1 in /home/ec2-user/anaconda3/envs/tensorflow2_p36/lib/python3.6/site-packages (from matplotlib>=1.4.0->scikit-plot) (1.1.0)\n",
      "Requirement already satisfied: pyparsing!=2.0.4,!=2.1.2,!=2.1.6,>=2.0.1 in /home/ec2-user/anaconda3/envs/tensorflow2_p36/lib/python3.6/site-packages (from matplotlib>=1.4.0->scikit-plot) (2.4.7)\n",
      "Requirement already satisfied: six in /home/ec2-user/anaconda3/envs/tensorflow2_p36/lib/python3.6/site-packages (from cycler>=0.10->matplotlib>=1.4.0->scikit-plot) (1.15.0)\n",
      "Requirement already satisfied: setuptools in /home/ec2-user/anaconda3/envs/tensorflow2_p36/lib/python3.6/site-packages (from kiwisolver>=1.0.1->matplotlib>=1.4.0->scikit-plot) (45.2.0.post20200210)\n",
      "Requirement already satisfied: threadpoolctl>=2.0.0 in /home/ec2-user/anaconda3/envs/tensorflow2_p36/lib/python3.6/site-packages (from scikit-learn>=0.18->scikit-plot) (2.1.0)\n",
      "Requirement already satisfied: keras-tqdm in /home/ec2-user/anaconda3/envs/tensorflow2_p36/lib/python3.6/site-packages (2.0.1)\n",
      "Requirement already satisfied: Keras in /home/ec2-user/anaconda3/envs/tensorflow2_p36/lib/python3.6/site-packages (from keras-tqdm) (2.3.0)\n",
      "Requirement already satisfied: tqdm in /home/ec2-user/anaconda3/envs/tensorflow2_p36/lib/python3.6/site-packages (from keras-tqdm) (4.42.1)\n",
      "Requirement already satisfied: keras-applications>=1.0.6 in /home/ec2-user/anaconda3/envs/tensorflow2_p36/lib/python3.6/site-packages (from Keras->keras-tqdm) (1.0.8)\n",
      "Requirement already satisfied: six>=1.9.0 in /home/ec2-user/anaconda3/envs/tensorflow2_p36/lib/python3.6/site-packages (from Keras->keras-tqdm) (1.15.0)\n",
      "Requirement already satisfied: h5py in /home/ec2-user/anaconda3/envs/tensorflow2_p36/lib/python3.6/site-packages (from Keras->keras-tqdm) (2.10.0)\n",
      "Requirement already satisfied: pyyaml in /home/ec2-user/anaconda3/envs/tensorflow2_p36/lib/python3.6/site-packages (from Keras->keras-tqdm) (5.3.1)\n",
      "Requirement already satisfied: keras-preprocessing>=1.0.5 in /home/ec2-user/anaconda3/envs/tensorflow2_p36/lib/python3.6/site-packages (from Keras->keras-tqdm) (1.1.0)\n",
      "Requirement already satisfied: numpy>=1.9.1 in /home/ec2-user/anaconda3/envs/tensorflow2_p36/lib/python3.6/site-packages (from Keras->keras-tqdm) (1.18.5)\n",
      "Requirement already satisfied: scipy>=0.14 in /home/ec2-user/anaconda3/envs/tensorflow2_p36/lib/python3.6/site-packages (from Keras->keras-tqdm) (1.4.1)\n"
     ]
    },
    {
     "name": "stdout",
     "output_type": "stream",
     "text": [
      "Requirement already satisfied: gensim in /home/ec2-user/anaconda3/envs/tensorflow2_p36/lib/python3.6/site-packages (3.8.3)\n",
      "Requirement already satisfied: numpy>=1.11.3 in /home/ec2-user/anaconda3/envs/tensorflow2_p36/lib/python3.6/site-packages (from gensim) (1.18.5)\n",
      "Requirement already satisfied: smart-open>=1.8.1 in /home/ec2-user/anaconda3/envs/tensorflow2_p36/lib/python3.6/site-packages (from gensim) (4.2.0)\n",
      "Requirement already satisfied: six>=1.5.0 in /home/ec2-user/anaconda3/envs/tensorflow2_p36/lib/python3.6/site-packages (from gensim) (1.15.0)\n",
      "Requirement already satisfied: scipy>=0.18.1 in /home/ec2-user/anaconda3/envs/tensorflow2_p36/lib/python3.6/site-packages (from gensim) (1.4.1)\n",
      "Requirement already satisfied: pydot in /home/ec2-user/anaconda3/envs/tensorflow2_p36/lib/python3.6/site-packages (1.4.2)\n",
      "Requirement already satisfied: pyparsing>=2.1.4 in /home/ec2-user/anaconda3/envs/tensorflow2_p36/lib/python3.6/site-packages (from pydot) (2.4.7)\n",
      "Requirement already satisfied: pyldavis==2.1.2 in /home/ec2-user/anaconda3/envs/tensorflow2_p36/lib/python3.6/site-packages (2.1.2)\n",
      "Requirement already satisfied: scipy>=0.18.0 in /home/ec2-user/anaconda3/envs/tensorflow2_p36/lib/python3.6/site-packages (from pyldavis==2.1.2) (1.4.1)\n",
      "Requirement already satisfied: numpy>=1.9.2 in /home/ec2-user/anaconda3/envs/tensorflow2_p36/lib/python3.6/site-packages (from pyldavis==2.1.2) (1.18.5)\n",
      "Requirement already satisfied: future in /home/ec2-user/anaconda3/envs/tensorflow2_p36/lib/python3.6/site-packages (from pyldavis==2.1.2) (0.18.2)\n",
      "Requirement already satisfied: wheel>=0.23.0 in /home/ec2-user/anaconda3/envs/tensorflow2_p36/lib/python3.6/site-packages (from pyldavis==2.1.2) (0.34.2)\n",
      "Requirement already satisfied: funcy in /home/ec2-user/anaconda3/envs/tensorflow2_p36/lib/python3.6/site-packages (from pyldavis==2.1.2) (1.15)\n",
      "Requirement already satisfied: pytest in /home/ec2-user/anaconda3/envs/tensorflow2_p36/lib/python3.6/site-packages (from pyldavis==2.1.2) (5.3.5)\n",
      "Requirement already satisfied: numexpr in /home/ec2-user/anaconda3/envs/tensorflow2_p36/lib/python3.6/site-packages (from pyldavis==2.1.2) (2.7.1)\n",
      "Requirement already satisfied: joblib>=0.8.4 in /home/ec2-user/anaconda3/envs/tensorflow2_p36/lib/python3.6/site-packages (from pyldavis==2.1.2) (0.14.1)\n",
      "Requirement already satisfied: jinja2>=2.7.2 in /home/ec2-user/anaconda3/envs/tensorflow2_p36/lib/python3.6/site-packages (from pyldavis==2.1.2) (2.11.1)\n",
      "Requirement already satisfied: pandas>=0.17.0 in /home/ec2-user/anaconda3/envs/tensorflow2_p36/lib/python3.6/site-packages (from pyldavis==2.1.2) (1.0.1)\n",
      "Requirement already satisfied: MarkupSafe>=0.23 in /home/ec2-user/anaconda3/envs/tensorflow2_p36/lib/python3.6/site-packages (from jinja2>=2.7.2->pyldavis==2.1.2) (1.1.1)\n",
      "Requirement already satisfied: python-dateutil>=2.6.1 in /home/ec2-user/anaconda3/envs/tensorflow2_p36/lib/python3.6/site-packages (from pandas>=0.17.0->pyldavis==2.1.2) (2.8.1)\n",
      "Requirement already satisfied: pytz>=2017.2 in /home/ec2-user/anaconda3/envs/tensorflow2_p36/lib/python3.6/site-packages (from pandas>=0.17.0->pyldavis==2.1.2) (2019.3)\n",
      "Requirement already satisfied: six>=1.5 in /home/ec2-user/anaconda3/envs/tensorflow2_p36/lib/python3.6/site-packages (from python-dateutil>=2.6.1->pandas>=0.17.0->pyldavis==2.1.2) (1.15.0)\n",
      "Requirement already satisfied: py>=1.5.0 in /home/ec2-user/anaconda3/envs/tensorflow2_p36/lib/python3.6/site-packages (from pytest->pyldavis==2.1.2) (1.8.1)\n",
      "Requirement already satisfied: packaging in /home/ec2-user/anaconda3/envs/tensorflow2_p36/lib/python3.6/site-packages (from pytest->pyldavis==2.1.2) (20.8)\n",
      "Requirement already satisfied: attrs>=17.4.0 in /home/ec2-user/anaconda3/envs/tensorflow2_p36/lib/python3.6/site-packages (from pytest->pyldavis==2.1.2) (20.3.0)\n",
      "Requirement already satisfied: more-itertools>=4.0.0 in /home/ec2-user/anaconda3/envs/tensorflow2_p36/lib/python3.6/site-packages (from pytest->pyldavis==2.1.2) (8.2.0)\n",
      "Requirement already satisfied: pluggy<1.0,>=0.12 in /home/ec2-user/anaconda3/envs/tensorflow2_p36/lib/python3.6/site-packages (from pytest->pyldavis==2.1.2) (0.13.1)\n",
      "Requirement already satisfied: wcwidth in /home/ec2-user/anaconda3/envs/tensorflow2_p36/lib/python3.6/site-packages (from pytest->pyldavis==2.1.2) (0.1.8)\n",
      "Requirement already satisfied: importlib-metadata>=0.12 in /home/ec2-user/anaconda3/envs/tensorflow2_p36/lib/python3.6/site-packages (from pytest->pyldavis==2.1.2) (3.4.0)\n",
      "Requirement already satisfied: zipp>=0.5 in /home/ec2-user/anaconda3/envs/tensorflow2_p36/lib/python3.6/site-packages (from importlib-metadata>=0.12->pytest->pyldavis==2.1.2) (3.4.0)\n",
      "Requirement already satisfied: typing-extensions>=3.6.4 in /home/ec2-user/anaconda3/envs/tensorflow2_p36/lib/python3.6/site-packages (from importlib-metadata>=0.12->pytest->pyldavis==2.1.2) (3.7.4.3)\n",
      "Requirement already satisfied: pyparsing>=2.0.2 in /home/ec2-user/anaconda3/envs/tensorflow2_p36/lib/python3.6/site-packages (from packaging->pytest->pyldavis==2.1.2) (2.4.7)\n"
     ]
    }
   ],
   "source": [
    "!pip install --upgrade pip\n",
    "\n",
    "!pip install wordcloud\n",
    "\n",
    "!pip install neattext\n",
    "\n",
    "!pip install imblearn\n",
    "\n",
    "!pip install mglearn\n",
    "\n",
    "!pip install scikit-plot\n",
    "\n",
    "!pip install keras-tqdm\n",
    "\n",
    "!pip install gensim\n",
    "\n",
    "!pip install pydot\n",
    "\n",
    "!pip install pyldavis==2.1.2"
   ]
  },
  {
   "cell_type": "code",
   "execution_count": 2,
   "id": "abroad-indian",
   "metadata": {},
   "outputs": [
    {
     "name": "stderr",
     "output_type": "stream",
     "text": [
      "[nltk_data] Downloading package stopwords to\n",
      "[nltk_data]     /home/ec2-user/nltk_data...\n",
      "[nltk_data]   Package stopwords is already up-to-date!\n",
      "[nltk_data] Downloading package punkt to /home/ec2-user/nltk_data...\n",
      "[nltk_data]   Package punkt is already up-to-date!\n",
      "[nltk_data] Downloading package wordnet to /home/ec2-user/nltk_data...\n",
      "[nltk_data]   Package wordnet is already up-to-date!\n"
     ]
    },
    {
     "data": {
      "text/plain": [
       "True"
      ]
     },
     "execution_count": 2,
     "metadata": {},
     "output_type": "execute_result"
    }
   ],
   "source": [
    "import re\n",
    "import string\n",
    "import math\n",
    "\n",
    "import pandas as pd\n",
    "import numpy as np\n",
    "import seaborn as sns\n",
    "import matplotlib.pyplot as plt\n",
    "from matplotlib import cm\n",
    "get_ipython().magic('matplotlib inline')\n",
    "\n",
    "from sklearn import metrics\n",
    "from sklearn.metrics import accuracy_score, f1_score, multilabel_confusion_matrix\n",
    "from sklearn.metrics import classification_report, roc_curve, roc_auc_score\n",
    "from sklearn.metrics import confusion_matrix, ConfusionMatrixDisplay \n",
    "from sklearn.metrics import plot_precision_recall_curve, plot_roc_curve\n",
    "\n",
    "from sklearn.naive_bayes import MultinomialNB\n",
    "from sklearn.model_selection import train_test_split\n",
    "from sklearn.ensemble import RandomForestClassifier\n",
    "from sklearn.feature_extraction.text import CountVectorizer, TfidfVectorizer, TfidfTransformer\n",
    "from sklearn.decomposition import LatentDirichletAllocation \n",
    "\n",
    "import neattext as nt\n",
    "import neattext.functions as nfx\n",
    "from wordcloud import WordCloud, STOPWORDS, tokenization\n",
    "\n",
    "import pyLDAvis\n",
    "import pyLDAvis.sklearn\n",
    "import pyLDAvis.gensim\n",
    "pyLDAvis.enable_notebook()\n",
    "\n",
    "import nltk\n",
    "from nltk.probability import FreqDist\n",
    "from nltk.corpus import stopwords\n",
    "from nltk.stem import PorterStemmer, WordNetLemmatizer \n",
    "from nltk.stem.snowball import SnowballStemmer\n",
    "from nltk.tokenize import RegexpTokenizer\n",
    "\n",
    "import warnings\n",
    "warnings.filterwarnings(\"ignore\", category=DeprecationWarning) \n",
    "\n",
    "pd.set_option(\"display.max_rows\", 50, \"display.max_columns\", 50, \"display.max_colwidth\", 100)\n",
    "\n",
    "nltk.download('stopwords')\n",
    "nltk.download('punkt')\n",
    "nltk.download('wordnet')"
   ]
  },
  {
   "cell_type": "code",
   "execution_count": 15,
   "id": "individual-pollution",
   "metadata": {},
   "outputs": [],
   "source": [
    "from numpy import array\n",
    "from keras.preprocessing.text import one_hot\n",
    "from keras.preprocessing.sequence import pad_sequences\n",
    "from keras.models import Sequential\n",
    "from keras.layers.core import Activation, Dropout, Dense, SpatialDropout1D\n",
    "from keras.layers import Flatten, LSTM\n",
    "from keras.layers import GlobalMaxPooling1D, GRU, SeparableConv2D, SeparableConv1D\n",
    "from keras.models import Model\n",
    "from keras.layers.embeddings import Embedding\n",
    "from sklearn.model_selection import train_test_split\n",
    "from keras.preprocessing.text import Tokenizer\n",
    "from keras.layers import Input\n",
    "from keras.layers.merge import Concatenate\n",
    "from keras.metrics import Accuracy, Precision, Recall, AUC\n",
    "from keras.utils.vis_utils import plot_model\n",
    "\n",
    "from keras_tqdm import TQDMNotebookCallback\n",
    "from keras.layers import Dense, Activation, MaxPooling1D, Embedding, Flatten, GlobalMaxPool1D, Dropout, Conv1D\n",
    "from keras.callbacks import ReduceLROnPlateau, EarlyStopping, ModelCheckpoint\n",
    "from keras.losses import binary_crossentropy\n",
    "from keras.optimizers import Adam\n",
    "from keras_tqdm import TQDMCallback "
   ]
  },
  {
   "cell_type": "markdown",
   "id": "accompanied-cooperative",
   "metadata": {},
   "source": [
    "## Read in Data"
   ]
  },
  {
   "cell_type": "code",
   "execution_count": 4,
   "id": "exact-cruise",
   "metadata": {},
   "outputs": [],
   "source": [
    "df = pd.read_csv(\"../../lemm_data.csv\")\n",
    "\n",
    "pd.set_option(\"display.max_rows\", 50, \"display.max_columns\", 50, \"display.max_colwidth\", 400)"
   ]
  },
  {
   "cell_type": "markdown",
   "id": "eastern-habitat",
   "metadata": {},
   "source": [
    "## Define X and y variables"
   ]
  },
  {
   "cell_type": "code",
   "execution_count": 5,
   "id": "known-charge",
   "metadata": {},
   "outputs": [],
   "source": [
    "X = df['texts']\n",
    "y = df[['Action', 'Adventure', 'Comedy', 'Crime', 'Drama', 'Fantasy', 'Horror', 'Mystery', 'Romance', 'Sci-Fi', 'Thriller']]"
   ]
  },
  {
   "cell_type": "markdown",
   "id": "geographic-private",
   "metadata": {},
   "source": [
    "### Assign Weights"
   ]
  },
  {
   "cell_type": "markdown",
   "id": "centered-saying",
   "metadata": {},
   "source": [
    "In order to combat class imbalance in my data set, I am assigning weights for each label."
   ]
  },
  {
   "cell_type": "code",
   "execution_count": 6,
   "id": "anticipated-niagara",
   "metadata": {},
   "outputs": [
    {
     "data": {
      "text/html": [
       "<div>\n",
       "<style scoped>\n",
       "    .dataframe tbody tr th:only-of-type {\n",
       "        vertical-align: middle;\n",
       "    }\n",
       "\n",
       "    .dataframe tbody tr th {\n",
       "        vertical-align: top;\n",
       "    }\n",
       "\n",
       "    .dataframe thead th {\n",
       "        text-align: right;\n",
       "    }\n",
       "</style>\n",
       "<table border=\"1\" class=\"dataframe\">\n",
       "  <thead>\n",
       "    <tr style=\"text-align: right;\">\n",
       "      <th></th>\n",
       "      <th>genres1</th>\n",
       "      <th>count</th>\n",
       "    </tr>\n",
       "  </thead>\n",
       "  <tbody>\n",
       "    <tr>\n",
       "      <th>0</th>\n",
       "      <td>Action</td>\n",
       "      <td>296</td>\n",
       "    </tr>\n",
       "    <tr>\n",
       "      <th>1</th>\n",
       "      <td>Adventure</td>\n",
       "      <td>179</td>\n",
       "    </tr>\n",
       "    <tr>\n",
       "      <th>2</th>\n",
       "      <td>Comedy</td>\n",
       "      <td>368</td>\n",
       "    </tr>\n",
       "    <tr>\n",
       "      <th>3</th>\n",
       "      <td>Crime</td>\n",
       "      <td>215</td>\n",
       "    </tr>\n",
       "    <tr>\n",
       "      <th>4</th>\n",
       "      <td>Drama</td>\n",
       "      <td>615</td>\n",
       "    </tr>\n",
       "  </tbody>\n",
       "</table>\n",
       "</div>"
      ],
      "text/plain": [
       "     genres1  count\n",
       "0     Action    296\n",
       "1  Adventure    179\n",
       "2     Comedy    368\n",
       "3      Crime    215\n",
       "4      Drama    615"
      ]
     },
     "execution_count": 6,
     "metadata": {},
     "output_type": "execute_result"
    }
   ],
   "source": [
    "cate = pd.DataFrame(y.sum()).reset_index().rename(columns = {'index':'genres1',0:'count'})\n",
    "cate.head()"
   ]
  },
  {
   "cell_type": "code",
   "execution_count": 7,
   "id": "consecutive-pierre",
   "metadata": {},
   "outputs": [],
   "source": [
    "labels1 = cate.genres1.values"
   ]
  },
  {
   "cell_type": "code",
   "execution_count": 8,
   "id": "compound-bibliography",
   "metadata": {},
   "outputs": [
    {
     "data": {
      "text/html": [
       "<div>\n",
       "<style scoped>\n",
       "    .dataframe tbody tr th:only-of-type {\n",
       "        vertical-align: middle;\n",
       "    }\n",
       "\n",
       "    .dataframe tbody tr th {\n",
       "        vertical-align: top;\n",
       "    }\n",
       "\n",
       "    .dataframe thead th {\n",
       "        text-align: right;\n",
       "    }\n",
       "</style>\n",
       "<table border=\"1\" class=\"dataframe\">\n",
       "  <thead>\n",
       "    <tr style=\"text-align: right;\">\n",
       "      <th></th>\n",
       "      <th>genres1</th>\n",
       "      <th>count</th>\n",
       "      <th>class_weight</th>\n",
       "    </tr>\n",
       "  </thead>\n",
       "  <tbody>\n",
       "    <tr>\n",
       "      <th>0</th>\n",
       "      <td>Action</td>\n",
       "      <td>296</td>\n",
       "      <td>0.037162</td>\n",
       "    </tr>\n",
       "    <tr>\n",
       "      <th>1</th>\n",
       "      <td>Adventure</td>\n",
       "      <td>179</td>\n",
       "      <td>0.061453</td>\n",
       "    </tr>\n",
       "    <tr>\n",
       "      <th>2</th>\n",
       "      <td>Comedy</td>\n",
       "      <td>368</td>\n",
       "      <td>0.029891</td>\n",
       "    </tr>\n",
       "    <tr>\n",
       "      <th>3</th>\n",
       "      <td>Crime</td>\n",
       "      <td>215</td>\n",
       "      <td>0.051163</td>\n",
       "    </tr>\n",
       "    <tr>\n",
       "      <th>4</th>\n",
       "      <td>Drama</td>\n",
       "      <td>615</td>\n",
       "      <td>0.017886</td>\n",
       "    </tr>\n",
       "  </tbody>\n",
       "</table>\n",
       "</div>"
      ],
      "text/plain": [
       "     genres1  count  class_weight\n",
       "0     Action    296      0.037162\n",
       "1  Adventure    179      0.061453\n",
       "2     Comedy    368      0.029891\n",
       "3      Crime    215      0.051163\n",
       "4      Drama    615      0.017886"
      ]
     },
     "execution_count": 8,
     "metadata": {},
     "output_type": "execute_result"
    }
   ],
   "source": [
    "cate['class_weight'] = len(cate) / cate['count']\n",
    "class_weight = {}\n",
    "for index, label in enumerate(labels1):\n",
    "    class_weight[index] = cate[cate['genres1'] == label]['class_weight'].values[0]\n",
    "    \n",
    "cate.head()"
   ]
  },
  {
   "cell_type": "code",
   "execution_count": 10,
   "id": "prescribed-istanbul",
   "metadata": {
    "scrolled": false
   },
   "outputs": [],
   "source": [
    "# cate.sort_values('count')"
   ]
  },
  {
   "cell_type": "markdown",
   "id": "bright-subcommittee",
   "metadata": {},
   "source": [
    "## Train-Test-Split"
   ]
  },
  {
   "cell_type": "code",
   "execution_count": 11,
   "id": "considered-development",
   "metadata": {},
   "outputs": [],
   "source": [
    "X_train, X_test, y_train, y_test = train_test_split(X, y, test_size=0.25, random_state=42)"
   ]
  },
  {
   "cell_type": "code",
   "execution_count": 12,
   "id": "sized-canadian",
   "metadata": {},
   "outputs": [
    {
     "name": "stdout",
     "output_type": "stream",
     "text": [
      "X_train Shape: (855,)\n",
      "y_train Shape: (855, 11)\n",
      "X_test Shape: (286,)\n",
      "y_test Shape: (286, 11)\n"
     ]
    }
   ],
   "source": [
    "#Preview the shape of training and test set\n",
    "print(\"X_train Shape:\", X_train.shape)\n",
    "print(\"y_train Shape:\", y_train.shape)\n",
    "print(\"X_test Shape:\", X_test.shape)\n",
    "print(\"y_test Shape:\", y_test.shape)"
   ]
  },
  {
   "cell_type": "code",
   "execution_count": 13,
   "id": "skilled-virginia",
   "metadata": {},
   "outputs": [
    {
     "data": {
      "image/png": "[encoded data removed]",
      "text/plain": [
       "<Figure size 720x720 with 2 Axes>"
      ]
     },
     "metadata": {
      "needs_background": "light"
     },
     "output_type": "display_data"
    }
   ],
   "source": [
    "#Correlation matrix\n",
    "corr=y_train.corr()\n",
    "plt.figure(figsize=(10,10))\n",
    "sns.heatmap(corr,\n",
    "            xticklabels=corr.columns.values,\n",
    "            yticklabels=corr.columns.values, annot=True)\n",
    "\n",
    "plt.show()"
   ]
  },
  {
   "cell_type": "markdown",
   "id": "physical-water",
   "metadata": {},
   "source": [
    "Although there is overlap between genre labels, it appears as though there is not much positive correlation between each of the individual labels. The most highly correlated genres seem to be Action and Adventure followed by Crime and Thriller. This makes sense given the content normally displayed in these genres."
   ]
  },
  {
   "cell_type": "markdown",
   "id": "judicial-bacon",
   "metadata": {},
   "source": [
    "## Latent Dirichlet Allocation (LDA)"
   ]
  },
  {
   "cell_type": "markdown",
   "id": "clear-mixer",
   "metadata": {},
   "source": [
    "Here, I am previewing if there are any major topics that can be gleened from the dataset."
   ]
  },
  {
   "cell_type": "code",
   "execution_count": 14,
   "id": "durable-headquarters",
   "metadata": {},
   "outputs": [],
   "source": [
    "vect = CountVectorizer(max_features=20000, ngram_range=(1, 4), min_df = 10, max_df = .95, stop_words='english')\n",
    "X_train_vect = vect.fit_transform(X_train)\n",
    "X_vect_test = vect.transform(X_test)"
   ]
  },
  {
   "cell_type": "code",
   "execution_count": 24,
   "id": "damaged-harassment",
   "metadata": {},
   "outputs": [],
   "source": [
    "from sklearn.decomposition import LatentDirichletAllocation\n",
    "lda = LatentDirichletAllocation(n_components=20, max_iter=25, learning_method = 'online', n_jobs=-1) \n",
    "# We build the model and transform the data in one step\n",
    "# Computing transform takes some time,\n",
    "# and we can save time by doing both at once \n",
    "\n",
    "document_topics = lda.fit_transform(X_train_vect)"
   ]
  },
  {
   "cell_type": "code",
   "execution_count": 17,
   "id": "ready-identity",
   "metadata": {},
   "outputs": [],
   "source": [
    "# For each topic (a row in the components_), sort the features (ascending) # Invert rows with [:, ::-1] to make sorting descending\n",
    "sorting = np.argsort(lda.components_, axis=1)[:, ::-1]\n",
    "# Get the feature names from the vectorizer\n",
    "feature_names = np.array(vect.get_feature_names())"
   ]
  },
  {
   "cell_type": "code",
   "execution_count": 20,
   "id": "impaired-furniture",
   "metadata": {},
   "outputs": [
    {
     "name": "stdout",
     "output_type": "stream",
     "text": [
      "topic 0       topic 1       topic 2       topic 3       topic 4       \n",
      "--------      --------      --------      --------      --------      \n",
      "jake          fuck          charlie       jack          alex          \n",
      "jacob         gun           phil          frank         peter         \n",
      "danny         cop           sidney        woman         logan         \n",
      "chris         street        jimmy         girl          ali           \n",
      "ryan          shit          sara          boy           ben           \n",
      "caesar        kill          rev           mother        matt          \n",
      "james         ray           tommy         mr            carrie        \n",
      "karen         money         drew          george        brian         \n",
      "thor          drive         patrick       mary          elli          \n",
      "ron           shot          steven        glance        jennifer      \n",
      "\n",
      "\n",
      "topic 5       topic 6       topic 7       topic 8       topic 9       \n",
      "--------      --------      --------      --------      --------      \n",
      "john          et            horse         fuck          water         \n",
      "annie         il            sir           kid           grab          \n",
      "eddie         le            soldier       guy           ship          \n",
      "bud           est           kill          joe           jack          \n",
      "edward        sur           guard         great         body          \n",
      "grace         en            boy           girl          air           \n",
      "sarah         se            white         god           glass         \n",
      "kelly         une           child         friend        fly           \n",
      "graham        qui           war           shit          ground        \n",
      "shot          du            fight         mom           control       \n",
      "\n",
      "\n"
     ]
    }
   ],
   "source": [
    "import mglearn\n",
    "# Print out the 10 topics:\n",
    "mglearn.tools.print_topics(topics=range(12), feature_names=feature_names,\n",
    "                                sorting=sorting, topics_per_chunk=6, n_words=10)"
   ]
  },
  {
   "cell_type": "code",
   "execution_count": 21,
   "id": "virgin-screw",
   "metadata": {},
   "outputs": [],
   "source": [
    "lda100 = LatentDirichletAllocation(n_components=100, learning_method = 'online', n_jobs=-1)\n",
    "document_topics100 = lda100.fit_transform(X_train_vect)"
   ]
  },
  {
   "cell_type": "code",
   "execution_count": 22,
   "id": "mineral-donna",
   "metadata": {
    "scrolled": true
   },
   "outputs": [
    {
     "name": "stdout",
     "output_type": "stream",
     "text": [
      "topic 7       topic 16      topic 24      topic 25      topic 28      topic 36      topic 37      \n",
      "--------      --------      --------      --------      --------      --------      --------      \n",
      "toby          peter         ship          danny         bond          fred          jerry         \n",
      "memphis       steve         max           mike          derek         rick          ya            \n",
      "eddie         mary          control       abby          eli           maggie        yah           \n",
      "carrie        lucy          space         jackie        ace           hog           marge         \n",
      "alex          clay          air           kyle          cameron       guy           freddie       \n",
      "street        susan         president     terry         dan           missy         norm          \n",
      "jack          wyatt         luke          curtis        dr            hall          meredith      \n",
      "ryan          emily         screen        hannah        laurie        leigh         snow          \n",
      "shit          zoe           power         cindy         blake         hall pas      signor        \n",
      "nod           roger         plane         dean          moss          pas           uh            \n",
      "drive         martha        rush          shelly        doris         kid           geez          \n",
      "grab          whale         force         team          jon           gerry         doin          \n",
      "willy         zombie        planet        script        nina          wannabe       jean          \n",
      "kid           horse         star          rusty         thug          gary          heck          \n",
      "gun           creature      sir           ed            melissa       officer       trooper       \n",
      "jerry         wagon         fly           leo           manhattan     mini van      parka         \n",
      "head          ride          captain       fuck          christmas     wife          vehicle       \n",
      "cop           minion        alien         cam           seth          baker         rom           \n",
      "check         woman         earth         kid           world         van           stan          \n",
      "ace           doc           pilot         shit          gavin         beer          ya ya         \n",
      "\n",
      "\n",
      "topic 45      topic 51      topic 53      topic 54      topic 63      topic 89      topic 97      \n",
      "--------      --------      --------      --------      --------      --------      --------      \n",
      "toby          nod           jennifer      et            betty         willie        fuck          \n",
      "josh          ya            stanley       il            bruce         michael       gun           \n",
      "caroline      miss          sheriff       le            hi            anne          shit          \n",
      "dwight        gun           stan          est           john          marcus        cop           \n",
      "memphis       street        matthew       sur           seat          jones         street        \n",
      "otto          girl          tina          en            street        stew          money         \n",
      "dalton        kid           mask          se            boy           short         kill          \n",
      "eleanor       beck          ginger        une           gun           beck          fuckin        \n",
      "donny         body          earl          qui           slowly        hale          shot          \n",
      "liza          sid           andy          du            camera        leigh         police        \n",
      "judy          sir           casino        dans          approach      natalie       bud           \n",
      "norma         ted           eddy          pa            rise          round         drive         \n",
      "tucker        gale          sweet         elle          money         boy           grab          \n",
      "war           grab          bank          son           larry         dylan         black         \n",
      "boy           price         robert        vous          great         kid           guy           \n",
      "foster        max           laptop        je            friend        santa         white         \n",
      "sway          sidney        huge          que           charlie       ramsey        ta            \n",
      "mirror        check         account       au            shoulder      stark         hell          \n",
      "sphinx        woman         club          sa            shot          state         check         \n",
      "page          water         dog           lui           fuck          interior      job           \n",
      "\n",
      "\n"
     ]
    }
   ],
   "source": [
    "#display sample of topics\n",
    "topics = np.array([7, 16, 24, 25, 28, 36, 37, 45, 51, 53, 54, 63, 89, 97])\n",
    "\n",
    "sorting = np.argsort(lda100.components_, axis=1)[:, ::-1]\n",
    "\n",
    "feature_names = np.array(vect.get_feature_names())\n",
    "\n",
    "mglearn.tools.print_topics(topics=topics, feature_names=feature_names, sorting=sorting, topics_per_chunk=7, n_words=20)"
   ]
  },
  {
   "cell_type": "code",
   "execution_count": 25,
   "id": "nonprofit-emerald",
   "metadata": {
    "scrolled": false
   },
   "outputs": [
    {
     "data": {
      "text/html": [
       "\n",
       "<link rel=\"stylesheet\" type=\"text/css\" href=\"https://cdn.rawgit.com/bmabey/pyLDAvis/files/ldavis.v1.0.0.css\">\n",
       "\n",
       "\n",
       "<div id=\"ldavis_el91381401993202666966268703217\"></div>\n",
       "<script type=\"text/javascript\">\n",
       "\n",
       "var ldavis_el91381401993202666966268703217_data = {\"mdsDat\": {\"x\": [0.0609856235778681, 0.06901350318913829, 0.07520265706105707, 0.07809255970866485, 0.06750606765005378, 0.04540931935380773, 0.07048850931027742, 0.06367836879982657, 0.06649613715268272, 0.06135815050598696, 0.04520532520458948, 0.04639357924502264, -0.4938142729850064, 0.03615346749059591, 0.021243308133202497, 0.007637984453331164, 0.008815248846017329, -0.03199853630937549, -0.19259661869031097, -0.10527038169742983], \"y\": [0.009866783695671687, -0.009968054238275943, -0.00917422074967066, -0.03355251214387007, -0.017297686472097795, 8.61354012101404e-05, -0.021110475297878198, -0.020071883828659258, -0.030519271854960422, -0.04119214991215305, -0.039643541183196455, -0.03462257583369793, -0.2012047412709067, -0.006484316302057261, -0.004704324446694147, -0.04007135348164712, 0.0018521382372304674, 0.006282162552546755, 0.36080284574698296, 0.13072704138212268], \"topics\": [1, 2, 3, 4, 5, 6, 7, 8, 9, 10, 11, 12, 13, 14, 15, 16, 17, 18, 19, 20], \"cluster\": [1, 1, 1, 1, 1, 1, 1, 1, 1, 1, 1, 1, 1, 1, 1, 1, 1, 1, 1, 1], \"Freq\": [20.597656762990056, 17.67627387913064, 14.150231102406623, 13.872438075208654, 11.95823410381689, 5.569663261813469, 2.3250994271726864, 2.2519156611311892, 1.629931230805274, 1.5575031956052654, 1.2341070796744757, 1.2315003675736824, 1.1998505930760954, 1.1339958262851455, 1.0881858294025966, 0.6730496994181627, 0.6548567184884349, 0.5459545721030249, 0.4048802471152066, 0.24467236678241366]}, \"tinfo\": {\"Term\": [\"john\", \"harry\", \"gun\", \"glass\", \"mike\", \"et\", \"george\", \"joe\", \"jack\", \"il\", \"water\", \"shot\", \"girl\", \"guard\", \"mary\", \"paul\", \"fuck\", \"son\", \"max\", \"shoot\", \"kid\", \"charlie\", \"fight\", \"ya\", \"alex\", \"peter\", \"sir\", \"grab\", \"boy\", \"horse\", \"thor\", \"logan\", \"jedi\", \"wes\", \"federation\", \"thruster\", \"starship\", \"toothless\", \"readout\", \"turbine\", \"lilly\", \"circuitry\", \"racer\", \"flamethrower\", \"lifeboat\", \"tanker\", \"humvee\", \"space suit\", \"juggernaut\", \"gunship\", \"holographic\", \"detonation\", \"neural\", \"hiccup\", \"diameter\", \"humanoid\", \"submachine gun\", \"ship begin\", \"submachine\", \"mission control\", \"data\", \"robot\", \"ramirez\", \"orbit\", \"cooper\", \"indiana\", \"hull\", \"pi\", \"alien\", \"pod\", \"archer\", \"meg\", \"titan\", \"planet\", \"ship\", \"activate\", \"control panel\", \"myers\", \"cockpit\", \"chopper\", \"probe\", \"console\", \"blade\", \"hatch\", \"panel\", \"monitor\", \"pilot\", \"weapon\", \"metal\", \"control\", \"debris\", \"space\", \"tunnel\", \"deck\", \"speed\", \"power\", \"air\", \"surface\", \"steel\", \"engine\", \"fly\", \"gun\", \"body\", \"grab\", \"water\", \"machine\", \"spin\", \"rush\", \"ground\", \"land\", \"captain\", \"hole\", \"screen\", \"race\", \"guard\", \"blood\", \"head\", \"forward\", \"climb\", \"appear\", \"kill\", \"roll\", \"dark\", \"large\", \"approach\", \"star\", \"black\", \"rise\", \"slowly\", \"mitch\", \"clara\", \"hannah\", \"stephanie\", \"tin cup\", \"phil phil\", \"video store\", \"benedict\", \"steven\", \"spud\", \"harry sit\", \"shot rise\", \"lose virginity\", \"fairway\", \"leslie\", \"monica\", \"lloyd\", \"rasta\", \"cosmo\", \"phil\", \"gracie\", \"roll stone\", \"ann\", \"barry\", \"tenure\", \"mother talk\", \"ed ed\", \"josh\", \"molly\", \"perrier\", \"curtis\", \"casanova\", \"prada\", \"rob\", \"olive\", \"loretta\", \"kirk\", \"holly\", \"quincy\", \"betty\", \"ed\", \"kramer\", \"sean\", \"amber\", \"hi\", \"mom\", \"school\", \"uh\", \"rita\", \"wow\", \"dad\", \"sex\", \"date\", \"kid\", \"great\", \"nice\", \"fuck\", \"david\", \"thanks\", \"cup\", \"god\", \"guy\", \"actually\", \"kiss\", \"girl\", \"friend\", \"fine\", \"kind\", \"guess\", \"mother\", \"wear\", \"woman\", \"laugh\", \"thank\", \"read\", \"book\", \"drive\", \"shit\", \"told\", \"dress\", \"smile\", \"street\", \"butch\", \"saul\", \"sal\", \"hancock\", \"snitch\", \"dale\", \"fuck fuckin\", \"dwayne\", \"gun fuck\", \"frank reach\", \"frank sit\", \"phillip\", \"frank shake\", \"bank robbery\", \"carl\", \"marlin\", \"hi ya\", \"carl carl\", \"oscar\", \"frank glance\", \"pop trunk\", \"arm robbery\", \"holdin\", \"cop kill\", \"beatin\", \"driver watch\", \"sonny\", \"ron\", \"fuckin\", \"black guy\", \"cody\", \"mack\", \"graham\", \"ty\", \"frank frank\", \"tropic\", \"frank\", \"alabama\", \"clarence\", \"rus\", \"ray\", \"jay\", \"mick\", \"motherfucker\", \"mariachi\", \"jimmy\", \"nigger\", \"lynn\", \"chris\", \"cop\", \"andy\", \"fuck\", \"kay\", \"zoe\", \"talkin\", \"danny\", \"ya\", \"shit\", \"gun\", \"dude\", \"money\", \"ta\", \"bank\", \"em\", \"truck\", \"red\", \"street\", \"kill\", \"guy\", \"black\", \"kid\", \"hell\", \"drive\", \"police\", \"shot\", \"grab\", \"boy\", \"white\", \"bag\", \"seat\", \"girl\", \"scarecrow\", \"marion\", \"willow\", \"musketeer\", \"jack hold\", \"truman\", \"jack run\", \"scimitar\", \"draw sword\", \"steed\", \"avid\", \"rasputin\", \"jack reach\", \"leap horse\", \"rooster\", \"spot jack\", \"turn jack\", \"wicked witch\", \"solomon\", \"snow white\", \"tassel\", \"eli\", \"pox\", \"sleigh\", \"prince charm\", \"vladimir\", \"screwball\", \"carnegie\", \"musket\", \"lucifer\", \"hector\", \"majesty\", \"prince\", \"dorothy\", \"minion\", \"villager\", \"maurice\", \"wind hair\", \"evelyn\", \"princess\", \"robin\", \"witch\", \"sword\", \"nathan\", \"jack\", \"horseman\", \"slave\", \"horse\", \"cameron\", \"guardian\", \"lion\", \"castle\", \"village\", \"king\", \"crow\", \"lord\", \"child\", \"tree\", \"snow\", \"father\", \"queen\", \"forest\", \"wood\", \"soldier\", \"rise\", \"water\", \"boy\", \"dance\", \"ground\", \"bow\", \"white\", \"wind\", \"mother\", \"woman\", \"forward\", \"god\", \"grab\", \"young\", \"die\", \"black\", \"kill\", \"girl\", \"laugh\", \"body\", \"guard\", \"hair\", \"lead\", \"smile\", \"great\", \"crowd\", \"ali\", \"signor\", \"sam watch\", \"clifford\", \"swede\", \"anna\", \"hitchcock\", \"soundstage\", \"sam run\", \"sidney\", \"fraulein\", \"cymbal\", \"alma\", \"anna anna\", \"exit scene\", \"hang receiver\", \"grand hotel\", \"vienna\", \"mozart\", \"sam nod\", \"sam sit\", \"phyllis\", \"fiat\", \"inspector\", \"ackerman\", \"programme\", \"forecourt\", \"telephone ring\", \"benson\", \"protagonist\", \"dewey\", \"vincent\", \"crawford\", \"ben\", \"willy\", \"jonathan\", \"reilly\", \"sam\", \"stew\", \"franklin\", \"leon\", \"france\", \"convert\", \"louis\", \"reed\", \"telephone\", \"patient\", \"jo\", \"madam\", \"angelo\", \"mr\", \"doctor\", \"taxi\", \"scene\", \"nurse\", \"desk\", \"glance\", \"pause\", \"helen\", \"voice\", \"stair\", \"glass\", \"woman\", \"girl\", \"street\", \"paper\", \"enters\", \"slowly\", \"office\", \"chair\", \"dress\", \"seat\", \"apartment\", \"young\", \"police\", \"miss\", \"smile\", \"cross\", \"white\", \"nod\", \"oswald\", \"gandhi\", \"shaw\", \"amsterdam\", \"crockett\", \"gordon\", \"kimberly\", \"attorney general\", \"sharon\", \"grand jury\", \"hale\", \"cadet\", \"secret service agent\", \"hub\", \"jeffrey\", \"code red\", \"motorcade\", \"garrison\", \"marshall\", \"reich\", \"service agent\", \"jesse\", \"bruce\", \"eugene\", \"blake\", \"advocate\", \"stanton\", \"walter\", \"nora\", \"oval office\", \"true story\", \"allen\", \"pike\", \"kat\", \"wayne\", \"president\", \"hardy\", \"arthur\", \"marco\", \"hitler\", \"dan\", \"west\", \"kennedy\", \"machete\", \"jim\", \"war\", \"sir\", \"margaret\", \"general\", \"judge\", \"state\", \"office\", \"country\", \"order\", \"american\", \"soldier\", \"chief\", \"officer\", \"police\", \"bob\", \"crowd\", \"street\", \"question\", \"kill\", \"story\", \"paper\", \"boy\", \"world\", \"white\", \"nod\", \"rachel\", \"tamara\", \"max max\", \"gideon\", \"rachel rachel\", \"sara\", \"suzy\", \"scott scott\", \"holmes\", \"max watch\", \"watson\", \"max\", \"irving\", \"neil\", \"max nod\", \"karen\", \"tracy\", \"doug\", \"anton\", \"todd\", \"rebecca\", \"austin\", \"laura\", \"edith\", \"scott\", \"fletcher\", \"stu\", \"carmine\", \"simone\", \"alan\", \"adam\", \"esther\", \"alike\", \"emma\", \"joan\", \"lenny\", \"irene\", \"nicholas\", \"cynthia\", \"book\", \"guy\", \"girl\", \"nod\", \"john watch\", \"paul paul\", \"cary\", \"joe joe\", \"john nod\", \"joe watch\", \"john run\", \"john enters\", \"john grab\", \"jake jake\", \"paul try\", \"jake\", \"john try\", \"needy\", \"joe run\", \"costa\", \"paul\", \"ted ted\", \"ted\", \"denver\", \"joe\", \"ferris\", \"mann\", \"terminator\", \"john john\", \"john hold\", \"sarah\", \"liz\", \"john reach\", \"napoleon\", \"carol\", \"john\", \"angela\", \"grace\", \"bobby\", \"pilgrim\", \"fisher\", \"percy\", \"larry\", \"mark\", \"annie\", \"gat\", \"tom\", \"martha\", \"jennifer\", \"camera\", \"henri\", \"field\", \"uh\", \"kid\", \"god\", \"shot\", \"body\", \"great\", \"enters\", \"jacob\", \"alex\", \"hammond\", \"alex alex\", \"hazel\", \"julian\", \"chang\", \"nick nick\", \"kelly\", \"kenny\", \"ramsey\", \"joel\", \"jude\", \"leonard\", \"jordan\", \"nick\", \"rosie\", \"jason\", \"bart\", \"juliet\", \"menagerie\", \"catherine\", \"godzilla\", \"bruno\", \"hawk\", \"silver star\", \"screamer\", \"regis\", \"gaffer\", \"buff\", \"deacon\", \"stan\", \"august\", \"miriam\", \"freddy\", \"gu\", \"kim\", \"nicole\", \"timmy\", \"wendy\", \"anne\", \"david\", \"wolf\", \"lou\", \"victor\", \"laugh\", \"kid\", \"nod\", \"grab\", \"water\", \"charley\", \"eric\", \"mia\", \"stacy\", \"eric eric\", \"pamela\", \"luke\", \"jeff\", \"jenny\", \"amy\", \"revision\", \"joey\", \"jane\", \"schoolteacher\", \"peter\", \"jane jane\", \"peter peter\", \"ellie\", \"close view\", \"wilder\", \"mayan\", \"death star\", \"stella\", \"gavin\", \"leigh\", \"andrew\", \"midwife\", \"vader\", \"skank\", \"darwin\", \"zombie\", \"disney\", \"michael\", \"roger\", \"marie\", \"ace\", \"anne\", \"imperial\", \"susan\", \"albert\", \"sebastian\", \"creature\", \"star\", \"lisa\", \"billy\", \"slowly\", \"grab\", \"glance\", \"wyatt\", \"ethan\", \"comanche\", \"clay\", \"pooch\", \"fred\", \"steve steve\", \"laurie\", \"doc doc\", \"steve\", \"rick\", \"martin\", \"hall pas\", \"clayton\", \"squaw\", \"clint\", \"mary watch\", \"whale\", \"pullman\", \"cougar\", \"grocer\", \"dino\", \"luther\", \"vermillion\", \"doc\", \"dayton\", \"martin martin\", \"leach\", \"slate\", \"juan\", \"alice\", \"mary\", \"pete\", \"barney\", \"sheila\", \"diana\", \"eddy\", \"mini\", \"saddle\", \"eleanor\", \"horse\", \"wagon\", \"aaron\", \"dave\", \"ride\", \"elaine\", \"rifle\", \"gun\", \"helen\", \"em\", \"girl\", \"drive\", \"cross\", \"woman\", \"miguel\", \"rudy\", \"toby\", \"homer\", \"fran\", \"kate\", \"jill\", \"bud bud\", \"harvey\", \"malcolm\", \"ashley\", \"muhammad\", \"mccoy\", \"bud\", \"benjamin\", \"yuri\", \"dwight\", \"cruz\", \"mam\", \"katherine\", \"wally\", \"liza\", \"bracken\", \"ingrid\", \"salvador\", \"cider\", \"pug\", \"sammy\", \"fastball\", \"islam\", \"caroline\", \"gabriel\", \"sherman\", \"joyce\", \"burton\", \"foreman\", \"baxter\", \"hooker\", \"jack\", \"daisy\", \"candy\", \"lincoln\", \"family\", \"rise\", \"white\", \"black\", \"boy\", \"nod\", \"great\", \"une\", \"dans\", \"qu\", \"mais\", \"avec\", \"sur\", \"lui\", \"il\", \"qui\", \"fait\", \"elle\", \"est ce\", \"alors\", \"vous\", \"est\", \"ce que\", \"comme\", \"homme\", \"deux\", \"ce\", \"je\", \"dit\", \"allez\", \"votre\", \"entre\", \"je ne\", \"bien\", \"tre\", \"et\", \"michel\", \"le\", \"se\", \"du\", \"sa\", \"pa\", \"au\", \"en\", \"que\", \"tu\", \"ne\", \"par\", \"moi\", \"son\", \"main\", \"pour\", \"plan\", \"carrie\", \"peggy\", \"shea\", \"eddie eddie\", \"brian\", \"eddie\", \"claire\", \"paddy\", \"loon\", \"robbie\", \"milkshake\", \"bender\", \"production draft\", \"striker\", \"cal\", \"miranda\", \"ivy\", \"stephen\", \"charlie\", \"vernon\", \"charlie charlie\", \"draft\", \"rubin\", \"barb\", \"arnold\", \"annette\", \"stanford\", \"arson\", \"noah\", \"wedding gown\", \"tony\", \"gary\", \"elizabeth\", \"prod\", \"lisa\", \"early\", \"price\", \"samantha\", \"jimmy\", \"sue\", \"tommy\", \"august\", \"girl\", \"woman\", \"shoot\", \"bella\", \"ronnie\", \"nell\", \"derek\", \"talk george\", \"george watch\", \"edward\", \"ryan\", \"marrow\", \"vivian\", \"george george\", \"jessica\", \"dennis\", \"emily\", \"lucy\", \"medium shot\", \"george\", \"close shot\", \"bailey\", \"quinn\", \"lester\", \"title card\", \"diego\", \"pan left\", \"angle shot\", \"annie annie\", \"morse\", \"hairdresser\", \"yukon\", \"lillian\", \"philip\", \"sandra\", \"annie\", \"potter\", \"medium\", \"mar\", \"kevin\", \"shot\", \"jackie\", \"mall\", \"woman\", \"mary\", \"hair\", \"drive\", \"girl\", \"trevor\", \"caesar\", \"finn\", \"elli\", \"han\", \"drew\", \"shifty\", \"craig\", \"tyler\", \"poe\", \"chimpanzee\", \"ape\", \"disciple\", \"powell\", \"chimp\", \"falcon\", \"rez\", \"karl\", \"clyde\", \"monk\", \"primate\", \"puppeteer\", \"ally\", \"garfield\", \"li\", \"parker\", \"joker\", \"orangutan\", \"millennium\", \"ellen\", \"mud\", \"stevie\", \"gu\", \"emperor\", \"rocket\", \"colonel\", \"chase\", \"lee\", \"senior\", \"boat\", \"temple\", \"cage\", \"boy\", \"bike\", \"girl\", \"tree\", \"cobb\", \"henry henry\", \"patrick\", \"memphis\", \"fitzgerald\", \"cedar\", \"simon\", \"henry\", \"otto\", \"tim\", \"beck\", \"dean\", \"mal\", \"cindy\", \"wade\", \"valentine\", \"subconscious\", \"amanda\", \"browning\", \"tuba\", \"morrow\", \"angie\", \"ronald\", \"nash\", \"frankie\", \"colossus\", \"wilson\", \"deed\", \"lionel\", \"tumbler\", \"babe\", \"rapid\", \"shoot script\", \"vanessa\", \"script\", \"glass\", \"stump\", \"final\", \"dream\", \"joan\", \"official\", \"shit\", \"abby\", \"kyle\", \"mike watch\", \"mike mike\", \"charlotte\", \"creed\", \"mike\", \"apollo\", \"terry\", \"chuck\", \"paulie\", \"mikey\", \"leo\", \"jackie\", \"empress\", \"numbered\", \"ref\", \"ground crew\", \"mickey\", \"rocky\", \"stuart\", \"oracle\", \"wrestler\", \"ringside\", \"grab mike\", \"tab\", \"keefe\", \"poplar\", \"blow whistle\", \"font\", \"april\", \"bowman\", \"fighter\", \"casey\", \"coach\", \"colin\", \"ya\", \"team\", \"winter\", \"fight\", \"style\", \"script\", \"ring\", \"time\", \"kid\", \"bob\", \"count\", \"matt\", \"harry harry\", \"beth\", \"norman\", \"harry\", \"linda\", \"cathy\", \"descendant\", \"barnes\", \"burke\", \"shoot draft\", \"sid\", \"scottie\", \"ruth\", \"habitat\", \"moss\", \"jellyfish\", \"heat signature\", \"casey\", \"tranquilizer\", \"hypo\", \"janice\", \"sebastian\", \"richard\", \"bloodstream\", \"houston\", \"thermal\", \"module\", \"unemployment\", \"brien\", \"chick\", \"clark\", \"nan\", \"helen\", \"natalie\", \"sphere\", \"carter\", \"sub\", \"shoot\", \"sarah\", \"ryan\", \"dr\", \"water\", \"minute\", \"swim\", \"station\", \"harriet\", \"ana\", \"duke\", \"dylan\", \"bond\", \"hong kong\", \"hong\", \"natalie\", \"neo\", \"warhead\", \"boa\", \"knox\", \"snake snake\", \"glider\", \"pipeline\", \"kong\", \"james bond\", \"breaker\", \"scottish\", \"snake\", \"submarine\", \"tracer\", \"uranium\", \"plutonium\", \"tsunami\", \"worm\", \"cabbie\", \"strait\", \"commandeer\", \"ice pick\", \"weirdo\", \"thug\", \"elliot\", \"reactor\", \"christmas\", \"president\", \"angel\", \"boat\", \"charlie\", \"brain\", \"guard\", \"sidney\", \"gun\", \"security\", \"captain\", \"sir\", \"kill\", \"minute\", \"water\"], \"Freq\": [6191.0, 3721.0, 10308.0, 8413.0, 3060.0, 3501.0, 3730.0, 4172.0, 8125.0, 2967.0, 9001.0, 7347.0, 11203.0, 4847.0, 3479.0, 3445.0, 12657.0, 5760.0, 3270.0, 5677.0, 9340.0, 2797.0, 5127.0, 3320.0, 2476.0, 2643.0, 6075.0, 10840.0, 10355.0, 3848.0, 950.7361987218253, 1800.2192362885055, 416.8198972865884, 239.2581526374926, 88.49483003640633, 85.15617984091057, 84.74044306784323, 431.87113762724846, 96.528196913589, 77.96276197684267, 332.22984013589934, 76.35725257668734, 211.313997848174, 67.74347689304709, 128.62239550981354, 212.29497981272775, 198.06143752051648, 60.26518546770386, 57.56207516479068, 56.24951350523209, 54.58076860642778, 54.426800059368915, 54.14013473588061, 682.1197498188582, 57.22638351123907, 49.48289013073072, 60.418827923392904, 48.761008007115485, 60.41592734021541, 48.92004588634419, 575.5202111443026, 734.6210134751738, 117.17634206787876, 241.904159077477, 689.0803364556692, 720.092196250485, 646.5196156866522, 397.6393424506904, 854.4140387483878, 313.2697664586441, 517.9360572948424, 426.6403252177755, 129.24797459596294, 923.9816965130292, 3366.73893978868, 178.8370199298637, 219.22779382876234, 155.82081126379447, 430.3727696354786, 543.663360765253, 362.9489050122795, 638.5446958340348, 1790.8729269378132, 629.5024344515643, 948.4962711847999, 1275.061255665146, 934.1244715020491, 1852.9404326607487, 1654.2050138286645, 2446.581786832515, 557.5831991139378, 1871.199434958889, 1059.5648312133583, 1209.4666946473656, 1754.0659455028313, 1810.406587769024, 3083.509154593461, 1099.0580403579197, 1024.128281474042, 1180.9117429313872, 2464.5024964982395, 3751.2675375032773, 3100.441139714049, 3600.181659270487, 3156.0081161588423, 1630.666379298449, 1613.2691034672375, 1991.116736137784, 2559.314190869273, 2017.4527521544464, 1418.9729110596336, 1573.1999420667178, 1945.2085905547524, 1586.036733158949, 1917.147394921158, 2049.0240589864043, 2280.6680731127785, 1978.6931427442698, 1756.0047866580762, 1957.3692717846259, 2251.7722676988737, 1930.2622368016791, 1907.168183461945, 1877.955970641705, 1920.0368311565257, 1902.8702700162178, 1950.881861513295, 1904.225328549151, 1895.2858665103831, 999.6382949253706, 489.80275028023283, 839.5734947287934, 585.0172553105368, 516.5617204748796, 63.576526313355906, 44.43740429072473, 211.24279946208696, 1001.6680755159699, 109.28020676989243, 31.99199472735682, 35.06684267931103, 26.459940923111237, 55.04645360397403, 210.35703242392776, 610.5610203363719, 673.8345943087511, 38.85752819300826, 66.82837556201974, 1588.1467779230034, 111.63577557076974, 41.490541026470424, 591.3553235249202, 392.75211929528933, 28.294767384937707, 30.92381028693924, 47.29505704208789, 487.5715133374959, 398.53126884406726, 24.413485057923825, 512.3768858469817, 108.97176182510893, 141.8292159419989, 787.7849895668037, 404.85964467169407, 316.2278248073367, 495.99906159136134, 544.5473869832886, 300.3420583566149, 745.4953408205179, 1392.3143703967417, 202.92146527283072, 524.655221721976, 279.1685225159464, 2127.2374820898, 2214.8907038138827, 2245.8854857522015, 2406.504124567968, 615.1457227492012, 742.3200031457769, 2031.199994129852, 861.0579081919798, 1002.1442055576749, 3610.057285365216, 3121.486111235698, 2046.2605636813194, 3989.632382845951, 1367.5132767752661, 1759.2393481466854, 1360.0143610768096, 2824.892432758338, 2310.797841307971, 1454.5195628180404, 2249.7691242077153, 3277.177815608887, 2574.1589549332834, 1816.9593353886078, 2016.3254173121095, 1657.3026535453002, 2161.8857851602806, 2178.629388386544, 2639.686854745901, 2276.745061277329, 1918.7445978215, 1945.724162671191, 1921.1386567721875, 2046.76255499209, 1920.0756429201547, 1786.5477442426222, 1715.4510677888652, 1767.77073565445, 1769.2293537994117, 379.8729497345068, 431.1232241119283, 457.0695915174195, 330.7429717991914, 50.81686673717251, 649.8794738882837, 40.465552807226416, 191.8333592192008, 35.47709063176193, 34.930973782427046, 33.77054850518016, 689.4063056539239, 28.704074690931165, 28.631179378271543, 1572.8426665874415, 31.30095575978956, 27.20447220942575, 56.947312814576165, 778.0409703949235, 32.47000263766101, 39.775875747043564, 49.853034329742655, 30.877424024097138, 33.64869863676133, 32.2423438325962, 26.50854680955987, 1027.5503467354552, 906.6323570815764, 2058.926343771419, 34.881605048510025, 182.43976502872397, 175.39814356675754, 769.4103698649404, 195.46107995127656, 124.0684156668107, 188.80958488914447, 4035.4590086928, 177.89931560164842, 542.4546794016372, 116.55502429500498, 2766.502384933197, 611.1398506599243, 384.5234537421557, 459.897811335168, 370.1545917435851, 1752.0578948829184, 459.00144324156724, 405.10257187469676, 1475.9902002021236, 3073.3777149210173, 930.8014947932616, 7271.3145462326875, 569.604233672793, 413.43261370492917, 369.0635559334615, 1377.0704523693173, 1964.7785393656263, 3709.486599686864, 4435.047856240953, 961.9015423270737, 2781.104976174752, 2070.6896579666522, 1328.9811075454047, 1560.6127808285514, 1614.9138836063291, 1981.229253319118, 2429.0721473099143, 2327.0524325612864, 1837.8009987797423, 2181.2209309892723, 2238.444991983328, 1823.8139078068637, 1941.9571371920888, 1544.5929429558716, 1877.5355563592962, 2159.1954905611465, 1965.7179453097635, 1785.8732534687588, 1598.239231119195, 1667.8440406593832, 1489.9197380734927, 356.5069458541952, 828.7997815024603, 500.8993184889586, 169.58360024892818, 50.215544888619775, 820.1875106729799, 37.96273108167585, 36.455184978073895, 96.48714597488461, 35.13831626522068, 139.77454208801942, 102.41899997855218, 27.77828990876817, 34.01189528849771, 392.845655353017, 26.051366803301082, 26.013269048859097, 54.00244376742449, 117.10504953637252, 309.1231665985158, 94.62358760676013, 624.2966511338062, 49.51775325020379, 93.86512743377038, 110.06729921450767, 89.77190892097856, 88.49417405411192, 110.46644377990235, 123.994011431317, 50.258122924447406, 1009.8283976238923, 324.1979246999369, 864.7668202875718, 787.793542032224, 209.2008362175499, 212.28580716164885, 769.4397695461603, 126.35405006384383, 452.76451918200627, 687.6619321063193, 733.7614877865391, 438.1600160244039, 1468.9754323917598, 536.450218263759, 5598.007109009165, 298.0287310559044, 468.6299160289881, 2457.0881955000414, 442.8038435880887, 294.43219348668396, 473.9092667421778, 506.11400556263226, 614.6946760420686, 1314.1849448259686, 451.19325965882666, 792.8894595192905, 2840.415555004934, 2092.030659837702, 1197.0124198928117, 2392.311586828512, 709.200815180074, 714.9413389974172, 1067.8158695840268, 1194.8284455744854, 2169.4047094792013, 2318.5508966320212, 2425.9299349067946, 1488.1964760153012, 1912.0989454736055, 861.8818484187552, 1824.825587633664, 1163.024059379149, 1559.8129595665182, 1821.140553395012, 1426.377266159772, 1586.3046703001403, 1722.7514107061634, 1458.9882807041345, 1327.344817818391, 1524.9468710740005, 1531.2114537947373, 1601.9153651526083, 1450.9559247928455, 1451.6100091677754, 1264.8736662002482, 1330.2111149548427, 1335.650680375377, 1372.509067256748, 1370.006326326263, 1300.7977598074017, 1658.9894763265172, 63.496325222359125, 38.60559765007769, 148.3563910901178, 68.5795989857205, 2420.718024165596, 185.38991065276178, 53.260897228447035, 29.454045426184713, 1438.6668036883402, 72.09169800983375, 27.74461849942834, 187.6473871767583, 70.82917704286285, 40.03921916170595, 30.6032528363746, 33.027939666470566, 50.98673439910668, 330.78903098794, 32.374247888007574, 34.56809267015271, 194.67466764095613, 25.71493610016711, 370.4810512474932, 120.78976888351868, 40.157329274443825, 25.22071233181767, 88.965871350204, 72.9167069871288, 29.331197754341176, 198.41312662110698, 680.5637023238507, 380.70935633645763, 2346.5079912076158, 409.99607464606464, 853.278837230478, 282.26021456803755, 3142.8640211891666, 362.3230663516362, 399.29652639854163, 331.5282572406846, 506.37236618565737, 492.3368537243142, 868.622672798252, 373.1597868911069, 765.439847876825, 717.2514891035003, 313.33154860413146, 186.93135600715465, 165.11514270776183, 1728.8980294198818, 1591.1785151338934, 477.61058431697717, 1472.1086071153481, 785.0029697877414, 2017.3739846222304, 1954.2373054713973, 1448.8318263578392, 697.6895204312447, 1792.753555891571, 1347.0762435590693, 2064.535252810977, 2237.3058414898674, 2218.589223368743, 2010.1502525146423, 1476.0744827903634, 1655.286189243018, 1671.5839095677434, 1356.0209279392434, 1419.3502998599486, 1475.0739995456834, 1618.2995099485984, 965.404267317354, 1332.2060155852178, 1133.5564781507164, 1275.772559995431, 1368.3906421742547, 1248.8917711209615, 1257.7831786493657, 1264.8132086575388, 313.76406787666104, 687.8953074573968, 230.981010432206, 332.50950050262696, 278.53226526864586, 1107.8482757068791, 301.7659045587383, 34.43106363437372, 345.04147355281316, 37.46077601971337, 229.73187267771277, 108.39152962186193, 45.66478862399809, 270.7756369890813, 604.0698394329871, 74.46660363389942, 40.52955788587513, 103.02649404189454, 400.44243788559737, 37.12747564954641, 45.352762970661566, 877.4287567464305, 764.9046478364236, 102.58044831701963, 278.2994239226255, 30.097435202672116, 59.18482440195792, 2480.268951623842, 231.14265317480476, 25.624570852430967, 141.57381430316113, 409.12871276669944, 401.9851685365362, 242.1300529550881, 540.2847198126461, 1615.1653319064021, 303.99791137194563, 1151.043379142894, 365.6877952330213, 220.48685879533102, 443.00862563801996, 1110.0207485400604, 243.11906595555334, 268.7720508107259, 999.1102759862977, 1123.5201839702295, 1937.3348018617642, 616.6779225934923, 801.1233578306187, 671.8357340554085, 795.3352948284396, 1136.4905091714595, 693.6852515713584, 838.0403191847192, 675.3094880808376, 747.7917815553348, 545.2235906278646, 714.1926695533459, 805.7221098586194, 665.0115474761525, 828.7948641831107, 924.2986303358382, 715.9028509444088, 832.4024909365797, 679.5715863222179, 721.5546262394743, 782.3059771028173, 704.4084670134804, 703.4050404835049, 681.8626432624143, 2249.479573840212, 414.23519326063587, 110.66191508968289, 347.93455342873506, 69.98461819268337, 1236.8395606280794, 332.86144459553367, 48.519816236956736, 842.8810193891915, 34.3145319806448, 611.9150716282111, 3155.84556042304, 188.08916933414827, 615.9106372785178, 39.50989588429598, 1019.0880599517329, 744.5795827540037, 1148.176741897038, 450.265462401647, 767.0298379197621, 634.4174586388091, 591.1149229664675, 1064.3235911387064, 180.19764514734385, 1618.8018974477234, 372.8776509752098, 362.28847888131645, 114.34978202688555, 255.68515354927595, 629.3478013754709, 1052.4883851189854, 459.94031607378497, 448.5921427330911, 349.99755139242546, 515.9824444982429, 388.1124868995207, 279.35709748074504, 267.54387260018984, 294.25915503739884, 525.5298209276582, 500.402714140857, 548.3846867306369, 399.8593087077339, 66.37573412924256, 98.5172873255643, 367.6279046733226, 140.23200448218026, 37.66656885875237, 33.34101643346594, 33.16432448789658, 51.57061929510304, 30.190353839543707, 60.89174041977877, 27.0860525788408, 2360.1664241091767, 51.235432139727905, 334.37226774802855, 30.57595641205959, 221.75963105129526, 3190.5796476424234, 55.905473977626826, 1594.257375512253, 276.566210409141, 3752.6776318477723, 283.7318407841711, 125.54296662298312, 334.51508644876355, 104.63843142300814, 37.882963046263164, 1233.1611913950055, 633.7941019396017, 29.58554933564113, 162.01325790100802, 759.4151191731828, 4869.45579114255, 367.27979426059085, 1439.2525179340053, 1335.1431756838997, 215.8692980359788, 180.5344459677751, 184.6030271616054, 782.4543977999153, 1439.5983305754369, 872.8988530692114, 93.02887243496058, 551.7414207460064, 247.52105170794627, 376.68254818717725, 594.4211140645009, 171.00599952773607, 254.14719946452675, 282.0959084482198, 318.0168310643265, 284.8640068840892, 272.693709755212, 274.5488943841619, 261.605038686257, 251.53430597056018, 2085.5361388370616, 2452.256117889338, 545.7149793098315, 53.840668524143275, 679.6692895465742, 385.13957940276305, 306.1340760064445, 66.74026090713996, 925.8068574874271, 655.3001448041842, 82.56478353026482, 331.099216347659, 139.4622264003407, 526.0914242441818, 542.4619043494457, 1801.292474857821, 312.9594449581045, 886.685040399826, 153.73070990568658, 110.65136009588531, 48.041081204249195, 614.1387639550705, 79.529313846552, 282.91763290096384, 637.9509078193719, 35.090955605082165, 38.14199613369349, 64.56192659799224, 28.23591388776213, 134.1339382267496, 76.39395304669502, 422.9207784568845, 507.03037223818393, 201.08629483777696, 342.5276034612018, 434.5493324269413, 225.23977175432816, 186.3022894323819, 139.7385006175573, 189.41792241309017, 312.7466771131425, 457.40093415032896, 303.2954264202312, 182.893395527402, 188.3707999068102, 269.0596390639649, 252.30793298409583, 242.88842995085557, 227.26942634603537, 219.1518383340579, 472.7801348395414, 1846.0683829882842, 352.6345165617185, 501.2168169629629, 39.50777681939024, 285.6119958004272, 1133.1842481578815, 1655.2562996542897, 1012.460317929749, 1263.926525445069, 634.5021393163017, 557.4662939783465, 947.2483760472998, 141.03062910077426, 2219.1859783835953, 26.027469467928977, 45.33911530460007, 469.6775069729676, 71.2583290514681, 159.74630793264367, 72.11363728362215, 71.36248084056861, 128.98661604878836, 72.3544586204172, 184.5928955533068, 797.5067926737707, 53.16910002622595, 200.9097772914777, 40.075364905077535, 220.40653161486034, 324.0436356792249, 81.94823807102037, 997.0265630977545, 515.8757804528069, 257.74660717460904, 327.0324143355298, 427.1691337688554, 129.35801472792843, 372.49308184882585, 260.6211048795853, 229.06556431995602, 312.6733536659187, 359.63935062111983, 228.58544229309655, 222.7208403484046, 236.49292211107078, 239.6315761274921, 234.0807876508631, 696.221468880879, 856.9071254246679, 115.26830360415774, 1155.7060011310462, 157.64056942887578, 1150.9354037477012, 78.67708276817822, 376.3169749643967, 31.22623341626158, 2088.3782991687476, 732.7709079701305, 1360.5831403433504, 45.9917235254003, 80.35087071358433, 25.552696802013827, 106.03598374876668, 27.751826645614855, 392.64575975579623, 24.25965161778356, 86.26613519569663, 46.95440609840018, 68.29214162722897, 383.72698668445446, 22.156718189695333, 1193.4373502827102, 25.41336104312095, 20.027972620250853, 18.04934821553574, 144.73892844563753, 65.32957105476083, 610.2576027268947, 2245.7084297421875, 562.1972228378122, 202.0775177921852, 169.78524052643095, 429.06271006385674, 107.98268504078318, 306.88766694031295, 194.15461306863912, 132.0393928182385, 749.7399920085843, 332.1679934100241, 221.6036250059539, 293.06740711860084, 374.0136153052025, 171.85443211237282, 224.08759592941684, 325.90609181032715, 185.7417528151858, 221.1972900645719, 216.44849358767405, 208.525604773851, 201.7824006544414, 206.215400236619, 1151.2397620541415, 863.7363074797883, 876.2820373055034, 606.2610479973829, 597.7541109915663, 1133.3123488476622, 758.1889309774901, 37.242066524474446, 1141.4974780593002, 739.6817393278768, 439.69856352378275, 155.9139131339703, 123.68404579134781, 1594.252215271123, 449.2237743533485, 598.0642093253498, 286.54804580294666, 170.25013196401235, 95.96025653016234, 168.27595334707232, 194.8566907737754, 92.81837429722106, 33.542470185842305, 97.95775601826874, 36.55733531854986, 34.527446289324686, 54.801756041384444, 286.00204135893665, 35.152154881088826, 37.520091100672175, 330.7407832408385, 692.1933968760126, 228.89602412463162, 127.34632225480574, 93.2908435917249, 147.6682503495051, 104.63933753927748, 176.26087454202752, 542.4403563038417, 169.7780318361322, 177.84051319531093, 168.4117061520913, 265.56073917594813, 271.19916631958694, 267.30344738983473, 227.4099930270952, 195.67000042549003, 180.7820144490802, 175.49379992989813, 1499.718742393801, 1367.7561172128487, 800.7268397857404, 637.5653659324422, 566.5274826200834, 1964.1569140930926, 814.4084983001597, 2959.7395316869556, 1409.3963222790276, 603.226661252674, 1143.59136620571, 210.87123458020997, 206.70049616131044, 1049.8991309244477, 2017.9837410959358, 174.95488641635936, 243.39667368226839, 151.79954305679436, 526.9180037979037, 651.7994542033815, 1032.0324280191821, 110.78479275693242, 203.07170830624932, 98.75056571467064, 340.746211589683, 93.60713785098568, 321.92598485123733, 138.01022103615787, 3447.858373200408, 329.7687820187547, 2109.9744522175542, 1808.6828945847135, 1396.9488614252537, 830.405942437268, 1248.816417609753, 859.0425004090408, 1944.8183500681534, 1002.226550778238, 449.0493004494223, 476.50342765112543, 630.458681226079, 371.85930795422934, 1108.602427420073, 714.0969813121767, 641.3996321316873, 630.7310284278982, 1513.8617623091268, 519.3826085645989, 288.46693877192166, 44.576261538771725, 1254.9318904963327, 1682.548685442036, 758.0430128329942, 247.7928776308462, 66.2927453966577, 333.36333066350136, 168.81698450216345, 153.01662618513944, 110.46316467952498, 131.5931350042039, 439.6384274545074, 678.6617998800706, 328.11310684777465, 652.3779846867053, 2221.5056290885227, 104.14216269938785, 69.33209834873912, 1006.993544535737, 39.66497110251096, 67.15557769732033, 185.7467555460211, 87.14642106499345, 46.66614721187879, 20.777566413695208, 130.2011512264283, 25.02987067493655, 520.0413150004484, 362.48863880941974, 627.8712968552368, 155.38546127464713, 422.11182555221313, 526.6347849395952, 320.1927405778714, 259.3884658185152, 395.8209451322796, 192.30985700577202, 252.1149668611577, 174.99147072164723, 297.99966151402754, 171.83257812137143, 168.84709302983723, 389.8184274083238, 915.4518098393603, 735.6466638451489, 976.1703904111243, 27.447572437515756, 29.34400471045204, 1526.5779819739003, 1313.0210128463787, 231.93105068213714, 736.9507671489224, 114.05461807892728, 624.8972537230264, 509.6053546950337, 684.527148526072, 1284.30586654492, 193.69517944473213, 3105.2186255514493, 297.0023906643689, 115.29527742094936, 246.72673361477806, 451.8561505271231, 75.30612806070565, 293.5203931009033, 21.432140851465093, 51.1314087457755, 41.332373658502995, 63.85003302178356, 28.655743663168785, 27.009583362031172, 164.29286920181374, 148.9970280049334, 157.773559823194, 890.012535228153, 86.53986059091102, 293.3768766639047, 235.91837500094405, 263.7585108075754, 774.4148693749601, 200.5236432325786, 123.79275810973147, 228.7737469530407, 174.583399540923, 181.55769092295128, 170.52602466379912, 172.20909823286019, 590.129567339201, 1318.5438458652625, 324.03683322526103, 1042.7436639544976, 817.4268052173376, 1133.7560154929963, 246.1831324596561, 580.4403163483685, 420.27635695938227, 108.8361629922835, 40.50162976808035, 757.1658763873, 105.29644093241099, 73.2138906799071, 92.36417201776908, 225.04844489965905, 62.950490048940985, 329.00442710103476, 171.728443675851, 242.00204152248187, 18.95834426713669, 20.04549255717758, 160.17406459996877, 24.858117591350403, 149.74590765164336, 489.31463386463315, 77.32403686902624, 30.68595224881975, 50.49780303815552, 187.13171794635505, 479.2794531748677, 67.52285588525275, 263.9465195931498, 137.65405919748355, 212.02978879979466, 222.0223086844264, 247.39023649636795, 224.68774244670908, 124.90599355381778, 245.20206802406554, 140.38473659686122, 156.97033633116928, 215.03943542979832, 152.53210606877946, 181.9335864354017, 155.45942812526505, 900.2202280753409, 50.00815274499035, 1189.823467718857, 286.9455870083146, 217.28531955794898, 261.5428455544529, 919.7675107233508, 1486.0134050802496, 194.14272338020535, 836.025194628831, 292.8793401687559, 721.1874216676059, 350.22761259674587, 403.38224616091276, 765.7056140063698, 260.457841070353, 35.31209262433284, 173.7915707304466, 55.19561036827976, 21.652160028443983, 15.855501835461961, 110.26978446144335, 114.2415645945368, 56.26586695533268, 99.46481671605945, 24.05018984562379, 153.03886542098178, 98.02283845183253, 232.1499656298723, 57.12702173352101, 247.7942434667775, 151.0682196098779, 113.2547283173348, 114.20635038431575, 278.4029436359521, 583.1930600166702, 99.95688427100511, 160.95323588646318, 160.9617322655385, 117.20497131841206, 114.87735688578022, 134.83110406150854, 869.2259634940107, 644.3449763795047, 27.215606404829906, 77.8518942559145, 686.2692800708252, 202.8892105633719, 2592.41165302533, 104.91646798990725, 622.7694317399901, 642.0432920531794, 91.14455461363627, 174.99971086791297, 281.8505597654796, 924.0264043008253, 51.60225173143451, 112.42393249439853, 62.16715717755395, 28.524361063330815, 656.3832484637145, 461.8870741765262, 126.20696969954405, 21.70118116545587, 27.37639301535016, 22.708281406278346, 18.03261911653756, 75.5528759922323, 37.72654828285544, 13.53294018538805, 27.25788141655124, 73.45156916373953, 165.98624039713638, 50.4504984824224, 236.5719650472278, 104.52889055032705, 157.92006261966705, 80.37708082112142, 375.9669154690912, 294.38407147093056, 152.1966695176143, 317.4463821149492, 159.06369604056144, 142.29408876255968, 168.10486026593233, 133.31035007611794, 156.6591756181956, 123.41872538273088, 109.06409714016476, 1596.651273811352, 142.89818809853782, 1012.9496115919535, 1431.3238464914139, 3552.6736292105275, 741.3201422482088, 150.33327068685583, 111.3711132210766, 366.5645688121988, 180.932267708809, 107.7115304152999, 576.9983078645489, 142.41628957645813, 291.353688105918, 46.940133456428846, 203.94030132521388, 21.84137585539221, 18.773162265248686, 196.51547830789775, 29.164625598242996, 18.754558156316545, 33.55156652653455, 420.83047535503243, 431.1053562490705, 10.768363113085217, 81.70061899160528, 28.162977459383274, 51.43206547486957, 10.740484020402677, 13.943779100419542, 188.82855769421207, 111.59657691719993, 31.004799952548105, 200.3228114798746, 59.194861748731185, 41.26949797562548, 81.56470091319474, 55.74217268018951, 148.95231390612355, 82.2904616759957, 76.48127359857284, 95.51553666408236, 104.82933695651722, 93.4776190459884, 71.74314932717455, 80.31749981615144, 260.1709560598485, 171.8330329273224, 625.2953608254747, 187.41344340887946, 1109.994447754956, 67.1146316913051, 67.42627418999582, 199.1828228559723, 46.830664134903195, 61.25834649916025, 37.15554326384033, 155.86471301796482, 16.867768482471785, 17.34134795311058, 45.93018641827481, 71.65210305268423, 22.367437271166892, 51.67181358949014, 23.840937225627748, 467.481327717289, 40.11390224695676, 28.333680159880988, 19.555691214787487, 11.82884779293708, 8.815078685301712, 115.44512411254546, 28.602120467264434, 9.32322504260804, 9.194446744645717, 8.03724252271316, 14.692069426269152, 89.5673391791633, 50.59127786539096, 22.343185329205603, 97.43519861230745, 117.87068063527, 73.97523911445359, 100.05951169048524, 97.2357634921765, 76.35321335120774, 117.87132524585998, 71.9933608675016, 101.06452780450608, 53.39138441943976, 54.52130805911657, 57.76749445705467, 59.003091059327154, 57.25570696753761, 54.40664027555302], \"Total\": [6191.0, 3721.0, 10308.0, 8413.0, 3060.0, 3501.0, 3730.0, 4172.0, 8125.0, 2967.0, 9001.0, 7347.0, 11203.0, 4847.0, 3479.0, 3445.0, 12657.0, 5760.0, 3270.0, 5677.0, 9340.0, 2797.0, 5127.0, 3320.0, 2476.0, 2643.0, 6075.0, 10840.0, 10355.0, 3848.0, 951.7645738735373, 1802.4352910098146, 419.1915077883471, 240.87109457174682, 89.4615733437262, 86.12501286739732, 85.72040485938815, 436.96146976467367, 97.68476402653175, 78.93864035058009, 336.4342884085521, 77.32493061679654, 214.29301220063178, 68.7219945747351, 130.5014662078783, 215.6075000704183, 201.17868335846015, 61.232453482503125, 58.52987145046313, 57.21836396763586, 55.548567738145245, 55.395735102573056, 55.110652683191816, 694.3943795038144, 58.342333245476105, 50.452796962788526, 61.613665517280715, 49.72727054770662, 61.613663710421385, 49.89280911051437, 597.3241613501231, 765.8985297223944, 119.99427066645819, 249.8914270631051, 720.8266351276349, 754.7060024246696, 676.3038885568768, 414.1817922127199, 903.9962162129345, 328.89863368936983, 553.7736414097893, 455.62713266245504, 133.74762052547788, 1018.2519929068308, 3939.5849145024144, 186.97821977604866, 232.17204193784582, 162.27445433526333, 475.6222473295892, 610.7874899925438, 398.5811314628825, 727.2710852235214, 2208.222475093734, 744.163185350278, 1196.7805069810124, 1707.1458784627637, 1202.6012599664273, 2682.8470667127767, 2376.072467964246, 3932.4237581915486, 666.5500063738458, 2912.034871241826, 1483.2536137233799, 1778.6786335264235, 2951.7143144233028, 3109.654888679845, 6511.952960135879, 1641.144588998465, 1492.4981276457243, 1829.915971015223, 5269.762611135665, 10308.070382707076, 8274.590348372547, 10840.243232699857, 9001.561128271149, 3122.9750653544356, 3081.711798033986, 4435.540727467725, 6838.808521476119, 4605.977798395637, 2524.820062600303, 3064.983117724497, 4783.412704105059, 3300.55263865534, 4847.806547798566, 5812.586276192384, 7739.091099896706, 5902.213554456431, 4429.516757217726, 5981.715996604393, 9136.48660537802, 5963.63473854105, 5767.643718721837, 5890.643204606211, 6929.686497261075, 7174.914629636075, 8430.182864899043, 7756.133608805939, 7491.797083144642, 1001.1108901856419, 490.7815739563511, 843.5590706989236, 590.386240914885, 524.6259824524501, 64.78294521638449, 45.41007706471121, 216.4323255443549, 1028.3766124731926, 112.27038818242046, 32.95844702232269, 36.33996341408765, 27.43387980995396, 57.14077474402733, 218.43222880847856, 635.9334163595483, 702.6909169381523, 40.81019279024293, 70.26105212358571, 1670.7777139701911, 118.58605981388689, 44.22137487698604, 637.0158098841749, 424.49010243784744, 30.613869883787657, 33.48349052902123, 51.224167273112776, 528.6092714624682, 432.6575257802752, 26.57230912827951, 567.7196308048906, 119.12611468231569, 157.05630822469962, 917.8514605048597, 466.62783934837347, 362.20325558997314, 589.9106073808292, 651.3530164414419, 349.6216559909095, 952.8465320542559, 1891.7914096864129, 234.14394442943595, 675.0748547315227, 338.2876205236025, 3407.7155845681036, 3722.118397526374, 3902.4462138562326, 4281.969523808009, 858.0539545069903, 1080.7006299581133, 3821.555041514888, 1306.2114783543511, 1599.4841540819941, 9340.871385637609, 8075.979010891784, 4656.611694602049, 12657.830645081509, 2685.9253183402693, 3958.128345743231, 2683.3557215546866, 8148.205918333838, 5998.0781101799685, 2987.498307930345, 6078.877952359737, 11203.578966321835, 7776.879424485382, 4715.972121321649, 5681.204725226885, 4002.273265581975, 6720.701051593243, 6890.53667546557, 10425.932515802664, 7888.307278913515, 5819.450965431741, 6017.341345363049, 5852.276401497176, 7465.090730811322, 7220.444298898691, 5907.367992362699, 6322.603450061857, 7936.984029430265, 9555.835184875687, 381.550064626757, 433.24224511981186, 465.1328828803933, 336.633565940064, 51.85212243975639, 664.5195594078078, 41.533022238576095, 197.1344666799876, 36.45980397207456, 35.92775799972455, 34.74482430957231, 710.0797568713468, 29.693046273668124, 29.69304857002156, 1634.517766219957, 32.53897430797644, 28.326160593085625, 59.45135720117867, 817.4799246394913, 34.294891417334775, 42.218975718838024, 52.924826716393, 32.841690040014456, 35.79637585589146, 34.312940987310945, 28.24079329068351, 1098.3318040520467, 969.5893767934178, 2211.2734552192373, 37.55671578319426, 197.6924597120866, 190.27652300857474, 851.2609986408817, 213.4553094526987, 134.5798121038193, 206.81291498403826, 4793.085682700096, 194.68497707960714, 617.451462204616, 127.75838936074675, 3491.8781881976493, 726.4989748270924, 447.9133221397732, 550.3570667257624, 439.8141237952235, 2328.529788919166, 554.5667517689272, 491.4944632220849, 2012.2020723590879, 4530.294065077762, 1228.5778680120673, 12657.830645081509, 726.7726120660371, 509.73896337717963, 446.8989515142704, 2152.7618263931427, 3320.9733554553854, 7220.444298898691, 10308.070382707076, 1474.1708636698522, 6493.756490308416, 4755.508940807107, 2686.678584875738, 3673.0716117280945, 4212.9021330906235, 6313.474633157743, 9555.835184875687, 9136.48660537802, 5998.0781101799685, 8430.182864899043, 9340.871385637609, 6186.049345532956, 7465.090730811322, 4387.8942764921, 7347.332373103027, 10840.243232699857, 10355.313718544841, 8310.112434760093, 5826.897188347514, 7659.8256204283625, 11203.578966321835, 360.7379044065576, 843.9776618214686, 510.33186031529783, 172.80934518581319, 51.193884995576056, 839.9461664933293, 38.93124259016832, 37.429019645533685, 99.1237827377267, 36.14624837184126, 144.0000920361466, 105.8852082031894, 28.748476602742723, 35.20028591359285, 407.26138187135155, 27.0222433845065, 26.98296105869733, 56.02938745122686, 121.55853414869235, 320.99485963308564, 98.30719748350774, 649.5092971250541, 51.592025177544414, 98.46860659309354, 115.5003525360223, 94.21379127647502, 92.8800039978987, 116.09831568873065, 131.0141309912214, 53.14971523837158, 1097.6077230474657, 352.79442049232546, 967.9085438072455, 888.1200251926638, 227.93390422193576, 233.94336161433787, 895.926007007634, 136.47019292649256, 516.1503858246925, 804.688997254744, 891.091312042605, 514.2753349519717, 1890.8291568674952, 640.5766627268745, 8125.260309100961, 341.7784953092385, 574.1035046154875, 3848.925639223887, 553.3449286406465, 349.0970638218247, 600.9013020305134, 654.1372434772587, 837.0558305774491, 2130.46924029246, 602.246922973866, 1243.8455056554374, 6679.362337628706, 4769.138214039164, 2310.7698463440656, 6888.170244513405, 1130.3803770936772, 1148.811970269649, 2218.6679427400354, 2720.078593908782, 7756.133608805939, 9001.561128271149, 10355.313718544841, 4359.385114788527, 6838.808521476119, 1716.9130514798073, 8310.112434760093, 3382.0772499536756, 6720.701051593243, 10425.932515802664, 5902.213554456431, 8148.205918333838, 10840.243232699857, 6886.461724833343, 5451.424605256149, 8430.182864899043, 9136.48660537802, 11203.578966321835, 7888.307278913515, 8274.590348372547, 4847.806547798566, 6131.230167795811, 6330.982915686495, 7936.984029430265, 8075.979010891784, 6230.819676033782, 1684.9031025259783, 64.53648034755535, 39.57818229394147, 152.52953902745642, 70.82444599372255, 2516.252756653276, 194.333402901758, 55.85236965208302, 30.93931858042344, 1511.7624003937588, 76.012894924476, 29.283149926714504, 199.94125550651694, 76.2000566341064, 43.41600834198241, 33.30195484662575, 35.97845460027903, 55.636906677069916, 361.1065222643382, 35.505353118057336, 37.98021357186557, 214.55276138021884, 28.38568292314387, 409.2317750874392, 134.7276170047266, 44.79352833780877, 28.214062543933355, 99.79242774403659, 81.80044721537998, 33.097717622721355, 227.3724630174044, 803.3458906165536, 447.29211550100814, 2925.532055420157, 500.8099416624914, 1088.227494791724, 340.0476537320701, 4461.6136773286535, 452.869729009507, 507.8839939060484, 416.9576068264455, 680.3211419629683, 689.5764798140212, 1315.4196411472005, 517.7733503455079, 1203.729577577294, 1142.8986979277377, 433.6523868800602, 242.58198035911047, 209.54816393547884, 3973.2040314225947, 3759.29386922454, 805.4534495509797, 3640.02770579808, 1565.3292047464388, 5977.007394642113, 6272.793597027386, 4241.263497267098, 1445.6106971893996, 6382.326679465982, 4094.7210807591005, 8413.544661782218, 10425.932515802664, 11203.578966321835, 9555.835184875687, 5542.601543778888, 7097.953416161153, 7491.797083144642, 5233.082839018286, 5787.831487759564, 6322.603450061857, 7659.8256204283625, 2762.549995248408, 6886.461724833343, 4387.8942764921, 6317.256642259674, 7936.984029430265, 5961.219625085199, 8310.112434760093, 9148.97619848284, 316.05733633585004, 693.5930913933072, 236.0167554421406, 343.8263503265503, 288.2651945082267, 1181.6877880010363, 322.36010478400664, 36.850574037173075, 369.45120579638944, 40.22056464738164, 246.8864166439462, 117.44105215788511, 49.640010561523226, 295.8456876526743, 662.2746895691396, 81.64962222502605, 44.671141403991996, 113.88392466564385, 442.93382322146687, 41.21854882795429, 50.65001435987738, 985.8287934523726, 861.714029163952, 115.72118848541577, 314.34140011537966, 34.12668112062767, 67.15286816415058, 2833.621623104935, 266.363387423162, 29.549573037884667, 163.42528779054797, 478.02559702938856, 480.2078118262864, 284.9402579682176, 665.7665717118318, 2120.7150628778895, 366.26565479447083, 1541.867801256942, 457.2649632452837, 274.7955461077672, 603.3741109676316, 1740.2585582071144, 312.1934038092244, 354.1740014562103, 1795.6604828850773, 2728.8642462017365, 6075.695381437037, 1164.8210995794482, 1809.4849443179946, 1443.4750044820055, 2480.6785193840014, 5233.082839018286, 2022.0405486627037, 3274.7760719441217, 2052.72601958604, 2720.078593908782, 1301.5633357829943, 2704.1449732074298, 4387.8942764921, 2656.0150250595934, 6230.819676033782, 9555.835184875687, 4034.5649039148543, 9136.48660537802, 3866.021983495652, 5542.601543778888, 10355.313718544841, 6324.04340379688, 8310.112434760093, 9148.97619848284, 2262.175506933569, 417.39474488201574, 111.63799679527224, 352.5773443923386, 70.96858447077766, 1254.4418192369892, 339.45770134941176, 49.48493135900364, 865.3050841636702, 35.28011496848051, 629.4840602058355, 3270.6885768440125, 197.28954348284407, 649.6826370077363, 41.71514822121228, 1078.5172967257906, 789.2796342913352, 1217.3254210780221, 477.60570844264794, 814.5681746302753, 678.2336933068206, 637.0009871717904, 1147.2605443934344, 194.87382300552738, 1781.0752265480512, 418.17115958190703, 416.6990199918834, 133.48077570105124, 303.07595790339496, 746.3274416961036, 1378.2583624947267, 582.3747404046204, 584.5995961598128, 462.34872479282683, 740.8441603767133, 565.1254585200755, 370.3044456248281, 386.28864282506316, 526.0236538329281, 5852.276401497176, 5998.0781101799685, 11203.578966321835, 9148.97619848284, 67.34941802482562, 100.03371100645143, 373.44785238312653, 143.6148502879749, 38.6588794237288, 34.30749867548987, 34.13948336065476, 53.22378553132648, 31.182875314806147, 62.94880140548831, 28.057309031958326, 2446.9218198163094, 54.05622457146283, 354.0854995009688, 32.61600862935731, 237.90978075925392, 3445.384512753786, 60.85347448771823, 1752.7132012088332, 305.3372735621752, 4172.851622817816, 316.4063518611907, 142.4567973879535, 380.0403422950509, 119.2043761770783, 43.23578902227206, 1464.7257563012613, 753.9267600326874, 35.29080507474256, 193.38113579572263, 920.7883402272986, 6191.743909369475, 447.16550477543495, 1941.6394649984418, 1797.1492189857188, 263.2502583378448, 219.36849919763486, 234.95514937962847, 1381.2173669145893, 2857.3677484458453, 1921.1256508672964, 113.79005976797505, 2044.7654739461968, 575.6859431620253, 1161.3232547339055, 5912.253095700518, 368.8141985185243, 2472.1566820619746, 4281.969523808009, 9340.871385637609, 8148.205918333838, 7347.332373103027, 8274.590348372547, 8075.979010891784, 7097.953416161153, 2099.9560711759523, 2476.4117867539994, 553.4853210740047, 54.824209326272474, 712.4339545200979, 404.9794065359592, 322.5231718871017, 70.99833940471193, 991.9877050419085, 707.2156383071132, 89.54440392108637, 359.827558962952, 153.0360583373076, 581.8283823292093, 604.1983546500379, 2007.9550383722537, 354.1946982541076, 1008.1583372170788, 175.5484876364682, 130.61501786095283, 58.483260687279284, 750.5112627267708, 97.57808860191659, 351.1575062333447, 816.0998707968839, 45.30875292370752, 50.75294182438775, 85.95225243792413, 38.11843523416724, 181.22319214999192, 103.9160670040013, 634.8947915252583, 778.0428550212363, 297.2185499514506, 562.8601191046058, 747.0467307990509, 400.7360272075497, 326.5350264623977, 229.15018062291688, 394.9039952263448, 1153.3197172540147, 2685.9253183402693, 1137.6857400387762, 442.1779410047077, 606.6217297954821, 7888.307278913515, 9340.871385637609, 9148.97619848284, 10840.243232699857, 9001.561128271149, 480.59261982647826, 1882.9496396386655, 359.7746930522949, 513.3458287537776, 40.480132893299924, 294.6141359256916, 1170.2477337723371, 1729.924433257344, 1065.8439466042453, 1351.3588577436456, 688.5997077680539, 640.1844026463731, 1113.550087970403, 167.55239318495578, 2643.50472018502, 31.162908659846956, 55.51626075410105, 582.0288381368549, 89.36697518227518, 200.51227216310664, 90.55054531784052, 90.32981111138498, 169.75137853907455, 95.8868293723864, 246.05340210364903, 1099.4879030179904, 73.63269648835544, 279.6772965332171, 56.03991060907054, 309.017800547195, 462.7654956008316, 117.33696754386251, 1798.271258229092, 923.4470447120276, 468.0108119704604, 693.0263815005152, 1153.3197172540147, 220.68377456554845, 1222.0559019278744, 775.0810934112427, 808.8429638226479, 1803.5972210554035, 7174.914629636075, 1442.2944697091118, 2265.667474516095, 7491.797083144642, 10840.243232699857, 6272.793597027386, 699.6011743072842, 863.8395113951262, 119.57353049102142, 1235.6726457573645, 168.84500639565334, 1258.712842293371, 87.50186990527209, 420.5352260450005, 35.02582836026445, 2351.915191571584, 837.3393076052455, 1560.2153896593165, 54.04461250189545, 96.61630690883774, 30.832319681158125, 129.20556465656784, 34.39222930687402, 497.333332392009, 31.033739187784228, 110.71928816409067, 61.47107451470765, 89.46045117062307, 542.3967982969929, 31.403436851559405, 1722.219593158814, 36.76236635088911, 29.212201640519, 26.763486704109255, 217.68270591286432, 98.50049090721535, 922.9601270441373, 3479.4069773691017, 887.67583730036, 318.33094363079096, 266.77527653344373, 741.732207662811, 179.11095619218008, 745.7146157900082, 464.3671188171889, 278.0615181030148, 3848.925639223887, 1242.450598570495, 672.9828649421339, 1119.5549507384394, 3013.863174867366, 687.1618666859455, 2255.2740108117587, 10308.070382707076, 1445.6106971893996, 3673.0716117280945, 11203.578966321835, 7465.090730811322, 5961.219625085199, 10425.932515802664, 1153.4212536688317, 869.8408221250739, 888.7570396576436, 617.6462343848981, 609.0620632589338, 1155.5936370501227, 774.2135880761315, 38.328352528456605, 1180.7470640279664, 770.0945291081327, 464.1212230206083, 169.34437729950392, 135.94939357889155, 1771.5757786893066, 502.02457013730947, 673.703093030366, 322.96425797038336, 191.93463478244365, 113.83970695723075, 208.94249439866405, 245.5613455852844, 117.39597367258769, 42.73473021161066, 125.20533220409348, 47.08657224946592, 45.31745305669302, 73.8234959503621, 397.8753399347771, 51.325329889038244, 56.73995562378477, 506.0613596131736, 1125.2388401466035, 356.0279089003714, 199.09202365790165, 150.84188886538345, 271.9824087532022, 186.04238306593768, 501.5094377001802, 8125.260309100961, 634.668967210244, 790.500129449219, 674.9822969405241, 4661.3784879289105, 7756.133608805939, 8310.112434760093, 8430.182864899043, 10355.313718544841, 9148.97619848284, 8075.979010891784, 1500.732456718249, 1368.7627369038987, 801.7687632687168, 638.6450487230185, 567.5085379114678, 1968.6981232816072, 816.4446924062107, 2967.209890907003, 1413.639442665931, 605.1473191546805, 1147.7903702442266, 211.83822108648914, 207.67147781937402, 1055.0399967799149, 2028.0240876416206, 175.92042020449898, 244.76408571235814, 152.7712852063107, 530.7814310486965, 656.9573224016041, 1040.3767088970565, 111.75118530824454, 204.9818827812756, 99.71618215997863, 344.12403310282224, 94.57630304564918, 326.16547337651326, 139.89559391601617, 3501.409707680358, 335.5338672528289, 2157.9352558487085, 1857.5296593343655, 1431.3418182355442, 853.1288589202513, 1319.7707084103931, 899.0921597717678, 2092.3343085203255, 1064.0537896009737, 472.06686986154074, 514.4822972124182, 723.2156532482113, 394.1445733791062, 5760.151674179297, 2394.2490408860767, 1919.2629963505226, 2738.63578782794, 1514.9795855515654, 521.6065459069774, 293.6465125379913, 46.06605085840532, 1307.1383365824, 1773.8054906570194, 809.5515667384885, 268.9656564459269, 72.84887522709728, 366.85244481974325, 190.70665477257205, 173.0002354521079, 124.98988064860221, 150.19016077605121, 517.8900707702929, 810.3733412062353, 406.7505781424244, 809.1861979509388, 2797.5272759549603, 133.9745551599738, 94.34252052622114, 1405.8447744537896, 57.21395203477594, 102.89136973185744, 290.25464162596745, 136.454736767312, 75.53614696375804, 34.33263217512441, 219.66572907056397, 42.27498014433983, 1008.5607207952472, 731.5980894383245, 1564.8098714138391, 318.02940166016054, 1442.2944697091118, 2057.4497890802013, 1075.4079213573457, 766.1832747509084, 2328.529788919166, 626.5351341394568, 1626.3531328873494, 778.0428550212363, 11203.578966321835, 10425.932515802664, 5677.538184778701, 395.37934459327624, 931.2210746008102, 752.1267886275764, 998.5632697866893, 28.416270999104317, 30.381237829843933, 1597.3386833414356, 1400.579955852619, 247.46803798576462, 786.8032475686379, 122.93840992555451, 678.4447192435983, 556.2797553316467, 776.001533853604, 1479.7443806656404, 226.67442183493645, 3730.574019262928, 358.18481737209703, 146.6938399500343, 314.7256018702244, 576.4086039523858, 97.93875111670161, 396.16759428973694, 30.361154721887054, 74.9937158615315, 63.55345056638755, 101.4090519329488, 45.673159681025076, 43.260629132550285, 271.8398893174677, 251.18076444855163, 281.43634416140645, 1921.1256508672964, 152.98187351105312, 692.6211905926663, 565.958166658438, 938.51404457441, 7347.332373103027, 1305.0192046574136, 509.1825424380215, 10425.932515802664, 3479.4069773691017, 6131.230167795811, 7465.090730811322, 11203.578966321835, 591.6000795275341, 1338.3523561454604, 331.8510326502733, 1074.9179195392994, 857.7828206018665, 1209.714868321321, 264.1315959367742, 628.3707463380188, 464.1485721976688, 126.63471407758674, 47.52428976219332, 893.5690980497004, 130.30500186945002, 90.95793271676443, 115.7162827798358, 299.98250144191974, 88.98469221607614, 469.6033539078768, 264.1971475148767, 379.7780258358896, 29.97109279350715, 32.85945348181754, 283.8775749111106, 47.4603545742928, 289.5117481625192, 981.6115509689583, 156.13223124806296, 63.168048533356334, 104.68415692430324, 402.33724227519053, 1110.7818690993247, 147.99411471570247, 747.0467307990509, 366.6210866215206, 871.4594636074406, 937.1432693610109, 1780.9204881565536, 1525.89594948401, 480.1702632081067, 2719.2872421331053, 759.7717466662026, 1425.0349743806257, 10355.313718544841, 1253.2581734902449, 11203.578966321835, 4769.138214039164, 903.4326244633431, 51.06240229593914, 1234.2766045857297, 301.4488141059039, 230.88848654020535, 282.96194595327665, 1012.5456603575964, 1648.3874952787387, 217.57912350886866, 938.5883407464655, 331.70973291224044, 845.157193037112, 418.4411166420987, 485.7793502205714, 967.3005591512261, 355.61045978185217, 55.88546775206233, 298.1372087857609, 97.4666367714858, 40.555532510933176, 29.854539096884892, 213.40306126255638, 235.4334314154727, 116.14622141326636, 217.00569905445187, 52.90415084615525, 357.11699417432334, 229.66090993168336, 557.3750467642657, 138.3242442112611, 647.857997660223, 388.06513169644836, 334.6311479305951, 352.3686843635399, 1331.9993296079786, 8413.544661782218, 335.3499693077091, 1912.9509015647695, 2444.0499022299255, 740.8441603767133, 898.8872919070707, 7220.444298898691, 875.9473498836554, 656.664335934378, 28.437208031781296, 82.11941430089591, 725.4345804995669, 229.6745410414992, 3060.985912138916, 126.89210946800107, 759.7554461845604, 808.9120627229287, 116.27123691383574, 230.18901347528185, 390.7947983445015, 1305.0192046574136, 75.69652520859076, 165.37529038552682, 95.87420804800092, 44.596313557135225, 1035.9286446620933, 729.8384240353557, 218.50441039787992, 38.49889781063386, 53.66498029851877, 48.630544335872, 39.89196217622443, 171.51554237430523, 85.91057035861009, 32.13153534988228, 65.75067172043347, 177.5194216272283, 451.76678126326976, 129.31983871648666, 835.0720686329217, 333.21311913231415, 679.6561031747307, 270.70983235599516, 3320.9733554553854, 2320.0123686743636, 892.1559141054344, 5127.776588996941, 1229.5925240043903, 1331.9993296079786, 4744.78804571849, 2879.393389086643, 9340.871385637609, 2656.0150250595934, 1477.8317043420482, 1599.4525827985233, 144.77029403515533, 1037.0989926939778, 1492.6890102265697, 3721.729567480783, 797.9811778550471, 170.3914529486717, 128.9016992057291, 429.1259356355788, 213.91594530615228, 130.0091032523064, 711.1337323645315, 188.2406184478014, 397.2770145987399, 67.0597493650139, 301.73372053766536, 35.57611746962335, 30.9012961023657, 333.21311913231415, 49.72800638204932, 32.4826133118056, 63.81427113079736, 808.8429638226479, 832.3567104397428, 27.790398078892068, 214.1406303991869, 75.9751210633664, 149.4540477296615, 32.199522494864, 42.49691535678026, 622.7264335314011, 392.4775470222103, 100.17125858360811, 1445.6106971893996, 278.1929265497024, 156.13154218845932, 669.8100645374892, 418.5652789157151, 5677.538184778701, 1464.7257563012613, 1400.579955852619, 3497.8360267966445, 9001.561128271149, 5636.027117539653, 1130.795440740822, 2705.1815455543583, 265.37640241972, 189.11264598978124, 702.378260090153, 215.99863117671092, 1331.0170896647783, 82.81975958538857, 83.69904692980366, 278.1929265497024, 68.61791538044383, 91.07637738133424, 60.874880454928984, 259.6271815027957, 28.744742956704147, 31.20000183258187, 91.33062297643626, 152.8895691098823, 48.67496522635857, 118.77336605901003, 61.40407261149121, 1256.7074776769346, 109.83045458366121, 77.94929175948668, 56.96862700308431, 36.51878015964391, 27.846482399616413, 373.1542880763874, 100.80554167516004, 34.35672343190505, 34.029176423015215, 30.848947166988733, 61.01096770985531, 542.6869046289803, 363.3483872528384, 116.01547754955448, 1134.2014399557215, 2120.7150628778895, 940.5977566924487, 2719.2872421331053, 2797.5272759549603, 1496.0805407486173, 4847.806547798566, 1511.7624003937588, 10308.070382707076, 1985.7093333228186, 2524.820062600303, 6075.695381437037, 9136.48660537802, 5636.027117539653, 9001.561128271149], \"Category\": [\"Default\", \"Default\", \"Default\", \"Default\", \"Default\", \"Default\", \"Default\", \"Default\", \"Default\", \"Default\", \"Default\", \"Default\", \"Default\", \"Default\", \"Default\", \"Default\", \"Default\", \"Default\", \"Default\", \"Default\", \"Default\", \"Default\", \"Default\", \"Default\", \"Default\", \"Default\", \"Default\", \"Default\", \"Default\", \"Default\", \"Topic1\", \"Topic1\", \"Topic1\", \"Topic1\", \"Topic1\", \"Topic1\", \"Topic1\", \"Topic1\", \"Topic1\", \"Topic1\", \"Topic1\", \"Topic1\", \"Topic1\", \"Topic1\", \"Topic1\", \"Topic1\", \"Topic1\", \"Topic1\", \"Topic1\", \"Topic1\", \"Topic1\", \"Topic1\", \"Topic1\", \"Topic1\", \"Topic1\", \"Topic1\", \"Topic1\", \"Topic1\", \"Topic1\", \"Topic1\", \"Topic1\", \"Topic1\", \"Topic1\", \"Topic1\", \"Topic1\", \"Topic1\", \"Topic1\", \"Topic1\", \"Topic1\", \"Topic1\", \"Topic1\", \"Topic1\", \"Topic1\", \"Topic1\", \"Topic1\", \"Topic1\", \"Topic1\", \"Topic1\", \"Topic1\", \"Topic1\", \"Topic1\", \"Topic1\", \"Topic1\", \"Topic1\", \"Topic1\", \"Topic1\", \"Topic1\", \"Topic1\", \"Topic1\", \"Topic1\", \"Topic1\", \"Topic1\", \"Topic1\", \"Topic1\", \"Topic1\", \"Topic1\", \"Topic1\", \"Topic1\", \"Topic1\", \"Topic1\", \"Topic1\", \"Topic1\", \"Topic1\", \"Topic1\", \"Topic1\", \"Topic1\", \"Topic1\", \"Topic1\", \"Topic1\", \"Topic1\", \"Topic1\", \"Topic1\", \"Topic1\", \"Topic1\", \"Topic1\", \"Topic1\", \"Topic1\", \"Topic1\", \"Topic1\", \"Topic1\", \"Topic1\", \"Topic1\", \"Topic1\", \"Topic1\", \"Topic1\", \"Topic1\", \"Topic1\", \"Topic1\", \"Topic1\", \"Topic2\", \"Topic2\", \"Topic2\", \"Topic2\", \"Topic2\", \"Topic2\", \"Topic2\", \"Topic2\", \"Topic2\", \"Topic2\", \"Topic2\", \"Topic2\", \"Topic2\", \"Topic2\", \"Topic2\", \"Topic2\", \"Topic2\", \"Topic2\", \"Topic2\", \"Topic2\", \"Topic2\", \"Topic2\", \"Topic2\", \"Topic2\", \"Topic2\", \"Topic2\", \"Topic2\", \"Topic2\", \"Topic2\", \"Topic2\", \"Topic2\", \"Topic2\", \"Topic2\", \"Topic2\", \"Topic2\", \"Topic2\", \"Topic2\", \"Topic2\", \"Topic2\", \"Topic2\", \"Topic2\", \"Topic2\", \"Topic2\", \"Topic2\", \"Topic2\", \"Topic2\", \"Topic2\", \"Topic2\", \"Topic2\", \"Topic2\", \"Topic2\", \"Topic2\", \"Topic2\", \"Topic2\", \"Topic2\", \"Topic2\", \"Topic2\", \"Topic2\", \"Topic2\", \"Topic2\", \"Topic2\", \"Topic2\", \"Topic2\", \"Topic2\", \"Topic2\", \"Topic2\", \"Topic2\", \"Topic2\", \"Topic2\", \"Topic2\", \"Topic2\", \"Topic2\", \"Topic2\", \"Topic2\", \"Topic2\", \"Topic2\", \"Topic2\", \"Topic2\", \"Topic2\", \"Topic2\", \"Topic2\", \"Topic2\", \"Topic3\", \"Topic3\", \"Topic3\", \"Topic3\", \"Topic3\", \"Topic3\", \"Topic3\", \"Topic3\", \"Topic3\", \"Topic3\", \"Topic3\", \"Topic3\", \"Topic3\", \"Topic3\", \"Topic3\", \"Topic3\", \"Topic3\", \"Topic3\", \"Topic3\", \"Topic3\", \"Topic3\", \"Topic3\", \"Topic3\", \"Topic3\", \"Topic3\", \"Topic3\", \"Topic3\", \"Topic3\", \"Topic3\", \"Topic3\", \"Topic3\", \"Topic3\", \"Topic3\", \"Topic3\", \"Topic3\", \"Topic3\", \"Topic3\", \"Topic3\", \"Topic3\", \"Topic3\", \"Topic3\", \"Topic3\", \"Topic3\", \"Topic3\", \"Topic3\", \"Topic3\", \"Topic3\", \"Topic3\", \"Topic3\", \"Topic3\", \"Topic3\", \"Topic3\", \"Topic3\", \"Topic3\", \"Topic3\", \"Topic3\", \"Topic3\", \"Topic3\", \"Topic3\", \"Topic3\", \"Topic3\", \"Topic3\", \"Topic3\", \"Topic3\", \"Topic3\", \"Topic3\", \"Topic3\", \"Topic3\", \"Topic3\", \"Topic3\", \"Topic3\", \"Topic3\", \"Topic3\", \"Topic3\", \"Topic3\", \"Topic3\", \"Topic3\", \"Topic3\", \"Topic3\", \"Topic3\", \"Topic3\", \"Topic4\", \"Topic4\", \"Topic4\", \"Topic4\", \"Topic4\", \"Topic4\", \"Topic4\", \"Topic4\", \"Topic4\", \"Topic4\", \"Topic4\", \"Topic4\", \"Topic4\", \"Topic4\", \"Topic4\", \"Topic4\", \"Topic4\", \"Topic4\", \"Topic4\", \"Topic4\", \"Topic4\", \"Topic4\", \"Topic4\", \"Topic4\", \"Topic4\", \"Topic4\", \"Topic4\", \"Topic4\", \"Topic4\", \"Topic4\", \"Topic4\", \"Topic4\", \"Topic4\", \"Topic4\", \"Topic4\", \"Topic4\", \"Topic4\", \"Topic4\", \"Topic4\", \"Topic4\", \"Topic4\", \"Topic4\", \"Topic4\", \"Topic4\", \"Topic4\", \"Topic4\", \"Topic4\", \"Topic4\", \"Topic4\", \"Topic4\", \"Topic4\", \"Topic4\", \"Topic4\", \"Topic4\", \"Topic4\", \"Topic4\", \"Topic4\", \"Topic4\", \"Topic4\", \"Topic4\", \"Topic4\", \"Topic4\", \"Topic4\", \"Topic4\", \"Topic4\", \"Topic4\", \"Topic4\", \"Topic4\", \"Topic4\", \"Topic4\", \"Topic4\", \"Topic4\", \"Topic4\", \"Topic4\", \"Topic4\", \"Topic4\", \"Topic4\", \"Topic4\", \"Topic4\", \"Topic4\", \"Topic4\", \"Topic4\", \"Topic4\", \"Topic4\", \"Topic4\", \"Topic4\", \"Topic4\", \"Topic4\", \"Topic4\", \"Topic4\", \"Topic5\", \"Topic5\", \"Topic5\", \"Topic5\", \"Topic5\", \"Topic5\", \"Topic5\", \"Topic5\", \"Topic5\", \"Topic5\", \"Topic5\", \"Topic5\", \"Topic5\", \"Topic5\", \"Topic5\", \"Topic5\", \"Topic5\", \"Topic5\", \"Topic5\", \"Topic5\", \"Topic5\", \"Topic5\", \"Topic5\", \"Topic5\", \"Topic5\", \"Topic5\", \"Topic5\", \"Topic5\", \"Topic5\", \"Topic5\", \"Topic5\", \"Topic5\", \"Topic5\", \"Topic5\", \"Topic5\", \"Topic5\", \"Topic5\", \"Topic5\", \"Topic5\", \"Topic5\", \"Topic5\", \"Topic5\", \"Topic5\", \"Topic5\", \"Topic5\", \"Topic5\", \"Topic5\", \"Topic5\", \"Topic5\", \"Topic5\", \"Topic5\", \"Topic5\", \"Topic5\", \"Topic5\", \"Topic5\", \"Topic5\", \"Topic5\", \"Topic5\", \"Topic5\", \"Topic5\", \"Topic5\", \"Topic5\", \"Topic5\", \"Topic5\", \"Topic5\", \"Topic5\", \"Topic5\", \"Topic5\", \"Topic5\", \"Topic5\", \"Topic5\", \"Topic5\", \"Topic5\", \"Topic5\", \"Topic5\", \"Topic5\", \"Topic5\", \"Topic5\", \"Topic5\", \"Topic5\", \"Topic6\", \"Topic6\", \"Topic6\", \"Topic6\", \"Topic6\", \"Topic6\", \"Topic6\", \"Topic6\", \"Topic6\", \"Topic6\", \"Topic6\", \"Topic6\", \"Topic6\", \"Topic6\", \"Topic6\", \"Topic6\", \"Topic6\", \"Topic6\", \"Topic6\", \"Topic6\", \"Topic6\", \"Topic6\", \"Topic6\", \"Topic6\", \"Topic6\", \"Topic6\", \"Topic6\", \"Topic6\", \"Topic6\", \"Topic6\", \"Topic6\", \"Topic6\", \"Topic6\", \"Topic6\", \"Topic6\", \"Topic6\", \"Topic6\", \"Topic6\", \"Topic6\", \"Topic6\", \"Topic6\", \"Topic6\", \"Topic6\", \"Topic6\", \"Topic6\", \"Topic6\", \"Topic6\", \"Topic6\", \"Topic6\", \"Topic6\", \"Topic6\", \"Topic6\", \"Topic6\", \"Topic6\", \"Topic6\", \"Topic6\", \"Topic6\", \"Topic6\", \"Topic6\", \"Topic6\", \"Topic6\", \"Topic6\", \"Topic6\", \"Topic6\", \"Topic6\", \"Topic6\", \"Topic6\", \"Topic6\", \"Topic6\", \"Topic6\", \"Topic7\", \"Topic7\", \"Topic7\", \"Topic7\", \"Topic7\", \"Topic7\", \"Topic7\", \"Topic7\", \"Topic7\", \"Topic7\", \"Topic7\", \"Topic7\", \"Topic7\", \"Topic7\", \"Topic7\", \"Topic7\", \"Topic7\", \"Topic7\", \"Topic7\", \"Topic7\", \"Topic7\", \"Topic7\", \"Topic7\", \"Topic7\", \"Topic7\", \"Topic7\", \"Topic7\", \"Topic7\", \"Topic7\", \"Topic7\", \"Topic7\", \"Topic7\", \"Topic7\", \"Topic7\", \"Topic7\", \"Topic7\", \"Topic7\", \"Topic7\", \"Topic7\", \"Topic7\", \"Topic7\", \"Topic7\", \"Topic7\", \"Topic8\", \"Topic8\", \"Topic8\", \"Topic8\", \"Topic8\", \"Topic8\", \"Topic8\", \"Topic8\", \"Topic8\", \"Topic8\", \"Topic8\", \"Topic8\", \"Topic8\", \"Topic8\", \"Topic8\", \"Topic8\", \"Topic8\", \"Topic8\", \"Topic8\", \"Topic8\", \"Topic8\", \"Topic8\", \"Topic8\", \"Topic8\", \"Topic8\", \"Topic8\", \"Topic8\", \"Topic8\", \"Topic8\", \"Topic8\", \"Topic8\", \"Topic8\", \"Topic8\", \"Topic8\", \"Topic8\", \"Topic8\", \"Topic8\", \"Topic8\", \"Topic8\", \"Topic8\", \"Topic8\", \"Topic8\", \"Topic8\", \"Topic8\", \"Topic8\", \"Topic8\", \"Topic8\", \"Topic8\", \"Topic8\", \"Topic8\", \"Topic8\", \"Topic8\", \"Topic8\", \"Topic8\", \"Topic8\", \"Topic9\", \"Topic9\", \"Topic9\", \"Topic9\", \"Topic9\", \"Topic9\", \"Topic9\", \"Topic9\", \"Topic9\", \"Topic9\", \"Topic9\", \"Topic9\", \"Topic9\", \"Topic9\", \"Topic9\", \"Topic9\", \"Topic9\", \"Topic9\", \"Topic9\", \"Topic9\", \"Topic9\", \"Topic9\", \"Topic9\", \"Topic9\", \"Topic9\", \"Topic9\", \"Topic9\", \"Topic9\", \"Topic9\", \"Topic9\", \"Topic9\", \"Topic9\", \"Topic9\", \"Topic9\", \"Topic9\", \"Topic9\", \"Topic9\", \"Topic9\", \"Topic9\", \"Topic9\", \"Topic9\", \"Topic9\", \"Topic9\", \"Topic9\", \"Topic9\", \"Topic9\", \"Topic9\", \"Topic9\", \"Topic9\", \"Topic9\", \"Topic10\", \"Topic10\", \"Topic10\", \"Topic10\", \"Topic10\", \"Topic10\", \"Topic10\", \"Topic10\", \"Topic10\", \"Topic10\", \"Topic10\", \"Topic10\", \"Topic10\", \"Topic10\", \"Topic10\", \"Topic10\", \"Topic10\", \"Topic10\", \"Topic10\", \"Topic10\", \"Topic10\", \"Topic10\", \"Topic10\", \"Topic10\", \"Topic10\", \"Topic10\", \"Topic10\", \"Topic10\", \"Topic10\", \"Topic10\", \"Topic10\", \"Topic10\", \"Topic10\", \"Topic10\", \"Topic10\", \"Topic10\", \"Topic10\", \"Topic10\", \"Topic10\", \"Topic10\", \"Topic10\", \"Topic10\", \"Topic10\", \"Topic10\", \"Topic10\", \"Topic10\", \"Topic10\", \"Topic10\", \"Topic11\", \"Topic11\", \"Topic11\", \"Topic11\", \"Topic11\", \"Topic11\", \"Topic11\", \"Topic11\", \"Topic11\", \"Topic11\", \"Topic11\", \"Topic11\", \"Topic11\", \"Topic11\", \"Topic11\", \"Topic11\", \"Topic11\", \"Topic11\", \"Topic11\", \"Topic11\", \"Topic11\", \"Topic11\", \"Topic11\", \"Topic11\", \"Topic11\", \"Topic11\", \"Topic11\", \"Topic11\", \"Topic11\", \"Topic11\", \"Topic11\", \"Topic11\", \"Topic11\", \"Topic11\", \"Topic11\", \"Topic11\", \"Topic11\", \"Topic11\", \"Topic11\", \"Topic11\", \"Topic11\", \"Topic11\", \"Topic11\", \"Topic11\", \"Topic11\", \"Topic11\", \"Topic11\", \"Topic11\", \"Topic11\", \"Topic11\", \"Topic11\", \"Topic11\", \"Topic11\", \"Topic11\", \"Topic12\", \"Topic12\", \"Topic12\", \"Topic12\", \"Topic12\", \"Topic12\", \"Topic12\", \"Topic12\", \"Topic12\", \"Topic12\", \"Topic12\", \"Topic12\", \"Topic12\", \"Topic12\", \"Topic12\", \"Topic12\", \"Topic12\", \"Topic12\", \"Topic12\", \"Topic12\", \"Topic12\", \"Topic12\", \"Topic12\", \"Topic12\", \"Topic12\", \"Topic12\", \"Topic12\", \"Topic12\", \"Topic12\", \"Topic12\", \"Topic12\", \"Topic12\", \"Topic12\", \"Topic12\", \"Topic12\", \"Topic12\", \"Topic12\", \"Topic12\", \"Topic12\", \"Topic12\", \"Topic12\", \"Topic12\", \"Topic12\", \"Topic12\", \"Topic12\", \"Topic12\", \"Topic12\", \"Topic12\", \"Topic12\", \"Topic13\", \"Topic13\", \"Topic13\", \"Topic13\", \"Topic13\", \"Topic13\", \"Topic13\", \"Topic13\", \"Topic13\", \"Topic13\", \"Topic13\", \"Topic13\", \"Topic13\", \"Topic13\", \"Topic13\", \"Topic13\", \"Topic13\", \"Topic13\", \"Topic13\", \"Topic13\", \"Topic13\", \"Topic13\", \"Topic13\", \"Topic13\", \"Topic13\", \"Topic13\", \"Topic13\", \"Topic13\", \"Topic13\", \"Topic13\", \"Topic13\", \"Topic13\", \"Topic13\", \"Topic13\", \"Topic13\", \"Topic13\", \"Topic13\", \"Topic13\", \"Topic13\", \"Topic13\", \"Topic13\", \"Topic13\", \"Topic13\", \"Topic13\", \"Topic13\", \"Topic13\", \"Topic14\", \"Topic14\", \"Topic14\", \"Topic14\", \"Topic14\", \"Topic14\", \"Topic14\", \"Topic14\", \"Topic14\", \"Topic14\", \"Topic14\", \"Topic14\", \"Topic14\", \"Topic14\", \"Topic14\", \"Topic14\", \"Topic14\", \"Topic14\", \"Topic14\", \"Topic14\", \"Topic14\", \"Topic14\", \"Topic14\", \"Topic14\", \"Topic14\", \"Topic14\", \"Topic14\", \"Topic14\", \"Topic14\", \"Topic14\", \"Topic14\", \"Topic14\", \"Topic14\", \"Topic14\", \"Topic14\", \"Topic14\", \"Topic14\", \"Topic14\", \"Topic14\", \"Topic14\", \"Topic14\", \"Topic14\", \"Topic14\", \"Topic14\", \"Topic14\", \"Topic15\", \"Topic15\", \"Topic15\", \"Topic15\", \"Topic15\", \"Topic15\", \"Topic15\", \"Topic15\", \"Topic15\", \"Topic15\", \"Topic15\", \"Topic15\", \"Topic15\", \"Topic15\", \"Topic15\", \"Topic15\", \"Topic15\", \"Topic15\", \"Topic15\", \"Topic15\", \"Topic15\", \"Topic15\", \"Topic15\", \"Topic15\", \"Topic15\", \"Topic15\", \"Topic15\", \"Topic15\", \"Topic15\", \"Topic15\", \"Topic15\", \"Topic15\", \"Topic15\", \"Topic15\", \"Topic15\", \"Topic15\", \"Topic15\", \"Topic15\", \"Topic15\", \"Topic15\", \"Topic15\", \"Topic15\", \"Topic15\", \"Topic15\", \"Topic15\", \"Topic16\", \"Topic16\", \"Topic16\", \"Topic16\", \"Topic16\", \"Topic16\", \"Topic16\", \"Topic16\", \"Topic16\", \"Topic16\", \"Topic16\", \"Topic16\", \"Topic16\", \"Topic16\", \"Topic16\", \"Topic16\", \"Topic16\", \"Topic16\", \"Topic16\", \"Topic16\", \"Topic16\", \"Topic16\", \"Topic16\", \"Topic16\", \"Topic16\", \"Topic16\", \"Topic16\", \"Topic16\", \"Topic16\", \"Topic16\", \"Topic16\", \"Topic16\", \"Topic16\", \"Topic16\", \"Topic16\", \"Topic16\", \"Topic16\", \"Topic16\", \"Topic16\", \"Topic16\", \"Topic16\", \"Topic16\", \"Topic16\", \"Topic16\", \"Topic16\", \"Topic16\", \"Topic17\", \"Topic17\", \"Topic17\", \"Topic17\", \"Topic17\", \"Topic17\", \"Topic17\", \"Topic17\", \"Topic17\", \"Topic17\", \"Topic17\", \"Topic17\", \"Topic17\", \"Topic17\", \"Topic17\", \"Topic17\", \"Topic17\", \"Topic17\", \"Topic17\", \"Topic17\", \"Topic17\", \"Topic17\", \"Topic17\", \"Topic17\", \"Topic17\", \"Topic17\", \"Topic17\", \"Topic17\", \"Topic17\", \"Topic17\", \"Topic17\", \"Topic17\", \"Topic17\", \"Topic17\", \"Topic17\", \"Topic17\", \"Topic17\", \"Topic17\", \"Topic17\", \"Topic17\", \"Topic17\", \"Topic17\", \"Topic18\", \"Topic18\", \"Topic18\", \"Topic18\", \"Topic18\", \"Topic18\", \"Topic18\", \"Topic18\", \"Topic18\", \"Topic18\", \"Topic18\", \"Topic18\", \"Topic18\", \"Topic18\", \"Topic18\", \"Topic18\", \"Topic18\", \"Topic18\", \"Topic18\", \"Topic18\", \"Topic18\", \"Topic18\", \"Topic18\", \"Topic18\", \"Topic18\", \"Topic18\", \"Topic18\", \"Topic18\", \"Topic18\", \"Topic18\", \"Topic18\", \"Topic18\", \"Topic18\", \"Topic18\", \"Topic18\", \"Topic18\", \"Topic18\", \"Topic18\", \"Topic18\", \"Topic18\", \"Topic18\", \"Topic18\", \"Topic18\", \"Topic18\", \"Topic18\", \"Topic18\", \"Topic18\", \"Topic19\", \"Topic19\", \"Topic19\", \"Topic19\", \"Topic19\", \"Topic19\", \"Topic19\", \"Topic19\", \"Topic19\", \"Topic19\", \"Topic19\", \"Topic19\", \"Topic19\", \"Topic19\", \"Topic19\", \"Topic19\", \"Topic19\", \"Topic19\", \"Topic19\", \"Topic19\", \"Topic19\", \"Topic19\", \"Topic19\", \"Topic19\", \"Topic19\", \"Topic19\", \"Topic19\", \"Topic19\", \"Topic19\", \"Topic19\", \"Topic19\", \"Topic19\", \"Topic19\", \"Topic19\", \"Topic19\", \"Topic19\", \"Topic19\", \"Topic19\", \"Topic19\", \"Topic19\", \"Topic19\", \"Topic19\", \"Topic19\", \"Topic19\", \"Topic19\", \"Topic19\", \"Topic20\", \"Topic20\", \"Topic20\", \"Topic20\", \"Topic20\", \"Topic20\", \"Topic20\", \"Topic20\", \"Topic20\", \"Topic20\", \"Topic20\", \"Topic20\", \"Topic20\", \"Topic20\", \"Topic20\", \"Topic20\", \"Topic20\", \"Topic20\", \"Topic20\", \"Topic20\", \"Topic20\", \"Topic20\", \"Topic20\", \"Topic20\", \"Topic20\", \"Topic20\", \"Topic20\", \"Topic20\", \"Topic20\", \"Topic20\", \"Topic20\", \"Topic20\", \"Topic20\", \"Topic20\", \"Topic20\", \"Topic20\", \"Topic20\", \"Topic20\", \"Topic20\", \"Topic20\", \"Topic20\", \"Topic20\", \"Topic20\", \"Topic20\", \"Topic20\", \"Topic20\", \"Topic20\", \"Topic20\", \"Topic20\"], \"logprob\": [30.0, 29.0, 28.0, 27.0, 26.0, 25.0, 24.0, 23.0, 22.0, 21.0, 20.0, 19.0, 18.0, 17.0, 16.0, 15.0, 14.0, 13.0, 12.0, 11.0, 10.0, 9.0, 8.0, 7.0, 6.0, 5.0, 4.0, 3.0, 2.0, 1.0, -7.0691, -6.4307, -7.8937, -8.4488, -9.4434, -9.4818, -9.4867, -7.8582, -9.3565, -9.5701, -8.1205, -9.5909, -8.573, -9.7106, -9.0695, -8.5684, -8.6378, -9.8276, -9.8735, -9.8965, -9.9266, -9.9295, -9.9348, -7.4011, -9.8793, -10.0247, -9.825, -10.0394, -9.8251, -10.0361, -7.5711, -7.327, -9.1627, -8.4378, -7.391, -7.347, -7.4547, -7.9408, -7.1759, -8.1793, -7.6765, -7.8704, -9.0646, -7.0976, -5.8046, -8.7399, -8.5362, -8.8776, -7.8617, -7.628, -8.0321, -7.4671, -6.4359, -7.4814, -7.0715, -6.7756, -7.0867, -6.4018, -6.5153, -6.1239, -7.6027, -6.392, -6.9607, -6.8284, -6.4566, -6.425, -5.8925, -6.9241, -6.9947, -6.8523, -6.1166, -5.6965, -5.887, -5.7376, -5.8693, -6.5296, -6.5403, -6.3299, -6.0788, -6.3167, -6.6686, -6.5655, -6.3532, -6.5573, -6.3677, -6.3012, -6.1941, -6.3361, -6.4555, -6.347, -6.2069, -6.3609, -6.373, -6.3884, -6.3662, -6.3752, -6.3503, -6.3745, -6.3792, -6.866, -7.5794, -7.0405, -7.4017, -7.5262, -9.6211, -9.9793, -8.4204, -6.864, -9.0795, -10.3079, -10.2161, -10.4977, -9.7652, -8.4246, -7.359, -7.2604, -10.1135, -9.5712, -6.4031, -9.0581, -10.0479, -7.391, -7.8002, -10.4307, -10.3419, -9.917, -7.5839, -7.7856, -10.5782, -7.5343, -9.0823, -8.8188, -7.1042, -7.7698, -8.0169, -7.5668, -7.4734, -8.0685, -7.1593, -6.5347, -8.4606, -7.5106, -8.1416, -6.1108, -6.0704, -6.0565, -5.9874, -7.3515, -7.1636, -6.157, -7.0152, -6.8635, -5.5819, -5.7273, -6.1496, -5.4819, -6.5526, -6.3007, -6.5581, -5.8272, -6.028, -6.4909, -6.0548, -5.6786, -5.9201, -6.2685, -6.1643, -6.3604, -6.0946, -6.0869, -5.895, -6.0429, -6.214, -6.2, -6.2127, -6.1494, -6.2133, -6.2853, -6.3259, -6.2959, -6.2951, -7.611, -7.4845, -7.426, -7.7495, -9.6227, -7.0741, -9.8504, -8.2943, -9.982, -9.9975, -10.0313, -7.0151, -10.1938, -10.1964, -6.1902, -10.1072, -10.2475, -9.5088, -6.8941, -10.0706, -9.8676, -9.6418, -10.1209, -10.0349, -10.0776, -10.2734, -6.616, -6.7411, -5.9209, -9.9989, -8.3445, -8.3838, -6.9053, -8.2755, -8.7301, -8.3101, -5.248, -8.3697, -7.2548, -8.7925, -5.6255, -7.1356, -7.5989, -7.4199, -7.637, -6.0823, -7.4218, -7.5467, -6.2538, -5.5204, -6.7148, -4.6592, -7.2059, -7.5264, -7.6399, -6.3232, -5.9677, -5.3322, -5.1536, -6.682, -5.6203, -5.9152, -6.3587, -6.1981, -6.1638, -5.9594, -5.7556, -5.7985, -6.0346, -5.8632, -5.8373, -6.0422, -5.9794, -6.2084, -6.0132, -5.8734, -5.9673, -6.0632, -6.1742, -6.1316, -6.2444, -7.6547, -6.8111, -7.3147, -8.3977, -9.6147, -6.8215, -9.8945, -9.935, -8.9616, -9.9718, -8.591, -8.902, -10.2068, -10.0043, -7.5576, -10.271, -10.2725, -9.542, -8.768, -7.7973, -8.9812, -7.0944, -9.6287, -8.9892, -8.83, -9.0338, -9.0481, -8.8263, -8.7108, -9.6139, -6.6135, -7.7497, -6.7686, -6.8618, -8.1878, -8.1731, -6.8854, -8.692, -7.4157, -6.9978, -6.9329, -7.4485, -6.2387, -7.2461, -4.9009, -7.8339, -7.3812, -5.7243, -7.4379, -7.846, -7.37, -7.3043, -7.1099, -6.3501, -7.4192, -6.8554, -5.5794, -5.8852, -6.4435, -5.751, -6.9669, -6.9589, -6.5577, -6.4453, -5.8488, -5.7824, -5.7371, -6.2257, -5.9751, -6.7719, -6.0218, -6.4723, -6.1787, -6.0238, -6.2682, -6.1619, -6.0794, -6.2456, -6.3401, -6.2013, -6.1972, -6.1521, -6.2511, -6.2506, -6.3883, -6.338, -6.3339, -6.3067, -6.3085, -6.3603, -5.9686, -9.2316, -9.7292, -8.383, -9.1546, -5.5908, -8.1601, -9.4074, -9.9997, -6.1111, -9.1046, -10.0595, -8.148, -9.1223, -9.6927, -9.9615, -9.8852, -9.451, -7.5811, -9.9052, -9.8396, -8.1112, -10.1355, -7.4678, -8.5885, -9.6898, -10.1549, -8.8943, -9.0933, -10.0039, -8.0922, -6.8597, -7.4405, -5.6219, -7.3664, -6.6335, -7.7397, -5.3297, -7.49, -7.3929, -7.5789, -7.1553, -7.1834, -6.6157, -7.4606, -6.7421, -6.8071, -7.6353, -8.1518, -8.2759, -5.9273, -6.0103, -7.2138, -6.0881, -6.7169, -5.773, -5.8048, -6.1041, -6.8348, -5.8911, -6.1769, -5.7499, -5.6695, -5.6779, -5.7766, -6.0854, -5.9708, -5.961, -6.1703, -6.1246, -6.0861, -5.9934, -6.51, -6.188, -6.3495, -6.2313, -6.1612, -6.2526, -6.2455, -6.2399, -6.8698, -6.0849, -7.1762, -6.8118, -6.989, -5.6083, -6.9088, -9.0795, -6.7748, -8.9952, -7.1816, -7.9327, -8.7972, -7.0172, -6.2148, -8.3081, -8.9165, -7.9835, -6.6259, -9.0041, -8.804, -5.8415, -5.9787, -7.9878, -6.9898, -9.214, -8.5378, -4.8024, -7.1755, -9.3749, -7.6657, -6.6045, -6.6221, -7.129, -6.3264, -5.2313, -6.9015, -5.5701, -6.7167, -7.2227, -6.5249, -5.6064, -7.1249, -7.0246, -5.7116, -5.5943, -5.0494, -6.1941, -5.9325, -6.1085, -5.9397, -5.5828, -6.0765, -5.8874, -6.1033, -6.0014, -6.3173, -6.0473, -5.9267, -6.1187, -5.8985, -5.7895, -6.0449, -5.8942, -6.097, -6.0371, -5.9562, -6.0611, -6.0626, -6.0937, -4.0265, -5.7185, -7.0384, -5.8929, -7.4966, -4.6246, -5.9372, -7.8629, -5.0081, -8.2093, -5.3283, -3.6879, -6.508, -5.3218, -8.0684, -4.8183, -5.1321, -4.699, -5.6351, -5.1024, -5.2922, -5.3629, -4.7748, -6.5509, -4.3555, -5.8237, -5.8525, -7.0057, -6.201, -5.3002, -4.786, -5.6138, -5.6388, -5.887, -5.4988, -5.7836, -6.1124, -6.1556, -6.0605, -5.4805, -5.5295, -5.4379, -5.7538, -7.5176, -7.1227, -5.8059, -6.7696, -8.0842, -8.2061, -8.2115, -7.77, -8.3054, -7.6038, -8.4139, -3.9464, -7.7765, -5.9007, -8.2927, -6.3113, -3.645, -7.6893, -4.3388, -6.0905, -3.4827, -6.0649, -6.8803, -5.9003, -7.0624, -8.0784, -4.5956, -5.2612, -8.3256, -6.6253, -5.0804, -3.2222, -5.8068, -4.4411, -4.5161, -6.3383, -6.517, -6.4947, -5.0505, -4.4408, -4.9411, -7.18, -5.3999, -6.2014, -5.7815, -5.3253, -6.5712, -6.175, -6.0707, -5.9508, -6.0609, -6.1046, -6.0978, -6.1461, -6.1854, -3.7469, -3.5849, -5.0876, -7.4037, -4.8681, -5.4361, -5.6657, -7.1889, -4.559, -4.9046, -6.9761, -5.5873, -6.4519, -5.1242, -5.0936, -3.8934, -5.6436, -4.6022, -6.3545, -6.6833, -7.5176, -4.9695, -7.0136, -5.7445, -4.9314, -7.8317, -7.7484, -7.2221, -8.0491, -6.4909, -7.0538, -5.3425, -5.1611, -6.086, -5.5533, -5.3154, -5.9725, -6.1623, -6.4499, -6.1457, -5.6443, -5.2641, -5.675, -6.1808, -6.1513, -5.7948, -5.859, -5.8971, -5.9636, -5.9999, -5.1856, -3.8234, -5.4788, -5.1272, -7.6677, -5.6896, -4.3115, -3.9325, -4.4241, -4.2023, -4.8914, -5.0208, -4.4907, -6.3953, -3.6393, -8.0851, -7.5301, -5.1922, -7.0779, -6.2707, -7.066, -7.0765, -6.4845, -7.0627, -6.1261, -4.6627, -7.3708, -6.0414, -7.6535, -5.9488, -5.5634, -6.9382, -4.4395, -5.0984, -5.7923, -5.5542, -5.2871, -6.4817, -5.424, -5.7812, -5.9102, -5.5991, -5.4591, -5.9123, -5.9383, -5.8783, -5.8651, -5.8886, -4.5658, -4.3582, -6.3642, -4.059, -6.0512, -4.0632, -6.7461, -5.1811, -7.6702, -3.4674, -4.5147, -3.8958, -7.283, -6.7251, -7.8708, -6.4477, -7.7882, -5.1386, -7.9227, -6.6541, -7.2623, -6.8877, -5.1616, -8.0134, -4.0269, -7.8762, -8.1144, -8.2184, -6.1366, -6.9321, -4.6976, -3.3947, -4.7796, -5.8029, -5.977, -5.0499, -6.4295, -5.385, -5.8428, -6.2284, -4.4918, -5.3059, -5.7106, -5.4311, -5.1872, -5.9649, -5.6995, -5.3249, -5.8871, -5.7124, -5.7341, -5.7714, -5.8043, -5.7826, -4.0608, -4.3481, -4.3337, -4.7021, -4.7162, -4.0765, -4.4785, -7.4919, -4.0693, -4.5032, -5.0233, -6.0601, -6.2917, -3.7352, -5.0019, -4.7157, -5.4515, -5.9721, -6.5455, -5.9838, -5.8371, -6.5787, -7.5966, -6.5249, -7.5105, -7.5676, -7.1057, -5.4534, -7.5497, -7.4845, -5.3081, -4.5695, -5.6761, -6.2625, -6.5737, -6.1144, -6.4589, -5.9374, -4.8133, -5.9749, -5.9285, -5.983, -5.5275, -5.5065, -5.521, -5.6826, -5.833, -5.9121, -5.9418, -3.7703, -3.8624, -4.3978, -4.6257, -4.7438, -3.5005, -4.3809, -3.0905, -3.8324, -4.6811, -4.0414, -5.7321, -5.7521, -4.1269, -3.4735, -5.9188, -5.5887, -6.0608, -4.8163, -4.6036, -4.1441, -6.3758, -5.7698, -6.4908, -5.2522, -6.5442, -5.309, -6.156, -2.9378, -5.285, -3.4289, -3.583, -3.8413, -4.3614, -3.9534, -4.3275, -3.5104, -4.1734, -4.9762, -4.9169, -4.6369, -5.1648, -4.0725, -4.5123, -4.6197, -4.6365, -3.7045, -4.7743, -5.3623, -7.2297, -3.8921, -3.5988, -4.3962, -5.5143, -6.8328, -5.2177, -5.8981, -5.9964, -6.3222, -6.1472, -4.9409, -4.5068, -5.2335, -4.5463, -3.321, -6.3811, -6.788, -4.1122, -7.3464, -6.8199, -5.8025, -6.5593, -7.1839, -7.993, -6.1578, -7.8068, -4.773, -5.1339, -4.5846, -5.981, -4.9816, -4.7604, -5.258, -5.4686, -5.0459, -5.7678, -5.497, -5.8622, -5.3298, -5.8804, -5.8979, -5.02, -4.1662, -4.3849, -4.102, -7.6734, -7.6066, -3.6549, -3.8056, -5.5392, -4.3831, -6.249, -4.5481, -4.752, -4.4569, -3.8277, -5.7194, -2.9448, -5.2919, -6.2382, -5.4774, -4.8723, -6.6641, -5.3037, -7.9208, -7.0513, -7.264, -6.8291, -7.6303, -7.6895, -5.884, -5.9817, -5.9245, -4.1944, -6.5251, -5.3042, -5.5222, -5.4106, -4.3336, -5.6847, -6.1671, -5.5529, -5.8233, -5.7841, -5.8468, -5.837, -4.1249, -3.3209, -4.7244, -3.5556, -3.7991, -3.4719, -4.9991, -4.1414, -4.4643, -5.8154, -6.8039, -3.8756, -5.8484, -6.2118, -5.9795, -5.0889, -6.3629, -4.7091, -5.3593, -5.0163, -7.563, -7.5072, -5.429, -7.292, -5.4963, -4.3122, -6.1572, -7.0814, -6.5833, -5.2734, -4.3329, -6.2928, -4.9295, -5.5805, -5.1485, -5.1024, -4.9943, -5.0905, -5.6777, -5.0031, -5.5608, -5.4492, -5.1344, -5.4778, -5.3016, -5.4588, -3.6752, -6.5656, -3.3963, -4.8185, -5.0966, -4.9112, -3.6537, -3.174, -5.2092, -3.7492, -4.7981, -3.8969, -4.6192, -4.4779, -3.837, -4.9154, -6.9136, -5.32, -6.4669, -7.4027, -7.7143, -5.7749, -5.7395, -6.4477, -5.878, -7.2977, -5.4471, -5.8926, -5.0304, -6.4325, -4.9652, -5.4601, -5.7482, -5.7398, -4.8487, -4.1093, -5.8731, -5.3967, -5.3966, -5.7139, -5.7339, -5.5738, -3.5283, -3.8277, -6.9921, -5.9411, -3.7647, -4.9833, -2.4356, -5.6428, -3.8618, -3.8313, -5.7835, -5.1311, -4.6546, -3.4672, -6.3524, -5.5737, -6.1661, -6.9452, -3.8092, -4.1606, -5.458, -7.2186, -6.9863, -7.1732, -7.4038, -5.9711, -6.6656, -7.6908, -6.9906, -5.9993, -5.184, -6.3749, -4.8297, -5.6465, -5.2338, -5.9092, -4.3664, -4.611, -5.2708, -4.5356, -5.2266, -5.338, -5.1713, -5.4033, -5.2419, -5.4804, -5.604, -2.6213, -5.0349, -3.0764, -2.7306, -1.8215, -3.3886, -4.9841, -5.2841, -4.0928, -4.7989, -5.3175, -3.6392, -5.0382, -4.3225, -6.1481, -4.6792, -6.9132, -7.0646, -4.7162, -6.624, -7.0656, -6.4839, -3.9548, -3.9306, -7.6204, -5.5939, -6.659, -6.0567, -7.623, -7.362, -4.7562, -5.2821, -6.5628, -4.6971, -5.9162, -6.2769, -5.5956, -5.9763, -4.9934, -5.5867, -5.6599, -5.4377, -5.3447, -5.4593, -5.7239, -5.611, -3.932, -4.3468, -3.0551, -4.26, -2.4812, -5.2869, -5.2823, -4.1991, -5.6468, -5.3782, -5.8782, -4.4443, -6.6679, -6.6402, -5.6662, -5.2215, -6.3857, -5.5484, -6.3219, -3.346, -5.8016, -6.1493, -6.5201, -7.0228, -7.3169, -4.7445, -6.1398, -7.2608, -7.2747, -7.4092, -6.806, -4.9983, -5.5695, -6.3868, -4.9141, -4.7237, -5.1896, -4.8876, -4.9162, -5.1579, -4.7237, -5.2167, -4.8776, -5.5157, -5.4947, -5.4369, -5.4157, -5.4458, -5.4968], \"loglift\": [30.0, 29.0, 28.0, 27.0, 26.0, 25.0, 24.0, 23.0, 22.0, 21.0, 20.0, 19.0, 18.0, 17.0, 16.0, 15.0, 14.0, 13.0, 12.0, 11.0, 10.0, 9.0, 8.0, 7.0, 6.0, 5.0, 4.0, 3.0, 2.0, 1.0, 1.5789, 1.5788, 1.5743, 1.5733, 1.5691, 1.5687, 1.5685, 1.5683, 1.5681, 1.5676, 1.5674, 1.5674, 1.566, 1.5657, 1.5655, 1.5645, 1.5644, 1.5641, 1.5633, 1.5629, 1.5624, 1.5623, 1.5622, 1.5622, 1.5607, 1.5606, 1.5604, 1.5604, 1.5604, 1.5603, 1.5428, 1.5383, 1.5562, 1.5475, 1.535, 1.533, 1.535, 1.5392, 1.5236, 1.5313, 1.5131, 1.5143, 1.5458, 1.4828, 1.4229, 1.5355, 1.5226, 1.5394, 1.48, 1.4636, 1.4863, 1.4499, 1.3705, 1.4127, 1.3475, 1.2882, 1.3274, 1.2099, 1.2179, 1.1054, 1.4015, 1.1377, 1.2436, 1.1943, 1.0595, 1.039, 0.8324, 1.1791, 1.2034, 1.142, 0.82, 0.5692, 0.5983, 0.4777, 0.5319, 0.9302, 0.9328, 0.779, 0.5971, 0.7545, 1.0038, 0.9131, 0.6802, 0.8471, 0.6523, 0.5373, 0.3582, 0.4871, 0.6547, 0.4629, 0.1794, 0.452, 0.4733, 0.4368, 0.2965, 0.2528, 0.1165, 0.1756, 0.2056, 1.7315, 1.731, 1.7282, 1.7238, 1.7175, 1.7141, 1.7113, 1.7087, 1.7066, 1.706, 1.7032, 1.6973, 1.6968, 1.6956, 1.6953, 1.6922, 1.691, 1.6839, 1.6829, 1.6822, 1.6725, 1.6692, 1.6586, 1.6552, 1.6542, 1.6534, 1.6531, 1.6521, 1.6508, 1.6482, 1.6304, 1.6439, 1.631, 1.5801, 1.591, 1.5972, 1.5595, 1.5539, 1.581, 1.4875, 1.4264, 1.5898, 1.4809, 1.5409, 1.2617, 1.2139, 1.1804, 1.1567, 1.4001, 1.3574, 1.1009, 1.3162, 1.2654, 0.7823, 0.7824, 0.9107, 0.5784, 1.0579, 0.9221, 1.0534, 0.6736, 0.7791, 1.0132, 0.739, 0.5037, 0.6273, 0.7792, 0.6971, 0.8513, 0.5987, 0.5815, 0.3593, 0.4903, 0.6234, 0.6039, 0.619, 0.439, 0.4084, 0.537, 0.4285, 0.2311, 0.0463, 1.951, 1.9505, 1.938, 1.9378, 1.9353, 1.9332, 1.9294, 1.9282, 1.9281, 1.9273, 1.927, 1.9259, 1.9216, 1.919, 1.917, 1.9166, 1.915, 1.9124, 1.906, 1.9008, 1.8958, 1.8956, 1.8938, 1.8936, 1.8932, 1.8921, 1.8888, 1.8883, 1.8841, 1.8815, 1.8751, 1.874, 1.8543, 1.8674, 1.8741, 1.8644, 1.7834, 1.8653, 1.8259, 1.8637, 1.7226, 1.7825, 1.8028, 1.7759, 1.783, 1.671, 1.7663, 1.7621, 1.6455, 1.5674, 1.6779, 1.4011, 1.7118, 1.746, 1.7641, 1.5086, 1.4306, 1.2894, 1.1121, 1.5285, 1.1074, 1.124, 1.2515, 1.0995, 0.9966, 0.7965, 0.5858, 0.5878, 0.7726, 0.6035, 0.5268, 0.7341, 0.6089, 0.9114, 0.5911, 0.3419, 0.2938, 0.4179, 0.6619, 0.431, -0.0621, 1.9635, 1.9571, 1.9566, 1.9564, 1.956, 1.9515, 1.9501, 1.9489, 1.9483, 1.947, 1.9455, 1.942, 1.9409, 1.9409, 1.9392, 1.9387, 1.9387, 1.9384, 1.9379, 1.9376, 1.9371, 1.9357, 1.9342, 1.9274, 1.9271, 1.927, 1.9269, 1.9255, 1.9202, 1.9193, 1.8919, 1.8907, 1.8626, 1.8554, 1.8895, 1.8781, 1.8231, 1.8982, 1.8442, 1.8181, 1.781, 1.8151, 1.7228, 1.7979, 1.6027, 1.8383, 1.7723, 1.5264, 1.7524, 1.805, 1.7379, 1.7187, 1.6665, 1.4921, 1.6865, 1.525, 1.1202, 1.1512, 1.3175, 0.9177, 1.5091, 1.501, 1.244, 1.1526, 0.7012, 0.6188, 0.524, 0.9005, 0.7009, 1.2861, 0.4593, 0.9078, 0.5146, 0.2304, 0.5551, 0.3389, 0.1359, 0.4235, 0.5626, 0.2654, 0.189, 0.0302, 0.2821, 0.2348, 0.6317, 0.4472, 0.4192, 0.2204, 0.2012, 0.4087, 2.1083, 2.1075, 2.0989, 2.096, 2.0915, 2.085, 2.0766, 2.0762, 2.0746, 2.0742, 2.0708, 2.0698, 2.0603, 2.0507, 2.0428, 2.0392, 2.0382, 2.0365, 2.0361, 2.0314, 2.0296, 2.0265, 2.0249, 2.0243, 2.0145, 2.0145, 2.0116, 2.0089, 2.0088, 2.0029, 1.9875, 1.9579, 1.9626, 1.9032, 1.9237, 1.8805, 1.9375, 1.7734, 1.9007, 1.8832, 1.8945, 1.8285, 1.7868, 1.7087, 1.7962, 1.671, 1.6579, 1.7988, 1.8632, 1.8854, 1.2917, 1.264, 1.6011, 1.2185, 1.4336, 1.0376, 0.9575, 1.0496, 1.3952, 0.854, 1.012, 0.7188, 0.5847, 0.5044, 0.5648, 0.8007, 0.6679, 0.6237, 0.7733, 0.7182, 0.6683, 0.5691, 1.0724, 0.481, 0.7703, 0.524, 0.3659, 0.5607, 0.2356, 0.145, 2.8806, 2.8796, 2.8663, 2.8544, 2.8535, 2.8233, 2.8218, 2.8199, 2.8195, 2.8168, 2.8158, 2.8076, 2.8044, 2.7993, 2.7958, 2.7957, 2.7905, 2.7876, 2.787, 2.7833, 2.7774, 2.7713, 2.7687, 2.7673, 2.7661, 2.7622, 2.7615, 2.7546, 2.746, 2.7453, 2.7443, 2.7322, 2.71, 2.725, 2.679, 2.6155, 2.7015, 2.5955, 2.6644, 2.6676, 2.5789, 2.4382, 2.6378, 2.6119, 2.3016, 2.0004, 1.7449, 2.2519, 2.0731, 2.123, 1.7503, 1.3608, 1.818, 1.5249, 1.7761, 1.5965, 2.0177, 1.5564, 1.193, 1.5031, 0.8705, 0.552, 1.1587, 0.4921, 1.1493, 0.849, 0.3048, 0.6931, 0.4185, 0.2913, 3.7558, 3.7538, 3.7526, 3.7482, 3.7474, 3.7473, 3.7418, 3.7417, 3.7352, 3.7337, 3.7331, 3.7257, 3.7137, 3.708, 3.7071, 3.7047, 3.7031, 3.7029, 3.7025, 3.7013, 3.6946, 3.6866, 3.6864, 3.6831, 3.6659, 3.6468, 3.6215, 3.6067, 3.5914, 3.5909, 3.4917, 3.5254, 3.4966, 3.483, 3.3997, 3.3857, 3.4796, 3.3941, 3.1805, 1.3512, 1.2776, 0.7444, 0.6311, 3.7788, 3.7781, 3.7777, 3.7696, 3.7674, 3.7648, 3.7644, 3.7618, 3.761, 3.7602, 3.7582, 3.7573, 3.7398, 3.7361, 3.7288, 3.7231, 3.7166, 3.7086, 3.6986, 3.6944, 3.6873, 3.6844, 3.667, 3.6658, 3.6631, 3.6612, 3.6213, 3.6198, 3.6171, 3.6164, 3.6007, 3.5532, 3.5966, 3.494, 3.4962, 3.595, 3.5986, 3.5522, 3.2251, 3.1079, 3.0045, 3.5919, 2.4834, 2.9493, 2.6675, 1.4962, 3.0248, 1.5185, 1.0735, 0.4133, 0.4398, 0.4996, 0.3876, 0.3636, 0.4534, 4.1097, 4.1068, 4.1025, 4.0985, 4.0696, 4.0664, 4.0645, 4.0548, 4.0476, 4.0404, 4.0355, 4.0334, 4.0238, 4.0159, 4.0088, 4.008, 3.9929, 3.9882, 3.9839, 3.9508, 3.9199, 3.9161, 3.9121, 3.9006, 3.8704, 3.8611, 3.831, 3.8305, 3.8165, 3.8157, 3.809, 3.7104, 3.6884, 3.7259, 3.62, 3.5748, 3.5405, 3.5555, 3.622, 3.3819, 2.8116, 2.3464, 2.7946, 3.2338, 2.9471, 0.7384, 0.5051, 0.4878, 0.2517, 0.4012, 4.1457, 4.1423, 4.142, 4.1382, 4.1378, 4.1311, 4.1299, 4.118, 4.1107, 4.0952, 4.0803, 4.0237, 4.0003, 3.9898, 3.9871, 3.982, 3.9596, 3.9476, 3.9356, 3.9348, 3.9344, 3.9264, 3.8875, 3.8805, 3.8747, 3.841, 3.8365, 3.8313, 3.8268, 3.8242, 3.8057, 3.8031, 3.5723, 3.5798, 3.5656, 3.4111, 3.1689, 3.6279, 2.974, 3.0722, 2.9005, 2.4097, 1.1688, 2.32, 1.8424, 0.7064, 0.3502, 0.8738, 4.39, 4.3868, 4.3582, 4.3279, 4.3262, 4.3053, 4.2885, 4.2837, 4.28, 4.276, 4.2614, 4.2579, 4.2335, 4.2105, 4.207, 4.1972, 4.1803, 4.1585, 4.1486, 4.1453, 4.1254, 4.1248, 4.0488, 4.046, 4.028, 4.0256, 4.0174, 4.0009, 3.9867, 3.9842, 3.9811, 3.957, 3.9381, 3.9404, 3.943, 3.8474, 3.8888, 3.507, 3.5228, 3.6501, 2.759, 3.0756, 3.284, 3.0545, 2.3081, 3.0089, 2.0858, 0.9407, 2.3429, 1.5851, 0.4482, 0.8169, 1.009, 0.4717, 4.395, 4.3899, 4.3828, 4.3783, 4.3782, 4.3775, 4.376, 4.3682, 4.3631, 4.3566, 4.3429, 4.3143, 4.3024, 4.2915, 4.2858, 4.2778, 4.2773, 4.2771, 4.2261, 4.1805, 4.1657, 4.162, 4.1547, 4.1515, 4.1438, 4.125, 4.099, 4.0668, 4.0184, 3.9833, 3.9716, 3.9111, 3.9552, 3.9501, 3.9164, 3.7862, 3.8215, 3.3513, 1.6903, 3.0783, 2.9052, 3.0087, 1.5317, 1.0436, 0.9601, 0.7841, 0.4281, 0.4728, 0.5679, 4.4223, 4.4222, 4.4217, 4.4213, 4.4212, 4.4207, 4.4205, 4.4205, 4.42, 4.4198, 4.4193, 4.4184, 4.4183, 4.4181, 4.418, 4.4175, 4.4174, 4.4166, 4.4157, 4.4151, 4.4149, 4.4143, 4.4136, 4.4132, 4.4131, 4.4127, 4.4099, 4.4094, 4.4076, 4.4056, 4.4005, 4.3963, 4.3987, 4.396, 4.3677, 4.3774, 4.3499, 4.3631, 4.373, 4.3463, 4.2857, 4.3648, 2.7751, 3.2132, 3.3269, 2.9546, 4.4787, 4.4751, 4.4616, 4.4465, 4.4387, 4.4266, 4.4137, 4.3974, 4.3851, 4.3837, 4.3575, 4.3567, 4.3559, 4.3472, 4.3156, 4.3021, 4.2646, 4.264, 4.2489, 4.2275, 4.1714, 4.1458, 4.1131, 4.0528, 4.033, 4.031, 3.9978, 3.9772, 3.9564, 3.9553, 3.8171, 3.7772, 3.5662, 3.7632, 3.2507, 3.1167, 3.2679, 3.3963, 2.7074, 3.2983, 2.6152, 2.9874, 0.8525, 0.3739, 0.9641, 4.5065, 4.5036, 4.4985, 4.498, 4.486, 4.4859, 4.4753, 4.4561, 4.4558, 4.4552, 4.4457, 4.4384, 4.433, 4.3952, 4.379, 4.3634, 4.3372, 4.3333, 4.2798, 4.2772, 4.2772, 4.2579, 4.2208, 4.1724, 4.1377, 4.0904, 4.058, 4.0545, 4.0496, 4.0171, 3.9984, 3.9419, 3.7512, 3.9509, 3.6616, 3.6456, 3.2514, 2.2707, 2.6476, 3.1065, 0.7013, 1.5284, 1.0011, 0.7416, 0.3454, 4.9986, 4.9862, 4.9773, 4.9707, 4.9529, 4.9363, 4.9307, 4.9218, 4.9018, 4.8496, 4.8412, 4.8355, 4.788, 4.7841, 4.7757, 4.7137, 4.655, 4.6453, 4.5703, 4.5505, 4.5431, 4.5069, 4.4288, 4.3544, 4.3419, 4.3049, 4.2984, 4.2791, 4.2721, 4.2356, 4.1606, 4.2164, 3.9607, 4.0215, 3.5877, 3.561, 3.0272, 3.0855, 3.6545, 2.5951, 3.3125, 2.7952, 1.1267, 2.895, 0.8808, 1.5776, 5.0249, 5.0076, 4.9918, 4.9792, 4.9678, 4.9498, 4.9324, 4.9248, 4.9145, 4.9128, 4.904, 4.8699, 4.8506, 4.8426, 4.7948, 4.7171, 4.5694, 4.4888, 4.4599, 4.4009, 4.3957, 4.3683, 4.3054, 4.3037, 4.2484, 4.2402, 4.1811, 4.1771, 4.1527, 4.1442, 4.0674, 4.0851, 3.9451, 3.9018, 3.4631, 2.3594, 3.8181, 2.5532, 2.3083, 3.1846, 2.9712, 1.0479, 5.2027, 5.1915, 5.1665, 5.157, 5.1549, 5.0864, 5.0442, 5.0202, 5.0116, 4.9794, 4.9669, 4.9363, 4.8836, 4.8652, 4.8272, 4.8244, 4.7772, 4.7635, 4.7541, 4.7529, 4.6615, 4.6371, 4.5373, 4.4489, 4.4164, 4.3905, 4.3874, 4.3457, 4.3299, 4.3279, 4.2091, 4.2691, 3.9491, 4.0511, 3.7509, 3.9961, 3.0319, 3.1459, 3.4419, 2.4283, 3.1653, 2.9738, 1.8702, 2.1377, 1.1223, 2.1414, 2.604, 5.5076, 5.4963, 5.4858, 5.4674, 5.4628, 5.4357, 5.3841, 5.3632, 5.3518, 5.3419, 5.3212, 5.3003, 5.2304, 5.1992, 5.1526, 5.1176, 5.0215, 5.011, 4.9813, 4.9757, 4.9601, 4.8664, 4.856, 4.8514, 4.5613, 4.5458, 4.5169, 4.4426, 4.4114, 4.3949, 4.3161, 4.2517, 4.3366, 3.533, 3.9619, 4.1788, 3.4037, 3.4932, 1.8687, 2.6302, 2.6017, 1.9087, 1.0565, 1.4101, 2.7517, 1.9924, 5.9932, 5.9172, 5.8968, 5.8711, 5.8314, 5.8027, 5.7968, 5.6789, 5.631, 5.6164, 5.5193, 5.5027, 5.48, 5.4257, 5.3256, 5.2551, 5.2354, 5.1807, 5.0669, 5.0241, 5.0058, 5.001, 4.9438, 4.8857, 4.8628, 4.8398, 4.7533, 4.7087, 4.7044, 4.668, 4.5893, 4.2115, 4.0414, 4.3658, 3.5585, 3.1231, 3.4702, 2.7106, 2.6537, 3.0378, 2.2963, 2.9685, 1.3881, 2.3969, 2.1777, 1.3574, 0.9706, 1.4236, 0.9043]}, \"token.table\": {\"Topic\": [2, 3, 4, 11, 5, 18, 1, 2, 3, 4, 5, 6, 7, 10, 1, 2, 3, 5, 1, 2, 3, 1, 2, 3, 4, 5, 6, 7, 8, 9, 10, 11, 12, 14, 15, 16, 17, 18, 20, 1, 2, 3, 4, 5, 6, 7, 8, 9, 10, 15, 16, 18, 1, 2, 6, 1, 2, 3, 4, 5, 6, 7, 8, 9, 10, 11, 12, 13, 14, 15, 16, 17, 18, 19, 20, 1, 2, 3, 6, 1, 2, 3, 5, 6, 7, 8, 9, 14, 17, 1, 2, 3, 5, 6, 9, 10, 13, 1, 2, 3, 5, 6, 8, 9, 12, 9, 1, 2, 4, 5, 6, 13, 1, 2, 3, 4, 5, 6, 8, 11, 14, 15, 16, 1, 2, 3, 4, 5, 6, 7, 8, 1, 2, 3, 4, 5, 6, 7, 2, 3, 4, 6, 11, 5, 13, 1, 2, 3, 4, 6, 7, 15, 16, 2, 3, 4, 5, 13, 1, 2, 3, 5, 7, 8, 15, 16, 17, 1, 2, 3, 4, 5, 9, 10, 1, 2, 3, 4, 5, 6, 7, 8, 9, 10, 12, 14, 15, 16, 17, 20, 2, 5, 6, 2, 5, 7, 10, 17, 1, 3, 8, 12, 20, 1, 2, 3, 4, 5, 6, 9, 10, 14, 19, 1, 2, 3, 5, 7, 9, 11, 1, 2, 3, 4, 5, 6, 7, 9, 11, 12, 14, 15, 17, 20, 2, 3, 5, 8, 12, 15, 17, 1, 2, 3, 5, 2, 3, 5, 17, 1, 2, 5, 8, 15, 1, 2, 3, 6, 14, 1, 2, 4, 5, 6, 9, 10, 12, 4, 5, 1, 2, 4, 5, 6, 9, 10, 12, 13, 2, 14, 1, 2, 4, 7, 8, 10, 15, 4, 8, 10, 15, 1, 5, 7, 11, 1, 2, 3, 4, 5, 6, 7, 8, 9, 10, 12, 14, 15, 17, 18, 19, 1, 2, 3, 4, 12, 16, 1, 3, 18, 1, 2, 3, 4, 5, 6, 7, 8, 9, 10, 11, 12, 14, 15, 16, 17, 18, 19, 20, 1, 2, 3, 4, 5, 6, 7, 8, 9, 10, 11, 12, 14, 15, 16, 17, 18, 19, 20, 1, 2, 3, 4, 5, 6, 7, 9, 12, 18, 1, 4, 3, 6, 9, 1, 2, 6, 9, 11, 12, 14, 3, 4, 5, 14, 2, 3, 4, 5, 6, 7, 8, 10, 12, 14, 19, 1, 2, 3, 5, 7, 8, 9, 12, 1, 3, 6, 2, 5, 6, 7, 8, 13, 20, 1, 2, 3, 4, 6, 9, 14, 1, 2, 3, 4, 7, 13, 3, 4, 9, 1, 2, 3, 4, 5, 6, 7, 8, 16, 17, 1, 2, 3, 4, 5, 6, 7, 8, 9, 10, 11, 12, 14, 15, 16, 17, 18, 19, 1, 2, 3, 5, 11, 15, 1, 2, 3, 4, 5, 6, 7, 8, 9, 10, 11, 12, 14, 15, 16, 17, 19, 3, 1, 2, 3, 4, 5, 14, 1, 2, 5, 6, 11, 12, 19, 1, 2, 5, 9, 11, 14, 15, 1, 2, 3, 4, 8, 1, 2, 3, 9, 1, 2, 3, 5, 12, 3, 4, 1, 6, 7, 8, 11, 15, 17, 2, 4, 13, 15, 1, 2, 3, 5, 6, 7, 10, 11, 13, 15, 16, 2, 3, 14, 1, 2, 2, 3, 4, 5, 12, 2, 5, 6, 12, 2, 7, 15, 19, 1, 2, 3, 4, 5, 10, 11, 12, 2, 13, 15, 1, 2, 3, 4, 5, 6, 7, 8, 9, 10, 15, 16, 1, 2, 3, 4, 5, 6, 8, 9, 10, 11, 14, 15, 1, 2, 3, 4, 5, 6, 7, 8, 9, 10, 11, 12, 14, 15, 16, 17, 18, 19, 20, 2, 3, 1, 2, 3, 4, 5, 6, 7, 9, 10, 14, 1, 2, 3, 6, 9, 1, 2, 3, 4, 5, 6, 7, 8, 9, 10, 11, 12, 14, 15, 16, 17, 18, 19, 1, 2, 19, 1, 2, 3, 4, 5, 6, 7, 15, 18, 1, 2, 4, 5, 20, 1, 2, 3, 4, 5, 6, 7, 8, 9, 10, 11, 12, 14, 16, 19, 20, 1, 2, 3, 4, 5, 6, 7, 9, 10, 11, 13, 14, 15, 16, 18, 1, 2, 3, 4, 5, 6, 7, 8, 9, 17, 1, 2, 3, 4, 5, 6, 7, 8, 9, 10, 11, 12, 14, 15, 16, 17, 18, 19, 20, 1, 2, 3, 4, 5, 6, 8, 9, 13, 19, 20, 1, 2, 3, 4, 5, 6, 7, 8, 9, 10, 11, 12, 14, 15, 16, 17, 18, 19, 1, 2, 3, 4, 5, 6, 7, 8, 9, 10, 11, 12, 14, 15, 16, 20, 1, 3, 4, 6, 10, 17, 18, 1, 2, 3, 4, 5, 6, 7, 8, 9, 10, 11, 12, 13, 14, 15, 16, 17, 18, 19, 4, 12, 1, 2, 3, 4, 5, 6, 7, 8, 9, 10, 11, 14, 17, 18, 20, 1, 3, 4, 5, 8, 10, 20, 1, 2, 3, 9, 12, 14, 15, 2, 3, 5, 9, 19, 1, 3, 7, 8, 9, 17, 1, 2, 3, 4, 5, 6, 8, 16, 18, 2, 3, 5, 6, 9, 1, 2, 3, 4, 5, 6, 12, 17, 12, 2, 3, 4, 5, 7, 9, 1, 2, 4, 6, 19, 4, 5, 9, 12, 14, 3, 6, 1, 2, 3, 5, 6, 7, 20, 1, 2, 3, 6, 1, 2, 3, 6, 16, 1, 2, 3, 4, 5, 6, 7, 9, 10, 12, 13, 14, 16, 1, 2, 4, 8, 11, 13, 14, 1, 2, 3, 4, 5, 6, 7, 8, 9, 10, 11, 12, 14, 15, 17, 18, 19, 20, 1, 2, 3, 4, 7, 9, 15, 1, 2, 3, 4, 5, 6, 7, 8, 9, 12, 1, 2, 3, 4, 5, 6, 7, 9, 11, 12, 14, 15, 17, 19, 20, 1, 2, 3, 6, 10, 3, 6, 2, 3, 4, 7, 2, 4, 7, 1, 2, 3, 5, 6, 8, 12, 14, 2, 4, 5, 12, 16, 14, 1, 2, 3, 4, 5, 7, 9, 11, 13, 19, 2, 4, 8, 1, 2, 13, 2, 3, 7, 18, 19, 1, 2, 3, 4, 5, 7, 9, 10, 12, 16, 20, 1, 2, 4, 5, 9, 2, 3, 19, 2, 10, 13, 16, 13, 2, 3, 4, 6, 7, 17, 1, 2, 3, 4, 5, 6, 7, 8, 9, 10, 11, 12, 14, 15, 16, 17, 18, 19, 3, 4, 7, 9, 13, 3, 5, 10, 15, 1, 2, 3, 4, 5, 6, 7, 9, 11, 12, 13, 14, 15, 19, 20, 11, 13, 14, 20, 3, 4, 13, 14, 18, 1, 2, 3, 4, 5, 6, 7, 8, 9, 10, 11, 12, 14, 15, 16, 18, 20, 1, 2, 3, 4, 7, 8, 19, 1, 2, 3, 4, 5, 6, 7, 8, 9, 11, 12, 1, 2, 3, 4, 5, 6, 7, 8, 9, 10, 11, 12, 13, 14, 15, 17, 1, 2, 5, 9, 16, 1, 2, 6, 16, 1, 3, 6, 7, 20, 1, 2, 3, 4, 5, 7, 14, 16, 17, 1, 2, 3, 4, 5, 7, 9, 10, 12, 14, 15, 17, 20, 1, 2, 3, 4, 5, 7, 12, 18, 4, 12, 2, 3, 5, 7, 17, 18, 1, 2, 5, 7, 11, 13, 14, 2, 2, 3, 5, 15, 1, 2, 3, 4, 5, 6, 12, 19, 1, 3, 4, 6, 11, 14, 3, 8, 11, 14, 2, 5, 12, 1, 2, 3, 4, 5, 6, 7, 8, 9, 10, 11, 12, 14, 15, 16, 17, 18, 19, 20, 2, 3, 11, 1, 2, 3, 5, 6, 8, 10, 15, 1, 3, 5, 6, 10, 1, 2, 3, 5, 7, 9, 11, 16, 18, 2, 3, 4, 5, 6, 7, 8, 9, 10, 11, 12, 18, 11, 15, 17, 1, 3, 4, 6, 8, 10, 3, 6, 15, 1, 3, 9, 2, 3, 4, 6, 8, 11, 18, 1, 2, 4, 5, 6, 11, 13, 16, 18, 20, 1, 4, 15, 17, 3, 11, 1, 4, 14, 20, 13, 1, 2, 3, 4, 5, 6, 7, 9, 11, 13, 15, 20, 1, 2, 3, 4, 5, 6, 7, 8, 9, 10, 12, 14, 15, 16, 18, 19, 20, 1, 4, 8, 9, 14, 19, 1, 2, 3, 4, 5, 6, 7, 9, 12, 18, 1, 2, 7, 8, 9, 12, 1, 2, 3, 4, 5, 6, 7, 8, 9, 10, 11, 12, 14, 15, 16, 17, 1, 3, 2, 4, 1, 3, 6, 8, 1, 2, 4, 11, 17, 1, 2, 3, 4, 5, 6, 7, 8, 9, 10, 12, 14, 15, 18, 19, 1, 2, 3, 4, 5, 6, 7, 8, 9, 10, 11, 12, 14, 15, 16, 17, 18, 2, 3, 4, 7, 14, 15, 16, 18, 2, 3, 5, 1, 2, 3, 4, 5, 6, 8, 10, 12, 14, 18, 1, 4, 16, 18, 1, 2, 3, 6, 1, 2, 3, 4, 5, 6, 7, 8, 9, 10, 11, 12, 14, 15, 16, 17, 18, 19, 1, 2, 3, 4, 5, 7, 9, 1, 2, 3, 4, 5, 6, 7, 8, 9, 10, 11, 12, 14, 15, 16, 17, 18, 20, 2, 6, 9, 12, 1, 2, 3, 4, 5, 6, 7, 8, 9, 10, 11, 12, 14, 15, 16, 17, 20, 1, 2, 4, 7, 5, 10, 2, 3, 5, 7, 1, 2, 3, 4, 5, 6, 7, 8, 9, 10, 11, 12, 14, 15, 16, 17, 19, 1, 2, 3, 4, 5, 7, 9, 12, 15, 1, 2, 3, 5, 8, 1, 2, 3, 4, 5, 6, 8, 10, 11, 12, 15, 1, 2, 3, 4, 5, 6, 7, 8, 9, 10, 11, 12, 14, 15, 16, 17, 18, 1, 2, 3, 4, 5, 6, 15, 13, 1, 2, 3, 4, 5, 6, 7, 8, 9, 10, 11, 12, 14, 15, 16, 17, 18, 19, 1, 9, 10, 15, 1, 2, 5, 6, 15, 19, 1, 2, 3, 4, 5, 6, 7, 8, 9, 12, 13, 14, 15, 18, 20, 2, 3, 4, 6, 11, 1, 2, 3, 4, 5, 6, 7, 8, 9, 10, 11, 12, 15, 20, 3, 5, 11, 15, 1, 3, 5, 9, 16, 1, 2, 5, 6, 7, 8, 9, 17, 1, 10, 1, 2, 3, 4, 5, 6, 7, 8, 9, 10, 14, 15, 1, 2, 3, 4, 5, 6, 9, 10, 11, 12, 14, 15, 16, 20, 1, 2, 3, 4, 5, 6, 7, 8, 11, 17, 1, 2, 3, 4, 12, 14, 15, 1, 2, 3, 6, 8, 10, 14, 2, 7, 14, 15, 1, 4, 6, 13, 19, 1, 2, 3, 4, 5, 6, 7, 8, 9, 10, 11, 12, 14, 15, 16, 17, 18, 19, 20, 1, 10, 13, 16, 1, 2, 4, 5, 1, 1, 2, 5, 11, 1, 2, 3, 4, 5, 6, 7, 8, 9, 10, 11, 12, 14, 15, 17, 18, 19, 20, 2, 3, 4, 5, 10, 15, 1, 2, 11, 1, 2, 4, 15, 16, 2, 3, 4, 9, 10, 13, 1, 2, 3, 5, 6, 8, 9, 11, 12, 14, 17, 1, 11, 1, 2, 3, 4, 5, 6, 7, 8, 9, 10, 11, 12, 14, 15, 16, 17, 18, 20, 2, 4, 5, 6, 2, 3, 4, 7, 8, 1, 2, 3, 4, 5, 6, 7, 8, 9, 10, 11, 12, 14, 15, 19, 1, 2, 3, 4, 5, 6, 7, 10, 14, 19, 1, 4, 1, 2, 3, 4, 5, 6, 7, 8, 9, 10, 11, 12, 14, 15, 16, 17, 1, 2, 3, 4, 5, 6, 7, 8, 9, 10, 11, 12, 13, 14, 15, 16, 17, 18, 19, 20, 1, 2, 3, 4, 5, 6, 7, 8, 9, 10, 12, 16, 1, 2, 3, 4, 5, 6, 7, 8, 9, 10, 11, 12, 13, 14, 15, 16, 17, 18, 19, 20, 2, 3, 1, 2, 5, 10, 13, 16, 1, 2, 3, 6, 7, 8, 9, 17, 18, 1, 2, 3, 4, 5, 8, 12, 18, 20, 1, 2, 3, 2, 12, 2, 15, 20, 1, 2, 3, 4, 5, 6, 7, 8, 9, 10, 11, 12, 14, 15, 16, 17, 18, 1, 2, 3, 4, 5, 9, 10, 11, 2, 4, 11, 2, 3, 5, 6, 10, 14, 15, 16, 20, 2, 14, 1, 2, 3, 4, 5, 11, 12, 2, 3, 4, 5, 7, 17, 2, 3, 4, 5, 6, 7, 9, 10, 11, 14, 15, 2, 3, 5, 7, 8, 11, 14, 2, 4, 5, 6, 7, 11, 14, 15, 17, 18, 1, 3, 4, 6, 7, 2, 4, 5, 6, 14, 15, 19, 2, 13, 1, 2, 3, 8, 9, 10, 16, 3, 11, 12, 16, 1, 3, 6, 8, 9, 10, 15, 2, 3, 5, 12, 16, 20, 1, 2, 3, 4, 5, 6, 7, 8, 9, 10, 11, 12, 14, 15, 16, 17, 2, 4, 7, 15, 2, 6, 7, 8, 10, 11, 1, 4, 5, 10, 16, 4, 18, 1, 2, 3, 4, 5, 6, 9, 10, 13, 15, 16, 1, 2, 3, 4, 5, 6, 7, 8, 9, 10, 11, 12, 14, 15, 20, 1, 2, 3, 4, 5, 6, 7, 8, 9, 10, 11, 12, 14, 15, 16, 17, 18, 19, 20, 13, 16, 1, 2, 3, 4, 7, 10, 10, 2, 4, 5, 7, 13, 13, 2, 4, 7, 12, 1, 2, 4, 5, 6, 8, 13, 3, 11, 2, 3, 5, 6, 1, 2, 4, 2, 5, 1, 2, 9, 13, 1, 2, 4, 9, 10, 16, 1, 2, 3, 4, 5, 6, 7, 8, 9, 10, 11, 12, 14, 15, 16, 17, 18, 20, 1, 2, 3, 8, 12, 1, 2, 3, 4, 5, 6, 7, 8, 9, 10, 11, 12, 13, 14, 15, 16, 17, 18, 19, 20, 1, 1, 2, 3, 8, 9, 1, 5, 1, 2, 3, 4, 5, 6, 7, 8, 9, 10, 12, 14, 15, 18, 1, 2, 3, 4, 5, 6, 7, 8, 9, 10, 11, 12, 14, 15, 16, 17, 18, 20, 1, 2, 3, 4, 6, 7, 9, 10, 16, 18, 19, 1, 2, 3, 4, 5, 6, 7, 8, 9, 10, 11, 12, 13, 14, 15, 16, 17, 1, 2, 3, 4, 5, 6, 7, 8, 9, 10, 11, 12, 14, 15, 16, 17, 18, 19, 2, 4, 16, 2, 3, 5, 7, 8, 12, 4, 17, 1, 2, 7, 19, 1, 2, 3, 4, 5, 6, 7, 8, 9, 10, 11, 12, 14, 15, 16, 17, 18, 19, 20, 1, 2, 3, 6, 13, 18, 4, 5, 1, 3, 4, 5, 6, 11, 12, 1, 2, 3, 4, 5, 7, 8, 9, 10, 11, 16, 18, 1, 2, 3, 4, 5, 6, 7, 8, 9, 10, 11, 12, 14, 15, 16, 17, 18, 20, 1, 2, 5, 12, 1, 2, 4, 5, 6, 13, 15, 1, 2, 3, 4, 5, 6, 7, 8, 11, 19, 3, 5, 7, 3, 9, 3, 3, 3, 2, 3, 5, 6, 14, 17, 2, 4, 5, 6, 7, 11, 16, 4, 5, 1, 2, 3, 5, 6, 11, 12, 15, 1, 2, 3, 6, 7, 9, 13, 18, 1, 2, 3, 4, 5, 6, 7, 8, 9, 10, 11, 12, 14, 15, 16, 17, 18, 19, 20, 1, 2, 3, 4, 5, 6, 7, 8, 9, 10, 12, 14, 15, 16, 17, 18, 19, 3, 1, 2, 3, 6, 8, 17, 1, 4, 5, 12, 13, 3, 4, 5, 9, 3, 4, 6, 1, 2, 3, 12, 16, 1, 4, 6, 1, 2, 3, 5, 8, 11, 14, 3, 7, 8, 9, 3, 5, 10, 1, 2, 3, 4, 5, 6, 7, 8, 9, 11, 12, 16, 18, 19, 20, 1, 2, 3, 4, 5, 6, 7, 9, 10, 11, 12, 13, 15, 18, 2, 13, 15, 15, 4, 7, 1, 2, 3, 4, 5, 6, 7, 8, 9, 10, 11, 12, 13, 14, 15, 16, 17, 18, 19, 20, 1, 2, 3, 4, 5, 6, 7, 8, 9, 10, 11, 12, 14, 15, 16, 17, 19, 20, 1, 2, 3, 4, 5, 6, 7, 8, 9, 10, 11, 12, 14, 15, 16, 17, 18, 19, 20, 1, 8, 20, 1, 2, 3, 4, 5, 6, 7, 8, 9, 10, 11, 12, 14, 15, 16, 17, 18, 20, 1, 3, 9, 1, 2, 3, 4, 6, 9, 10, 12, 16, 1, 2, 3, 4, 5, 6, 7, 8, 9, 10, 11, 12, 14, 15, 16, 17, 18, 19, 20, 1, 2, 3, 6, 8, 9, 18, 1, 2, 3, 4, 5, 6, 8, 9, 11, 12, 1, 2, 1, 2, 3, 4, 10, 11, 5, 8, 11, 3, 6, 1, 2, 3, 4, 5, 6, 7, 8, 9, 10, 11, 12, 14, 15, 16, 17, 18, 19, 20, 2, 3, 4, 11, 1, 2, 3, 4, 5, 6, 7, 8, 9, 10, 11, 12, 14, 15, 16, 17, 18, 19, 1, 6, 9, 14, 17, 18, 1, 2, 3, 6, 9, 16, 1, 2, 3, 4, 5, 6, 7, 8, 9, 10, 11, 12, 14, 15, 16, 17, 18, 20, 1, 2, 3, 4, 5, 9, 18, 1, 2, 3, 4, 5, 6, 7, 8, 9, 10, 11, 12, 14, 15, 16, 17, 18, 19, 1, 2, 3, 4, 5, 6, 7, 8, 9, 10, 11, 12, 14, 15, 16, 17, 18, 20, 3, 1, 1, 2, 3, 4, 5, 6, 7, 8, 9, 10, 11, 12, 14, 15, 16, 17, 18, 19, 1, 2, 5, 8, 19, 1, 2, 3, 4, 5, 6, 7, 8, 9, 10, 11, 12, 14, 15, 16, 17, 18, 19, 2, 3, 4, 5, 15, 1, 4, 6, 1, 2, 11, 1, 3, 6, 9, 1, 2, 4, 5, 10, 16, 1, 3, 4, 1, 2, 5, 2, 7, 1, 2, 3, 4, 5, 6, 2, 9, 12, 20, 1, 2, 3, 4, 5, 6, 7, 8, 15, 19, 2, 19, 2, 2, 3, 6, 9, 12, 14, 1, 2, 3, 4, 5, 6, 9, 11, 14, 15, 19, 20, 1, 2, 3, 4, 5, 6, 9, 2, 3, 4, 5, 9, 12, 1, 2, 3, 4, 5, 6, 7, 8, 9, 10, 11, 12, 14, 15, 16, 17, 18, 19, 20, 1, 3, 19, 1, 2, 3, 4, 5, 9, 15, 1, 2, 5, 6, 8, 10, 11, 12, 14, 15, 19, 1, 2, 3, 4, 5, 6, 7, 8, 9, 10, 11, 12, 14, 15, 16, 17, 18, 19, 20, 4, 8, 9, 13, 1, 2, 3, 4, 5, 6, 7, 9, 15, 17, 20, 17, 1, 2, 3, 4, 5, 6, 7, 8, 9, 10, 11, 12, 14, 15, 16, 17, 18, 19, 20, 3, 1, 2, 4, 5, 17, 5, 6, 9, 1, 2, 4, 5, 6, 13, 3, 4, 1, 2, 3, 4, 5, 6, 7, 8, 9, 10, 11, 12, 14, 16, 17, 19, 1, 2, 16, 3, 4, 5, 7, 1, 2, 4, 12, 13, 1, 3, 13, 20, 1, 3, 13, 20, 1, 2, 3, 4, 5, 6, 9, 10, 11, 12, 15, 20, 1, 2, 3, 4, 5, 6, 7, 8, 9, 10, 11, 12, 14, 15, 16, 1, 3, 4, 6, 10, 11, 1, 2, 3, 6, 19, 1, 2, 3, 5, 6, 14, 1, 2, 4, 1, 1, 3, 1, 2, 8, 19, 1, 2, 3, 4, 20, 10, 13, 15, 20, 1, 2, 3, 4, 5, 9, 10, 1, 2, 5, 6, 12, 2, 5, 7, 12, 1, 3, 5, 6, 8, 3, 5, 7, 14, 3, 4, 7, 8, 12, 16, 1, 4, 6, 12, 1, 2, 3, 4, 6, 7, 14, 1, 2, 3, 4, 5, 6, 8, 9, 10, 12, 15, 18, 4, 4, 4, 2, 3, 6, 7, 12, 15, 18, 1, 4, 5, 6, 7, 8, 9, 1, 2, 3, 8, 15, 3, 8, 2, 3, 20, 1, 2, 3, 4, 5, 6, 7, 8, 10, 15, 17, 3, 5, 10, 1, 2, 3, 19, 1, 2, 3, 4, 6, 7, 9, 19, 1, 2, 3, 4, 5, 9, 18, 2, 13, 18, 13, 1, 2, 2, 3, 5, 6, 7, 9, 10, 11, 12, 2, 3, 6, 1, 10, 19, 1, 2, 3, 4, 5, 7, 8, 10, 14, 15, 1, 3, 5, 6, 7, 8, 10, 2, 3, 6, 8, 1, 2, 8, 15, 2, 3, 8, 12, 1, 2, 3, 4, 5, 6, 7, 9, 11, 18, 1, 2, 3, 4, 5, 6, 7, 11, 14, 18, 1, 2, 4, 5, 6, 8, 13, 2, 4, 5, 7, 17, 1, 2, 3, 4, 5, 6, 8, 9, 10, 11, 12, 3, 8, 5, 8, 8, 1, 3, 5, 9, 1, 2, 3, 5, 7, 10, 1, 2, 3, 4, 5, 6, 7, 8, 12, 13, 14, 18, 2, 8, 8, 1, 2, 8, 1, 2, 4, 7, 8, 12, 8, 1, 7, 8, 8, 1, 2, 8, 8, 1, 2, 3, 4, 16, 1, 4, 5, 6, 11, 12, 2, 3, 4, 6, 9, 1, 2, 4, 10, 2, 3, 4, 6, 9, 11, 12, 17, 2, 3, 6, 7, 11, 2, 3, 8, 9, 1, 2, 3, 4, 5, 6, 7, 11, 17, 18, 1, 2, 3, 4, 9, 2, 4, 9, 18, 1, 2, 3, 7, 9, 14, 15, 18, 1, 2, 3, 4, 5, 15, 16, 1, 2, 6, 10, 2, 4, 7, 11, 12, 15, 3, 4, 6, 12, 2, 3, 4, 6, 7, 11, 16, 17, 3, 6, 9, 18, 1, 2, 3, 5, 6, 7, 9, 18, 19, 1, 2, 3, 6, 2, 3, 6, 9, 14, 18, 1, 2, 3, 4, 6, 8, 9, 15, 1, 2, 3, 4, 5, 6, 7, 8, 9, 10, 11, 12, 14, 15, 16, 17, 18, 19, 1, 2, 3, 4, 5, 6, 7, 8, 9, 10, 11, 12, 14, 15, 16, 17, 18, 19, 20, 1, 2, 3, 7, 9, 11, 16, 1, 2, 6, 7, 1, 2, 3, 4, 5, 6, 7, 8, 9, 10, 11, 12, 14, 15, 16, 17, 18, 1, 2, 3, 4, 5, 6, 8, 9, 10, 12, 13, 14, 15, 19, 20, 1, 2, 3, 1, 2, 3, 4, 5, 6, 7, 8, 9, 10, 11, 12, 13, 14, 15, 16, 17, 18, 19, 20, 2, 7, 14, 20, 1, 3, 4, 12, 13, 16, 20, 1, 2, 3, 8, 14, 19, 1, 3, 6, 7, 18, 1, 2, 3, 4, 5, 6, 7, 8, 9, 10, 11, 12, 14, 15, 16, 17, 18, 19, 20, 1, 2, 3, 4, 5, 6, 7, 8, 9, 10, 11, 12, 13, 14, 15, 16, 17, 18, 19, 20, 1, 2, 3, 5, 6, 8, 12, 15, 18, 20, 1, 2, 3, 4, 5, 6, 7, 8, 9, 10, 11, 12, 14, 15, 16, 17, 18, 19, 20, 2, 3, 7, 12, 15, 17, 2, 9, 11, 2, 3, 6, 9, 13, 15, 16, 1, 2, 3, 7, 11, 19, 1, 2, 3, 4, 5, 6, 7, 8, 9, 10, 11, 12, 14, 15, 16, 17, 18, 19, 20, 4, 2, 3, 4, 6, 7, 9, 16, 2, 9, 10, 11, 1, 3, 4, 7, 2, 3, 4, 5, 8, 16, 18, 2, 3, 5, 6, 13, 14, 15, 17, 1, 2, 3, 4, 9, 12, 2, 3, 4, 9, 11, 2, 3, 15, 1, 2, 3, 4, 9, 12, 13, 16, 20, 1, 15, 2, 5, 8, 15, 17, 19, 1, 5, 15, 1, 2, 3, 4, 5, 6, 7, 12, 13, 14, 1, 2, 3, 4, 14, 19, 1, 2, 3, 4, 5, 6, 13, 17, 2, 3, 4, 5, 17, 2, 3, 4, 5, 7, 10, 14, 15, 1, 2, 3, 4, 5, 6, 8, 14, 2, 6, 7, 12, 1, 2, 3, 5, 20, 1, 6, 2, 14, 16, 1, 2, 3, 4, 5, 6, 7, 10, 12, 14, 17, 2, 3, 12, 16, 2, 2, 3, 5, 6, 8, 9, 11, 13, 15, 1, 2, 3, 4, 5, 6, 8, 13, 3, 4, 5, 1, 2, 3, 4, 5, 6, 8, 9, 11, 15, 13, 20, 1, 7, 10, 14, 16, 3, 6, 11, 12, 1, 3, 4, 12, 1, 3, 4, 6, 1, 2, 3, 4, 5, 6, 7, 8, 9, 10, 12, 13, 14, 16, 18, 20, 1, 2, 3, 8, 4, 5, 6, 9, 13, 17, 1, 2, 3, 4, 5, 6, 7, 8, 9, 10, 11, 12, 13, 14, 15, 16, 18, 20, 13, 1, 2, 4, 5, 1, 13, 17, 2, 4, 6, 9, 10, 12, 15, 16, 1, 2, 3, 4, 5, 6, 7, 10, 12, 15, 17, 1, 4, 12, 2, 3, 4, 8, 9, 1, 2, 3, 4, 5, 6, 8, 15, 1, 2, 3, 6, 2, 3, 4, 6, 7, 8, 10, 14, 15, 2, 3, 12, 1, 2, 3, 4, 5, 7, 10, 13, 15, 18, 1, 4, 1, 2, 3, 4, 5, 6, 7, 8, 9, 10, 11, 12, 14, 15, 17, 18, 19, 3, 1, 4, 7, 10, 15, 1, 2, 3, 6, 2, 3, 4, 5, 6, 8, 11, 1, 2, 3, 4, 5, 6, 10, 11, 12, 13, 15, 17, 1, 5, 11, 1, 2, 3, 4, 5, 6, 9, 10, 11, 12, 14, 15, 17, 3, 5, 11, 12, 17, 3, 18, 19, 1, 2, 4, 13, 1, 2, 3, 5, 6, 7, 8, 10, 13, 16, 7, 7, 8, 7, 1, 4, 6, 7, 10, 3, 5, 6, 12, 1, 2, 3, 4, 5, 6, 8, 9, 12, 14, 15, 20, 2, 3, 5, 8, 14, 15, 17, 1, 2, 4, 11, 1, 2, 3, 6, 11, 17, 4, 9, 1, 2, 3, 4, 5, 6, 7, 8, 9, 10, 11, 12, 14, 15, 16, 17, 18, 19, 20, 3, 5, 10, 15, 1, 2, 3, 4, 5, 6, 7, 9, 10, 11, 12, 14, 16, 18, 1, 8, 13, 15, 18, 2, 3, 5, 7, 2, 3, 6, 13, 18, 3, 4, 7, 8, 10, 17, 11, 12, 1, 2, 3, 4, 5, 6, 7, 8, 9, 12, 14, 15, 17, 18, 3, 18, 18, 1, 2, 3, 5, 18, 1, 2, 3, 7, 14, 1, 2, 3, 7, 16, 1, 2, 3, 4, 5, 6, 7, 10, 11, 13, 1, 3, 4, 10, 1, 2, 3, 4, 5, 6, 7, 8, 9, 10, 11, 12, 13, 14, 15, 16, 17, 18, 19, 20, 2, 5, 6, 7, 14, 3, 4, 5, 7, 9, 1, 2, 3, 4, 5, 6, 7, 8, 9, 10, 11, 12, 13, 14, 15, 16, 17, 18, 19, 20, 1, 2, 1, 2, 10, 19, 1, 2, 3, 4, 13, 2, 3, 12, 14, 20, 1, 2, 3, 4, 5, 6, 7, 8, 9, 10, 11, 12, 14, 15, 16, 17, 18, 19, 1, 2, 3, 4, 5, 6, 7, 8, 9, 10, 11, 12, 13, 14, 15, 17, 18, 19, 20, 1, 2, 4, 7, 15, 1, 2, 3, 4, 5, 6, 7, 8, 9, 11, 12, 15, 18, 19, 20, 1, 2, 4, 5, 7, 10, 16, 4, 6, 13, 17, 1, 5, 6, 15, 1, 2, 4, 5, 6, 8, 11, 19, 1, 2, 3, 4, 5, 6, 7, 8, 9, 10, 11, 12, 14, 15, 16, 17, 18, 19, 2, 7, 1, 2, 3, 8, 9, 14, 15, 17, 2, 5, 6, 1, 2, 4, 5, 7, 1, 2, 3, 4, 5, 6, 7, 8, 9, 10, 11, 12, 14, 15, 16, 1, 2, 3, 4, 5, 6, 7, 8, 9, 10, 16, 17, 2, 3, 5, 8, 12, 3, 4, 8, 3, 4, 1, 3, 8, 11, 1, 2, 3, 4, 19, 2, 3, 4, 5, 8, 1, 2, 3, 6, 17, 2, 4, 5, 7, 10, 19, 20, 1, 2, 3, 4, 6, 9, 1, 2, 4, 5, 7, 13, 15, 2, 3, 4, 8, 1, 2, 3, 4, 7, 8, 4, 9, 15, 1, 2, 8, 20, 1, 1, 2, 3, 4, 5, 6, 7, 8, 9, 10, 11, 12, 13, 14, 15, 16, 17, 18, 19, 20, 2, 3, 4, 7, 11, 1, 2, 3, 4, 5, 7, 8, 9, 12, 17, 9, 15, 2, 3, 9, 15, 18, 2, 3, 4, 6, 8, 12, 1, 2, 3, 4, 12, 14, 1, 2, 3, 4, 5, 6, 7, 8, 9, 10, 11, 12, 14, 15, 16, 17, 18, 19, 20, 1, 2, 3, 6, 2, 3, 4, 5, 15, 19, 1, 2, 3, 5, 8, 9, 12, 18, 1, 2, 3, 4, 5, 6, 7, 8, 9, 10, 12, 13, 1, 2, 3, 4, 5, 6, 7, 8, 9, 10, 11, 12, 13, 14, 15, 16, 17, 18, 19, 20, 1, 2, 3, 4, 5, 6, 7, 8, 9, 10, 11, 12, 14, 15, 16, 17, 20, 1, 2, 3, 4, 5, 6, 12, 15, 17, 1, 2, 3, 4, 8, 12, 13, 1, 3, 4, 18, 1, 3, 4, 9, 16, 1, 2, 3, 6, 12, 1, 2, 3, 4, 5, 6, 7, 8, 9, 10, 11, 12, 14, 15, 16, 17, 18, 20, 2, 3, 5, 7, 2, 6, 2, 5, 17, 1, 6, 2, 3, 4, 5, 6, 10, 11, 12, 13, 14, 1, 2, 3, 14, 1, 2, 3, 10, 1, 4, 15, 1, 2, 3, 4, 5, 6, 7, 8, 9, 12, 14, 15, 16, 19, 20, 1, 2, 3, 4, 5, 6, 7, 8, 9, 10, 11, 12, 14, 15, 16, 17, 18, 19, 20, 1, 2, 4, 10, 11, 13, 15, 1, 2, 3, 4, 5, 6, 16, 1, 2, 3, 4, 5, 6, 7, 8, 9, 10, 2, 3, 5, 6, 9, 14, 17, 1, 2, 3, 4, 5, 6, 7, 8, 13, 15, 8, 8, 3, 5, 8, 11, 18, 1, 2, 3, 4, 5, 6, 7, 8, 9, 10, 11, 12, 14, 15, 16, 17, 18, 19, 20, 5, 14, 4, 7, 8, 2, 13, 1, 2, 3, 5, 6, 7, 9, 11, 12, 1, 2, 3, 4, 5, 6, 9, 10, 11, 15, 17, 4, 10, 11, 1, 2, 3, 4, 5, 8, 15, 2, 1, 2, 4, 5, 7, 15, 1, 2, 3, 2, 3, 5, 1, 4, 13, 1, 3, 4, 6, 1, 2, 4, 7, 8, 12, 1, 2, 3, 4, 5, 6, 8, 10, 12, 16, 17, 18, 20, 1, 2, 6, 10, 20, 1, 2, 3, 4, 5, 6, 7, 8, 9, 10, 11, 12, 13, 14, 15, 16, 17, 18, 20, 1, 2, 3, 4, 5, 6, 7, 8, 18, 1, 2, 20, 1, 2, 6, 1, 3, 4, 6, 16, 1, 2, 3, 4, 5, 6, 7, 8, 9, 10, 11, 12, 13, 14, 15, 16, 20, 1, 3, 7, 11, 2, 3, 1, 4, 5, 18, 2, 3, 4, 15, 1, 2, 3, 4, 5, 6, 7, 8, 9, 10, 11, 12, 13, 14, 15, 16, 18, 1, 2, 6, 14, 15, 16, 1, 2, 3, 4, 5, 6, 7, 8, 9, 10, 11, 12, 14, 15, 16, 17, 18, 20, 4, 10, 2, 5, 1, 2, 3, 5, 6, 7, 9, 12, 17, 20, 1, 2, 3, 4, 5, 6, 7, 8, 9, 11, 12, 14, 15, 16, 17, 20, 1, 13, 16, 18, 1, 2, 3, 4, 5, 7, 13, 3, 4, 14, 1, 2, 3, 4, 5, 6, 9, 10, 1, 2, 4, 6, 10, 11, 1, 2, 3, 4, 5, 7, 10, 11, 14, 1, 2, 3, 10, 12, 14, 4, 5, 13, 3, 4, 5, 1, 3, 4, 12, 5, 11, 12, 14, 1, 4, 7, 16, 13, 2, 3, 5, 6, 13, 15, 16, 17, 1, 2, 3, 4, 5, 6, 7, 9, 10, 14, 15, 1, 2, 3, 4, 5, 6, 7, 8, 9, 10, 11, 12, 13, 14, 15, 16, 17, 18, 19, 4, 13, 1, 2, 4, 1, 2, 4, 5, 15, 1, 2, 3, 4, 5, 6, 7, 8, 9, 10, 11, 12, 13, 14, 15, 16, 17, 18, 20, 1, 9, 2, 7, 8, 9, 15, 7, 1, 3, 2, 4, 9, 17, 1, 2, 3, 4, 5, 6, 7, 8, 10, 17, 1, 4, 5, 1, 2, 1, 2, 3, 4, 5, 7, 8, 9, 12, 13, 14, 1, 6, 12, 20, 1, 2, 3, 4, 5, 6, 7, 8, 9, 10, 11, 12, 14, 15, 16, 17, 18, 19, 20, 1, 1, 2, 5, 7, 1, 2, 3, 4, 5, 6, 7, 8, 9, 10, 11, 12, 14, 15, 16, 17, 18, 20, 1, 2, 4, 5, 18, 2, 3, 16, 18, 1, 2, 3, 5, 9, 14, 1, 2, 6, 1, 3, 5, 7, 1, 2, 3, 4, 5, 6, 10, 16, 18, 1, 13, 16, 1, 2, 3, 4, 5, 6, 7, 8, 13, 14, 17, 19, 1, 2, 7, 8, 11, 16, 18, 1, 2, 3, 4, 5, 6, 7, 8, 9, 10, 11, 12, 13, 14, 15, 16, 17, 18, 1, 2, 3, 4, 5, 6, 7, 9, 10, 11, 12, 16, 17, 1, 2, 3, 4, 5, 6, 7, 8, 9, 10, 11, 12, 14, 15, 16, 17, 18, 19, 20, 1, 2, 3, 5, 12, 18, 1, 2, 3, 4, 5, 6, 7, 8, 9, 10, 11, 12, 13, 14, 15, 16, 17, 18, 19, 20, 2, 4, 5, 6, 15, 16, 1, 2, 3, 4, 5, 7, 8, 9, 10, 12, 2, 9, 12, 14, 1, 2, 4, 6, 9, 1, 2, 3, 5, 13, 1, 2, 3, 4, 6, 7, 9, 16, 1, 2, 3, 4, 5, 6, 9, 10, 11, 14, 18, 1, 2, 3, 6, 7, 10, 12, 14, 17, 1, 2, 3, 4, 5, 6, 7, 8, 9, 10, 11, 12, 14, 15, 16, 17, 18, 19, 20, 1, 2, 7, 1, 2, 3, 1, 2, 3, 4, 6, 14, 17, 2, 3, 15, 1, 3, 4, 17, 1, 2, 3, 4, 9, 10, 14, 1, 2, 14, 3, 9, 12, 1, 3, 9, 1, 2, 3, 4, 5, 6, 7, 8, 9, 10, 11, 12, 14, 15, 16, 17, 18, 20, 1, 2, 3, 4, 5, 8, 12, 19, 1, 2, 3, 12, 14, 15, 19, 2, 5, 8, 9, 13, 1, 2, 3, 4, 8, 9, 11, 14, 15, 1, 2, 3, 4, 1, 3, 12, 1, 2, 3, 4, 5, 6, 7, 8, 9, 10, 11, 14, 15, 5, 14, 5, 8, 2, 5, 5, 2, 3, 14, 2, 3, 4, 5, 6, 11, 12, 1, 2, 3, 4, 5, 6, 7, 9, 15, 19, 4, 6, 7, 8, 1, 2, 4, 5, 7, 8, 9, 19, 3, 8, 1, 3, 4, 1, 2, 3, 4, 5, 6, 7, 8, 9, 10, 11, 12, 14, 15, 16, 17, 20, 1, 2, 3, 4, 5, 6, 7, 8, 9, 10, 11, 12, 14, 15, 16, 17, 18, 19, 3, 4, 7, 8, 10, 4, 1, 2, 3, 4, 6, 7, 8, 9, 10, 12, 14, 7, 2, 3, 7, 14, 19, 1, 2, 4, 5, 7, 9, 20, 2, 3, 4, 9, 1, 2, 3, 4, 5, 6, 7, 8, 9, 10, 11, 12, 14, 15, 17, 18, 19, 20, 4, 5, 1, 2, 3, 4, 5, 6, 7, 8, 9, 12, 14, 17, 18, 1, 2, 3, 5, 10, 13, 15, 16, 1, 2, 3, 11, 1, 2, 3, 4, 5, 6, 7, 8, 9, 10, 11, 12, 14, 15, 16, 17, 18, 19, 20, 1, 2, 5, 10, 14, 19, 1, 6, 7, 1, 2, 3, 4, 5, 6, 7, 8, 9, 12, 15, 17, 18, 20, 1, 2, 3, 4, 5, 6, 7, 9, 10, 13, 14, 16, 1, 6, 7, 1, 2, 3, 4, 5, 7, 8, 9, 10, 12, 14, 17, 18, 20, 2, 6, 14, 6, 7, 18, 2, 5, 14, 2, 3, 5, 11, 1, 2, 3, 6, 10, 12, 1, 3, 4, 7, 16, 1, 2, 3, 4, 5, 6, 7, 8, 10, 15, 18, 1, 1, 2, 3, 4, 5, 6, 7, 8, 9, 10, 12, 14, 15, 16, 17, 18, 19, 20, 1, 2, 3, 4, 5, 6, 7, 8, 9, 10, 11, 12, 14, 15, 17, 18, 19, 20, 1, 2, 4, 14, 19, 2, 3, 7, 12, 14, 15, 17, 1, 2, 3, 4, 5, 6, 7, 8, 9, 10, 11, 12, 14, 15, 16, 17, 18, 20, 2, 1, 2, 3, 5, 12, 14, 19, 5, 20, 5, 1, 5, 9, 1, 2, 5, 6, 12, 17, 18, 5, 7, 13, 1, 2, 3, 4, 5, 6, 7, 8, 9, 10, 11, 12, 13, 14, 15, 16, 17, 19, 20, 1, 3, 10, 1, 2, 3, 4, 5, 6, 11, 1, 2, 3, 4, 5, 6, 12, 4, 12, 1, 2, 3, 4, 5, 6, 7, 8, 9, 10, 11, 12, 14, 15, 16, 17, 18, 19, 1, 2, 3, 4, 5, 6, 7, 8, 9, 10, 11, 12, 14, 15, 16, 17, 18, 19, 20, 1, 2, 3, 4, 5, 6, 7, 8, 10, 11, 16, 19, 20, 1, 3, 4, 19, 20, 3, 1, 2, 3, 4, 5, 7, 8, 9, 10, 11, 12, 14, 16, 17, 20, 1, 3, 4, 10, 1, 2, 3, 4, 5, 6, 7, 8, 9, 12, 14, 16, 4, 9, 1, 2, 3, 4, 5, 6, 7, 8, 9, 10, 11, 12, 13, 14, 15, 16, 17, 18, 19, 1, 2, 3, 4, 5, 11, 5, 7, 16, 1, 2, 3, 4, 5, 6, 7, 8, 9, 10, 11, 12, 14, 17, 19, 1, 1, 2, 3, 4, 5, 6, 7, 8, 9, 10, 11, 12, 14, 15, 16, 17, 18, 1, 19, 1, 2, 3, 4, 5, 6, 7, 8, 9, 10, 11, 12, 14, 15, 16, 17, 18, 19, 4, 2, 4, 5, 7, 11, 2, 3, 7, 10, 1, 2, 3, 4, 5, 6, 7, 8, 9, 10, 11, 12, 14, 15, 16, 17, 18, 19, 20, 2, 3, 9, 14, 1, 2, 5, 7, 14, 1, 3, 6, 12, 1, 2, 3, 4, 5, 6, 7, 8, 9, 10, 11, 12, 14, 15, 16, 17, 18, 19, 20, 1, 1, 2, 3, 4, 5, 6, 7, 8, 9, 10, 11, 12, 14, 15, 16, 17, 18, 1, 2, 3, 4, 5, 6, 7, 8, 9, 10, 11, 12, 13, 14, 15, 17, 18, 19, 20, 4, 1, 2, 3, 4, 5, 6, 7, 8, 9, 10, 12, 14, 15, 2, 10, 13, 14, 18, 2, 4, 5, 1, 3, 4, 5, 6, 7, 11, 12, 14, 18, 1, 2, 3, 5, 7, 10, 11, 12, 14, 15, 17, 18, 2, 11, 14, 1, 2, 3, 1, 2, 3, 14, 15, 16, 1, 2, 3, 4, 5, 9, 10, 1, 2, 3, 4, 5, 6, 7, 8, 9, 10, 11, 12, 14, 15, 16, 17, 18, 19, 20, 1, 2, 4, 5, 6, 20, 1, 2, 3, 4, 5, 6, 7, 8, 9, 10, 11, 12, 13, 14, 15, 16, 17, 18, 20, 2, 5, 14, 2, 3, 7, 9, 12, 1, 2, 3, 4, 7, 12, 18, 20, 1, 2, 3, 4, 5, 6, 8, 9, 10, 16, 17, 1, 2, 3, 4, 5, 6, 7, 9, 10, 13, 14, 16, 18, 1, 2, 3, 5, 6, 9, 10, 16, 17, 19, 20, 1, 2, 3, 4, 6, 17, 1, 1, 1, 5, 6, 11, 12, 15, 18, 20, 1, 2, 3, 5, 6, 8, 12, 14, 5, 9, 13, 18, 1, 2, 3, 4, 5, 6, 7, 8, 9, 10, 12, 13, 14, 15, 16, 17, 19, 2, 4, 5, 6, 8, 10, 12, 16, 1, 4, 5, 7, 4, 5, 1, 2, 3, 4, 5, 7, 8, 9, 10, 11, 12, 14, 15, 19, 20, 1, 2, 3, 4, 5, 6, 7, 1, 2, 3, 4, 5, 6, 7, 8, 9, 10, 11, 12, 13, 14, 15, 16, 17, 18, 19, 1, 2, 3, 4, 5, 8, 14, 18, 15, 1, 2, 3, 4, 8, 11, 12, 3, 7, 1, 3, 10, 4, 7, 18, 1, 2, 3, 4, 5, 6, 7, 8, 9, 10, 12, 13, 1, 2, 3, 4, 5, 6, 7, 8, 9, 10, 11, 12, 14, 15, 17, 18, 19, 1, 2, 3, 5, 8, 9, 10, 19, 8, 19, 1, 2, 3, 4, 5, 6, 7, 8, 9, 10, 12, 15, 1, 2, 5, 6, 1, 2, 3, 4, 5, 6, 7, 12, 13, 16, 18, 19, 2, 14, 1, 8, 1, 2, 3, 9, 12, 18, 1, 2, 3, 4, 5, 6, 7, 8, 9, 10, 11, 12, 13, 14, 15, 16, 17, 18, 19, 20, 1, 2, 3, 4, 5, 6, 7, 8, 9, 10, 11, 12, 14, 15, 16, 17, 18, 19, 20, 1, 3, 19, 1, 1, 1, 2, 3, 4, 5, 6, 7, 14, 16, 17, 20, 1, 2, 3, 4, 6, 7, 8, 9, 14, 17, 1, 2, 3, 4, 5, 6, 7, 8, 9, 10, 11, 12, 14, 15, 16, 17, 18, 19, 1, 3, 9, 10, 2, 4, 1, 3, 7, 13, 2, 3, 4, 5, 9, 10, 15, 2, 4, 12, 17, 1, 2, 3, 7, 8, 11, 1, 2, 3, 4, 5, 6, 7, 8, 9, 10, 11, 12, 14, 15, 16, 17, 18, 19, 20, 1, 2, 3, 4, 5, 6, 8, 9, 10, 11, 16, 18, 1, 2, 3, 4, 6, 9, 14, 1, 2, 3, 4, 5, 7, 8, 14, 20, 1, 4, 1, 3, 4, 20, 1, 2, 3, 5, 7, 9, 14, 1, 2, 5, 19, 12, 13, 1, 2, 3, 4, 5, 6, 7, 8, 9, 10, 11, 12, 14, 15, 16, 17, 18, 16, 1, 2, 3, 11, 1, 2, 3, 4, 5, 6, 7, 8, 9, 10, 11, 12, 14, 15, 16, 17, 1, 2, 3, 4, 6, 12, 1, 2, 4, 14, 1, 2, 6, 9, 14, 20, 1, 2, 3, 11, 12, 13, 16, 2, 6, 12, 17, 20, 1, 2, 3, 5, 6, 8, 9, 16, 17, 1, 2, 3, 4, 5, 6, 7, 8, 9, 10, 14, 17, 1, 4, 1, 3, 4, 17, 1, 2, 3, 5, 6, 11, 15, 16, 17, 1, 2, 3, 4, 5, 6, 7, 8, 9, 10, 11, 12, 14, 15, 16, 17, 18, 13, 2, 5, 6, 12, 19, 1, 4, 6, 12, 20, 1, 10, 16, 18, 1, 2, 3, 12, 14, 17, 1, 3, 7, 17, 1, 2, 3, 11, 2, 3, 4, 5, 12, 14, 1, 2, 3, 4, 5, 7, 9, 13, 14, 15, 16, 2, 2, 3, 4, 5, 1, 2, 3, 4, 5, 6, 7, 8, 10, 13, 14, 1, 4, 7, 1, 2, 3, 5, 7, 10, 13, 5, 8, 9, 15, 1, 4, 5, 1, 2, 3, 4, 5, 6, 7, 8, 9, 10, 11, 12, 14, 15, 16, 17, 18, 19, 13, 2, 13, 15, 1, 3, 4, 5, 6, 7, 9, 17, 20, 1, 2, 3, 4, 5, 6, 7, 11, 1, 2, 3, 4, 12, 2, 3, 5, 6, 9, 13, 14, 16, 17, 1, 2, 3, 4, 5, 6, 7, 8, 9, 10, 11, 12, 13, 14, 1, 8, 20, 1, 2, 3, 4, 5, 6, 7, 8, 9, 10, 11, 12, 13, 14, 15, 16, 17, 18, 19, 20, 1, 4, 5, 7, 1, 2, 3, 4, 6, 7, 1, 2, 3, 4, 5, 6, 7, 8, 9, 10, 16, 18, 20, 1, 2, 3, 4, 5, 6, 7, 8, 9, 10, 11, 12, 14, 15, 16, 17, 18, 19, 20, 2, 3, 4, 9, 11, 14, 1, 2, 3, 4, 20, 2, 4, 8, 9, 1, 7, 1, 2, 3, 4, 5, 6, 8, 10, 11, 12, 14, 1, 2, 3, 4, 6, 7, 11, 14, 19, 1, 2, 3, 4, 5, 6, 7, 8, 9, 10, 11, 12, 14, 15, 16, 17, 18, 20, 4, 5, 1, 2, 4, 5, 10, 12, 1, 4, 11, 3, 4, 5, 6, 1, 2, 3, 5, 6, 7, 8, 10, 14, 15, 17, 1, 2, 3, 4, 5, 6, 7, 8, 9, 10, 11, 12, 14, 15, 18, 19, 20, 1, 2, 3, 4, 1, 2, 3, 4, 5, 7, 8, 10, 11, 12, 14, 16, 18, 1, 2, 3, 4, 5, 8, 14, 1, 2, 3, 4, 5, 6, 8, 9, 10, 15, 1, 2, 3, 4, 5, 6, 7, 8, 9, 10, 11, 12, 14, 15, 16, 17, 18, 19, 20, 1, 2, 3, 4, 5, 6, 7, 8, 9, 10, 11, 12, 15, 16, 17, 1, 2, 3, 4, 5, 6, 7, 8, 9, 10, 11, 12, 14, 15, 16, 17, 18, 20, 1, 2, 3, 4, 5, 6, 7, 8, 10, 12, 17, 18, 20, 1, 2, 3, 4, 5, 6, 7, 8, 9, 12, 14, 15, 18, 1, 2, 3, 4, 5, 7, 11, 12, 18, 3, 11, 1, 2, 3, 4, 5, 6, 7, 8, 9, 11, 12, 14, 16, 17, 18, 1, 2, 3, 4, 5, 6, 7, 8, 9, 10, 11, 12, 14, 15, 16, 17, 18, 19, 20, 1, 2, 7, 15, 1, 5, 12, 2, 3, 1, 2, 3, 4, 8, 9, 10, 14], \"Freq\": [0.04606357994369666, 0.6062561489363948, 0.01783106320401161, 0.3298746692742148, 0.006849726756747341, 0.99206875860224, 0.07791911165500105, 0.008657679072777895, 0.38815261176287563, 0.001442946512129649, 0.002885893024259298, 0.044731341876019126, 0.002885893024259298, 0.47184350946639525, 0.0074223831923407165, 0.0074223831923407165, 0.08164621511574788, 0.8981083662732267, 0.9573307533593779, 0.02674108249607201, 0.010696432998428804, 0.10711303137831298, 0.48702956454826685, 0.0870293379948793, 0.06426781882698779, 0.06728037283450285, 0.034142278751837264, 0.054560700358328176, 0.036820104536295084, 0.020418421606490912, 0.004016738676686737, 0.0013389128922289123, 0.004351466899743965, 0.0016736411152861402, 0.009707118468659614, 0.0006694564461144562, 0.009037662022545159, 0.008368205576430702, 0.0020083693383433684, 0.010157747183669684, 0.02757102806996057, 0.010883300553931803, 0.009432193813407564, 0.0014511067405242404, 0.06675091006411506, 0.7632821455157505, 0.08053642409909535, 0.016687727516028764, 0.0007255533702621202, 0.008706640443145442, 0.003627766851310601, 0.0007255533702621202, 0.029302585752927372, 0.058605171505854745, 0.8790775725878212, 0.47359064460067124, 0.0706393309067149, 0.08538145213942062, 0.15709572938602032, 0.057739974828097396, 0.05236524312867344, 0.02011685293212968, 0.009213825770441074, 0.00537473169942396, 0.01074946339884792, 0.004606912885220537, 0.006142550513627383, 0.028102168599845278, 0.0038390940710171144, 0.003531966545335745, 0.0019963289169288995, 0.0003071275256813691, 0.005681859225105329, 0.0023034564426102685, 0.0013820738655661612, 0.00513650316013391, 0.06163803792160693, 0.9142975625038361, 0.015409509480401732, 0.016078733448054383, 0.0750340894242538, 0.001339894454004532, 0.008039366724027192, 0.03483725580411783, 0.8427936115688507, 0.009379261178031725, 0.001339894454004532, 0.008039366724027192, 0.002679788908009064, 0.012901875797264735, 0.010321500637811789, 0.03870562739179421, 0.024513564014802997, 0.020643001275623577, 0.014192063376991209, 0.3367389583086096, 0.5418787834851189, 0.0008076201263044121, 0.0036342905683698547, 0.0008076201263044121, 0.00040381006315220606, 0.0024228603789132365, 0.00040381006315220606, 0.9901422748492094, 0.00040381006315220606, 0.9849663253442034, 0.0011870118803874441, 0.0005935059401937221, 0.0047480475215497765, 0.9846263547813848, 0.007122071282324664, 0.0005935059401937221, 0.028170231018827797, 0.016252056357016036, 0.006500822542806415, 0.027086760595026727, 0.0010834704238010691, 0.016252056357016036, 0.009751233814209621, 0.6609169585186522, 0.09967927898969836, 0.12568256916092402, 0.007584292966607484, 0.9446942196037267, 0.015486790485306995, 0.003318597961137213, 0.0055309966018953554, 0.0022123986407581423, 0.00995579388341164, 0.007743395242653497, 0.008849594563032569, 0.05302774788699219, 0.05473832039947581, 0.027369160199737903, 0.056448892911959425, 0.008552862562418094, 0.030790305224705144, 0.768047058105145, 0.11714853837954031, 0.010459690926744671, 0.008367752741395737, 0.8556027178077141, 0.008367752741395737, 0.004878479924330886, 0.9903314246391699, 0.08806613205649705, 0.010567935846779645, 0.0774981962097174, 0.07045290564519763, 0.1514737471371749, 0.0070452905645197635, 0.02465851697581917, 0.563623245161581, 0.020005876175313016, 0.030008814262969526, 0.005001469043828254, 0.9402761802397118, 0.9967666343668145, 0.05031240502012912, 0.0033541603346752746, 0.03354160334675275, 0.006708320669350549, 0.043604084350778574, 0.02347912234272692, 0.08720816870155715, 0.1609996960644132, 0.5836238982334978, 0.11528651252338377, 0.8247419742057455, 0.02660457981308856, 0.008868193271029522, 0.002956064423676507, 0.017736386542059043, 0.002956064423676507, 0.13007093857262264, 0.18365821663624995, 0.11399475515353445, 0.06479189074965848, 0.09694425758783486, 0.3288310244813494, 0.014127555125865382, 0.0009743141466114056, 0.0038972565864456225, 0.0009743141466114056, 0.02776795317842506, 0.0009743141466114056, 0.006333041952974136, 0.00876882731950265, 0.01558902634578249, 0.0019486282932228113, 0.0029084449142721216, 0.026176004228449092, 0.9685121564526165, 0.01849989723806031, 0.007399958895224123, 0.002219987668567237, 0.9353548043563291, 0.03551980269707579, 0.03172712204727024, 0.03701497572181528, 0.01586356102363512, 0.00528785367454504, 0.9095108320217469, 0.0009095143268562523, 0.11732734816445654, 0.007276114614850018, 0.007276114614850018, 0.010004657595418775, 0.07094211749478768, 0.0018190286537125046, 0.7257924328312894, 0.05002328797709388, 0.00818562894170627, 0.0016278984442688624, 0.052092750216603596, 0.7577867258071554, 0.03825561344031827, 0.13511557087431558, 0.012209238332016467, 0.0024418476664032937, 0.09887329555944137, 0.129704753314536, 0.1254521384517643, 0.3263881907177258, 0.03933668748063796, 0.05528399321603173, 0.012757844588315016, 0.03614722633355921, 0.013820998304007933, 0.001063153715692918, 0.014884152019700852, 0.013820998304007933, 0.05422083950033882, 0.07867337496127592, 0.0022363084569821563, 0.03354462685473235, 0.013417850741892938, 0.8207252037124514, 0.1073428059351435, 0.013417850741892938, 0.006708925370946469, 0.0047721725698723185, 0.009544345139744637, 0.19088690279489276, 0.7874084740289325, 0.22024051446091697, 0.2296124512464879, 0.03280177874949827, 0.5154565232064015, 0.08000670364272132, 0.05333780242848088, 0.12001005546408199, 0.04000335182136066, 0.6800569809631313, 0.004709459252738913, 0.9277634727895658, 0.003139639501825942, 0.018837837010955653, 0.04238513327465022, 0.0007948327109475623, 0.0007948327109475623, 0.019473401418215276, 0.9621449966020241, 0.00039741635547378115, 0.014704405152529902, 0.0007948327109475623, 0.00039741635547378115, 0.05249339930555431, 0.931757837673589, 0.0026011867785828034, 0.0034682490381104042, 0.13612877474583338, 0.06763085624315289, 0.09190859950992572, 0.27139048723213915, 0.37023558481828567, 0.04075192619779725, 0.01647418293102442, 0.3517649964900192, 0.6375740561381598, 0.003123168959454207, 0.06402496366881125, 0.0036436971193632415, 0.003123168959454207, 0.4544210836005871, 0.007807922398635517, 0.46327006231904067, 0.015734786877628398, 0.29896095067493955, 0.031469573755256795, 0.6451262619827643, 0.0020937773194980194, 0.031406659792470294, 0.9421997937741088, 0.023031550514478215, 0.025338907936652787, 0.28524370648689135, 0.15710122920724728, 0.0007239687981900796, 0.3493149451267134, 0.05646956625882621, 0.011945485170136314, 0.03294058031764862, 0.001809921995475199, 0.043438127891404776, 0.005791750385520637, 0.027872798730318064, 0.0007239687981900796, 0.0003619843990950398, 0.0003619843990950398, 0.0007239687981900796, 0.10295790241717037, 0.016786614524538647, 0.0033573229049077297, 0.02797769087423108, 0.0011191076349692432, 0.847164479671717, 0.12609137059097272, 0.03940355330967897, 0.8274746195032584, 0.32716364352819816, 0.10833011804101808, 0.0640284493977005, 0.17001810192548672, 0.1850639516534059, 0.033936749941862146, 0.021732894051438814, 0.010866447025719407, 0.025745120645550595, 0.013708440863215252, 0.013206912538951279, 0.0031763460536718266, 0.002841993837495845, 0.007188572647783608, 0.0061855159992556625, 0.0016717610808799088, 0.0006687044323519635, 0.0016717610808799088, 0.002507641621319863, 0.2770688112310522, 0.13997747234068783, 0.12785571184932928, 0.15931456645785502, 0.13434951211255708, 0.04257046839227104, 0.01342052054400409, 0.010245773748648284, 0.015152200614198167, 0.014430667251617301, 0.017461107374456934, 0.012121760491358534, 0.010245773748648284, 0.002020293415226422, 0.006638106935743959, 0.008658400350970381, 0.005339346883098402, 0.0018759867427102493, 0.001154453380129384, 0.03541650396529688, 0.46705514604235254, 0.05976535044143848, 0.013281188986986329, 0.00442706299566211, 0.03541650396529688, 0.006640594493493164, 0.00442706299566211, 0.00442706299566211, 0.3674462286399551, 0.9354002452722068, 0.0632027192751491, 0.9447362060897015, 0.01889472412179403, 0.01889472412179403, 0.04823350945078392, 0.013781002700223977, 0.062014512151007894, 0.20671504050335965, 0.01722625337527997, 0.010335752025167982, 0.6408166255604149, 0.14563404211177064, 0.08738042526706238, 0.08738042526706238, 0.6116629768694367, 0.01945692099902714, 0.001945692099902714, 0.08755614449562214, 0.0012971280666018094, 0.7464972023293414, 0.09144752869542756, 0.0032428201665045237, 0.002594256133203619, 0.023348305198832568, 0.007134204366309952, 0.015565536799221713, 0.006463828524098308, 0.002154609508032769, 0.004309219016065538, 0.006463828524098308, 0.006463828524098308, 0.02370070458836046, 0.004309219016065538, 0.9480281835344184, 0.027136619337089524, 0.027136619337089524, 0.9226450574610437, 0.007785631232483366, 0.022244660664238188, 0.0011122330332119094, 0.0044489321328476375, 0.0044489321328476375, 0.9554081755290302, 0.0022244660664238187, 0.021849696183555332, 0.029561353660104272, 0.00642638123045745, 0.01927914369137235, 0.046269944859293644, 0.6516350567683855, 0.22492334306601075, 0.004709568839633433, 0.028257413037800598, 0.026687556757922785, 0.010988993959144676, 0.9277850614077863, 0.9991039114348141, 0.01388888001195141, 0.9722216008365987, 0.006944440005975705, 0.02160967380284232, 0.3040789813685669, 0.17596448668028744, 0.08798224334014372, 0.004630644386323354, 0.0030870962575489025, 0.013891933158970061, 0.0015435481287744512, 0.0030870962575489025, 0.38279993593606393, 0.127683735605947, 0.2675523438302035, 0.2742454428740636, 0.04702331123122242, 0.1465617072681166, 0.019564443358975753, 0.02162385844939425, 0.014759141481332585, 0.009953839603689417, 0.018877971662169583, 0.004118830180837, 0.013042962239317167, 0.013729433936123334, 0.008752514134278626, 0.006349863195457042, 0.0046336839534416255, 0.0012013254694107918, 0.00034323584840308336, 0.027267675325442765, 0.06816918831360691, 0.006816918831360691, 0.006816918831360691, 0.10225378247041036, 0.7839456656064795, 0.1540936092357873, 0.040942746415305806, 0.49466281805401285, 0.052481156768710166, 0.11240644924929412, 0.02605447499155824, 0.0011166203567810674, 0.02084357999324659, 0.005955308569499026, 0.02642668177715193, 0.029404336061901442, 0.006327515355092715, 0.00037220678559368915, 0.013771651066966498, 0.0018610339279684456, 0.0048386882127179585, 0.007816342497467472, 0.9766595683704479, 0.04859494059638211, 0.06803291683493495, 0.06803291683493495, 0.09718988119276421, 0.04859494059638211, 0.6511722039915202, 0.03961541027535725, 0.006990954754474808, 0.0046606365029832056, 0.04194572852684885, 0.02563350076640763, 0.023303182514916025, 0.8552267982974182, 0.0031413848386659757, 0.031413848386659754, 0.0062827696773319515, 0.0062827696773319515, 0.6345597374105271, 0.07853462096664938, 0.24188663257728013, 0.009423070118780137, 0.9258166391701486, 0.0023557675296950343, 0.014134605178170207, 0.04711535059390069, 0.011392863743387344, 0.1025357736904861, 0.011392863743387344, 0.8772505082408255, 0.03762583495567803, 0.010750238558765151, 0.13975310126394697, 0.24725548685159845, 0.5643875243351704, 0.9325927501182053, 0.029143523441193916, 0.02411747141021195, 0.03316152318904143, 0.030146839262764933, 0.012058735705105975, 0.0030146839262764936, 0.012058735705105975, 0.8833023903990126, 0.005058433191691854, 0.002529216595845927, 0.002529216595845927, 0.9863944723799116, 0.0017090908269955405, 0.01469818111216165, 0.002050908992394649, 0.8022472341917067, 0.0017090908269955405, 0.016065453773758082, 0.06118545160644035, 0.008545454134977704, 0.08784726850757078, 0.0023927271577937567, 0.0013672726615964325, 0.06358372849177514, 0.04624271163038192, 0.8843918599310542, 0.0184815276088703, 0.9749005813679084, 0.045814490700543276, 0.00597580313485347, 0.01195160626970694, 0.039838687565689805, 0.8943785358497361, 0.03667461611916402, 0.8924156588996578, 0.02444974407944268, 0.03667461611916402, 0.014463421626739664, 0.0067495967591451765, 0.000964228108449311, 0.976763073859152, 0.00629692169531699, 0.7818677771685263, 0.09655279932819384, 0.008395895593755988, 0.0052474347460974916, 0.010494869492194983, 0.03778153017190194, 0.052474347460974916, 0.006131856874045263, 0.9872289567212873, 0.0030659284370226315, 0.32874311830945896, 0.17713828219587352, 0.11729426794051084, 0.034310568173074596, 0.031916807602860094, 0.0007979201900715023, 0.06064193444543418, 0.050268971974504646, 0.017554244181573052, 0.033512647983003095, 0.025533446082288073, 0.12208178908093985, 0.21185809718282653, 0.22377511514936052, 0.26305713733534297, 0.0022068551789877766, 0.009268791751748662, 0.0008827420715951105, 0.06488154226224063, 0.02692363318365087, 0.09842574098285482, 0.0710607367634064, 0.007061936572760884, 0.020303067646687545, 0.2314303297172148, 0.12977179944163658, 0.2587132491610689, 0.1808976180516415, 0.08125565138713077, 0.032265017777079665, 0.014709052221903964, 0.015183537777449253, 0.006880040555406693, 0.005219341110998181, 0.0016606994444085122, 0.02692705527719516, 0.0017793208332948344, 0.011624896110859585, 0.0003558641666589669, 0.0009489711110905783, 0.00011862138888632229, 0.00011862138888632229, 0.00023724277777264458, 0.05325279269746352, 0.9319238722056116, 0.8110595830811731, 0.0063399409062738265, 0.027624028234478817, 0.12408170059421632, 0.009962764281287442, 0.0009057058437534038, 0.008151352593780635, 0.005887087984397125, 0.004528529218767019, 0.0018114116875068075, 0.02863129068171272, 0.05726258136342544, 0.0031812545201903024, 0.8843887566129041, 0.022268781641332117, 0.3525108966369143, 0.03630053645211758, 0.20111529437215853, 0.2081689531140392, 0.09290184684428196, 0.030279120452951155, 0.012214872455451886, 0.013763236569523253, 0.007741820570356829, 0.026838311310570344, 0.0027526473139046505, 0.00258060685678561, 0.009118144227309156, 0.0003440809142380813, 0.0022365259425475284, 0.0003440809142380813, 0.00017204045711904066, 0.000516121371357122, 0.4318038182085087, 0.1439346060695029, 0.39582016669113296, 0.15208970096182728, 0.10646279067327909, 0.030417940192365454, 0.09125382057709636, 0.015208970096182727, 0.09125382057709636, 0.015208970096182727, 0.09125382057709636, 0.41064219259693363, 0.1971256437847899, 0.03285427396413165, 0.03285427396413165, 0.11498995887446077, 0.6078040683364355, 0.3589175813712092, 0.031625934424102456, 0.10774882309606999, 0.24197517268673738, 0.05148407929505051, 0.011400046129618327, 0.005148407929505051, 0.00036774342353607505, 0.04743890163615368, 0.00220646054121645, 0.00036774342353607505, 0.007722611894257576, 0.0029419473882886004, 0.09009713876633839, 0.0029419473882886004, 0.036774342353607506, 0.019954706392826534, 0.35165463718679213, 0.09751450859890703, 0.08019532946551042, 0.012048124614536776, 0.2503750896458424, 0.04856900235235138, 0.001506015576817097, 0.065888181485748, 0.019201698604417988, 0.0007530077884085485, 0.001506015576817097, 0.00037650389420427425, 0.004141542836247017, 0.04630997898712573, 0.0011128736439196556, 0.008346552329397417, 0.15691518379267144, 0.020588162412513628, 0.0011128736439196556, 0.057312992661862266, 0.005564368219598278, 0.7428431573163701, 0.0016693104658794834, 0.003895057753718795, 0.37464090299161584, 0.056316987352933216, 0.15408617784332587, 0.17547696488510522, 0.10393263760412569, 0.0234452694130237, 0.01426052469451957, 0.03323427365248205, 0.016315007065763915, 0.02126993513758851, 0.008459633293359067, 0.0035047052215344708, 0.00410896474248869, 0.0031421495089619393, 0.0033838533173436267, 0.0007251114251450629, 0.0012085190419084382, 0.0022961861796260323, 0.00024170380838168764, 0.05108875049615333, 0.027046985556787057, 0.02253915463065588, 0.023290459785011076, 0.01126957731532794, 0.010518272160972744, 0.006010441234841568, 0.002253915463065588, 0.003005220617420784, 0.008264356697907156, 0.8339487213342676, 0.05279996685066842, 0.3282483376056118, 0.056559187791492715, 0.16386785828411332, 0.18591056289167393, 0.033832988467418605, 0.08987955522152619, 0.021017462532790344, 0.01435338904678365, 0.0035883472616959123, 0.0006834947165135071, 0.010765041785087737, 0.018283483666736315, 0.0025631051869256516, 0.007005820844263448, 0.00580970509036481, 0.0035883472616959123, 0.0011961157538986375, 0.21375572844744975, 0.03611132197204873, 0.018638101662992894, 0.502063863546871, 0.13454379637972994, 0.006406847446653807, 0.01106637286240203, 0.008736610154527919, 0.009901491508464975, 0.01980298301692995, 0.0005824406769685279, 0.0023297627078741117, 0.0011648813539370559, 0.0034946440618111676, 0.03145179655630051, 0.0011648813539370559, 0.06959489038438317, 0.007732765598264797, 0.07732765598264797, 0.061862124786118376, 0.05412935918785358, 0.3325089207253863, 0.38663827991323985, 0.08430454390160924, 0.1655188868812809, 0.18985421914153924, 0.23427585739439177, 0.10728791325851988, 0.07551678502984928, 0.028970633643164687, 0.010332859332728738, 0.019893168434973085, 0.014968160715635089, 0.016416692397793323, 0.018927480646867594, 9.656877881054896e-05, 0.008980896429381054, 0.0016416692397793324, 0.020762287444268026, 0.0007725502304843917, 0.0014485316821582343, 9.656877881054896e-05, 0.18720136901265538, 0.7956058183037854, 0.2981122926555999, 0.1925030051228986, 0.16175599736021343, 0.1069461139571659, 0.06750973443546097, 0.04277844558286636, 0.03141542097491748, 0.01269985103241345, 0.013368264244645737, 0.0006684132122322868, 0.012031437820181163, 0.005347305697858295, 0.0026736528489291474, 0.0006684132122322868, 0.0507994041296538, 0.37887281882406787, 0.01683879194773635, 0.0336775838954727, 0.01683879194773635, 0.0673551677909454, 0.04209697986934088, 0.4378085906411451, 0.003060119872589971, 0.00841532964962242, 0.006885269713327435, 0.007650299681474927, 0.013005509458507376, 0.9601126100251033, 0.0015300599362949854, 0.47062239299232, 0.070593358948848, 0.070593358948848, 0.047062239299232, 0.329435675094624, 0.03077976320280357, 0.051299605338005955, 0.13337897387881548, 0.07181944747320833, 0.13337897387881548, 0.5642956587180655, 0.02088860038342868, 0.04990054536041296, 0.017407166986190565, 0.001160477799079371, 0.0034814333972381134, 0.8877655162957189, 0.009283822392634969, 0.0034814333972381134, 0.0058023889953968556, 0.03132497470434388, 0.008543174919366512, 0.06264994940868776, 0.08827947416678729, 0.8059061673935743, 0.005080222990324814, 0.0366904993745681, 0.04685094535521773, 0.006209161432619217, 0.0033868153268832094, 0.0005644692211472015, 0.8997639385086392, 0.0005644692211472015, 0.9653428221974744, 0.08828892047524124, 0.03862640270791805, 0.08277086294553866, 0.005518057529702578, 0.03862640270791805, 0.7394197089801454, 0.08414519999544098, 0.004674733333080055, 0.004674733333080055, 0.06077153333004071, 0.84612673328749, 0.006629458219609241, 0.2121426630274957, 0.07955349863531089, 0.6165396144236595, 0.07955349863531089, 0.9959374541627367, 0.0026208880372703596, 0.0793607163560465, 0.1785616118011046, 0.06944062681154069, 0.16864152225659879, 0.09920089544505811, 0.10912098498956392, 0.28768259679066854, 0.05108946054003105, 0.008514910090005176, 0.008514910090005176, 0.9196102897205589, 0.003735936935472148, 0.004483124322566577, 0.004483124322566577, 0.0022415621612832887, 0.9855401635775527, 0.301746980060538, 0.04561291559054645, 0.16139954747424126, 0.2568358016329231, 0.0694719791302169, 0.0021052114887944516, 0.0021052114887944516, 0.019648640562081546, 0.024560800702601932, 0.0021052114887944516, 0.002806948651725935, 0.0007017371629314838, 0.11017273458024296, 0.036687322411375865, 0.09847649699895626, 0.003861823411723775, 0.0019309117058618876, 0.005792735117585663, 0.0019309117058618876, 0.8496011505792305, 0.11315483102144377, 0.247113913486292, 0.21514640517081687, 0.035857734195136146, 0.1273626124949883, 0.05361746103706678, 0.0067656102254973855, 0.10046931184863618, 0.024525337067428023, 0.013362080195357336, 0.014376921729181945, 0.0013531220450994771, 0.007611311503684558, 0.02300307476669111, 0.00016914025563743464, 0.00693475048113482, 0.005581628436035343, 0.003213664857111258, 0.01987910149826931, 0.00903595522648605, 0.0722876418118884, 0.8005856330666641, 0.05060134926832188, 0.04517977613243025, 0.00180719104529721, 0.07969638163613617, 0.19228333347131266, 0.3023402414450245, 0.08096140356686848, 0.04301074564489888, 0.0063251096536616, 0.011385197376590881, 0.00126502193073232, 0.058191008813686725, 0.22517390367035298, 0.5620202488959063, 0.004752813944151427, 0.014654509661133568, 0.15010970706944923, 0.05663769950113784, 0.12396923037661639, 0.015446645318492139, 0.010297763545661425, 0.021387662748681424, 0.008713492230944283, 0.0011882034860378568, 0.0007921356573585712, 0.0023764069720757135, 0.0055449496015099985, 0.02178373057736071, 0.0006118012423398951, 0.01407142857381759, 0.9623633542006551, 0.01407142857381759, 0.008565217392758532, 0.9587670102654936, 0.03364094772861381, 0.02996686211172878, 0.10488401739105073, 0.007491715527932195, 0.8540555701842703, 0.025840168155783175, 0.9474728323787164, 0.017226778770522116, 0.0010860259153076892, 0.04778514027353833, 0.023892570136769164, 0.005430129576538447, 0.02932269971330761, 0.8242936697185362, 0.014118336898999962, 0.053215269850076775, 0.02964067442625099, 0.0928741132022531, 0.01976044961750066, 0.6540708823392719, 0.20155658609850674, 0.9993534001639971, 0.010450723825467705, 0.007464802732476933, 0.7151281017712902, 0.0014929605464953865, 0.005971842185981546, 0.0014929605464953865, 0.12839460699860325, 0.007464802732476933, 0.0014929605464953865, 0.1224227648126217, 0.008033250106690261, 0.0053555000711268405, 0.9854120130873387, 0.05876125498315402, 0.914996684737684, 0.016788929995186865, 0.02400865854511363, 0.06302272868092328, 0.0060021646362784075, 0.3151136434046164, 0.5912132166734231, 0.12076976320756833, 0.004586193539527911, 0.009172387079055822, 0.7735379770003743, 0.03516081713638065, 0.018344774158111643, 0.01528731179842637, 0.003057462359685274, 0.012229849438741097, 0.001528731179842637, 0.004586193539527911, 0.022651225696780748, 0.09859945303304561, 0.043970026352574396, 0.014656675450858131, 0.8181089751660812, 0.07042606769492628, 0.04108187282204033, 0.8803258461865785, 0.0030443377854267703, 0.0015221688927133852, 0.9924541180491271, 0.0015221688927133852, 0.9947679740451447, 0.0035340441154766526, 0.02827235292381322, 0.021204264692859916, 0.01413617646190661, 0.0035340441154766526, 0.925919558254883, 0.1639646907493764, 0.18348841051194703, 0.15238867991670177, 0.08051374698546829, 0.24516954285918346, 0.04751347729829137, 0.02436145563294212, 0.01848706207606246, 0.022979245384264553, 0.00794770892989601, 0.00881159033531949, 0.007083827524472531, 0.012439892238098103, 0.015031536454368543, 0.0010366576865081753, 0.00587439355687966, 0.0019005390919316547, 0.0008638814054234794, 0.003100552416587442, 0.006201104833174884, 0.006201104833174884, 0.9487690394757572, 0.03410607658246186, 0.002080764370374763, 0.002080764370374763, 0.984201547187263, 0.008323057481499052, 0.010366297497528633, 0.018230385254274492, 0.013225965772708946, 0.0003574585343975391, 0.005719336550360625, 0.013583424307106486, 0.0014298341375901563, 0.012868507238311407, 0.04897181921246285, 0.0010723756031926174, 0.03681822904294653, 0.7942728634313319, 0.004646960947168008, 0.00393204387837293, 0.034673477836561294, 0.052998372018376615, 0.07419772082572726, 0.7313775338535974, 0.12719609284410388, 0.0013784840520165926, 0.004135452156049778, 0.0013784840520165926, 0.04548997371654755, 0.9456400596833825, 0.24257118881661416, 0.1482379487212642, 0.15722206682558323, 0.159468096351663, 0.053904708625914254, 0.02919838383903689, 0.021337280497757728, 0.003369044289119641, 0.004492059052159521, 0.002807536907599701, 0.0011230147630398803, 0.011230147630398804, 0.0022460295260797606, 0.005615073815199402, 0.1386923232354252, 0.010668640248878864, 0.0072995959597592225, 0.052992772143718496, 0.46569405823267773, 0.10437970270732431, 0.03372267318236632, 0.024087623701690226, 0.014452574221014135, 0.30350405864129687, 0.17901549128981256, 0.013061216102690187, 0.19975977568820286, 0.049939943922050714, 0.10602634248066152, 0.418727222115656, 0.0007683068295700111, 0.010756295613980154, 0.0030732273182800442, 0.016134443420970233, 0.0007683068295700111, 0.11258559754477604, 0.13040166949667545, 0.04206988418893892, 0.42519028859995206, 0.1287548057028024, 0.09491924048322874, 0.01212690611851976, 0.014522344364153292, 0.008982893421125748, 0.0070365998465485025, 0.004042302039506587, 0.0070365998465485025, 0.0001497148903520958, 0.0004491446710562874, 0.005389736052675449, 0.0062880253947880235, 0.043209130814486185, 0.08641826162897237, 0.02592547848869171, 0.043209130814486185, 0.7950480069865459, 0.021041871535669394, 0.06312561460700818, 0.04208374307133879, 0.8627167329624451, 0.8906534742658874, 0.016372306512240576, 0.014735075861016519, 0.009823383907344345, 0.06712645670018635, 0.12076321923031763, 0.07603610099686665, 0.733524739028596, 0.004472711823345098, 0.000993935960743355, 0.027333238920442263, 0.028327174881185618, 0.00596361576446013, 0.0024848399018583874, 0.06436246457494348, 0.24686972713676947, 0.21248430085700515, 0.07229756294719678, 0.11638144279304846, 0.004408387984585169, 0.0008816775969170338, 0.014988519147589575, 0.11549976519613143, 0.019396907132174745, 0.044083879845851694, 0.0026450327907511016, 0.08552272690095228, 0.035850621268251726, 0.06922878589731367, 0.056866502701364806, 0.022252109752707968, 0.016070968154733533, 0.004944913278379548, 0.001236228319594887, 0.7936585811799175, 0.22066553447939372, 0.7723293706778781, 0.037053859930083435, 0.034995312156189916, 0.0061756433216805726, 0.0061756433216805726, 0.8295947528790903, 0.08440045872963449, 0.9828654147345754, 0.008646762340540596, 0.009882014103474968, 0.002470503525868742, 0.004941007051737484, 0.03705755288803113, 0.9363208363042531, 0.9984074912388202, 0.009717363011137663, 0.8778017920061023, 0.022673847025987882, 0.08583670659838269, 0.35925622005587193, 0.1350395720777391, 0.05095832908593928, 0.002547916454296964, 0.04331457972304839, 0.06114999490312714, 0.0636979113574241, 0.28536664288125996, 0.012948413202263073, 0.0024278274754243262, 0.009711309901697305, 0.03479886048108201, 0.935522853863507, 0.0032371033005657683, 0.08280175734256118, 0.06210131800692088, 0.8280175734256118, 0.010350219667820147, 0.006556107140794497, 0.9703038568375856, 0.013112214281588994, 0.3964315062447085, 0.06072897219807893, 0.10520334960708096, 0.19053997224973462, 0.06592141220014515, 0.019415210442508504, 0.01106215478701066, 0.009481846960294851, 0.012642462613726467, 0.0191894521815491, 0.022350067834980718, 0.006998506089741437, 0.012416704352767066, 0.010610638265091857, 0.02415613392265593, 0.009481846960294851, 0.008353055655497845, 0.008127297394538444, 0.006321231306863234, 0.10835446628953178, 0.06191683787973245, 0.8203981019064549, 0.0027918547953448263, 0.005583709590689653, 0.033502257544137916, 0.03071040274879309, 0.08096378906499997, 0.005583709590689653, 0.011167419181379305, 0.8291808742174135, 0.03356944770572264, 0.06713889541144528, 0.06713889541144528, 0.022379631803815095, 0.7944769290354359, 0.011355156663192485, 0.003785052221064162, 0.034065469989577456, 0.02649536554744913, 0.011355156663192485, 0.003785052221064162, 0.07191599220021908, 0.6510289820230358, 0.18168250661107976, 0.18244520930627356, 0.03531197599476263, 0.24865516429645348, 0.05885329332460438, 0.03825464066099284, 0.020598652663611532, 0.05443929632525905, 0.02354131732984175, 0.011770658664920875, 0.06620995499017993, 0.02501264966295686, 0.2324705086321873, 0.0011068894048341677, 0.0011068894048341677, 0.9962004643507509, 0.9040788197235555, 0.014717562181546252, 0.002102508883078036, 0.025230106596936433, 0.018922579947702325, 0.031537633246170545, 0.048989816376320945, 0.9063116029619376, 0.03674236228224071, 0.0252918093450901, 0.9206218601612797, 0.04552525682116218, 0.011081976498197043, 0.4321970834296847, 0.022163952996394086, 0.014775968664262725, 0.21055755346574384, 0.011081976498197043, 0.2955193732852545, 0.110975560941618, 0.07149387099123468, 0.05228656236672387, 0.025609744832681077, 0.46844491589779136, 0.012804872416340539, 0.0010670727013617116, 0.23689013970229997, 0.006402436208170269, 0.012804872416340539, 0.24572741064881418, 0.11341265106868346, 0.1701189766030252, 0.45365060427473386, 0.025089164697911677, 0.9617513134199476, 0.3820251139315734, 0.2938654722550565, 0.029386547225505648, 0.26447892502955084, 0.9927927101428138, 0.8786269837795189, 0.046750105553213836, 0.011000024836050315, 0.006875015522531447, 0.013750031045062894, 0.013750031045062894, 0.004125009313518868, 0.012375027940556603, 0.004125009313518868, 0.0027500062090125787, 0.0013750031045062893, 0.0027500062090125787, 0.6222625409844771, 0.09510673899803614, 0.04806196168617335, 0.04653618512470752, 0.058996693710011726, 0.05492795621276954, 0.012714804678881838, 0.017546430456856936, 0.0035601453100869143, 0.005085921871552735, 0.004831625777975098, 0.0017800726550434571, 0.005340217965130372, 0.0015257765614658204, 0.012714804678881838, 0.004068737497242188, 0.005085921871552735, 0.9432660288124955, 0.004307150816495414, 0.01292145244948624, 0.004307150816495414, 0.021535754082477068, 0.008614301632990828, 0.09716108649481475, 0.010151158290503033, 0.09281059008459917, 0.001450165470071862, 0.7134814112753561, 0.001450165470071862, 0.03625413675179655, 0.039154467691940274, 0.005800661880287448, 0.001450165470071862, 0.9558470323145046, 0.01942214579448921, 0.009711072897244604, 0.002774592256355601, 0.005549184512711202, 0.0069364806408890025, 0.07527105196738411, 0.058715835259015164, 0.67832241259757, 0.0006622086683347575, 0.06820749283848003, 0.07085632751181906, 0.00794650402001709, 0.005076933123899808, 0.016113744262812434, 0.001324417336669515, 0.00022073622277825252, 0.00044147244555650504, 0.00022073622277825252, 0.014789326926142918, 0.0015451535594477675, 0.00022073622277825252, 0.027935788919688006, 0.9498168232693922, 0.953586631212842, 0.02846527257351767, 0.025219644105643268, 0.033626192140857686, 0.004203274017607211, 0.9331268319088009, 0.09031849974667085, 0.05419109984800251, 0.05419109984800251, 0.7767390978213693, 0.009031849974667085, 0.13330340621411096, 0.17255009433806243, 0.20909011431553448, 0.1630767558253845, 0.12450673473805289, 0.07105003884508453, 0.008796671476058084, 0.004736669256338969, 0.002706668146479411, 0.004736669256338969, 0.011503339622537495, 0.004736669256338969, 0.01015000554929779, 0.07375670699156395, 0.005413336292958822, 0.04450949317486357, 0.12363748104128769, 0.1335284795245907, 0.1404521784629028, 0.11918653172380134, 0.34321764737061466, 0.009396448559137864, 0.007418248862477262, 0.00593459908998181, 0.006923698938312111, 0.033134844919065105, 0.016814697421615128, 0.002967299544990905, 0.0039563993933212065, 0.0004945499241651508, 0.0019781996966606033, 0.00593459908998181, 0.0015914171781989212, 0.007957085890994607, 0.0031828343563978425, 0.0031828343563978425, 0.03182834356397843, 0.0222798404947849, 0.9230219633553743, 0.004774251534596764, 0.0089427017856544, 0.1386118776776432, 0.8517923450835817, 0.6115556107114437, 0.0011088950330216567, 0.0005544475165108284, 0.18463102299810585, 0.012197845363238225, 0.0005544475165108284, 0.002772237582554142, 0.1735420726678893, 0.0005544475165108284, 0.007762265231151598, 0.004435580132086627, 0.04789385863195191, 0.02612392289015559, 0.03918588433523338, 0.8838593911169308, 0.017345139459274215, 0.010407083675564529, 0.003469027891854843, 0.9678587818275012, 0.17009941987928479, 0.09494701346319052, 0.16976391806492722, 0.12312916586922587, 0.2095208830662985, 0.03757620320804713, 0.055693301183355574, 0.0379117050224047, 0.018788101604023565, 0.022478621561956767, 0.033885683250113936, 0.00821979445176031, 0.002180761793324164, 0.009226299894833001, 0.002180761793324164, 0.0005032527215363456, 0.0030195163292180732, 0.0010065054430726912, 0.1228731890145517, 0.0033208970003932893, 0.028227624503342957, 0.7488622735886867, 0.006641794000786579, 0.0016604485001966447, 0.08800377051042216, 0.11298673956299278, 0.18440591442880497, 0.1287150072862503, 0.20880077865263297, 0.1145916648408762, 0.13304830553653552, 0.0221479688347912, 0.010432014306242231, 0.01990107344575441, 0.0030493580279784983, 0.006259208583745338, 0.018135655640082647, 0.008987581556147152, 0.009308566611723837, 0.008987581556147152, 0.000320985055576684, 0.004975268361438603, 0.004975268361438603, 0.015630321246608125, 0.07815160623304063, 0.015630321246608125, 0.8857182039744604, 0.08124155819106042, 0.5068280694488173, 0.08608623826667412, 0.09614826611602564, 0.11142764173911499, 0.018260717208082387, 0.03428542822741999, 0.012298034038096303, 0.004472012377489565, 0.014906707924965215, 0.014906707924965215, 0.0011180030943723912, 0.0026086738868689127, 0.0022360061887447824, 0.01080736324559978, 0.0011180030943723912, 0.00037266769812413037, 0.06517301497491439, 0.9018536126258423, 0.008807164185799242, 0.02113719404591818, 0.9561812875347844, 0.03414933169767087, 0.2566424513732566, 0.04942743507929386, 0.13307386367502194, 0.5589102274350921, 0.06725011080780446, 0.531459046889692, 0.17924640429317532, 0.03846601668773251, 0.008373554653111839, 0.0036634301607364294, 0.0418677732655592, 0.03166250353207914, 0.014653720642945718, 0.022503928130238066, 0.0005233471658194899, 0.002355062246187705, 0.03427923936117659, 0.013345352728396993, 0.007588533904382604, 0.00157004149745847, 0.0010466943316389799, 0.001575624540767462, 0.004726873622302385, 0.03781498897841908, 0.07405435341607071, 0.49317048126021557, 0.001575624540767462, 0.10871809331295487, 0.2678561719304685, 0.00787812270383731, 0.004514539801768175, 0.006019386402357567, 0.9781502903831046, 0.004514539801768175, 0.006019386402357567, 0.029832237865050893, 0.10109813943156136, 0.01657346548058383, 0.001657346548058383, 0.003314693096116766, 0.7342045207898636, 0.001657346548058383, 0.018230812028642213, 0.04806304989369311, 0.02154550512475898, 0.02154550512475898, 0.04106083662871874, 0.2736624474752037, 0.09267362010057191, 0.34133254136052227, 0.10024349500977703, 0.005734753719094796, 0.042666567670065284, 0.008258045355496506, 0.008487435504260298, 0.01628670056222922, 0.006652314314149963, 0.022939014876379185, 0.020874503537505057, 0.005964143867858588, 0.00022939014876379184, 0.003211462082693086, 0.009175605950551674, 0.0018580782838860644, 0.1244912450203663, 0.6396434492277776, 0.17558839782723307, 0.0004645195709715161, 0.04180676138743645, 0.01532914584206003, 0.9994427544794038, 0.3306376213582431, 0.06848550625931098, 0.1090566669293838, 0.18499755741439192, 0.16627240633589677, 0.01681795976494472, 0.012136671995320931, 0.025833773247183126, 0.01837838902148598, 0.02409996296213728, 0.009535956567752161, 0.0038143826271008646, 0.006241717026165051, 0.015084149479898872, 0.006068335997660466, 0.00017338102850458475, 0.0017338102850458475, 0.0005201430855137542, 0.012944238140705737, 0.26859294141964407, 0.7119330977388155, 0.0032360595351764343, 0.9643005210070117, 0.011718929942793546, 0.0033482656979410127, 0.011718929942793546, 0.0033482656979410127, 0.0066965313958820254, 0.0681469708354562, 0.6264519704323589, 0.05939414889328752, 0.01125362821135974, 0.04501451284543896, 0.04063810187435462, 0.06564616456626515, 0.013129232913253032, 0.010003225076764214, 0.004376410971084344, 0.0018756047018932901, 0.009378023509466451, 0.035636489335972514, 0.0075024188075731605, 0.0012504031345955268, 0.6582972988631665, 0.04823345201982495, 0.0008932120744412028, 0.02947599845655969, 0.2617111378112724, 0.01861555854088185, 0.5093216816785274, 0.001116933512452911, 0.011541646295346746, 0.011913957466164384, 0.12174575285736729, 0.09680090441258561, 0.005584667562264555, 0.1701462050636601, 0.03462493888604024, 0.008563156928805651, 0.000744622341635274, 0.006329289903899828, 0.002978489366541096, 0.10880692395644054, 0.13600865494555067, 0.6800432747277534, 0.05440346197822027, 0.19246301920981956, 0.019246301920981958, 0.019246301920981958, 0.7313594729973143, 0.028869452881472933, 0.007099271058013147, 0.05916059215010956, 0.0035496355290065736, 0.0532445329350986, 0.004732847372008765, 0.0035496355290065736, 0.014198542116026294, 0.8530957388045798, 0.19926976242432679, 0.7860085073404001, 0.8371464926324467, 0.013502362784394302, 0.01950341291079177, 0.06901207645357088, 0.013502362784394302, 0.018003150379192402, 0.0015002625315993668, 0.0045007875947981005, 0.009001575189596201, 0.0030005250631987336, 0.0075013126579968345, 0.0045007875947981005, 0.6797180655411744, 0.04160391799011324, 0.05172378993365429, 0.14336485253349832, 0.01911531367113311, 0.011244302159490065, 0.013493162591388077, 0.005059935971770529, 0.003935505755821522, 0.008433226619617549, 0.011806517267464567, 0.0011244302159490063, 0.002811075539872516, 0.006184366187719535, 0.04354245571427316, 0.0783764202856917, 0.02177122785713658, 0.20464954185708387, 0.05225094685712779, 0.12627312157139217, 0.026125473428563896, 0.008708491142854631, 0.008708491142854631, 0.426716065999877, 0.003595313294850405, 0.025167193063952837, 0.017976566474252026, 0.003595313294850405, 0.010785939884551217, 0.019774223121677228, 0.9168048901868534, 0.016375334533082677, 0.019650401439699212, 0.032750669066165354, 0.013100267626466142, 0.9071935331327803, 0.0032750669066165354, 0.006550133813233071, 0.015021581960654597, 0.004005755189507893, 0.0020028775947539463, 0.9774042662399257, 0.06982064670564087, 0.007757849633960097, 0.015515699267920194, 0.038789248169800485, 0.8611213093695708, 0.05972888712167575, 0.19658667329963306, 0.15392318249843612, 0.01405385579333547, 0.33745984684711483, 0.11159430731136617, 0.03011540527143315, 0.01957501342643155, 0.011042315266192156, 0.00535384982603256, 0.0001673078070635175, 0.011042315266192156, 0.01756731974166934, 0.021080783690003206, 0.0025096171059527626, 0.001003846842381105, 0.003680771755397385, 0.000334615614127035, 0.003011540527143315, 0.974804285925827, 0.0037680293299795376, 0.9928757284496081, 0.0018840146649897688, 0.021990349814776256, 0.07476718937023927, 0.026388419777731507, 0.8708178526651397, 0.9769921226868281, 0.004044586400599973, 0.00539278186746663, 0.41119961739433053, 0.578375855285796, 0.2226940823559197, 0.14803469889722176, 0.11519924523848235, 0.24342260896730267, 0.0851153659086876, 0.0735587537271201, 0.02091196489997928, 0.03191826221575785, 0.019261020302612494, 0.005503148657889284, 0.000733753154385238, 0.005503148657889284, 0.0067872166780634504, 0.0023846977517520233, 0.0036687657719261897, 0.0016509445973667853, 0.013024118490337973, 0.0001834382885963095, 0.21203147660423394, 0.010096736981153997, 0.002524184245288499, 0.025241842452884994, 0.007572552735865498, 0.7421101681148188, 0.1341374858160848, 0.08942499054405653, 0.7601124196244806, 0.03069720995060128, 0.06139441990120256, 0.053720117413552246, 0.038371512438251605, 0.8058017612032836, 0.16192680276058338, 0.059657243122320194, 0.0681797064255088, 0.0085224633031886, 0.6988419908614651, 0.9932780551170661, 0.16954864592175925, 0.013935505144254184, 0.07083881781662543, 0.0023225841907090305, 0.006387106524449834, 0.010451628858190638, 0.004645168381418061, 0.6927107348789684, 0.018580673525672244, 0.001741938143031773, 0.008709690715158865, 0.0856510792305313, 0.8850611520488233, 0.14098392369344817, 0.17583089351201742, 0.08592039123204483, 0.046551295559157414, 0.42321777848353964, 0.04708331036554778, 0.020216562642834075, 0.020216562642834075, 0.0018620518223662964, 0.009044251708636297, 0.009044251708636297, 0.005852162870294075, 0.0023940666287566668, 0.0018620518223662964, 0.0007980222095855556, 0.002660074031951852, 0.0047881332575133335, 0.0010640296127807408, 0.0033779218066265276, 0.8872674612072345, 0.014637661162048286, 0.09458181058554277, 0.038609232327029196, 0.003285892112938655, 0.011500622395285293, 0.9430510364133939, 0.002464419084703991, 0.19040343655272196, 0.11578587357935795, 0.21098759185571894, 0.03945296433074419, 0.18182670517647323, 0.08004949284498822, 0.08633909585423728, 0.0002858910458749579, 0.009148513467998652, 0.0002858910458749579, 0.020870046348871928, 0.012579206018498148, 0.024300738899371423, 0.0002858910458749579, 0.02744554040399596, 0.06259581541226021, 0.047658177643425385, 0.032009223790360336, 0.039833700716892864, 0.0007113160842302297, 0.06828634408610204, 0.005690528673841838, 0.014226321684604594, 0.7162952968198413, 0.012092373431913904, 0.020176792539201554, 0.9684860418816746, 0.15056975705129452, 0.19312207969622558, 0.07651234937117411, 0.2463124830023894, 0.06751089650397717, 0.03886991010835049, 0.02782267249860877, 0.02086700437395658, 0.0654651117614324, 0.005319040330616382, 0.0061373542276342875, 0.00654651117614324, 0.004091569485089525, 0.02291278911650134, 0.00163662779403581, 0.06587426870994136, 0.04729064575401684, 0.27124902163257153, 0.11988732268075172, 0.16322390106403137, 0.23328997487349445, 0.02562235656237702, 0.028785610458966774, 0.017397896431243655, 0.01929584876919751, 0.004744880844884633, 0.006484670488008998, 0.009806087079428242, 0.0009489761689769266, 0.023566241529593676, 0.016132594872607754, 0.005852019708691048, 0.0007908134741474389, 0.0030050912017602674, 0.00031632538965897555, 0.0022142777276128287, 0.012399616135011199, 0.014052898286346024, 0.0024799232270022397, 0.006613128605339306, 0.004959846454004479, 0.005786487529671892, 0.004133205378337066, 0.0024799232270022397, 0.0024799232270022397, 0.003306564302669653, 0.003306564302669653, 0.9374109798068466, 0.13663598163516819, 0.2742096611835189, 0.26014419248578097, 0.03630230492463782, 0.1008695040894918, 0.040187053422108286, 0.01540503714514151, 0.03201568589294627, 0.006563885392277687, 0.008305324373902379, 0.02799698055073544, 0.010046763355527072, 0.00013395684474036096, 0.007903453839681296, 0.022906620450601725, 0.0002679136894807219, 0.009778849666046351, 0.0028130937395475803, 0.003750791652730107, 0.0041526621869511894, 0.035409770175609576, 0.9560637947414586, 0.003493225682572205, 0.004191870819086646, 0.014671547866803261, 0.000698645136514441, 0.976007255710674, 0.000698645136514441, 0.026455549326834506, 0.26523384068698186, 0.6525702167285845, 0.0006783474186367822, 0.029847286420018417, 0.0006783474186367822, 0.0006783474186367822, 0.0006783474186367822, 0.02238546481501381, 0.012813608437773707, 0.007118671354318725, 0.018508545521228686, 0.0597968393762773, 0.0014237342708637451, 0.0028474685417274903, 0.0014237342708637451, 0.0056949370834549805, 0.8898339192898407, 0.010145359325960187, 0.010145359325960187, 0.9739544952921779, 0.10837112508966731, 0.888643225735272, 0.1018524973058813, 0.023148294842245752, 0.8657462270999912, 0.06318501704875991, 0.20024790018530064, 0.14775573217556165, 0.05686651534388392, 0.1326885358023958, 0.05929670830729776, 0.010206810446338139, 0.017983427929262438, 0.004860385926827685, 0.009234733260972603, 0.011664926224386444, 0.005832463112193222, 0.256142338343819, 0.012150964817069213, 0.0014581157780483055, 0.0019441543707310741, 0.0077766174829242965, 0.0015857985106810936, 0.7358105089560274, 0.04651675631331208, 0.04123076127770843, 0.03911636326346697, 0.051802751348915724, 0.047573955320432806, 0.035944766242104784, 0.9175356575229283, 0.03904407053289057, 0.019522035266445286, 0.03720813829229581, 0.007328875724240084, 0.0016912790132861731, 0.0016912790132861731, 0.001127519342190782, 0.9488075264535432, 0.000563759671095391, 0.000563759671095391, 0.000563759671095391, 0.021707960230273087, 0.9768582103622888, 0.10049636483815429, 0.005583131379897461, 0.039081919659282226, 0.044665051039179685, 0.1842433355366162, 0.6029781890289257, 0.022332525519589842, 0.015394576622612408, 0.005131525540870803, 0.005131525540870803, 0.025657627704354015, 0.9236745973567445, 0.015394576622612408, 0.0006260413088526243, 0.0006260413088526243, 0.00438228916196837, 0.008138537015084116, 0.009390619632789365, 0.002504165235410497, 0.0006260413088526243, 0.002504165235410497, 0.010642702250494613, 0.005008330470820994, 0.9559650786179573, 0.00582104478423877, 0.11933141807689479, 0.5529992545026832, 0.0014552611960596926, 0.032015746313313234, 0.2503049257222671, 0.036381529901492314, 0.10788979433279852, 0.03596326477759951, 0.16902734445471768, 0.03596326477759951, 0.010788979433279852, 0.4747150950643135, 0.032366938299839554, 0.014385305911039802, 0.07911918251071892, 0.03596326477759951, 0.001539623842840026, 0.001539623842840026, 0.9607252779321762, 0.006158495371360104, 0.02925285301396049, 0.08052096443266703, 0.5003802789744308, 0.0006390552732751351, 0.004473386912925946, 0.40132671161678485, 0.009585829099127027, 0.0025562210931005403, 0.002613717694252532, 0.9966976807416322, 0.012427385473254553, 0.36536513291368383, 0.014912862567905463, 0.012427385473254553, 0.09693360669138551, 0.029825725135810926, 0.46478421669972025, 0.024187893352027638, 0.0009303035904626015, 0.003721214361850406, 0.9703066448524933, 0.013745023400574055, 0.003436255850143514, 0.003436255850143514, 0.008590639625358784, 0.1597858970316734, 0.8075201247837257, 0.003436255850143514, 0.806388607405911, 0.04403487275936715, 0.0027521795474604468, 0.0055043590949208935, 0.0055043590949208935, 0.1403611569204828, 0.08820955163669286, 0.13258657915762168, 0.42498490773110353, 0.12305776956723818, 0.006806292564559634, 0.11979074913624956, 0.0016335102154943122, 0.01579059874977835, 0.0024502653232414684, 0.0032670204309886244, 0.06016762627070717, 0.012523578318789726, 0.0013612585129119269, 0.0024502653232414684, 0.0002722517025823854, 0.004900530646482937, 0.08891735001778636, 0.00773194347980751, 0.02061851594615336, 0.8827302139446908, 0.006488608790570939, 0.006488608790570939, 0.7570043588999429, 0.010814347984284899, 0.18816965492655724, 0.030280174355997714, 0.12274253075479949, 0.47733206404644246, 0.0109104471782044, 0.0136380589727555, 0.37641042764805177, 0.30384485861960997, 0.6869535934008573, 0.02007327405996698, 0.007646961546654088, 0.0033455456766611634, 0.00955870193331761, 0.018639468769969338, 0.008124896643319968, 0.0004779350966658805, 0.0014338052899976416, 0.9295837630151376, 0.000955870193331761, 0.000955870193331761, 0.6453848257003792, 0.02349834674438299, 0.16284900767037513, 0.01694066858315983, 0.0530078984698872, 0.04153196168774668, 0.0054647318010193, 0.00163941954030579, 0.013661829502548248, 0.007104151341325089, 0.0021858927204077196, 0.0010929463602038598, 0.01530124904285404, 0.00655767816122316, 0.00327883908061158, 0.1256700273587352, 0.22189494741032278, 0.13539113934052077, 0.09481606324263317, 0.23316580188195823, 0.05085973080325494, 0.020146652368048357, 0.03550319158565165, 0.019723995325362027, 0.004930998831340507, 0.015356539217603292, 0.006058084278504051, 0.01437033945133519, 0.0028177136179088607, 0.006058084278504051, 0.006058084278504051, 0.005212770193131392, 0.0005635427235817722, 0.0014088568089544303, 0.990921781676641, 0.005811857957047748, 0.007435143088949832, 0.00477973484289632, 0.0026554082460535115, 0.0031864898952642137, 0.0010621632984214044, 0.9803767244429564, 0.988139048491627, 0.0014792723707185774, 0.0009861815804790516, 0.0014792723707185774, 0.0004930907902395258, 0.9950572147033631, 0.9960431074138084, 0.001717107440657923, 0.1648423143031606, 0.7898694227026445, 0.04292768601644807, 0.003427191046417089, 0.005140786569625634, 0.0031415917925489982, 0.002284794030944726, 0.0005711985077361815, 0.0005711985077361815, 0.9847462273371769, 0.006945734619512626, 0.99208242815372, 0.025924379443943296, 0.060490218702534355, 0.01728291962929553, 0.8900703609087198, 0.007749679376116124, 0.1123703509536838, 0.8776511893451511, 0.04606595761282918, 0.9213191522565837, 0.01750063775788279, 0.9625350766835534, 0.0016524901761060136, 0.9964515761919261, 0.17000991642798946, 0.03333527773097832, 0.023334694411684828, 0.01666763886548916, 0.0033335277730978325, 0.7500437489470123, 0.0920328613329591, 0.2756695263702854, 0.13257880723489213, 0.17548457009408053, 0.11134045461959388, 0.058566366302792154, 0.017162305143675356, 0.013944372929236228, 0.011584555971980865, 0.0006435864428878259, 0.0032179322144391294, 0.05706466460272056, 0.01523154581501188, 0.015017017000715938, 0.0010726440714797097, 0.0023598169572553616, 0.016089661072195647, 0.0012871728857756519, 0.01948355718632359, 0.11690134311794154, 0.11690134311794154, 0.03896711437264718, 0.6819245015213257, 0.09392915346645958, 0.19235877641894736, 0.08376680301413783, 0.3472620325993374, 0.11527008941633524, 0.0509569286966419, 0.01858258368424548, 0.010743056192454418, 0.013791761328150942, 0.01611458428868163, 0.0008710586101990068, 0.014953172808416284, 0.0001451764350331678, 0.0126303498478856, 0.011178585497553921, 0.007694351056757894, 0.006968468881592055, 0.001451764350331678, 0.0002903528700663356, 0.0008710586101990068, 0.9836625571281806, 0.04740739214546674, 0.04740739214546674, 0.0031604928096977828, 0.8975799579541703, 0.0031604928096977828, 0.07045805469662764, 0.9159547110561593, 0.24593910426942672, 0.06552982712441963, 0.13105965424883925, 0.2261183540898183, 0.02143877060243358, 0.09910375089804202, 0.017798224651076933, 0.10274429684939866, 0.002831535739944058, 0.02143877060243358, 0.042068530993454575, 0.004449556162769233, 0.018202729756783227, 0.0012135153171188818, 0.2332394906919985, 0.07235104602569518, 0.14216688019604257, 0.23245942550573764, 0.061430133418043084, 0.0772264534398256, 0.018331531877130318, 0.01111592890421732, 0.010530880014521671, 0.006630554083217349, 0.0193066133599564, 0.019891662249652046, 0.006240521490086917, 0.007995668159173863, 0.017941499283999886, 0.0007800651862608646, 0.061820166011173516, 0.0005850488896956484, 0.4334955192461679, 0.007185008606290076, 0.0993926190536794, 0.02155502581887023, 0.0407150487689771, 0.002395002868763359, 0.005987507171908397, 0.004790005737526718, 0.09819511761929771, 0.28380783994845804, 0.0011975014343816794, 0.40147397372916666, 0.1076870294117296, 0.041820205596788194, 0.19812322401478408, 0.05541177241574436, 0.01515982452883572, 0.03920644274698893, 0.001045505139919705, 0.017773587378634985, 0.0036592679897189673, 0.005227525699598524, 0.0005227525699598525, 0.0005227525699598525, 0.008886793689317492, 0.0036592679897189673, 0.014637071958875869, 0.08416316376353625, 0.07591223840815893, 0.38528641672520886, 0.13973789137144338, 0.09987336393922584, 0.09139154959194552, 0.05682815612677819, 0.02629362447656901, 0.03477543882384934, 0.012086585444874466, 0.011874540086192457, 0.007845678271234302, 0.014631129749058563, 0.009754086499372375, 0.010178177216736393, 0.00042409071736401635, 0.004877043249686188, 0.010602267934100408, 0.007633632912552294, 0.012053601183804259, 0.009040200887853195, 0.976341695888145, 0.022792698214593555, 0.07749517392961809, 0.018234158571674843, 0.036468317143349686, 0.8250956753682868, 0.022792698214593555, 0.05630423671098155, 0.9398476435602305, 0.9894939810870894, 0.07652368956289099, 0.891979256467448, 0.031087748884924462, 0.46776300602064086, 0.0823566509586037, 0.09317307746699174, 0.2299913847046721, 0.03131070831375486, 0.024099757308162835, 0.011385712114092677, 0.012524283325501945, 0.008349522217001297, 0.016319520696866173, 0.002466904291386747, 0.007780236611296663, 0.0017078568171139017, 0.007969998479864874, 0.0005692856057046339, 0.0007590474742728452, 0.001328333079977479, 0.0001897618685682113, 0.0001897618685682113, 0.20279471209407232, 0.14646284762349668, 0.09013098315292103, 0.01126637289411513, 0.13519647472938157, 0.4112226106352022, 0.07088663665098609, 0.8860829581373261, 0.003676708374575076, 0.02941366699660061, 0.05882733399320122, 0.23530933597280487, 0.08088758424065168, 0.047797208869475985, 0.5441528394371112, 0.2907351321570958, 0.002611393402608645, 0.01218650254550701, 0.6223820942883936, 0.007834180207825935, 0.007834180207825935, 0.00696371574028972, 0.013056967013043224, 0.00696371574028972, 0.020020682753332943, 0.0043523223376810746, 0.002611393402608645, 0.3352979321640722, 0.04184870603563711, 0.07183745489518273, 0.24160427047294947, 0.14282776999207322, 0.045406693188464554, 0.011182245337457689, 0.019992499239697082, 0.012198813095408389, 0.03388559193168997, 0.019653643320380183, 0.005252266749411945, 0.002371991435218298, 0.002033135515901398, 0.006777118386337994, 0.004405126951119696, 0.001185995717609149, 0.002202563475559848, 0.009851212810555872, 0.0032837376035186245, 0.0032837376035186245, 0.9818375434520686, 0.0014698940519688166, 0.06908502044253438, 0.13082057062522467, 0.7437663902962212, 0.02498819888346988, 0.019108622675594614, 0.0088193643118129, 0.0014604370677673093, 0.027539670420754975, 0.8418376526344418, 0.00020863386682390132, 0.0479857893694973, 0.03275551709135251, 0.007719453072484349, 0.03609365896053493, 0.00041726773364780264, 0.0035467757360063226, 0.9213863361938885, 0.052013744785138864, 0.014861069938611105, 0.9330835782680218, 0.02915886182087568, 0.974177125115025, 0.9766596439017873, 0.9785630140784132, 0.05990626078782379, 0.35482939082018705, 0.027649043440534055, 0.07373078250809081, 0.013824521720267028, 0.45620921676881193, 0.12010616741602645, 0.03741011771974594, 0.7856124721146648, 0.001968953564197155, 0.00787581425678862, 0.005906860692591464, 0.03937907128394309, 0.039466987844374364, 0.9472077082649847, 0.002383387138987165, 0.01747817235257254, 0.00953354855594866, 0.002383387138987165, 0.021450484250884482, 0.9144261989914089, 0.00476677427797433, 0.02780618328818359, 0.02131968422116941, 0.026649605276461763, 0.2505062895987406, 0.003553280703528235, 0.003553280703528235, 0.6093876406550923, 0.08350209653291353, 0.003553280703528235, 0.09502526137582515, 0.3309810863076778, 0.13925894190800897, 0.1548178818626434, 0.09348222600842337, 0.057092308593865174, 0.03677567625640865, 0.006943659153307927, 0.015944698796484868, 0.005529210066522979, 0.007329417995158367, 0.0066864865920742995, 0.019287942092522017, 0.017230561602653002, 0.004629106102205284, 0.004886278663438911, 0.0012858628061681344, 0.0019287942092522019, 0.001157276525551321, 0.03144298665069058, 0.31521989129712413, 0.5744270249677669, 0.0005530173531528494, 0.003634114035004439, 0.017064535468716495, 0.018565582570131373, 0.006399200800768686, 0.012008376811319015, 0.004108128909135453, 0.0009480297482620275, 0.0003160099160873425, 0.004424138825222795, 0.00015800495804367125, 0.00758423798609622, 0.0008690272692401919, 0.002291071891633233, 0.9630890757294273, 0.00452228103059671, 0.05471960047022019, 0.9311376641998625, 0.008140105855074077, 0.000452228103059671, 0.000452228103059671, 0.004443501078711936, 0.032881907982468324, 0.0008887002157423871, 0.6149805492937319, 0.346593084139531, 0.13117012724379304, 0.07870207634627582, 0.026234025448758608, 0.734552712565241, 0.0014417675325905782, 0.005767070130362313, 0.9919360624223179, 0.06321065291039711, 0.2317723940047894, 0.14749152345759325, 0.021070217636799036, 0.526755440919976, 0.008780870548112371, 0.07902783493301134, 0.9044296664555742, 0.1120833982261415, 0.1079827860959168, 0.060142311243295436, 0.027337414201497927, 0.13121958816719004, 0.06424292337352012, 0.49480719704711246, 0.14939793541425364, 0.008788113847897273, 0.8172945878544464, 0.017576227695794547, 0.1668633753428466, 0.06257376575356748, 0.7508851890428097, 0.23818932639002774, 0.024316311742833458, 0.008289651730511407, 0.13760821872648935, 0.11605512422715969, 0.4426674024093091, 0.0011052868974015207, 0.0016579303461022813, 0.0016579303461022813, 0.008289651730511407, 0.0027632172435038023, 0.0011052868974015207, 0.003868504140905323, 0.0011052868974015207, 0.01105286897401521, 0.004288884208538293, 0.032970797353138126, 0.007237492101908369, 0.005093049997639223, 0.01688748157111953, 0.01876386841235503, 0.0002680552630336433, 0.005361105260672866, 0.0016083315782018598, 0.013402763151682165, 0.0018763868412355032, 0.055755494710997805, 0.8323115917194625, 0.0037527736824710064, 0.01626830866944759, 0.04880492600834277, 0.9272935941585126, 0.9545364860516933, 0.011345028441614523, 0.9870174744204635, 0.04123682275001413, 0.2924958185103816, 0.13299321622840055, 0.1429900217435555, 0.19806170926900726, 0.0063372606390714355, 0.048912941270579526, 0.014102636351736433, 0.018297724380417525, 0.010710863051951722, 0.0192795534935131, 0.009014976402059366, 8.925719209959768e-05, 0.02659864324568011, 0.015352237041130801, 0.016244808962126777, 0.0019636582261911488, 0.00232068699458954, 0.0003570287683983907, 0.0025884585708883328, 0.1547954647288486, 0.11079592995525209, 0.08576720908766276, 0.11573790668706908, 0.3115039527087231, 0.05483999986274348, 0.011159302297651288, 0.005898488357329967, 0.024709883659084997, 0.03730395339500574, 0.029333023182397673, 0.019449069718763676, 0.006695581378590773, 0.0012753488340172903, 0.00876802323386887, 0.009883953463633998, 0.005101395336069161, 0.007014418587095096, 0.1968254839749331, 0.15427504722189805, 0.137040931777233, 0.09865045392463435, 0.2454375751257469, 0.01675869157032945, 0.01973009078492687, 0.014975852041570998, 0.013311868481396443, 0.003922246963268595, 0.004041102931852491, 0.006774790209282118, 0.004635382774771975, 0.01152902895263799, 0.0005942798429194841, 0.06929302968441184, 0.0016639835601745554, 0.0001188559685838968, 0.0003565679057516904, 0.38461536202438656, 0.03205128016869888, 0.544871762867881, 0.1329126940156483, 0.3467020873446043, 0.09744476366428878, 0.19464407452337784, 0.06099502209213038, 0.05117690988414159, 0.03436339272796078, 0.03497702474096008, 0.01570897953278207, 0.005645414519593557, 0.0023318016493973385, 0.0026999808571969183, 0.008468121779390336, 0.007118131350791876, 0.00024545280519971984, 0.004049971285795378, 0.00024545280519971984, 0.00024545280519971984, 0.15372303572367144, 0.02049640476315619, 0.8198561905262476, 0.003384988861369609, 0.0025387416460272067, 0.0016924944306848046, 0.0008462472153424023, 0.9376419145993817, 0.03977361912109291, 0.010154966584108827, 0.0016924944306848046, 0.0016924944306848046, 0.3320958693196581, 0.11955451295507692, 0.1991652727392061, 0.15894477301049192, 0.028412646597348528, 0.016512544613394114, 0.021032738390245016, 0.015866802645272553, 0.02094048953765622, 0.02213972462131054, 0.00774890361745869, 0.009593880669234568, 0.011162111163244065, 0.010793115752888889, 0.007472157059692308, 0.00728765935451472, 0.006918663944159544, 0.0028597144302526115, 0.0012914839362431149, 0.07520311953439074, 0.20054165209170863, 0.10027082604585431, 0.07520311953439074, 0.05013541302292716, 0.02506770651146358, 0.45121871720634443, 0.024721376375628275, 0.019056060956213462, 0.008240458791876092, 0.06798378503297775, 0.00721040144289158, 0.04686760937879527, 0.741126262594356, 0.024721376375628275, 0.05304795347270234, 0.006180344093907069, 0.050596166272971796, 0.9444617704288069, 0.0011747278468020902, 0.032892379710458525, 0.9033657141908074, 0.0035241835404062707, 0.025844012629645984, 0.030542924016854347, 0.9172156049121707, 0.02779441227006578, 0.02779441227006578, 0.049725806127642214, 0.919927413361381, 0.11032718123689278, 0.3864546943213719, 0.05869257453006418, 0.1696388757514513, 0.0879150377981974, 0.037890143051054086, 0.026622159333256956, 0.03244188718750383, 0.010029743748808434, 0.007181791820134435, 0.002847951928674, 0.021669199457302175, 0.014115935646471131, 0.015725647606156436, 0.0013620639658875652, 0.002847951928674, 0.011763279705392609, 0.0004952959875954783, 0.001981183950381913, 0.08133906946434934, 0.032535627785739735, 0.11387469725008907, 0.7645872529648837, 0.37418798785839585, 0.042112598868002345, 0.13174809576413235, 0.2795808647070156, 0.026320374292501468, 0.029391084626626637, 0.016377121782000913, 0.009065906700750505, 0.017693140496625986, 0.010966822621875611, 0.013160187146250734, 0.004971626255250277, 0.008481009494250473, 0.0076036636845004234, 0.017254467591750963, 0.004240504747125237, 0.004971626255250277, 0.0019009159211251059, 0.08969351233203034, 0.15696364658105308, 0.022423378083007584, 0.04484675616601517, 0.022423378083007584, 0.65027796440722, 0.0013386043453136954, 0.053544173812547814, 0.0026772086906273907, 0.005354417381254781, 0.5822928902114575, 0.35339154716281557, 0.3954365713851613, 0.020834164689567707, 0.1208794109711552, 0.26094275576537773, 0.06539039808507885, 0.06848458095976712, 0.010313942915627579, 0.00020627885831255155, 0.00536325031612634, 0.003094182874688273, 0.005775808032751443, 0.011345337207190335, 0.00020627885831255155, 0.0035067405913133762, 0.0012376731498753093, 0.00020627885831255155, 0.0024753462997506187, 0.024340905280881085, 0.04583252527201496, 0.008593598488502805, 0.008593598488502805, 0.842172651873275, 0.01718719697700561, 0.01718719697700561, 0.05442612376051777, 0.10768879869009339, 0.41401470865309686, 0.18914250721206657, 0.04172628626739117, 0.07120953045632626, 0.02948324418893508, 0.029733102190536227, 0.02323679414890646, 0.014491764092866396, 0.007995456051236633, 0.017490060112080135, 0.006246450040028619, 0.013242474084860673, 0.01474162209446754, 0.0027484380176125926, 0.010743894068849225, 0.003997728025618316, 0.0017490060112080132, 0.363889637995945, 0.021730546230629613, 0.43024541309304615, 0.029394444231610594, 0.05151303593064431, 0.03928960367591515, 0.006208727494465604, 0.005335625190556378, 0.001649193240717426, 0.0027163182788287016, 0.03162570567493417, 0.003298386481434852, 0.00038804546840410023, 0.0008731023039092255, 0.0012611477723133257, 0.0006790795697071754, 9.701136710102506e-05, 0.009798148077203531, 0.9599612775429989, 0.9787067667938741, 0.07152290985872609, 0.3852900808473566, 0.30643148792619707, 0.013004165428859288, 0.0011670404872053208, 0.037011855451368744, 0.08336003480038005, 0.020840008700095013, 0.013337605568060809, 0.0005001602088022803, 0.01533824640326993, 0.006835522853631164, 0.01617184675127373, 0.007502403132034205, 0.0038345616008174824, 0.001500480626406841, 0.01533824640326993, 0.0008336003480038006, 0.17894489785046205, 0.029824149641743677, 0.014912074820871838, 0.059648299283487353, 0.7008675165809763, 0.10780870753668521, 0.22833916876151178, 0.14923595672627377, 0.2169222103234362, 0.12379244934999104, 0.012395554875624926, 0.053333505846438825, 0.018593332313437388, 0.014189648344465376, 0.012395554875624926, 0.0030988887189062316, 0.007339473281620022, 0.011253859031817366, 0.029684091938996533, 0.004077485156455568, 0.0035881869376808997, 0.002446491093873341, 0.0014678946563240044, 0.06568409150913967, 0.13136818301827935, 0.08757878867885291, 0.08757878867885291, 0.6349462179216836, 0.05670623840027, 0.008100891200038571, 0.9316024880044357, 0.07401292774297738, 0.055509695807233035, 0.8511486690442399, 0.0018067326484098273, 0.009033663242049137, 0.0018067326484098273, 0.9864760260317657, 0.01748694382743081, 0.002331592510324108, 0.004663185020648216, 0.002331592510324108, 0.01981853633775492, 0.9524555404673981, 0.01188235638008891, 0.9832649904523573, 0.0029705890950222275, 0.030028267247540364, 0.030028267247540364, 0.9308762846737513, 0.9957808874060535, 0.0035563603121644767, 0.0027302587258997784, 0.008190776177699335, 0.05460517451799557, 0.057335433243895347, 0.043684139614396454, 0.8299986526735327, 0.011304697677132543, 0.003768232559044181, 0.003768232559044181, 0.9797404653514871, 0.0032243073502309116, 0.03116830438556548, 0.0008060768375577279, 0.004030384187788639, 0.002686922791859093, 0.0010747691167436373, 0.0005373845583718186, 0.0002686922791859093, 0.0010747691167436373, 0.9546636679475358, 0.006907494432229064, 0.9877717038087562, 0.9709195332633989, 0.0008469214368305341, 0.0033876857473221366, 0.027101485978577092, 0.0008469214368305341, 0.9663373594236394, 0.0008469214368305341, 0.846588506932735, 0.002687582561691222, 0.0120941215276105, 0.029563408178603444, 0.008062747685073667, 0.004031373842536833, 0.002687582561691222, 0.001343791280845611, 0.010750330246764889, 0.03493857330198589, 0.03359478202114028, 0.014781704089301722, 0.07597109400282083, 0.015929422936075334, 0.024506804517038978, 0.05391496993748575, 0.025732144742890924, 0.02083078383948313, 0.7817670640935434, 0.0014036388828121047, 0.007018194414060523, 0.0014036388828121047, 0.0014036388828121047, 0.9544744403122312, 0.03228369430467841, 0.2947374530880564, 0.17586044438967327, 0.1378714872621465, 0.11978150767760994, 0.08179255055008317, 0.05452836703338877, 0.018348407864315654, 0.023000116900339342, 0.014859626087297888, 0.01395512710807106, 0.016539409905861998, 0.014988840227187435, 0.005168565595581875, 0.0076236342534832646, 0.016280981626082904, 0.0019382120983432029, 0.0007752848393372812, 0.0005168565595581874, 0.0014213555387850155, 0.3236110215854161, 0.032361102158541606, 0.6148609410122906, 0.05739755531701519, 0.0009110723066192887, 0.011843939986050753, 0.9201830296854816, 0.0009110723066192887, 0.004555361533096444, 0.003644289226477155, 0.004150495020315901, 0.0373544551828431, 0.4828409206967497, 0.0006917491700526501, 0.053956435264106706, 0.0152184817411583, 0.1286653456297929, 0.0179854784213689, 0.06156567613468585, 0.05949042862452791, 0.13834983401053, 0.25137206529445, 0.2007743441129948, 0.2948570077794706, 0.058357116123020226, 0.022146606395716816, 0.0756541006802589, 0.01972179547647775, 0.015842098005695242, 0.009860897738238875, 0.003879697470782508, 0.010830822105934503, 0.012124054596195338, 0.0025864649805216722, 0.005819546206173762, 0.0004849621838478135, 0.0046879677771955305, 0.004526313715912926, 0.00501127589976074, 0.0014548865515434405, 0.35519239911643563, 0.4636480935031335, 0.037959493035344266, 0.14099240270270727, 0.0006066534736912101, 0.004853227789529681, 0.03518590147409018, 0.029119366737178083, 0.0030332673684560505, 0.00788649515798573, 0.012133069473824202, 0.0018199604210736302, 0.0024266138947648406, 0.9014870619051382, 0.0006066534736912101, 0.9791940400731278, 0.022595782449889825, 0.6241718087131903, 0.17225615971539385, 0.014672586006421963, 0.011738068805137572, 0.007042841283082543, 0.03404039953489896, 0.031105882333614564, 0.014966037726550403, 0.0005869034402568785, 0.0005869034402568785, 0.005869034402568786, 0.01702019976744948, 0.02024816868886231, 0.0005869034402568785, 0.001173806880513757, 0.014672586006421963, 0.0014672586006421965, 0.004988679242183468, 0.9531824798942452, 0.9821508067034314, 0.005760415288583175, 0.0014401038221457938, 0.005760415288583175, 0.0028802076442915876, 0.9519722149543363, 0.005145795756509926, 0.03602057029556948, 0.04002976087423958, 0.025473484192697918, 0.09097672925963542, 0.036390691703854165, 0.8005952174847917, 0.0036390691703854167, 0.9439221904301961, 0.0304491029171031, 0.5132165299389401, 0.06101175530742644, 0.17128968736042183, 0.130832694536246, 0.03132154283161999, 0.010766780348369372, 0.006851587494416873, 0.004241458925115207, 0.009461716063718538, 0.01859716605627437, 0.009787982134881247, 0.0022838624981389574, 0.0006525321423254165, 0.0035889267827897905, 0.004893991067440624, 0.021207294625576033, 0.11053913650904687, 0.8367198527420909, 0.05066377089997982, 0.005778308820215209, 0.0011556617640430418, 0.01733492646064563, 0.9742228670882843, 0.9901245385708021, 0.011333348461148094, 0.004857149340492041, 0.9811441667793922, 0.9949513731898694, 0.09558053876897074, 0.07168540407672806, 0.023895134692242685, 0.80048701219013, 0.08452089253872902, 0.06037206609909216, 0.024148826439636863, 0.8089856857278349, 0.001993980421556563, 0.05583145180358376, 0.41873588852687815, 0.003987960843113126, 0.001993980421556563, 0.009969902107782813, 0.023927765058678753, 0.049849510538914066, 0.045861549695800946, 0.35094055419395503, 0.02990970632334844, 0.003987960843113126, 0.026760714457650405, 0.01662801675038472, 0.029099029313173253, 0.6383599555577383, 0.010652323230715209, 0.01792708055900852, 0.00207850209379809, 0.02390277407867803, 0.02156445922315518, 0.007534570090018075, 0.1948595712935709, 0.0018186893320733283, 0.0005196255234495225, 0.008054195613467598, 0.00025981276172476123, 0.008777614862180323, 0.0029258716207267747, 0.8719097429765789, 0.03511045944872129, 0.005851743241453549, 0.07314679051816936, 0.14009485235975988, 0.2288215921876078, 0.08405691141585593, 0.15877416600772787, 0.3829259297833437, 0.047321967445529016, 0.0033801405318235013, 0.013520562127294005, 0.013520562127294005, 0.9160180841241689, 0.0033801405318235013, 0.9566705307293049, 0.032529755295277754, 0.010350376684861103, 0.9712048280720683, 0.984199700955412, 0.009941411120761738, 0.24628560279946596, 0.06157140069986649, 0.09235710104979974, 0.5849283066487316, 0.09724805140871327, 0.35657618849861533, 0.12966406854495102, 0.09724805140871327, 0.25932813708990204, 0.0006740338815022787, 0.9975701446233725, 0.0006740338815022787, 0.0006740338815022787, 0.09969015639373825, 0.013594112235509761, 0.00453137074516992, 0.23109990800366595, 0.049845078196869126, 0.01812548298067968, 0.5845468261269198, 0.9540138778369743, 0.01457521202250933, 0.023850346945924358, 0.0013250192747735754, 0.005300077099094302, 0.07986880290129575, 0.055908162030907024, 0.07188192261116617, 0.7827142684326984, 0.014661618098247625, 0.07330809049123813, 0.9041331160586036, 0.004887206032749209, 0.0024436030163746043, 0.04050721015430954, 0.1485264372324683, 0.7534341088701574, 0.05400961353907938, 0.005068692351082246, 0.015206077053246739, 0.9529141620034624, 0.010137384702164493, 0.005068692351082246, 0.005068692351082246, 0.03524852950645632, 0.03524852950645632, 0.24673970654519425, 0.6697220606226701, 0.004917018210849836, 0.10817440063869639, 0.019668072843399345, 0.02458509105424918, 0.02212658194882426, 0.01229254552712459, 0.8063909865793731, 0.006769013903270947, 0.17340982890379572, 0.019814749789574954, 0.688962542372923, 0.0015999487407731328, 0.03753725891813889, 0.0028306785413678504, 0.0006153649002973588, 0.0002461459601189435, 0.0667055551922337, 0.0006153649002973588, 0.0008615108604163023, 0.9766791483850225, 0.9739646516549223, 0.9760798133270092, 0.037547340165666916, 0.055937874124360916, 0.008428994731068083, 0.03448225117255125, 0.0015325444965578333, 0.15402072190406224, 0.708035557409719, 0.00047620043758344477, 0.00047620043758344477, 0.0009524008751668895, 0.0028572026255006687, 0.0014286013127503344, 0.00047620043758344477, 0.9933541127990658, 0.00163470690710514, 0.001226030180328855, 0.031059431234997662, 0.9644770751920326, 0.00081735345355257, 0.015885925985443992, 0.9690414851120834, 0.26707774601470513, 0.24653330401357398, 0.4519777240248856, 0.008082258802029937, 0.06196398414889619, 0.016164517604059875, 0.006286201290467729, 0.0017960575115622082, 0.0035921150231244163, 0.0008980287557811041, 0.0008980287557811041, 0.8504332317247056, 0.0440034090332741, 0.007184230046248833, 0.06417886153794676, 0.06417886153794676, 0.834325199993308, 0.2507276149437716, 0.20371618714181441, 0.015670475933985725, 0.5327961817555147, 0.025789599748557775, 0.010910984509005212, 0.021821969018010423, 0.00396763073054735, 0.004959538413184188, 0.01190289219164205, 0.8798221144988748, 0.0396763073054735, 0.024776359807367962, 0.08809372375953052, 0.841019769016768, 0.016517573204911973, 0.0027529288674853288, 0.02202343093988263, 0.004129393301227993, 0.005767141794591722, 0.9919483886697762, 0.0009611902990986203, 0.993906475225924, 0.9947720606271117, 0.0023855445098971504, 0.0028902996592662144, 0.00982701884150513, 0.0011561198637064856, 0.0040464195229727, 0.0005780599318532428, 0.003468359591119457, 0.9566891872171169, 0.0005780599318532428, 0.01965403768301026, 0.012079579857120333, 0.07398742662486205, 0.9120082792125851, 0.3091961906577452, 0.028108744605249564, 0.6183923813154903, 0.002583260076616128, 0.01980499392072365, 0.5674561301633428, 0.0034443467688215043, 0.05855389506996557, 0.006027606845437632, 0.32462968296142675, 0.00861086692205376, 0.007749780229848385, 0.0017221733844107522, 0.0009382236519576598, 0.020640920343068518, 0.0018764473039153196, 0.0037528946078306392, 0.0018764473039153196, 0.019702696691110858, 0.9494823357811517, 0.008114999331662853, 0.04970437090643497, 0.8896068017335402, 0.05071874582289283, 0.0014739594422886885, 0.01768751330746426, 0.058958377691547534, 0.9212246514304303, 0.015499598799110708, 0.0012916332332592257, 0.0025832664665184513, 0.979057990810493, 0.011137962989454507, 0.38982870463090774, 0.006125879644199979, 0.0005568981494727253, 0.010024166690509057, 0.5563412513232526, 0.0022275925978909013, 0.005568981494727254, 0.016706944484181762, 0.0016706944484181762, 0.009448021710820261, 0.008159655113890225, 0.7524060926071408, 0.00042945553231001185, 0.003435644258480095, 0.00687128851696019, 0.012024754904680331, 0.03135025385863086, 0.17006439079476468, 0.005582921920030154, 0.02536593901659392, 0.009223977824215971, 0.027671933472647913, 0.7217762647448998, 0.1245237006269156, 0.0023059944560539928, 0.08532179487399773, 0.11878341587420047, 0.004049434632075016, 0.021596984704400086, 0.6965027567169028, 0.15792795065092563, 0.0007189328236823766, 0.02492300455432239, 0.05655604879634696, 0.00047928854912158444, 0.009106482433310104, 0.0016775099219255454, 0.8993849624266531, 0.0026360870201687144, 0.00023964427456079222, 0.001198221372803961, 0.0028757312947295063, 0.013926136440553483, 0.9748295508387438, 0.030659790759924897, 0.9504535135576718, 0.9618888369607669, 0.0027791089789844597, 0.04724485264273581, 0.027791089789844594, 0.9198850720438561, 0.01093434949533858, 0.04373739798135432, 0.06873019682784251, 0.0031240998558110227, 0.0015620499279055114, 0.8700618098433699, 0.05862645569864427, 0.07510000523380052, 0.014373979496361818, 0.018734624961550237, 0.017604087248353238, 0.014212474108762247, 0.010982366356770827, 0.7863697322223112, 0.0029070969767922778, 0.000161505387599571, 0.000484516162798713, 0.000323010775199142, 0.018788592168278214, 0.9770067927504672, 0.9620665091700348, 0.046257973896804326, 0.06938696084520649, 0.8789015040392822, 0.02516686128656464, 0.05033372257312928, 0.016777907524376426, 0.016777907524376426, 0.8808401450297624, 0.008388953762188213, 0.9829565824578873, 0.0850079785271627, 0.05667198568477514, 0.8500797852716271, 0.9666227122239349, 0.018499257170244858, 0.018499257170244858, 0.9434621156824877, 0.9799639244940733, 0.0832627568060921, 0.012809654893244938, 0.39069447424397064, 0.012809654893244938, 0.4931717133899301, 0.008270329543293254, 0.195731132524607, 0.7838434556032383, 0.009189255048103615, 0.0009189255048103615, 0.0009189255048103615, 0.03972205454597971, 0.04634239697030966, 0.003310171212164976, 0.009930513636494928, 0.8970563984967085, 0.005675269356702918, 0.9231771486903413, 0.007567025808937224, 0.062427962923732094, 0.20593492017766615, 0.015068408793487769, 0.010045605862325179, 0.020091211724650358, 0.020091211724650358, 0.060273635173951075, 0.6378959722576488, 0.020091211724650358, 0.12182680400348113, 0.02030446733391352, 0.16243573867130817, 0.02030446733391352, 0.6598951883521895, 0.06534407713219421, 0.006534407713219421, 0.013068815426438842, 0.9082826721374995, 0.006234953824662639, 0.17250038914899968, 0.05126517589167059, 0.10737976031363433, 0.1032231244305259, 0.4655432189081437, 0.04572299471419269, 0.015933770885248968, 0.006927726471847377, 0.024939815298650556, 0.990946991043512, 0.00493852271923465, 0.022223352236555926, 0.0197540908769386, 0.9506656234526701, 0.06890478711706043, 0.06124869965960927, 0.8498257077770786, 0.022968262372353474, 0.0055631931154141515, 0.006490391967983177, 0.01947117590394953, 0.9448156307678367, 0.010199187378259278, 0.009271988525690252, 0.0009271988525690252, 0.0027815965577070757, 0.008517826729118059, 0.07027207051522398, 0.031941850234192715, 0.004258913364559029, 0.06601315715066496, 0.11499066084309378, 0.7005912484699602, 0.0035095075968926107, 0.08071867472853005, 0.8493008384480117, 0.06317113674406699, 0.006922848779629451, 0.005192136584722088, 0.0008653560974536814, 0.0034614243898147255, 0.9804484584150209, 0.0008653560974536814, 0.009572011695160407, 0.1627241988177269, 0.019144023390320813, 0.8040489823934741, 0.028894869800200815, 0.7842893231483079, 0.07980487849579274, 0.028894869800200815, 0.004127838542885831, 0.06742136286713524, 0.0013759461809619436, 0.004127838542885831, 0.1746001677952622, 0.37248035796322604, 0.011640011186350814, 0.4423204250813309, 0.01209692412416849, 0.017137309175905363, 0.0010080770103473742, 0.022177694227642233, 0.0010080770103473742, 0.0020161540206947485, 0.9334793115816685, 0.008064616082778994, 0.0020161540206947485, 0.0032031426282506646, 0.07687542307801595, 0.13773513301477858, 0.7783636586649115, 0.03676389292272596, 0.005655983526573224, 0.015553954698076368, 0.9261673024763655, 0.005655983526573224, 0.009897971171503143, 0.001065514155894675, 0.5988189556128074, 0.08417561831567934, 0.0074585990912627255, 0.0170482264943148, 0.0085241132471574, 0.001065514155894675, 0.2812957371561942, 0.09849188175469142, 0.3864735794939522, 0.23959220800760805, 0.034043933041295514, 0.02226772978801719, 0.040788485813627644, 0.02986873370604229, 0.034043933041295514, 0.02697821108932852, 0.007065721951966994, 0.008885680636564553, 0.015523177015685062, 0.01252559800575967, 0.011455034073643459, 0.003746973762406739, 0.011240921287220217, 0.016807853734224516, 0.00032116917963486335, 0.24648424468486635, 0.08953113328251362, 0.2546930894234831, 0.16756988393096375, 0.07322289506846164, 0.09106345096705543, 0.007880490949072104, 0.014338115476783967, 0.01674604326677822, 0.006785978317256533, 0.012805797792242168, 0.001970122737268026, 0.004596953053625394, 0.002845732842720482, 0.000985061368634013, 0.000437805052726228, 0.001203963894997127, 0.000328353789544671, 0.006457624527711862, 0.014972449674190319, 0.13974286362577631, 0.14473368018383975, 0.12726582223061772, 0.561466862782137, 0.0049908165580634396, 0.007486224837095159, 0.04963393348789423, 0.006204241685986779, 0.9368404945840035, 0.006204241685986779, 0.16052933208872847, 0.3548543130382419, 0.13342240539830721, 0.07797641898608192, 0.12743775924587655, 0.03133138279801937, 0.022706451578339882, 0.023234508591789646, 0.014961615381076668, 0.002112228053799059, 0.010033083255545529, 0.004928532125531137, 0.007920855201746471, 0.01689782443039247, 0.0026402850672488237, 0.005984646152430667, 0.0028163040717320786, 0.05961128074422049, 0.046468636170691566, 0.13095706557194897, 0.6167655346291789, 0.02018334702363371, 0.03661165274054487, 0.00797946277678542, 0.010326363593487015, 0.0248771486570369, 0.009856983430146696, 0.00046938016334031885, 0.00797946277678542, 0.0014081404900209565, 0.007040702450104783, 0.01971396686029339, 0.14239445595486983, 0.8408053589716123, 0.015256548852307483, 0.04902220481072835, 0.37013409672529796, 0.09886692983640182, 0.14492806187332777, 0.14262500527148148, 0.009047722364396172, 0.0347103530706835, 0.025169118577320262, 0.03372332881274937, 0.010199250665319322, 0.009212226407385194, 0.016121396212924088, 0.0001645040429890213, 0.026814159007210472, 0.015134371954989961, 0.002138552558857277, 0.0001645040429890213, 0.007731690020484002, 0.0001645040429890213, 0.004277105117714554, 0.015406707328742957, 0.3736126527220167, 0.003851676832185739, 0.6008615858209753, 0.07848802289040108, 0.22892340009700315, 0.01308133714840018, 0.14389470863240197, 0.01308133714840018, 0.03924401144520054, 0.47092813734240646, 0.00854175411144464, 0.8669880423116311, 0.00427087705572232, 0.01708350822288928, 0.029896139390056243, 0.07260490994727944, 0.0076142402234855985, 0.006091392178788479, 0.0015228480446971197, 0.004568544134091359, 0.980714140784945, 0.4379091885120604, 0.04971799909234597, 0.0705604790611897, 0.2607481087768887, 0.041684959937687456, 0.035605903280108035, 0.012375222481500962, 0.013894986645895818, 0.01107256748344823, 0.021493807467870094, 0.00021710916634212215, 0.009552803319053374, 0.010638349150763985, 0.008684366653684886, 0.001519764164394855, 0.001302654998052733, 0.005644838324895176, 0.00499351082586881, 0.002605309996105466, 0.3188106858231527, 0.19794103283801706, 0.10219597064192647, 0.12630199693952374, 0.13479003436825518, 0.03836592917786608, 0.008148515931582176, 0.02088057207467933, 0.012392534645947894, 0.011373970154500122, 0.0018673682343209156, 0.005771865451537375, 0.00390449721721646, 0.004413779462940346, 0.008318276680156805, 0.0018673682343209156, 0.0008488037428731434, 0.0011883252400224009, 0.0003395214971492574, 0.0003395214971492574, 0.0014479980109630888, 0.2888756031871362, 0.05285192740015274, 0.039095946296003395, 0.03330395425215104, 0.5661672222865677, 0.0007239990054815444, 0.0007239990054815444, 0.013755981104149342, 0.0007239990054815444, 0.056539379645138416, 0.28865508397304973, 0.16391349300709412, 0.18394313871097723, 0.1042048656239995, 0.022184734165693325, 0.0314389375605254, 0.02243827398472982, 0.034101105660408595, 0.008620353847240836, 0.0036763273760291796, 0.017113937784963423, 0.020790265160992603, 0.019649335975328374, 0.005577876018802893, 0.008873893666277331, 0.006845575113985369, 0.000887389366627733, 0.0005070796380729903, 0.02440596439652147, 0.0026149247567701576, 0.9274266470678159, 0.02702088915329163, 0.004358207927950263, 0.013074623783850787, 0.007133766244064836, 0.09511688325419781, 0.8940987025894594, 0.0027804355963590857, 0.0004634059327265143, 0.0013902177981795429, 0.0037072474618121145, 0.9777865180529451, 0.006951088990897714, 0.0064876830581712, 0.11209301811708193, 0.037364339372360646, 0.07472867874472129, 0.037364339372360646, 0.6725581087024916, 0.037364339372360646, 0.2707320526411725, 0.11735934370617922, 0.09382429362243667, 0.21102568397234917, 0.10756623561764204, 0.08497890567149989, 0.013268081926405186, 0.018322589326940496, 0.011372641651204446, 0.008687434594670062, 0.025114583646409817, 0.005686320825602223, 0.010424921513604074, 0.0050545074005353095, 0.006791994319469322, 0.004264740619201667, 0.0011056734938670989, 0.0017374869189340125, 0.0025272537002676548, 0.9659012453325173, 0.16908099145767055, 0.48102886717027205, 0.10616713417109545, 0.06684597336698603, 0.019660580402054716, 0.009174937520958867, 0.14745435301541035, 0.012192475187708487, 0.004064158395902829, 0.7518693032420234, 0.23165702856646125, 0.00530855574593341, 0.3043571961001822, 0.0017695185819778033, 0.6865732098073877, 0.07164885540599458, 0.02558887693071235, 0.033265540009926056, 0.06908996771292335, 0.05629552924756718, 0.017912213851498646, 0.7216063294460884, 0.00479665070802385, 0.09353468880646508, 0.7962440175319592, 0.026381578894131178, 0.0071949760620357755, 0.052763157788262356, 0.002398325354011925, 0.014389952124071551, 0.003437439734365456, 0.022343358273375462, 0.04124927681238547, 0.012031039070279095, 0.9040466501381149, 0.015468478804644551, 0.9613965903544759, 0.00457807900168798, 0.00457807900168798, 0.00457807900168798, 0.01831231600675192, 0.20992053062760183, 0.003469760836819865, 0.7841659491212895, 0.006908182526939417, 0.024178638844287958, 0.14507183306572774, 0.13816365053878835, 0.048357277688575916, 0.04490318642510621, 0.013816365053878834, 0.5181136895204562, 0.05526546021551534, 0.9884946410832918, 0.007662749155684432, 0.0036786359886725527, 0.26854042717309634, 0.0036786359886725527, 0.6032963021422987, 0.09196589971681382, 0.02942908790938042, 0.9868197488742072, 0.005944697282374742, 0.002972348641187371, 0.0400010490977056, 0.0325934474129453, 0.4133441740096245, 0.002963040673904118, 0.020741284717328827, 0.13333683032568533, 0.007407601684760295, 0.24889541660794592, 0.002963040673904118, 0.09629882190188384, 0.002506324779960285, 0.022556923019642565, 0.026316410189582994, 0.01629111106974185, 0.0037594871699404273, 0.9285933309752856, 0.04160417012830921, 0.11316334274900107, 0.0266266688821179, 0.7888150656327427, 0.01164916763592658, 0.0016641668051323687, 0.008320834025661843, 0.008320834025661843, 0.33908945349671354, 0.010764744555451223, 0.0017941240925752038, 0.2296478838496261, 0.4162367894774473, 0.4777110461631046, 0.009706755654983258, 0.0013866793792833225, 0.018026831930683194, 0.0013866793792833225, 0.15877478892794042, 0.29258934902878103, 0.039520362309574696, 0.05305555144145003, 0.023874998148652515, 0.015916665432435008, 0.003979166358108752, 0.0013263887860362508, 0.050402773869377526, 0.840930490346983, 0.010611110288290006, 0.07666361731536563, 0.11925451582390208, 0.008518179701707292, 0.7921907122587781, 0.01280790712254523, 0.9591699333994984, 0.002846201582787829, 0.009961705539757401, 0.014231007913939145, 0.9986488885221226, 0.0005548049380678459, 0.0686352395203512, 0.9059851616686357, 0.013727047904070238, 0.16722334008064416, 0.055473127238290613, 0.04421771011747802, 0.6375389840574559, 0.01768708404699121, 0.0434137517517057, 0.004019791828861638, 0.007235625291950949, 0.005627708560406294, 0.007235625291950949, 0.009647500389267932, 0.8724383205371382, 0.06350025750744993, 0.02484792685074128, 0.03589144989551518, 0.9477332473610349, 0.09724591846960134, 0.20353796888986328, 0.02035379688898633, 0.21710716681585418, 0.004523065975330295, 0.41386053674272205, 0.024876862864316625, 0.0022615329876651477, 0.015830730913656034, 0.0007602136753316854, 0.006841923077985168, 0.027367692311940674, 0.25239094021011954, 0.6606256838632346, 0.007602136753316854, 0.003801068376658427, 0.040291324792579325, 0.018814776250730452, 0.9407388125365227, 0.018814776250730452, 0.0006757923956772624, 0.024328526244381445, 0.027031695827090495, 0.03446541217954038, 0.002027377187031787, 0.0027031695827090495, 0.003378961978386312, 0.0006757923956772624, 0.036492789366572166, 0.8677174360496048, 0.9970056852240587, 0.0012248227091204652, 0.017090398402677745, 0.004272599600669436, 0.9681710695116942, 0.0008545199201338871, 0.007690679281204984, 0.06821574189997415, 0.01659301829999371, 0.7079687807997317, 0.2046472256999224, 0.0020346109159486985, 0.8240174209592228, 0.052899883814666156, 0.1200420440409732, 0.20328990751429282, 0.02258776750158809, 0.011293883750794044, 0.7595136822408995, 0.5222584125291097, 0.13416693736952603, 0.11911718544502072, 0.018251826802059626, 0.12295967529808591, 0.01408912946123901, 0.0038424898530651846, 0.010566847095929257, 0.024335769069412833, 0.0016010374387771603, 0.01088705458368469, 0.0006404149755108641, 0.015049751924505306, 0.0006404149755108641, 0.0009606224632662962, 0.0006404149755108641, 0.010511018219046764, 0.005255509109523382, 0.9197140941665919, 0.05781060020475721, 0.1731373449001635, 0.7708734165792994, 0.03297854188574543, 0.008244635471436357, 0.0041223177357181786, 0.0041223177357181786, 0.332045658753102, 0.05889111683545583, 0.05930878433074275, 0.06223245679775119, 0.08311583156209723, 0.03926074455697055, 0.011694689868033781, 0.014200694839755305, 0.006265012429303812, 0.0016706699811476831, 0.012112357363320702, 0.006265012429303812, 0.2982145916348614, 0.0033413399622953662, 0.005012009943443049, 0.0037590074575822867, 0.0016706699811476831, 0.0008353349905738416, 0.9989899730307027, 0.005669023895584843, 0.005669023895584843, 0.9183818710847446, 0.0651937747992257, 0.002389822510810573, 0.1577282857134978, 0.8364378787837005, 0.010388335064871862, 0.0012985418831089827, 0.006492709415544914, 0.0038956256493269483, 0.0025970837662179654, 0.9609209935006472, 0.012985418831089827, 0.0012985418831089827, 0.12961952639614235, 0.202285018466707, 0.19639322181233687, 0.015711457744986952, 0.03731471214434401, 0.011783593308740212, 0.003927864436246738, 0.14140311970488256, 0.001963932218123369, 0.24352759504729773, 0.013747525526863582, 0.03513712488299701, 0.11419565586974027, 0.8432909971919281, 0.007019672057323413, 0.04211803234394047, 0.007019672057323413, 0.88447867922275, 0.0561573764585873, 0.4470295066043075, 0.014135320366934625, 0.022969895596268768, 0.0070676601834673124, 0.012368405321067798, 0.06714277174293948, 0.012368405321067798, 0.41699195082457147, 0.13558878327343502, 0.02405607445173847, 0.03717756960723218, 0.8004112044851164, 0.1073126165426867, 0.03691554009068423, 0.0669630727226365, 0.5296950752547015, 0.0266135289025863, 0.060095065263904554, 0.05065155500814812, 0.06868007458731949, 0.05236855687283111, 0.12277914027413608, 0.8412644796561176, 0.03183162895996121, 0.0021367027735742085, 0.09187821926369096, 0.004273405547148417, 0.05982767766007783, 0.06837448875437467, 0.0021367027735742085, 0.5512693155821458, 0.19230324962167875, 0.006410108320722625, 0.021367027735742082, 0.01658811676340493, 0.9822534854901919, 0.10779151551896836, 0.0958924521175238, 0.04584639134085992, 0.056345564930369824, 0.10079206645929509, 0.023798126802889116, 0.006999449059673269, 0.5039603322964754, 0.02134831963200347, 0.0010499173589509905, 0.0034997245298366347, 0.002099834717901981, 0.006299504153705943, 0.02134831963200347, 0.0017498622649183173, 0.000699944905967327, 0.0010499173589509905, 0.952703662585972, 0.008081851766711983, 0.016163703533423966, 0.028286481183491943, 0.012122777650067975, 0.93749480493859, 0.015803715212102918, 0.029349756822476845, 0.04966881923803774, 0.9030694406915952, 0.012159407543549954, 0.21365816112237776, 0.010422349323042817, 0.2119211029018706, 0.003474116441014272, 0.43079043868576977, 0.11638290077397813, 0.007050308613095993, 0.02499654871915852, 0.020509988692642887, 0.0006409371466450902, 0.016664365812772346, 0.017305302959417436, 0.0006409371466450902, 0.8723154565839678, 0.0019228114399352707, 0.0006409371466450902, 0.03589248021212505, 0.0012818742932901805, 0.23962589626557274, 0.06846454179016363, 0.6846454179016364, 0.001149621192926542, 0.07415056694376194, 0.045984847717061676, 0.027590908630237006, 0.08765861596064882, 0.001149621192926542, 0.0017244317893898129, 0.0008622158946949064, 0.6455122998282533, 0.022417613262067565, 0.029315340419626818, 0.05029592719053621, 0.012358427823960325, 0.029076335560490364, 0.029076335560490364, 0.8141373956937302, 0.0872290066814711, 0.029076335560490364, 0.0006252139080299113, 0.0006252139080299113, 0.9984666111237683, 0.012277799632962626, 0.11496485110865005, 0.8583298107043873, 0.01339396323595923, 0.00794939640052438, 0.007337904369714813, 0.0015287300770239192, 0.00030574601540478386, 0.0027517141386430547, 0.9649344246174978, 0.005197682261881325, 0.00030574601540478386, 0.009172380462143515, 0.00030574601540478386, 0.9942851285979071, 0.9588842831837255, 0.023972107079593137, 0.9637156803592002, 0.08834844640547757, 0.02208711160136939, 0.03313066740205409, 0.06626133480410817, 0.7951360176492981, 0.04413406961258856, 0.014711356537529521, 0.02206703480629428, 0.9121041053268303, 0.04908888215058317, 0.11694704277050696, 0.11117188016455601, 0.005775162605950962, 0.07218953257438701, 0.11117188016455601, 0.07796469518033798, 0.005775162605950962, 0.004331371954463221, 0.010106534560414182, 0.4230306608859079, 0.011550325211901923, 0.00441161376702748, 0.00882322753405496, 0.01764645506810992, 0.08823227534054959, 0.01764645506810992, 0.8558530708033311, 0.00441161376702748, 0.9371698245993988, 0.021947771067901613, 0.004389554213580322, 0.03511643370864258, 0.0033173127682256647, 0.0033173127682256647, 0.023221189377579655, 0.013269251072902659, 0.0033173127682256647, 0.9520687644807658, 0.15389018830746545, 0.820747670973149, 0.6961067148836172, 0.02946038092010472, 0.11026599715810624, 0.0479783346413134, 0.05344954824076142, 0.018097091136635757, 0.006733801353166793, 0.008417251691458492, 0.0033669006765833964, 0.00547121359944802, 0.0008417251691458491, 0.00042086258457292456, 0.002104312922864623, 0.00547121359944802, 0.0008417251691458491, 0.005892076184020944, 0.00042086258457292456, 0.00462948843030217, 0.00042086258457292456, 0.00833855203807772, 0.005559034692051814, 0.9811696231471452, 0.002779517346025907, 0.005560896307628158, 0.13512978027536426, 0.025024033384326714, 0.005004806676865343, 0.17071951664418447, 0.013902240769070396, 0.002780448153814079, 0.028916660799666424, 0.5544213618705274, 0.0005560896307628158, 0.012790061507544765, 0.03670191563034585, 0.005560896307628158, 0.0022243585230512634, 0.0029803250807063472, 0.0029803250807063472, 0.9835072766330946, 0.0059606501614126945, 0.0029803250807063472, 0.008930299239351009, 0.8595413017875346, 0.12725676416075188, 0.004465149619675504, 0.2365027758064513, 0.09170515796576682, 0.0357167457340355, 0.0009653174522712297, 0.6332482486899267, 0.01358092325408922, 0.17655200230315987, 0.02716184650817844, 0.02716184650817844, 0.7197889324667287, 0.01358092325408922, 0.0008669859314792184, 0.9979008071325804, 0.014701145739202533, 0.025155293820413222, 0.05455758529881829, 0.00032669212753783404, 0.007187226805832349, 0.02417521743779972, 0.0026135370203026723, 0.0006533842550756681, 0.01372106935658903, 0.003920305530454009, 0.00032669212753783404, 0.0026135370203026723, 0.0032669212753783407, 0.8467859945780659, 0.03653216508592744, 0.9498362922341134, 0.9494602975729868, 0.004344255987297074, 0.22590131133944785, 0.004344255987297074, 0.004344255987297074, 0.760244797776988, 0.015730966512823904, 0.06816752155557025, 0.01048731100854927, 0.015730966512823904, 0.8861777802224133, 0.3438915787995645, 0.10507798241097803, 0.028657631566630374, 0.03821017542217383, 0.47762719277717286, 0.20919530970267222, 0.28295006632861436, 0.03754787610047963, 0.017432942475222684, 0.0013409955750171296, 0.002681991150034259, 0.021455929200274074, 0.008045973450102778, 0.41168564153025883, 0.006704977875085648, 0.057034077683072976, 0.004387236744851767, 0.9169324796740194, 0.013161710234555302, 0.14904115655971026, 0.2540796859446489, 0.15950952350854705, 0.023598183121954126, 0.1946406532690502, 0.10131250047094591, 0.01987215420796137, 0.02324332322538339, 0.00887149741426847, 0.003016309120851279, 0.006210048189987928, 0.001951729431139063, 0.002306589327709802, 0.005145468500275712, 0.009048927362553838, 0.003016309120851279, 0.005322898448561081, 0.00283887917256591, 0.01650098519053935, 0.010113507052266053, 0.0012339991324387678, 0.11476191931680542, 0.03948797223804057, 0.007403994794632608, 0.8378854109259234, 0.13458110204270168, 0.057196968368148214, 0.0067290551021350845, 0.12448751938949906, 0.676270037764576, 0.1353435594622554, 0.21544161921418664, 0.10653358540128408, 0.12568746925500676, 0.2019864115483484, 0.036883098660474276, 0.052396161616381914, 0.010605869571896036, 0.02358618755541059, 0.019153883853722693, 0.027860194696323917, 0.014879876712809366, 0.00015829656077456772, 0.010605869571896036, 0.00759823491717925, 0.0017412621685202448, 0.0034825243370404896, 0.0004748896823237031, 0.0007914828038728386, 0.004748896823237031, 0.982105455146116, 0.9988903425219599, 0.535281587988217, 0.006691019849852713, 0.1070563175976434, 0.34124201234248835, 0.00253714009412012, 0.03298282122356156, 0.00507428018824024, 0.01522284056472072, 0.9438161150126846, 0.9222074648543889, 0.027735562852763577, 0.006933890713190894, 0.0392920473747484, 0.002311296904396965, 0.03331436208004755, 0.5950912258653656, 0.12412286516920944, 0.010746568412918565, 0.006985269468397068, 0.004029963154844462, 0.03949363891747573, 0.06044944732266693, 0.03438901892133941, 0.005104619996136319, 0.0002686642103229641, 0.001880649472260749, 0.03438901892133941, 0.028747070504557163, 0.012358553674856351, 0.001880649472260749, 0.006447941047751139, 0.0008059926309688924, 0.015399407130409748, 0.22960516031440933, 0.4282575122966951, 0.03372470161559735, 0.14552439738237213, 0.048046150246878416, 0.008469673921725361, 0.012473519775631896, 0.011857543490415507, 0.008777662064333556, 0.009239644278245848, 0.010471596848678629, 0.000307988142608195, 0.0007699703565204874, 0.02340709883822282, 0.007237721351292582, 0.002309911069561462, 0.00046198221391229244, 0.003233875497386047, 0.014152425031414798, 0.960792410466049, 0.009434950020943198, 0.004717475010471599, 0.009434950020943198, 0.7468606028842135, 0.14995789359871267, 0.02987442411536854, 0.0005857730218699714, 0.018744736699839084, 0.007029276262439657, 0.009372368349919542, 0.005857730218699714, 0.0017573190656099142, 0.0005857730218699714, 0.01288700648113937, 0.0035146381312198285, 0.0017573190656099142, 0.009372368349919542, 0.0023430920874798855, 0.07636039482845576, 0.0026331170630501987, 0.21854871623316646, 0.010532468252200795, 0.047396107134903574, 0.005266234126100397, 0.637214329258148, 0.33495744039282216, 0.06699148807856443, 0.03349574403928222, 0.5359319046285155, 0.15777684235307837, 0.10847157911774138, 0.09861052647067398, 0.6311073694123135, 0.10605377464268348, 0.0066283609151677175, 0.0894828723547642, 0.0066283609151677175, 0.023199263203087014, 0.0729119700668449, 0.016570902287919295, 0.6760928133471072, 0.03764488229096614, 0.3216926304864379, 0.08079514262448464, 0.23211864179409952, 0.16084631524321896, 0.04002558630936716, 0.016367340126507018, 0.03600814827831544, 0.024551010189760525, 0.007439700057503189, 0.005058996039102169, 0.005058996039102169, 0.01413543010925606, 0.007737288059803317, 0.006100554047152615, 0.00044638200345019135, 0.00312467402415134, 0.000743970005750319, 0.9258294016011052, 0.029865464567777587, 0.04179105055711164, 0.09266711210489972, 0.8358210111422328, 0.007268008792541155, 0.0036340043962705777, 0.0018170021981352888, 0.009085010990676443, 0.007268008792541155, 0.06715745122491783, 0.02238581707497261, 0.9178185000738771, 0.005538531919775058, 0.016615595759325176, 0.05815458515763812, 0.9166270327227722, 0.002769265959887529, 0.0012584302141185949, 0.22752418271264194, 0.041276511023089914, 0.06115970840616371, 0.4351651680422101, 0.0729889524188785, 0.03800459246638156, 0.01937982529742636, 0.0025168604282371897, 0.025671976368019336, 0.03649447620943925, 0.006040465027769255, 0.02667872053931421, 0.005285406899298098, 0.00025168604282371895, 0.15664641712336155, 0.01800533530153581, 0.0567168061998378, 0.2970880324753409, 0.008102400885691115, 0.0027008002952303716, 0.0009002667650767905, 0.003601067060307162, 0.001800533530153581, 0.019805868831689392, 0.4312277804717827, 0.0027008002952303716, 0.0059051266770516475, 0.017715380031154943, 0.035430760062309885, 0.017715380031154943, 0.921199761620057, 0.03816382219361532, 0.9464627904016599, 0.007632764438723063, 0.011573448171159382, 0.9837430945485475, 0.9613343063702428, 0.006162399399809248, 0.012324798799618496, 0.018487198199427745, 0.019965806841996465, 0.5889913018388958, 0.019965806841996465, 0.04991451710499117, 0.3094700060509452, 0.056882487295036914, 0.025855676043198595, 0.010342270417279439, 0.06205362250367663, 0.8377239037996345, 0.008609836702666754, 0.2755147744853361, 0.05165902021600052, 0.18080657075600184, 0.4821508553493382, 0.050324787814109775, 0.003594627701007841, 0.003594627701007841, 0.003594627701007841, 0.007189255402015682, 0.21208303435946263, 0.7153309125005604, 0.020294214192350103, 0.12020419175468906, 0.0046832801982346385, 0.8367460620845888, 0.006244373597646185, 0.009366560396469277, 0.00971850737545516, 0.01943701475091032, 0.03304292507654755, 0.005831104425273096, 0.001943701475091032, 0.9271456036184222, 0.001943701475091032, 0.02259341320464921, 0.008472529951743454, 0.02259341320464921, 0.9432750012941046, 0.001539213060403971, 0.036941113449695306, 0.006156852241615884, 0.003078426120807942, 0.9481552452088462, 0.001539213060403971, 0.0013295630671854193, 0.01861388294059587, 0.9785584174484686, 0.16030798865007503, 0.07286726756821593, 0.05829381405457274, 0.6849523151412298, 0.9798468602871301, 0.05390185320604669, 0.4393752655759822, 0.21002395392634926, 0.06034430578047459, 0.08847634868880971, 0.011596414633970206, 0.028991036584925512, 0.028776288165777916, 0.015676634597774537, 0.002791729448918753, 0.009878427280789434, 0.007086697831870681, 0.0008589936765903856, 0.01954210614243127, 0.007301446251018277, 0.0008589936765903856, 0.002791729448918753, 0.007301446251018277, 0.0006442452574427892, 0.003221226287213946, 0.0750733953447684, 0.21227649718175892, 0.015532426623055531, 0.6937817224964804, 0.00517747554101851, 0.009960382387950766, 0.013446516223733534, 0.03237124276083999, 0.003984152955180306, 0.0004980191193975382, 0.0004980191193975382, 0.004482172074577844, 0.8969324340349665, 0.029383128044454757, 0.006972267671565536, 0.9436840433419127, 0.04225450940336922, 0.048999337600441124, 0.3674950320033084, 0.5696172996051281, 0.0030624586000275703, 0.0061249172000551405, 0.012622466056019003, 0.8276731313875317, 0.06491553971666915, 0.0018032094365741432, 0.014425675492593146, 0.07753800577268816, 0.24127568840278507, 0.004552371479297832, 0.09104742958595663, 0.05462845775157398, 0.009104742958595664, 0.5918082923087181, 0.14493424960706405, 0.17138529666959007, 0.12842967065482674, 0.13695521474935993, 0.13826683691774966, 0.07454385990348242, 0.043720738946324, 0.02688825445198926, 0.02656034890989183, 0.01672318264696893, 0.01683248449433474, 0.01978363437321161, 0.01300691983653139, 0.00535579052092469, 0.01453714569965273, 0.01136739212604424, 0.00830694039980156, 0.00054650923682905, 0.00207673509995039, 0.015017078881210287, 0.10887382188877458, 0.007508539440605143, 0.867236305389894, 0.0147385020250539, 0.0013398638204594456, 0.0006699319102297228, 0.016078365845513344, 0.008039182922756672, 0.9586725635387332, 0.09674964115074518, 0.05442167314729417, 0.04232796800345102, 0.07256223086305888, 0.006046852571921574, 0.012093705143843147, 0.03023426285960787, 0.6772474880552163, 0.06899507124285366, 0.14565626151269104, 0.14310088850369648, 0.013415708297221544, 0.5014919530151863, 0.05430167644113482, 0.03641406537817276, 0.010860335288226964, 0.012776865044972899, 0.001916529756745935, 0.009582648783729674, 0.000638843252248645, 0.04815517119680731, 0.27689223438164207, 0.10204310086942502, 0.0061149423741977535, 0.25912068310662983, 0.21708045428402026, 0.005350574577423035, 0.012803160595976547, 0.006879310170972473, 0.0026752872887115175, 0.013758620341944946, 0.016433907630656462, 0.0005732758475810395, 0.008599137713715592, 0.00898132161210295, 0.0005732758475810395, 0.003821838983873596, 0.0061149423741977535, 0.0013376436443557588, 0.0028663792379051973, 0.15346810326805882, 0.026625791410362015, 0.24776778117975762, 0.1076125736168798, 0.08986204600997179, 0.2640390981527566, 0.002218815950863501, 0.005547039877158753, 0.009984671778885755, 0.03587085787229327, 0.017380724948430758, 0.0077658558280222535, 0.008135658486499504, 0.015161908997567258, 0.0003698026584772502, 0.0018490132923862509, 0.005547039877158753, 0.07119913761848631, 0.09233638159897443, 0.07898654329550825, 0.20914746675430354, 0.10457373337715177, 0.1346108695599507, 0.17466038447034923, 0.005562432626444243, 0.1279359504082176, 0.021430354463986948, 0.8679293557914715, 0.0021430354463986947, 0.015001248124790863, 0.01285821267839217, 0.07500624062395432, 0.004286070892797389, 0.25974769587398105, 0.10389907834959243, 0.025974769587398108, 0.5714449309227583, 0.06332315296851021, 0.031661576484255105, 0.031661576484255105, 0.3641081295689337, 0.4907544355059541, 0.9684205770648054, 0.008003475843510788, 0.004001737921755394, 0.004001737921755394, 0.008003475843510788, 0.2183355393749195, 0.1453534499894569, 0.08031083476308228, 0.1251994002010028, 0.11817601921411727, 0.25589535943522035, 0.011298482457163667, 0.008550202940556289, 0.0027482795166073786, 0.0018321863444049188, 0.012825304410834432, 0.003969737079543991, 0.0015268219536707657, 0.004580465861012298, 0.007023380986885522, 0.0015268219536707657, 0.0006107287814683064, 0.0003053643907341532, 0.01345598793126449, 0.951705328229434, 0.03058179075287384, 0.003669814890344861, 0.003163982875997462, 0.9934906230632031, 0.09192058354433433, 0.01378808753165015, 0.891629660380043, 0.10152430954429648, 0.8798773493839027, 0.006061659005628072, 0.006819366381331581, 0.000757707375703509, 0.003788536878517545, 0.017427269641180708, 0.001515414751407018, 0.010607903259849127, 0.005303951629924563, 0.9463765122536828, 0.001515414751407018, 0.03717946793705392, 0.014871787174821568, 0.01858973396852696, 0.9220508048389372, 0.006788540521709541, 0.010182810782564312, 0.006788540521709541, 0.9707612946044644, 0.16468411843359665, 0.06587364737343866, 0.691673297421106, 0.7921252012964484, 0.05347680683857879, 0.02005380256446705, 0.008355751068527937, 0.05598353215913717, 0.02757397852614219, 0.0008355751068527936, 0.004177875534263968, 0.005013450641116762, 0.006684600854822349, 0.0016711502137055872, 0.0008355751068527936, 0.005849025747969555, 0.015040351923350286, 0.0008355751068527936, 0.05917798662040804, 0.22660838779034298, 0.16255904251520623, 0.057915041783996896, 0.26630093979183617, 0.13026373884126405, 0.029949834692035777, 0.01082524145495269, 0.011546924218616203, 0.004871358654728711, 0.0041496758910651976, 0.014614075964186133, 0.008660193163962153, 0.0041496758910651976, 0.0007216827636635127, 0.0045105172728969545, 0.0005412620727476346, 0.0010825241454952691, 0.0014433655273270254, 0.015209847782739769, 0.05807396426137002, 0.019357988087123343, 0.0013827134347945244, 0.030419695565479538, 0.8711094639205503, 0.002765426869589049, 0.3361818630539278, 0.06112397510071414, 0.0040749316733809425, 0.043805515488845134, 0.0020374658366904713, 0.05297411175395226, 0.49816039707082027, 0.0691224866589138, 0.11287089593670735, 0.09274662766892232, 0.04024853653557006, 0.6273521890435594, 0.01749936371111742, 0.013124522783338064, 0.004374840927779355, 0.0209992364533409, 0.0017499363711117417, 0.010532485142877107, 0.006481529318693604, 0.002430573494510102, 0.0008101911648367005, 0.01458344096706061, 0.001620382329673401, 0.9641274861556737, 0.00029024336653813186, 0.03337798715188516, 0.0014512168326906592, 0.0005804867330762637, 0.007546327529991429, 0.0055146239642245055, 0.00464389386461011, 0.9261665826231787, 0.019736548924592968, 0.0008707300996143956, 0.9896663735049801, 0.9623160927245727, 0.03440231742751864, 0.03440231742751864, 0.13760926971007456, 0.00860057935687966, 0.7826527214760491, 0.14052416228891199, 0.15514244762769142, 0.08676659684952955, 0.10775090967455163, 0.3416434750950226, 0.03630993455116182, 0.030415464656492693, 0.02098431282502209, 0.013910948951419139, 0.007544921465176482, 0.014854064134566199, 0.0028293455494411805, 0.0021220091620808854, 0.0007073363873602951, 0.01579717931771326, 0.016740294500860318, 0.0028293455494411805, 0.0004715575915735301, 0.0021220091620808854, 0.0019171538544655046, 0.995002850467597, 0.19152591513238687, 0.021280657236931875, 0.7873843177664793, 0.9031958752300553, 0.03763316146791897, 0.01577152313008478, 0.013518448397215525, 0.13631102133858988, 0.17573982916380182, 0.0011265373664346272, 0.016898060496519405, 0.0033796120993038812, 0.6331139999362604, 0.0033796120993038812, 0.018914284365832524, 0.027236569486798833, 0.015131427492666018, 0.04463771110336476, 0.02383199830094898, 0.0003782856873166505, 0.001513142749266602, 0.8394159401556474, 0.024588569675582282, 0.0026479998112165534, 0.0003782856873166505, 0.09006370263563986, 0.8105733237207587, 0.07205096210851189, 0.004189665651791719, 0.9504555792921786, 0.008977854968125113, 0.002992618322708371, 0.027532088568917014, 0.0005985236645416742, 0.005386712980875068, 0.9879143312523174, 0.09156752130480517, 0.03184957262775832, 0.19109743576654992, 0.01990598289234895, 0.07166153841245622, 0.5931982901919987, 0.0028165850112558026, 0.023940972595674324, 0.970313536377624, 0.06991287319494252, 0.018643432851984672, 0.9088673515342527, 0.9609307011632006, 0.00965759498656483, 0.02897278495969449, 0.004164863525217897, 0.07496754345392216, 0.08329727050435795, 0.8371375685687974, 0.00759733347510444, 0.0189933336877611, 0.04558400085062664, 0.0949666684388055, 0.8205120153112795, 0.00379866673755222, 0.776649776689968, 0.029935109165780356, 0.05820715671123958, 0.0016630616203211308, 0.004989184860963392, 0.05820715671123958, 0.005820715671123958, 0.027440516735298657, 0.0016630616203211308, 0.0016630616203211308, 0.0008315308101605654, 0.009978369721926785, 0.022451331874335265, 0.06569538019627906, 0.03284769009813953, 0.04379692013085271, 0.33942613101410846, 0.5036645815048061, 0.174539455784703, 0.14824899382550089, 0.10735271966674201, 0.0912863262472296, 0.0712033344728391, 0.08252283892749555, 0.023369299519290777, 0.015336102809534574, 0.02300415421430186, 0.002556017134922429, 0.002556017134922429, 0.0032863077449002656, 0.23040668744800752, 0.005842324879822694, 0.008033196709756205, 0.0014605812199556735, 0.001825726524944592, 0.0010954359149667552, 0.006207470184811613, 0.9074374579540305, 0.06481696128243075, 0.0009820751709459204, 0.004910375854729602, 0.002946225512837761, 0.007856601367567363, 0.002946225512837761, 0.004910375854729602, 0.001964150341891841, 0.629812931851891, 0.02738317095008222, 0.32859805140098663, 0.9516609919870164, 0.03648540544359168, 0.0060809009072652805, 0.023690186548389534, 0.015793457698926355, 0.0710705596451686, 0.023690186548389534, 0.8607434445914864, 0.06723042566919767, 0.0722442201258836, 0.3521051107081708, 0.002962696724405321, 0.2584383142673564, 0.18368719691312987, 0.006836992440935355, 0.014813483622026603, 0.011167087653527747, 0.010027588913371854, 0.0006836992440935355, 0.00045579949606235705, 0.002278997480311785, 0.0011394987401558926, 0.010255488661403033, 0.0034184962204676776, 0.002734796976374142, 0.011845183003596884, 0.041458140512589094, 0.005922591501798442, 0.9357694572841537, 0.023686031765896252, 0.94744127063585, 0.03112207334977735, 0.37346488019732815, 0.1244882933991094, 0.43570902689688285, 0.19610166427875825, 0.039220332855751654, 0.18956494213613298, 0.568694826408399, 0.1724620339314603, 0.09795426700638833, 0.08232326695217743, 0.11931663374714323, 0.09587013366582688, 0.0270937334272989, 0.014588933383930176, 0.014067900048789814, 0.009378600032526541, 0.005210333351403635, 0.003647233345982544, 0.0010420666702807269, 0.333982367824973, 0.007294466691965088, 0.013025833378509086, 0.0020841333405614538, 0.0010420666702807269, 0.0329822799440897, 0.010994093314696567, 0.09894683983226911, 0.0329822799440897, 0.010994093314696567, 0.8025688119728493, 0.5820581591188747, 0.07299845420993623, 0.03376580481076345, 0.1260590046268502, 0.03376580481076345, 0.10869373358131473, 0.023796852914252337, 0.003215790934358424, 0.002894211840922582, 0.0006431581868716848, 0.0012863163737433696, 0.003215790934358424, 0.0019294745606150544, 0.002251053654050897, 0.0006431581868716848, 0.0003215790934358424, 0.001607895467179212, 0.0006431581868716848, 0.9691420297601082, 0.019382840595202164, 0.9041343299426176, 0.08914000436053976, 0.07403163336188368, 0.04904006286392294, 0.01556078917797555, 0.03017850022395258, 0.7615355915888034, 0.0009430781319985181, 0.0014146171979977772, 0.0028292343959955544, 0.008959242253985922, 0.05564160978791257, 0.04742386492339523, 0.20550341466804598, 0.10321664718621314, 0.11437520363877672, 0.06416169960224061, 0.10228676748183284, 0.008368917339422688, 0.007439037635042388, 0.015807954974465077, 0.001859759408760597, 0.003719518817521194, 0.29756150540169557, 0.02045735349636657, 0.0009298797043802985, 0.003719518817521194, 0.001859759408760597, 0.2669238674451369, 0.033365483430642114, 0.6339441851822001, 0.033365483430642114, 0.024795731118971806, 0.022729420192390822, 0.025828886582262296, 0.8936794757462755, 0.01653048741264787, 0.013431021022776393, 0.002066310926580984, 0.025973946694789165, 0.9523780454756028, 0.01731596446319278, 0.04970864537288686, 0.04473778083559818, 0.006213580671610858, 0.854988700413654, 0.018640742014832574, 0.0012427161343221717, 0.012427161343221716, 0.012427161343221716, 0.9107305171915897, 0.017562296474768948, 0.010035597985582255, 0.010035597985582255, 0.030106793956746765, 0.017562296474768948, 0.27355961287178837, 0.009433090099027184, 0.018866180198054368, 0.14464071485175015, 0.009433090099027184, 0.015721816831711973, 0.022010543564396762, 0.015721816831711973, 0.48737632178307116, 0.04000323845461577, 0.01600129538184631, 0.024001943072769465, 0.01600129538184631, 0.01600129538184631, 0.8800712460015471, 0.06697396055464996, 0.8929861407286661, 0.022324653518216653, 0.03021356370849895, 0.03021356370849895, 0.8761933475464695, 0.027091645745749734, 0.10836658298299894, 0.10836658298299894, 0.7450202580081177, 0.06444598853841169, 0.7733518624609402, 0.03222299426920584, 0.09666898280761753, 0.09129792744909836, 0.1825958548981967, 0.09129792744909836, 0.6086528496606557, 0.9990411658523803, 0.017856240150345322, 0.015036833810817113, 0.0009398021131760695, 0.0009398021131760695, 0.9416817174024217, 0.014097031697641043, 0.005638812679056418, 0.002819406339528209, 0.13358335217056433, 0.15835377508960938, 0.02300110699625611, 0.6272224946286763, 0.013269869420916987, 0.017693159227889315, 0.007077263691155727, 0.00619260572976126, 0.0008846579613944658, 0.008846579613944658, 0.0035386318455778634, 0.10583545194319953, 0.2476103430708579, 0.11475834718899622, 0.07559675138799966, 0.1920901059859008, 0.17746647211084512, 0.023794387322124484, 0.018093648692865495, 0.006444313233075381, 0.004709305824170471, 0.008675037044524552, 0.0009914328050885201, 0.004709305824170471, 0.005700738629258992, 0.0032221566165376906, 0.008675037044524552, 0.0004957164025442601, 0.0004957164025442601, 0.0009914328050885201, 0.0021221818728702204, 0.9967180862913801, 0.028602347219189445, 0.8580704165756834, 0.11154915415483883, 0.05719267798055467, 0.012709483995678816, 0.009532112996759112, 0.13662695295354726, 0.7848106367331669, 0.48052558878326007, 0.07453297278731524, 0.09028791012447132, 0.1545195777297999, 0.05938399457851133, 0.03605456813695331, 0.01757281472221254, 0.011513223438690974, 0.013331100823747442, 0.01726983515803646, 0.003029795641760782, 0.012725141695395285, 0.00030297956417607824, 0.006362570847697643, 0.010907264310338817, 0.002423836513408626, 0.0006059591283521565, 0.0045446934626411735, 0.004241713898465095, 0.9846331330787926, 0.009333015479419835, 0.0004420523504630828, 0.9941757361914731, 0.0004420523504630828, 0.0004420523504630828, 0.003978471154167745, 0.9863519263065408, 0.9750465530576772, 0.016667462445430378, 0.022335287437532766, 0.03350293115629915, 0.9269144286576098, 0.011167643718766383, 0.2705731368880957, 0.03349953123376423, 0.054114627377619136, 0.08761415861138336, 0.09792170668331082, 0.03607641825174609, 0.0025768870179818638, 0.023191983161836772, 0.0025768870179818638, 0.3891099397152614, 0.00944418976899059, 0.9633073564370402, 0.01888837953798118, 0.024503682331025012, 0.9556436109099755, 0.0721674658788917, 0.04582061325643917, 0.7924102305035449, 0.047825265086408386, 0.01431894164263724, 0.0008591364985582344, 0.009164122651287835, 0.0005727576657054897, 0.00773222848702411, 0.0011455153314109793, 0.0074458496541713656, 0.7498999429868235, 0.04309769787280595, 0.00861953957456119, 0.18962987064034617, 0.11865705450634056, 0.3233986387525753, 0.09422766093150574, 0.08043419381102078, 0.16369355558647825, 0.07129394451431387, 0.039053792449565874, 0.015787703330675567, 0.016120076032374, 0.003822286069531979, 0.012131603611992803, 0.015953889681524783, 0.010968299156048288, 0.004154658771230412, 0.003157540666135113, 0.01229778996284202, 0.003988472420381196, 0.0074783857882147415, 0.0033237270169843296, 0.9929900631551327, 0.007372090253466796, 0.010320926354853514, 0.045706959571494135, 0.9347810441395897, 0.2817782763641543, 0.10390474946311704, 0.31377333641224825, 0.10580544609963748, 0.045299936503737, 0.03484610500287462, 0.018373400819697527, 0.013146485069266333, 0.010453831500862385, 0.02423388211563553, 0.004910132977677787, 0.0019006966365204337, 0.008236352091588546, 0.016631095569553795, 0.01409683338752655, 0.0004751741591301084, 0.0015839138637670281, 0.0006335655455068113, 0.0927046553631426, 0.16223314688549956, 0.017382122880589237, 0.7203924260510873, 0.005794040960196412, 0.06258200325363841, 0.27118868076576647, 0.010430333875606402, 0.6466807002875969, 0.04653746570386685, 0.06980619855580028, 0.04653746570386685, 0.023268732851933423, 0.7562338176878363, 0.05817183212983356, 0.024260922046867483, 0.048521844093734966, 0.8976541157340968, 0.12057133625249085, 0.0441114644826186, 0.8292955322732297, 0.00588152859768248, 0.008713335094851686, 0.011617780126468916, 0.007261112579043072, 0.01307000264227753, 0.02904445031617229, 0.002904445031617229, 0.9221612975384702, 0.0014522225158086145, 0.002904445031617229, 0.2359956468580795, 0.044951551782491335, 0.7079869405742385, 0.054063359417413755, 0.07929292714554018, 0.14056473448527576, 0.02042393577991186, 0.019222527792858223, 0.03363942363750189, 0.04084787155982372, 0.004805631948214556, 0.001201407987053639, 0.0708830712361647, 0.018021119805804585, 0.5178068424201184, 0.009554071960242326, 0.09673497859745356, 0.009554071960242326, 0.0023885179900605814, 0.8753918433572031, 0.0023885179900605814, 0.0035827769850908723, 0.09954001976655838, 0.1201116238516471, 0.16324563241715573, 0.3390996673380755, 0.01791720355798051, 0.04313400856550863, 0.02057160408508873, 0.02388960474397401, 0.015262803030872284, 0.008626801713101725, 0.12409322464230944, 0.0006636001317770558, 0.0003318000658885279, 0.004645200922439391, 0.005972401185993502, 0.004977000988327919, 0.008295001647213198, 0.0003318000658885279, 0.37113006933411696, 0.011528532619697779, 0.143219847544707, 0.21505147386743934, 0.002660430604545641, 0.09577550176364308, 0.004877456108333676, 0.006651076511364103, 0.030151546851517268, 0.09932274256970394, 0.014632368325001026, 0.004877456108333676, 0.0008868102015152137, 0.10601105784986273, 0.18757423754747085, 0.18188378314996329, 0.0771372707217689, 0.21708029738639883, 0.03856863536088445, 0.02697696899559131, 0.04320530190700171, 0.024658635722532685, 0.00948409066251257, 0.0014753029919464, 0.012013181505849256, 0.009273333092234513, 0.01686060562224457, 0.005690454397507543, 0.0054796968272294855, 0.035407271806713596, 0.0006322727108341714, 0.00042151514055611424, 0.04112641606860882, 0.10281604017152206, 0.2673217044459573, 0.04112641606860882, 0.08225283213721764, 0.47295378478900146, 0.2454831358034228, 0.15574770380805394, 0.11075105759198539, 0.2796496436752227, 0.08535180457030772, 0.027591066734208233, 0.0036100461147562176, 0.0069622317927441335, 0.008380464194969791, 0.014826975114177321, 0.01431125424064072, 0.03494008918210482, 0.0009025115286890544, 0.004254697206676971, 0.0005157208735366025, 0.0006446510919207531, 0.0003867906551524519, 0.00012893021838415063, 0.0011603719654573557, 0.00412576698829282, 0.7167381453924525, 0.0011654278786869146, 0.07575281211464945, 0.150340196350612, 0.002330855757373829, 0.05244425454091116, 0.0010895009084040189, 0.8585267158223668, 0.09042857539753356, 0.022879519076484396, 0.0043580036336160755, 0.00980550817563617, 0.0043580036336160755, 0.0021790018168080377, 0.0010895009084040189, 0.0043580036336160755, 0.04088837409103381, 0.027258916060689205, 0.021807132848551364, 0.9077219048209505, 0.030299925086363172, 0.05947763072508327, 0.8237090745700211, 0.004488877790572322, 0.07967758078265871, 0.9596571497093828, 0.028724431691981526, 0.0026113119719983206, 0.00783393591599496, 0.0013056559859991603, 0.6299776672656614, 0.03098250822618007, 0.029835007921506732, 0.028687507616833398, 0.009180002437386687, 0.01721250457010004, 0.009180002437386687, 0.2432700645907472, 0.1301657968002489, 0.024662993077941894, 0.008220997692647298, 0.13153596308235677, 0.002740332564215766, 0.004110498846323649, 0.015071829103186715, 0.006850831410539415, 0.024662993077941894, 0.01781216166740248, 0.6330168223338419, 0.17218096144276834, 0.0324869738571261, 0.09854382069994917, 0.043315965142834804, 0.022740881699988273, 0.558775950342569, 0.0010828991285708701, 0.010828991285708701, 0.058476552942826984, 0.32362813696939413, 0.16583845982524914, 0.18948175895099242, 0.1245884485845906, 0.03823171773524449, 0.024481713988358314, 0.014588418609501188, 0.019451224812668248, 0.032530496669462415, 0.017606712114915227, 0.019115858867622244, 0.007545733763535097, 0.005030489175690065, 0.0028506105328910364, 0.003353659450460043, 0.0063719529558740814, 0.004024391340552051, 0.00016768297252300215, 0.0006707318900920086, 0.022613498625535185, 0.9271534436469426, 0.022613498625535185, 0.0020627288704568006, 0.06188186611370402, 0.935447542752159, 0.03822736620661818, 0.10618712835171716, 0.004247485134068686, 0.029732395938480805, 0.016989940536274745, 0.31006641478701413, 0.4842133052838303, 0.013960165157959677, 0.0021477177166091812, 0.9825808553487003, 0.024554255436767307, 0.0024554255436767306, 0.9649822386649551, 0.007366276631030192, 0.0028233059527124162, 0.05646611905424832, 0.0056466119054248325, 0.019763141668986912, 0.8836947631989862, 0.02823305952712416, 0.0028233059527124162, 0.22721730517930844, 0.06991301697824875, 0.6991301697824874, 0.0011496356282255636, 0.004598542512902254, 0.9932851827868868, 0.039136373157317134, 0.915791131881221, 0.039136373157317134, 0.4488742460801781, 0.1048350198027538, 0.08364256418671324, 0.1375255098487738, 0.10280595490334567, 0.023672423826428278, 0.009243517875081517, 0.009243517875081517, 0.01578161588428552, 0.019388842372122208, 0.0015781615884285518, 0.003832678143326483, 0.00789080794214276, 0.006538098009204, 0.013527099329387587, 0.0029308715213673107, 0.004058129798816276, 0.0045090331097958625, 0.027688488374063836, 0.04530843552119537, 0.15102811840398456, 0.02013708245386461, 0.007551405920199228, 0.002517135306733076, 0.010068541226932305, 0.7324863742593252, 0.0014279798819357495, 0.0007139899409678747, 0.0035699497048393737, 0.0007139899409678747, 0.0014279798819357495, 0.9374687924908195, 0.05426323551355848, 0.005860779350880438, 0.007032935221056526, 0.01054940283158479, 0.0023443117403521754, 0.9728893722461528, 0.07967833746335103, 0.008613874320362274, 0.0021534685800905684, 0.43930759033847594, 0.03876243444163023, 0.0021534685800905684, 0.41777290453757027, 0.0021534685800905684, 0.004306937160181137, 0.006449769754875481, 0.00429984650325032, 0.9825149259926982, 0.00429984650325032, 0.06371243130856755, 0.14866233971999093, 0.7857866528056664, 0.002465475676635934, 0.15308362610384937, 0.031154647186581348, 0.007172292877486354, 0.7044536410606128, 0.0042585488960075225, 0.0017930732193715884, 0.012103244230758222, 0.0013448049145286913, 0.006948158725064905, 0.013223914992865465, 0.036309732692274665, 0.025775427528466583, 0.901272545962243, 0.05632953412264019, 0.9373186395368602, 0.03232133239782277, 0.05265899824959202, 0.9215324693678603, 0.9853913883753582, 0.6525853754280313, 0.006525853754280313, 0.33803922447172025, 0.10304735148129825, 0.08545390122839368, 0.0025133500361292256, 0.03518690050580916, 0.01759345025290458, 0.03518690050580916, 0.7188181103329585, 0.03197881221352994, 0.028425610856471058, 0.07461722849823653, 0.053298020355883234, 0.014212805428235529, 0.007106402714117764, 0.0781704298552954, 0.003553201357058882, 0.5614058144153034, 0.14568125563941417, 0.006377338412447042, 0.0007971673015558803, 0.9860959520246239, 0.006377338412447042, 0.002048164980436766, 0.05256956783121033, 0.019798928144222072, 0.01501987652320295, 0.005461773281164709, 0.8417958069595108, 0.0068272166014558865, 0.05598317613193827, 0.9948245002765329, 0.0023081774948411436, 0.002772095717651515, 0.008316287152954545, 0.9896381712015909, 0.07499942914312088, 0.1337901904494501, 0.16510863338833573, 0.09038392742888927, 0.40439252636876905, 0.03104371975521121, 0.005769186857163145, 0.004120847755116532, 0.032142612489908955, 0.013461436000047339, 0.026373425632745806, 0.0038461245714420966, 0.00604391004083758, 0.007692249142884193, 0.00027472318367443546, 0.0005494463673488709, 0.00027472318367443546, 0.03331243862847234, 0.5755364396888375, 0.10352480927617559, 0.03049369382144776, 0.02511245373530992, 0.03177494146100439, 0.06303738386618613, 0.024343705151575943, 0.02383120609575329, 0.0074312363094284455, 0.0015374971674679543, 0.011274979228098331, 0.03331243862847234, 0.011531228756009657, 0.01076248017227568, 0.0012812476395566285, 0.011274979228098331, 0.0007687485837339771, 0.017904847212109918, 0.011936564808073277, 0.0059682824040366384, 0.11936564808073277, 0.8415278189691661, 0.9618205430153657, 0.007298961776699147, 0.0028072929910381334, 0.019651050937266934, 0.008983337571322027, 0.005614585982076267, 0.9090014704981476, 0.0022458343928305068, 0.0005614585982076267, 0.0011229171964152534, 0.035371891687080485, 0.006737503178491521, 0.9902004237313061, 0.026561748687552712, 0.053123497375105425, 0.1381210931752741, 0.026561748687552712, 0.7543536627264971, 0.08142782371513735, 0.032571129486054944, 0.1139989532011923, 0.3257112948605494, 0.032571129486054944, 0.016285564743027472, 0.3908535538326593, 0.05910987407154482, 0.13792303950027124, 0.03940658271436322, 0.748725071572901, 0.4066134620437053, 0.17393439610301428, 0.06857029077138063, 0.08362230581875688, 0.17769739986485836, 0.013588624695547991, 0.015888238105563807, 0.017978795751032728, 0.007944119052781903, 0.003763003761844059, 0.003763003761844059, 0.003763003761844059, 0.0020905576454689216, 0.011916178579172855, 0.004390171055484736, 0.00020905576454689217, 0.002508669174562706, 0.001254334587281353, 0.9474590462118294, 0.03229974021176691, 0.008258262414619544, 0.1298799452481074, 0.03378380078707996, 0.20195205359387797, 0.09834839784683276, 0.007507511286017768, 0.004504506771610661, 0.008258262414619544, 0.0030030045144071073, 0.084084126403399, 0.10285290461844342, 0.20870881375129396, 0.10660666026145231, 0.0059218435327389515, 0.003768445884470242, 0.006998542356873306, 0.005383494120671774, 0.0010766988241343548, 0.9738740864295239, 0.001615048236201532, 0.0005383494120671774, 0.1318372316435861, 0.7776915349762102, 0.08739771535923124, 0.0014813172094784955, 0.12872355701811128, 0.19882959162128144, 0.21775952647688604, 0.04399577962992242, 0.2112319627335741, 0.04321247198072499, 0.020627101428865702, 0.01436064023528625, 0.02088820397859818, 0.020365998879133228, 0.01514394788448368, 0.01135796091336276, 0.010835755813897806, 0.019843793779668273, 0.007049768842776886, 0.004569294620318352, 0.0022193716727260566, 0.008877486690904227, 0.0005222050994649545, 0.0012363339297333201, 0.0024726678594666402, 0.0012363339297333201, 0.2831204699089303, 0.1903954251789313, 0.5204965844177278, 0.020145040032991373, 0.9266718415176032, 0.040290080065982746, 0.41949744910856923, 0.08007214214677372, 0.16014428429354743, 0.0015107951348447871, 0.054388624854412336, 0.16769825996777138, 0.0020143935131263827, 0.0025179918914079785, 0.009568369187350318, 0.023165525400953402, 0.029712304318614147, 0.021654730266108615, 0.0005035983782815957, 0.026690714048924574, 0.024991135269030972, 0.27906767717084585, 0.027073729874783552, 0.004165189211505162, 0.13953383858542293, 0.18118573070047456, 0.016660756846020648, 0.033321513692041296, 0.008330378423010324, 0.002082594605752581, 0.02082594605752581, 0.2603243257190726, 0.019743331026420282, 0.8884498961889128, 0.05922999307926085, 0.01607702913961309, 0.6591581947241368, 0.10029003891853881, 0.01607702913961309, 0.03445077672774234, 0.09952446610236676, 0.024498330117505667, 0.01837374758812925, 0.0015311456323441042, 0.0015311456323441042, 0.01454588350726899, 0.00382786408086026, 0.004593436897032312, 0.004593436897032312, 0.05954778237244286, 0.9338174962951267, 0.0027067173805655847, 0.9787440708065727, 0.008473974639017945, 0.008473974639017945, 0.003405455053278122, 0.010216365159834366, 0.9807710553440991, 0.1911721380733214, 0.02623931306888725, 0.14244198523110221, 0.6372404602444046, 0.0028087685684209484, 0.1292033541473636, 0.16009980839999405, 0.01685261141052569, 0.044940297094735175, 0.6432080021683971, 0.022715949520239274, 0.02650194110694582, 0.011357974760119637, 0.007571983173413092, 0.9313539303298103, 0.8546585676083253, 0.002284504635721689, 0.000507667696827042, 0.12310941648055769, 0.0038075077262028152, 0.010661021633367882, 0.001015335393654084, 0.000507667696827042, 0.000253833848413521, 0.002030670787308168, 0.000507667696827042, 0.9853748146701738, 0.09833189906447914, 0.26591161437154925, 0.5136803008875397, 0.0049858427694665485, 0.0034623908121295473, 0.014680537043429281, 0.01675797153070701, 0.015096023940884827, 0.010664163701359006, 0.0024929213847332743, 0.003877877709585093, 0.006093807829348003, 0.011079650598814552, 0.0005539825299407275, 0.018696910385499557, 0.006509294726803549, 0.006924781624259095, 0.00013849563248518189, 0.2948461015177213, 0.0991626972248967, 0.1992060578354497, 0.11166811730121583, 0.07890743935480235, 0.06041350825602055, 0.012153154722056612, 0.0044033169282813815, 0.011096358659269081, 0.004579449605412637, 0.006869174408118955, 0.02941415708091963, 0.029766422435182138, 0.0010567960627875315, 0.01743713503599427, 0.004051051574018871, 0.026243768892557032, 0.008806633856562763, 0.023075307228125036, 0.05384238353229175, 0.06922592168437511, 0.023075307228125036, 0.8307110602125013, 0.0059767299379279975, 0.014941824844819993, 0.0029883649689639987, 0.32274341664811185, 0.30780159180329186, 0.0029883649689639987, 0.33768524149293183, 0.13215680885141634, 0.15434173144954288, 0.25560297324712655, 0.062063341746906135, 0.1246710987722939, 0.08084566885452246, 0.0061246718829183686, 0.03715634275637143, 0.004899737506334695, 0.002858180212028572, 0.02572362190825715, 0.0005444152784816327, 0.00299428403164898, 0.10534435638619594, 0.0013610381962040818, 0.0012249343765836738, 0.0009527267373428573, 0.0010888305569632655, 0.9631270015652191, 0.007031026335053629, 0.007031026335053629, 0.022499284272171613, 0.1476515530361262, 0.0014062052670107258, 0.0014062052670107258, 0.8113804390651888, 0.9518691559104745, 0.04762653177592367, 0.9761920647162539, 0.13242474384812603, 0.08828316256541735, 0.7724776724474018, 0.0029628293492863353, 0.04049200110691325, 0.00395043913238178, 0.00395043913238178, 0.03752917175762691, 0.9086010004478096, 0.000987609783095445, 0.08248757233316645, 0.8446727406916243, 0.07258906365318647, 0.19487481278562022, 0.04575607935338042, 0.0697862505245802, 0.13545774571162622, 0.15471480069128632, 0.3188112435521506, 0.007900330248065685, 0.009381642169578, 0.0029626238430246316, 0.004773116191539684, 0.005596067259046526, 0.003127214056526, 0.001152131494509579, 0.0013167217080109473, 0.017117382204142315, 0.0021396727755177893, 0.003785574910531474, 0.011850495372098526, 0.009546232383079369, 0.03568885064702946, 0.23197752920569148, 0.7137770129405892, 0.1102522127302428, 0.08728300174477555, 0.02296921098546725, 0.04134457977384105, 0.01378152659128035, 0.0551261063651214, 0.6661071185785503, 0.020902154234430495, 0.01567661567582287, 0.0801249245653169, 0.8169258613289919, 0.022644000420633036, 0.02612769279303812, 0.01567661567582287, 0.9546189719982596, 0.04062208391481956, 0.25294331639913875, 0.07274623083774703, 0.11919703511579467, 0.15590384884126335, 0.2231774274508496, 0.02536107130123291, 0.017886229233501104, 0.02015537771834826, 0.01868710516932951, 0.031501120142584035, 0.023759319429576094, 0.002936545098037495, 0.010678345811045436, 0.011479221746873844, 0.008008759358284077, 0.0008008759358284077, 0.00013347932263806794, 0.00453829696969431, 0.10784953035384219, 0.2227546374598049, 0.12763034374818005, 0.1729876228689548, 0.17235766065894406, 0.04220746807072095, 0.024442533748417504, 0.018016919206307748, 0.024568526190419656, 0.01146531222219584, 0.01448913083024749, 0.018268904090312052, 0.006803591868116213, 0.018394896532314204, 0.009953402918170014, 0.0018898866300322812, 0.0023938563980408895, 0.0002519848840043042, 0.0035277883760602585, 0.26497813207538284, 0.027850554422337536, 0.0787772825088976, 0.18540511944013274, 0.007161571137172509, 0.0015914602527050022, 0.006365841010820009, 0.0023871903790575032, 0.006365841010820009, 0.011935951895287516, 0.014323142274345018, 0.019893253158812525, 0.37160596900661796, 0.03478896998683266, 0.03478896998683266, 0.20873381992099593, 0.10436690996049797, 0.5914124897761551, 0.9835662958493856, 0.16617838449274266, 0.04370837717126825, 0.06794272490979322, 0.5180091829109712, 0.024667103948141488, 0.016011979755811142, 0.021637810480825866, 0.0004327562096165173, 0.07876163015020615, 0.009087880401946864, 0.020339541851976315, 0.00649134314424776, 0.0021637810480825866, 0.0225033229000589, 0.001298268628849552, 0.0062306293698475654, 0.0062306293698475654, 0.9626322376414488, 0.021807202794466476, 0.25256623155611607, 0.0011029093081053104, 0.006985092284666965, 0.4393255410619486, 0.009190910900877586, 0.27499205415425737, 0.0007352728720702069, 0.0018381821801755171, 0.0025734550522457243, 0.0007352728720702069, 0.00036763643603510344, 0.009190910900877586, 0.9624992668707548, 0.03290595784173521, 0.09374753140974172, 0.14704473908157636, 0.13975326441637423, 0.17100244155295483, 0.059894256178446105, 0.09010179407714065, 0.018923112821596016, 0.021527210916311063, 0.010416392378860191, 0.0031249177136580576, 0.006249835427316115, 0.006249835427316115, 0.19252965246926587, 0.005555409268725436, 0.011284425077098542, 0.01406212971146126, 0.00017360653964766987, 0.008506720442735823, 0.00017360653964766987, 0.002731415032262727, 0.0009104716774209089, 0.9359648843886944, 0.0063733017419463625, 0.0509864139355709, 0.002731415032262727, 0.948930194549469, 0.017904343293386207, 0.017904343293386207, 0.6425060422446519, 0.09546588976163187, 0.03296663819106712, 0.05837842179668136, 0.04910655480544373, 0.01682672157669051, 0.02060414886941695, 0.019573941425946102, 0.006181244660825085, 0.005151037217354238, 0.0017170124057847458, 0.005837842179668136, 0.030906223304125426, 0.004807634736197289, 0.010302074434708475, 0.9798725445019888, 0.5942309495974007, 0.09350498408716226, 0.11552608541203743, 0.0562385049219889, 0.06301422840656587, 0.023376246021790566, 0.012873874620696254, 0.0027102893938307903, 0.014567805491840499, 0.00575936496189043, 0.001693930871144244, 0.006775723484576976, 0.0003387861742288488, 0.003387861742288488, 0.0023715032196019413, 0.001693930871144244, 0.001693930871144244, 0.7301535513073698, 0.2625990842421242, 0.5234103984120229, 0.04932323655215591, 0.1151957169474694, 0.14764521467915093, 0.011681819183405348, 0.02628409316266203, 0.024012628321444324, 0.021416668502909804, 0.019145203661692096, 0.013953284024623053, 0.01005934429682127, 0.005191919637069043, 0.0012979799092672608, 0.005516414614385858, 0.00876136438755401, 0.011357324206088532, 0.004218434705118597, 0.0012979799092672608, 0.9621702991139287, 0.9708704295463321, 0.017814136321951047, 0.09730049607111864, 0.03243349869037288, 0.8432709659496949, 0.009740022651276303, 0.0077920181210210425, 0.005844013590765782, 0.9759502696578856, 0.14726277763666695, 0.11356084842628546, 0.08889494371433959, 0.1313886805448206, 0.3289601351187237, 0.031259760427020514, 0.02808494100865124, 0.010989759525124399, 0.013920362065157572, 0.02613120598196246, 0.001221084391680489, 0.006349638836738542, 0.030038676035340026, 0.02075843465856831, 0.003174819418369271, 0.0070822894717468355, 0.005128554445058053, 0.00024421687833609776, 0.005616988201730249, 0.02205089754535029, 0.3039873733037575, 0.6662521186916551, 0.006300256441528654, 0.01323869485267492, 0.23829650734814858, 0.0661934742633746, 0.05295477941069968, 0.6222186580757213, 0.04467419012791391, 0.04467419012791391, 0.8785924058489736, 0.029782793418609274, 0.265229636620293, 0.1357507441241016, 0.11372957618610566, 0.14104697438767025, 0.1666918788217921, 0.022299916899236404, 0.02118492105427458, 0.015609941829465481, 0.02648115131784323, 0.0501748130232819, 0.00891996675969456, 0.004320608899227053, 0.00501748130232819, 0.0036237364961259153, 0.013519324620162068, 0.002508740651164095, 0.0008362468837213651, 0.0033449875348854604, 0.0001393744806202275, 0.9915958766110604, 0.12375646324225592, 0.18503002159021323, 0.16769605442598848, 0.05079255494633304, 0.08021998757397045, 0.3204768347804347, 0.011287234432518455, 0.013302812009753893, 0.006046732731706315, 0.003628039639023789, 0.005643617216259228, 0.010884118917071367, 0.006852963762600491, 0.0004031155154470877, 0.0016124620617883507, 0.0004031155154470877, 0.01209346546341263, 0.3493296047183947, 0.07947710583540196, 0.20331352655567944, 0.01256847255071473, 0.1552576020970643, 0.06727829424206119, 0.021809996485063796, 0.005914575317983402, 0.0007393219147479252, 0.01256847255071473, 0.004066270531113589, 0.008871862976975103, 0.0011089828721218878, 0.04177168818325778, 0.0025876267016177383, 0.001848304786869813, 0.0014786438294958505, 0.02957287658991701, 0.0007393219147479252, 0.968288593603141, 0.6860980131447562, 0.04422116100347061, 0.06633174150520592, 0.07169188223289932, 0.038191002684815525, 0.03685096750289217, 0.020770545319811953, 0.027470721229428712, 0.0026800703638467037, 0.0013400351819233519, 0.0020100527728850277, 0.0013400351819233519, 0.0006700175909616759, 0.05301871523787548, 0.7599349184095485, 0.05301871523787548, 0.05301871523787548, 0.07658258867693124, 0.9908767506056065, 0.001693806411291635, 0.00677522564516654, 0.008650666580480174, 0.0037074285344915027, 0.022244571206949018, 0.02595199974144052, 0.0012358095114971676, 0.11616609408073375, 0.0012358095114971676, 0.013593904626468844, 0.8057478014961532, 0.0012358095114971676, 0.007228151789197957, 0.02168445536759387, 0.003401483194916686, 0.0021259269968229287, 0.001275556198093757, 0.0038266685942812714, 0.887787113873255, 0.00042518539936458574, 0.06505336610278162, 0.0008503707987291715, 0.0029762977955521, 0.0029762977955521, 0.022856654402530634, 0.90283784889996, 0.0685699632075919, 0.015558502406546203, 0.974351213209956, 0.009724064004091378, 0.14865455996180743, 0.027028101811237715, 0.04054215271685657, 0.08108430543371314, 0.23649589084833, 0.45947773079104115, 0.024289545746540898, 0.026497686268953706, 0.06403607514997146, 0.07949305880686112, 0.7993468691134368, 0.004416281044825617, 0.0022081405224128087, 0.0990682416279723, 0.26047446297485144, 0.10682815611580303, 0.1223479850914645, 0.13683315880208186, 0.1758913950574965, 0.017847803322010677, 0.01758913950574965, 0.006466595406525607, 0.012157199364268142, 0.0041386210601763885, 0.006725259222786632, 0.010605216466701995, 0.009829225017918924, 0.0059492677740035586, 0.0015519828975661457, 0.002845301978871267, 0.0005173276325220486, 0.0023279743463492184, 0.14553192215520752, 0.05821276886208301, 0.029106384431041504, 0.3201702287414565, 0.17463830658624901, 0.2619574598793735, 0.10203189790706754, 0.18512248963856667, 0.2541902359141201, 0.05755645522962785, 0.21034268183918542, 0.09669484478577478, 0.01642975176554831, 0.013394956853440663, 0.01737158466930586, 0.004395220217535217, 0.012871716351353138, 0.010150865740498002, 0.00010464810041750518, 0.0080579037321479, 0.006802126527137836, 0.0006278886025050311, 0.002302258209185114, 0.0005232405020875259, 0.0007325367029225363, 0.09321516088444316, 0.026632903109840907, 0.8788858026247499, 0.04319664586768313, 0.007199440977947188, 0.868732544672294, 0.004799627318631459, 0.07439422343878761, 0.02745939996851531, 0.01830626664567687, 0.02745939996851531, 0.16475639981109186, 0.03661253329135374, 0.02288283330709609, 0.5766473993388215, 0.11899073319689966, 0.25048459128655415, 0.005963918840156052, 0.05069331014132644, 0.27434026664717837, 0.002981959420078026, 0.005963918840156052, 0.017891756520468156, 0.023855675360624207, 0.02683763478070223, 0.03876547246101433, 0.2981959420078026, 0.11629869018257744, 0.22771771504280897, 0.17648122915817696, 0.09271364112457223, 0.0772613676038102, 0.1097924697527829, 0.026024881719178168, 0.0040663877686215886, 0.004879665322345907, 0.0073194979835188596, 0.022771771504280898, 0.0056929428760702245, 0.12931113104216652, 0.4969356286283941, 0.06450606717772424, 0.03105847678927463, 0.021502022392574746, 0.08122986237194904, 0.002389113599174972, 0.05017138558267441, 0.014334681595049829, 0.009556454396699887, 0.13379036155379842, 0.09078631676864893, 0.017893739467951347, 0.14314991574361077, 0.05368121840385404, 0.10736243680770809, 0.07157495787180539, 0.6262808813782972, 0.9738099698468596, 0.9738099412892723, 0.4188273660012979, 0.00910494273915865, 0.1092593128699038, 0.00910494273915865, 0.0546296564349519, 0.0182098854783173, 0.0182098854783173, 0.364197709566346, 0.03990199214340532, 0.24100803254616812, 0.08618830302975548, 0.2936786621754631, 0.020749035914570765, 0.004788239057208638, 0.0063843187429448505, 0.3064472996613528, 0.001015899784912791, 0.0005079498924563955, 0.9976135887843607, 0.0005079498924563955, 0.6696545858099453, 0.015842601666113357, 0.01462393999948925, 0.1413647533283961, 0.07555702333069447, 0.007921300833056678, 0.0006093308333120521, 0.0006093308333120521, 0.0024373233332482085, 0.00853063166636873, 0.0006093308333120521, 0.0018279924999361563, 0.0006093308333120521, 0.007311969999744625, 0.006093308333120521, 0.004874646666496417, 0.04143449666521955, 0.06300857422195448, 0.022093915636269754, 0.4811563849676524, 0.04827929713110798, 0.016365863434273892, 0.3044050598774944, 0.06300857422195448, 0.0008182931717136946, 0.008837625389185175, 0.002945875129728392, 0.005891750259456784, 0.9809764181995544, 0.01411941859860978, 0.9742398833040747, 0.21312431171646115, 0.18305698143281102, 0.1255753205964211, 0.27944930498921877, 0.03272033001456042, 0.016802331629098596, 0.014149331898188292, 0.0008843332436367683, 0.013264998654551522, 0.026529997309103045, 0.0008843332436367683, 0.0017686664872735365, 0.018570998116372132, 0.06367199354184731, 0.00972766568000445, 0.19885455998727716, 0.0010577370212089211, 0.0015866055318133816, 0.7769078420779525, 0.0026443425530223025, 0.0005288685106044606, 0.017981529360551658, 0.08789805785310055, 0.2809373332338333, 0.4354949229994527, 0.03595829639445022, 0.010724404187818488, 0.02649558681696332, 0.012827228538371132, 0.019976831330250123, 0.007359885226934256, 0.0025233892206631735, 0.007780450097044785, 0.025233892206631737, 0.019135701590029065, 0.002313106785607909, 0.004836496006271083, 0.0016822594804421157, 0.008831862272321108, 0.00988327444759743, 0.00042056487011052894, 0.0816252556835184, 0.1865720129908992, 0.2273846408326584, 0.0174911262178968, 0.0233215016238624, 0.0116607508119312, 0.0058303754059656, 0.44310853085338564, 0.9501598573877285, 0.029089349965917034, 0.06489162684704569, 0.8256900105710298, 0.03356463457605812, 0.002237642305070541, 0.024614065355775955, 0.020138780745634872, 0.004791627169540279, 0.9918668240948377, 0.9832682069536539, 0.004638057579970065, 0.004638057579970065, 0.9663585417124463, 0.020344390351840973, 0.010172195175920487, 0.11794598440538077, 0.15767515809982482, 0.012415366779513765, 0.002483073355902753, 0.5934545320607579, 0.04097071037239543, 0.002483073355902753, 0.0012415366779513766, 0.0037246100338541297, 0.0012415366779513766, 0.031038416948784415, 0.03476302698263854, 0.3435326512743548, 0.17155080954478444, 0.10387875653339963, 0.019396448315365074, 0.011206836804433155, 0.14008546005541445, 0.006465482771788359, 0.00732754714136014, 0.009051675880503702, 0.0008620643695717811, 0.03362051041329946, 0.00732754714136014, 0.003017225293501234, 0.0034482574782871245, 0.004310321847858906, 0.12672346232705184, 0.00732754714136014, 0.0005705439996174545, 0.024533391983550545, 0.019398495986993454, 0.001141087999234909, 0.9094471353902225, 0.006846527995409454, 0.0005705439996174545, 0.03594427197589963, 0.9202432641919602, 0.06573166172799716, 0.01910728159250795, 0.09719791070971434, 0.09802866208330165, 0.007476762362285719, 0.6355248007942861, 0.06147560164546036, 0.0058152596151111145, 0.017445778845333344, 0.01578427609815874, 0.0008307513735873021, 0.004153756867936511, 0.03655306043784129, 0.010020800401458899, 0.07014560281021229, 0.891851235729842, 0.0300624012043767, 0.3093034204432515, 0.03685317349962145, 0.04738265164237044, 0.13951558539142406, 0.12240518340945696, 0.04606646687452681, 0.03158843442824696, 0.013161847678436232, 0.0013161847678436233, 0.18426586749810725, 0.009213293374905363, 0.0565959450172758, 0.9146181161117465, 0.03266493271827666, 0.11840848192127842, 0.8814853654139616, 0.011845917058176262, 0.09345112345894606, 0.030272899148672667, 0.011845917058176262, 0.030272899148672667, 0.82000070302709, 0.058252918018160474, 0.3297561937370205, 0.07354645696688107, 0.1336895876640969, 0.17699264176609228, 0.09004285852954598, 0.03797609109738485, 0.029899727832330154, 0.012372301171998685, 0.004811450455777266, 0.001718375162777595, 0.006014313069721583, 0.0001718375162777595, 0.00996657594411005, 0.02062050195333114, 0.003780425358110709, 0.0030930752929996712, 0.000343675032555519, 0.0036085878418329496, 0.0036085878418329496, 0.07099315015951957, 0.4444019613188432, 0.1594187820308073, 0.03360174011108934, 0.0972681950584165, 0.028548846861301467, 0.028548846861301467, 0.020464217661640874, 0.019200994349193905, 0.011369009812022707, 0.01591661373683179, 0.005558182574766657, 0.015663969074342397, 0.01591661373683179, 0.006568761224724231, 0.009095207849618167, 0.01515867974936361, 0.0002526446624893935, 0.0012632233124469676, 0.5922991549097781, 0.026324406884879026, 0.36854169638830636, 0.999196677524542, 0.9869374432590281, 0.1842683122570779, 0.007370732490283117, 0.24323417217934284, 0.04975244430941104, 0.014741464980566233, 0.18058294601193636, 0.08292074051568506, 0.016584148103137013, 0.02211219747084935, 0.03132561308370324, 0.1658414810313701, 0.01385058756393779, 0.006392578875663595, 0.021308596252211983, 0.0010654298126105992, 0.0010654298126105992, 0.0021308596252211983, 0.014916017376548388, 0.04048633287920277, 0.007458008688274194, 0.8906993233424609, 0.12780469712640805, 0.28860245465229645, 0.13891814905044353, 0.0982845904531888, 0.12363715265489475, 0.07605768660511783, 0.02083772235756653, 0.01840665474918377, 0.011113451924035483, 0.003820249098887197, 0.003820249098887197, 0.010071565806157156, 0.012849928787166027, 0.00868238431565272, 0.003472953726261088, 0.005556725962017742, 0.046190284559272474, 0.002083772235756653, 0.03491160241834841, 0.34038812357889703, 0.6109530423210972, 0.013091850906880654, 0.9854639634567827, 0.013342838963631486, 0.9645031402665328, 0.014953537058395857, 0.0074767685291979285, 0.0074767685291979285, 0.06126277833429319, 0.07147324139000871, 0.01021046305571553, 0.02042092611143106, 0.01021046305571553, 0.04084185222286212, 0.7657847291786648, 0.007876168275073755, 0.0011251668964391078, 0.9856462012806585, 0.004500667585756431, 0.011048798959135636, 0.012276443287928485, 0.012276443287928485, 0.9416032001841147, 0.02086995358947842, 0.0024552886575856967, 0.08142374076269798, 0.3025035857441607, 0.1653866834202826, 0.09682823225834354, 0.14625802914546998, 0.07177477356212877, 0.028269781096404496, 0.018620813895835298, 0.010833928084849627, 0.007617605684659894, 0.009141126821591874, 0.013034569727084708, 0.010833928084849627, 0.008294726189962996, 0.0049091236634474875, 0.0054169640424248135, 0.007956165937311445, 0.010833928084849627, 0.00033856025265155084, 0.014182555588652836, 0.003912429127904231, 0.19708861731817562, 0.08216101168598884, 0.2699576098253919, 0.07237993886622827, 0.2699576098253919, 0.022496467485449326, 0.0014671609229640866, 0.003912429127904231, 0.061131705123503605, 0.0009781072819760577, 0.06087238865783112, 0.5232565934122655, 0.20229308958006503, 0.0006148726127053649, 0.05410878991807211, 0.0036892356762321895, 0.15494789840175194, 0.03668594189433196, 0.1606249347805886, 0.19037029307329018, 0.00991511943090053, 0.055524668813042966, 0.027762334406521483, 0.000991511943090053, 0.5155862104068276, 0.001983023886180106, 0.9886455211546554, 0.00915412519587644, 0.4618387054891834, 0.08980197051178566, 0.07697311758153057, 0.35920788204714266, 0.0025339561710542875, 0.016470715111852868, 0.0012669780855271437, 0.0038009342565814308, 0.9438986737177221, 0.02787351788159716, 0.005067912342108575, 0.24131271034287283, 0.06032817758571821, 0.10054696264286368, 0.5831723833286093, 0.007148187959374419, 0.9864499383936698, 0.2562307790541138, 0.04801706088657288, 0.07045298016545191, 0.4386536741253732, 0.028097319470745702, 0.005871081680454326, 0.01258088931525927, 0.026210186073456813, 0.015097067178311125, 0.015935793132661743, 0.015935793132661743, 0.014677704201135814, 0.000838725954350618, 0.011322800383733343, 0.03250063073108645, 0.0018871333972888906, 0.0056614001918666714, 0.9972953358478045, 0.014505863911987986, 0.04351759173596396, 0.9138694264552432, 0.02417643985331331, 0.323529946089702, 0.0486600432490014, 0.3833461943762793, 0.03441807937124489, 0.0429632576978988, 0.04509955227956228, 0.0011868303231463756, 0.034180713306615616, 0.00047473212925855027, 0.03892803459920112, 0.0007120981938878254, 0.02041348155811766, 0.014716696007015058, 0.004035223098697677, 0.0014241963877756508, 0.006171517680361153, 0.012238008126155333, 0.036714024378466, 0.036714024378466, 0.030595020315388334, 0.8688985769570287, 0.012238008126155333, 0.0059527624500917455, 0.014286629880220189, 0.9762530418150462, 0.0023811049800366983, 0.3591117849821402, 0.1795558924910701, 0.03591117849821402, 0.03591117849821402, 0.03591117849821402, 0.3232006064839262, 0.006355031864193124, 0.004236687909462082, 0.025420127456772496, 0.002118343954731041, 0.006355031864193124, 0.9511364356742376, 0.002118343954731041, 0.22191793431817797, 0.02465754825757533, 0.04931509651515066, 0.5424660616666572, 0.14794528954545197, 0.12289964132416359, 0.04337634399676362, 0.06506451599514543, 0.11567025065803632, 0.20242293865156358, 0.01445878133225454, 0.00722939066612727, 0.01445878133225454, 0.4120752679692544, 0.714645149145536, 0.0026967741477190036, 0.027641935014119788, 0.10247741761332214, 0.01550645134938427, 0.07146451491455359, 0.013483870738595019, 0.010787096590876014, 0.011461290127805765, 0.0013483870738595018, 0.017529031960173524, 0.011461290127805765, 0.9881092409698036, 0.9635710455735733, 0.009369642784374948, 0.9135401714765574, 0.046848213921874736, 0.023424106960937368, 0.015081377858938845, 0.0043089651025539554, 0.0021544825512769777, 0.0021544825512769777, 0.010772412756384889, 0.04093516847426258, 0.010772412756384889, 0.9048826715363307, 0.0043089651025539554, 0.05674958652762597, 0.5621245052345503, 0.14432610894680184, 0.040635506402497606, 0.026156188029193863, 0.02078482798748441, 0.03736598289884838, 0.06585754485922025, 0.002568911324295826, 0.0016347617518246164, 0.00046707478623560466, 0.010742720083418908, 0.0037365982898848373, 0.023587276704898037, 0.00046707478623560466, 0.000700612179353407, 0.0023353739311780235, 0.9995119338460562, 0.27950725050148023, 0.15528180583415568, 0.18633816700098682, 0.03105636116683114, 0.3416199728351425, 0.10532112700689025, 0.035107042335630084, 0.35107042335630084, 0.1579816905103354, 0.35107042335630084, 0.15017307632981816, 0.7186854367212726, 0.11799313140199999, 0.010726648309272726, 0.00843619729813442, 0.019684460362313645, 0.02249652612835845, 0.1687239459626884, 0.0449930522567169, 0.7311370991716497, 0.028379366395916636, 0.051082859512649945, 0.5959666943142493, 0.32352477691344966, 0.09553094504211976, 0.15921824173686627, 0.03184364834737326, 0.7005602636422116, 0.1194256624393716, 0.0298564156098429, 0.007464103902460725, 0.007464103902460725, 0.04478462341476435, 0.7762668058559153, 0.15330805909533482, 0.004945421261139833, 0.004945421261139833, 0.006593895014853111, 0.34288254077236174, 0.052751160118824886, 0.3099130656980962, 0.07418131891709749, 0.03132100132055227, 0.011539316275992943, 0.006593895014853111, 0.9689479261904402, 0.017973680776399777, 0.03594736155279955, 0.017973680776399777, 0.9166577195963886, 0.10751970981184474, 0.005973317211769152, 0.004778653769415321, 0.7347180170476056, 0.0549545183482762, 0.019114615077661285, 0.0023893268847076606, 0.013141297865892134, 0.03225591294355342, 0.015530624750599796, 0.009557307538830643, 0.0812162391310852, 0.9062022471468453, 0.008549077803272125, 0.03485422696132858, 0.03485422696132858, 0.0037343814601423476, 0.8477045914523129, 0.013692732020521941, 0.06223969100237246, 0.0012447938200474491, 0.0025419315517320957, 0.0012709657758660478, 0.05846442568983821, 0.9367017768132774, 0.02122831459070468, 0.9552741565817106, 0.01061415729535234, 0.1881758895018657, 0.11140138004648335, 0.09134599798466919, 0.19005608157016077, 0.2809320315377562, 0.03494023593581686, 0.010341056375622926, 0.018175189993519084, 0.00955764301383331, 0.029613025075647472, 0.008774229652043697, 0.005953941549601079, 0.005640576204885233, 0.010654421720338774, 0.0006267306894316925, 0.0015668267235792314, 0.00015668267235792314, 0.002193557413010924, 0.9928177940183307, 0.0018956627294739491, 0.9952229329738234, 0.0018956627294739491, 0.049622632330656766, 0.02998034036643846, 0.07236633881554111, 0.001033804840222016, 0.010338048402220159, 0.004135219360888064, 0.004135219360888064, 0.7918945076100642, 0.036183169407770555, 0.04104790971864651, 0.019316663397010124, 0.11348539745743448, 0.4901603336991319, 0.035413882894518564, 0.013682636572882172, 0.018511802422134703, 0.26721384365864004, 0.0040723021679839105, 0.17103669105532424, 0.012216906503951732, 0.016289208671935642, 0.7940989227568626, 0.022938842458710623, 0.008116821177697605, 0.0024703368801688363, 0.8752050661169591, 0.03740795847112809, 0.0007058105371910962, 0.04340734803725241, 0.008822631714888701, 0.0003529052685955481, 0.1813941461870017, 0.03188139539044273, 0.028949772825804312, 0.263846030817457, 0.03188139539044273, 0.4118929703316968, 0.0007329056411596029, 0.0007329056411596029, 0.0021987169234788085, 0.00256516974405861, 0.012092943079133446, 0.027483961543485105, 0.00036645282057980145, 0.004030981026377816, 0.2964544789364179, 0.010979795516163626, 0.6697675264859813, 0.35060585103265807, 0.07154314577472491, 0.0860961769804531, 0.2576219798937687, 0.09587225901178198, 0.012442286221691287, 0.008109704412352358, 0.010553724920184575, 0.02432911323705707, 0.011664643332835583, 0.00433258180933893, 0.004888041015664434, 0.00011109184126510079, 0.012220102539161086, 0.006887694158436249, 0.0141086638406678, 0.005554592063255039, 0.005443500221989938, 0.011664643332835583, 0.005998959428315442, 0.01270882061316068, 0.007943012883225424, 0.00635441030658034, 0.972224776906792, 0.1201622361337585, 0.007510139758359906, 0.051068950356847366, 0.007510139758359906, 0.8110950939028699, 0.0015020279516719812, 0.6906841701828472, 0.003727383541191836, 0.07566588588619427, 0.07827505436502856, 0.010809412269456324, 0.12337639521344977, 0.00037273835411918364, 0.00037273835411918364, 0.00037273835411918364, 0.007827505436502857, 0.004472860249430203, 0.00037273835411918364, 0.003727383541191836, 0.11566588170668861, 0.31623081083924026, 0.1631222723190941, 0.08867233842256805, 0.1593489813223891, 0.02568740409295343, 0.02815455589849133, 0.00943322749176256, 0.017124936061968955, 0.005369683341464842, 0.008707594607780825, 0.005514809918261188, 0.0197372144443032, 0.02322025228741553, 0.0008707594607780824, 0.0007256328839817353, 0.008272214877391782, 0.0005805063071853883, 0.0034830378431123295, 0.11827326666809676, 0.023654653333619352, 0.09461861333447741, 0.1419279200017161, 0.023654653333619352, 0.5913663333404838, 0.0983429738163422, 0.42615288653748284, 0.06556198254422814, 0.16390495636057034, 0.2458574345408555, 0.4937909019842481, 0.005064522071633313, 0.020258088286533252, 0.4785973357693481, 0.9922319671645388, 0.004151598188972965, 0.16721653149047008, 0.06895527071771962, 0.022985090239239874, 0.06205974364594766, 0.02355971749522087, 0.6378362541389064, 0.0005746272559809968, 0.004022390791866978, 0.008619408839714952, 0.0005746272559809968, 0.004022390791866978, 0.10656836481296661, 0.01809651477956037, 0.02211796250835156, 0.020107238643955964, 0.004021447728791192, 0.006032171593186789, 0.7902144787074694, 0.030160857965933947, 0.002010723864395596, 0.12587073980187338, 0.11070849007430544, 0.21491887312251037, 0.21961195041913853, 0.15138182664508287, 0.08459572665460514, 0.009987831169747122, 0.009265819277958174, 0.005776095134311589, 0.009747160539150805, 0.004813412611926324, 0.032129529184608215, 0.005776095134311589, 0.013958896574586339, 0.0008423472070871067, 0.0002406706305963162, 0.0001203353152981581, 0.0001203353152981581, 0.9637799457830335, 0.01784777677375988, 0.03491058140474241, 0.004987225914963201, 0.06483393689452162, 0.07480838872444802, 0.7979561463941123, 0.019948903659852805, 0.0039190184966393085, 0.9817141334081467, 0.01371656473823758, 0.09784150817242034, 0.0019967654729065375, 0.8186738438916803, 0.0798706189162615, 0.0028002027803579106, 0.016801216682147464, 0.03640263614465284, 0.2660192641340015, 0.20161460018576957, 0.008400608341073732, 0.011200811121431642, 0.0028002027803579106, 0.005600405560715821, 0.025201825023221196, 0.42843102539476036, 0.35303747128080953, 0.06504878030299673, 0.06386607520657861, 0.3438715067835691, 0.06297904638426502, 0.0106443458677631, 0.012122727238285754, 0.007983259400822326, 0.00975731704544951, 0.01951463409089902, 0.014488137431121999, 0.009165964497240449, 0.012714079786494815, 0.012714079786494815, 0.0011827050964181224, 0.0002956762741045306, 0.0005913525482090612, 0.05129325202735249, 0.0073276074324789275, 0.0073276074324789275, 0.9232785364923448, 0.1165715525231718, 0.09863746751960692, 0.02914288813079295, 0.23986838692268045, 0.07061545970153676, 0.0033626409381684176, 0.10087922814505253, 0.08742866439237885, 0.021296725941733312, 0.016813204690842087, 0.00560440156361403, 0.04035169125802101, 0.1703738075338665, 0.0019444836880878028, 0.04861209220219507, 0.007777934752351211, 0.8516838553824576, 0.031111739009404844, 0.04083415744984386, 0.019444836880878027, 0.058891482631852635, 0.004394886763571092, 0.0008789773527142184, 0.5985835771983827, 0.0026369320581426554, 0.010547728232570622, 0.025490343228712336, 0.26633013787240817, 0.029006252639569206, 0.0026369320581426554, 0.07164826732455505, 0.25321476002252385, 0.10742444364591922, 0.17466063560644543, 0.21456114324635828, 0.03721489654876487, 0.016689154637848164, 0.022348120865624266, 0.009399638819017932, 0.016880984001501592, 0.019758424456303, 0.013715799501220042, 0.016497325274194737, 0.02196446213831741, 0.0008632321364404222, 0.0013428055455739901, 0.001150976181920563, 0.00019182936365342716, 0.0004795734091335679, 0.12304680422922927, 0.07166462224339727, 0.12124392065077903, 0.4813699154462156, 0.01938099846834014, 0.021634602941402948, 0.0027043253676753685, 0.03335334620132955, 0.02478964920369088, 0.004056488051513053, 0.01577523131143965, 0.018028835784502456, 0.00631009252457586, 0.048677856618156636, 0.008563696997638667, 0.222642368196691, 0.21347102064313414, 0.06941761337950807, 0.18927763830357894, 0.08681154839487455, 0.1113211840983455, 0.01818456842515587, 0.020556468654524027, 0.01549641483187196, 0.0018975201834945258, 0.0017393935015366485, 0.012808261238588048, 0.004269420412862683, 0.008380714143767488, 0.0017393935015366485, 0.010910741055093523, 0.004901927140694191, 0.006325067278315086, 0.28406480479275914, 0.018758996542918058, 0.04019784973482441, 0.20634896197209862, 0.024118709840894644, 0.005359713297976588, 0.032158279787859526, 0.02679856648988294, 0.008039569946964881, 0.016079139893929763, 0.002679856648988294, 0.021438853191906353, 0.3081835146336538, 0.0777273535995401, 0.6865916234626042, 0.0851299587042582, 0.032386397333141706, 0.001850651276179526, 0.001850651276179526, 0.05551953828538578, 0.011103907657077156, 0.008327930742807866, 0.003701302552359052, 0.005551953828538578, 0.012954558933256682, 0.016655861485615733, 0.11180475547785879, 0.11180475547785879, 0.05590237773892939, 0.018634125912976463, 0.037268251825952926, 0.05590237773892939, 0.037268251825952926, 0.037268251825952926, 0.5031213996503645, 0.0028587716451166857, 0.9948525325006067, 0.022282623821247977, 0.08310816452249246, 0.5916939974155713, 0.12406001370748874, 0.0015055826906248634, 0.000903349614374918, 0.0021078157668748087, 0.005420097686249508, 0.010539078834374044, 0.011141311910623989, 0.009334612681874153, 0.011442428448748961, 0.001806699228749836, 0.011442428448748961, 0.11321981833498973, 0.08567534730824027, 0.17556185575536012, 0.0911934205247032, 0.21186496902156363, 0.19342298748233225, 0.08219024843468473, 0.03397971401716648, 0.027009516270055406, 0.01335954568196289, 0.023379204943435056, 0.011471783792120306, 0.015828157384064727, 0.014085607947286959, 0.013940395494222145, 0.004211161138879606, 0.001016487171453698, 0.0014521245306481402, 0.000145212453064814, 0.000145212453064814, 0.11557853180267057, 0.13869423816320467, 0.11557853180267057, 0.6241240717344211, 0.0014843333960393838, 0.10835633791087501, 0.8876313708315515, 0.18636990072447154, 0.8102186210442816, 0.0885977895710821, 0.02160921696855661, 0.017287373574845288, 0.09724147635850475, 0.054023042421391526, 0.017287373574845288, 0.7001386297812342, 0.002160921696855661], \"Term\": [\"aaron\", \"aaron\", \"aaron\", \"aaron\", \"abby\", \"abby\", \"ace\", \"ace\", \"ace\", \"ace\", \"ace\", \"ace\", \"ace\", \"ace\", \"ackerman\", \"ackerman\", \"ackerman\", \"ackerman\", \"activate\", \"activate\", \"activate\", \"actually\", \"actually\", \"actually\", \"actually\", \"actually\", \"actually\", \"actually\", \"actually\", \"actually\", \"actually\", \"actually\", \"actually\", \"actually\", \"actually\", \"actually\", \"actually\", \"actually\", \"actually\", \"adam\", \"adam\", \"adam\", \"adam\", \"adam\", \"adam\", \"adam\", \"adam\", \"adam\", \"adam\", \"adam\", \"adam\", \"adam\", \"advocate\", \"advocate\", \"advocate\", \"air\", \"air\", \"air\", \"air\", \"air\", \"air\", \"air\", \"air\", \"air\", \"air\", \"air\", \"air\", \"air\", \"air\", \"air\", \"air\", \"air\", \"air\", \"air\", \"air\", \"alabama\", \"alabama\", \"alabama\", \"alabama\", \"alan\", \"alan\", \"alan\", \"alan\", \"alan\", \"alan\", \"alan\", \"alan\", \"alan\", \"alan\", \"albert\", \"albert\", \"albert\", \"albert\", \"albert\", \"albert\", \"albert\", \"albert\", \"alex\", \"alex\", \"alex\", \"alex\", \"alex\", \"alex\", \"alex\", \"alex\", \"alex alex\", \"ali\", \"ali\", \"ali\", \"ali\", \"ali\", \"ali\", \"alice\", \"alice\", \"alice\", \"alice\", \"alice\", \"alice\", \"alice\", \"alice\", \"alice\", \"alice\", \"alice\", \"alien\", \"alien\", \"alien\", \"alien\", \"alien\", \"alien\", \"alien\", \"alien\", \"alike\", \"alike\", \"alike\", \"alike\", \"alike\", \"alike\", \"alike\", \"allen\", \"allen\", \"allen\", \"allen\", \"allen\", \"allez\", \"allez\", \"ally\", \"ally\", \"ally\", \"ally\", \"ally\", \"ally\", \"ally\", \"ally\", \"alma\", \"alma\", \"alma\", \"alma\", \"alors\", \"amanda\", \"amanda\", \"amanda\", \"amanda\", \"amanda\", \"amanda\", \"amanda\", \"amanda\", \"amanda\", \"amber\", \"amber\", \"amber\", \"amber\", \"amber\", \"amber\", \"amber\", \"american\", \"american\", \"american\", \"american\", \"american\", \"american\", \"american\", \"american\", \"american\", \"american\", \"american\", \"american\", \"american\", \"american\", \"american\", \"american\", \"amsterdam\", \"amsterdam\", \"amsterdam\", \"amy\", \"amy\", \"amy\", \"amy\", \"amy\", \"ana\", \"ana\", \"ana\", \"ana\", \"ana\", \"andrew\", \"andrew\", \"andrew\", \"andrew\", \"andrew\", \"andrew\", \"andrew\", \"andrew\", \"andrew\", \"andrew\", \"andy\", \"andy\", \"andy\", \"andy\", \"andy\", \"andy\", \"andy\", \"angel\", \"angel\", \"angel\", \"angel\", \"angel\", \"angel\", \"angel\", \"angel\", \"angel\", \"angel\", \"angel\", \"angel\", \"angel\", \"angel\", \"angela\", \"angela\", \"angela\", \"angela\", \"angela\", \"angela\", \"angela\", \"angelo\", \"angelo\", \"angelo\", \"angelo\", \"angie\", \"angie\", \"angie\", \"angie\", \"angle shot\", \"angle shot\", \"angle shot\", \"angle shot\", \"angle shot\", \"ann\", \"ann\", \"ann\", \"ann\", \"ann\", \"anna\", \"anna\", \"anna\", \"anna\", \"anna\", \"anna\", \"anna\", \"anna\", \"anna anna\", \"anna anna\", \"anne\", \"anne\", \"anne\", \"anne\", \"anne\", \"anne\", \"anne\", \"anne\", \"anne\", \"annette\", \"annette\", \"annie\", \"annie\", \"annie\", \"annie\", \"annie\", \"annie\", \"annie\", \"annie annie\", \"annie annie\", \"annie annie\", \"annie annie\", \"anton\", \"anton\", \"anton\", \"anton\", \"apartment\", \"apartment\", \"apartment\", \"apartment\", \"apartment\", \"apartment\", \"apartment\", \"apartment\", \"apartment\", \"apartment\", \"apartment\", \"apartment\", \"apartment\", \"apartment\", \"apartment\", \"apartment\", \"ape\", \"ape\", \"ape\", \"ape\", \"ape\", \"ape\", \"apollo\", \"apollo\", \"apollo\", \"appear\", \"appear\", \"appear\", \"appear\", \"appear\", \"appear\", \"appear\", \"appear\", \"appear\", \"appear\", \"appear\", \"appear\", \"appear\", \"appear\", \"appear\", \"appear\", \"appear\", \"appear\", \"appear\", \"approach\", \"approach\", \"approach\", \"approach\", \"approach\", \"approach\", \"approach\", \"approach\", \"approach\", \"approach\", \"approach\", \"approach\", \"approach\", \"approach\", \"approach\", \"approach\", \"approach\", \"approach\", \"approach\", \"april\", \"april\", \"april\", \"april\", \"april\", \"april\", \"april\", \"april\", \"april\", \"april\", \"archer\", \"archer\", \"arm robbery\", \"arm robbery\", \"arm robbery\", \"arnold\", \"arnold\", \"arnold\", \"arnold\", \"arnold\", \"arnold\", \"arnold\", \"arson\", \"arson\", \"arson\", \"arson\", \"arthur\", \"arthur\", \"arthur\", \"arthur\", \"arthur\", \"arthur\", \"arthur\", \"arthur\", \"arthur\", \"arthur\", \"arthur\", \"ashley\", \"ashley\", \"ashley\", \"ashley\", \"ashley\", \"ashley\", \"ashley\", \"ashley\", \"attorney general\", \"attorney general\", \"attorney general\", \"au\", \"au\", \"au\", \"au\", \"au\", \"au\", \"au\", \"august\", \"august\", \"august\", \"august\", \"august\", \"august\", \"august\", \"austin\", \"austin\", \"austin\", \"austin\", \"austin\", \"avec\", \"avid\", \"avid\", \"avid\", \"babe\", \"babe\", \"babe\", \"babe\", \"babe\", \"babe\", \"babe\", \"babe\", \"babe\", \"babe\", \"bag\", \"bag\", \"bag\", \"bag\", \"bag\", \"bag\", \"bag\", \"bag\", \"bag\", \"bag\", \"bag\", \"bag\", \"bag\", \"bag\", \"bag\", \"bag\", \"bag\", \"bag\", \"bailey\", \"bailey\", \"bailey\", \"bailey\", \"bailey\", \"bailey\", \"bank\", \"bank\", \"bank\", \"bank\", \"bank\", \"bank\", \"bank\", \"bank\", \"bank\", \"bank\", \"bank\", \"bank\", \"bank\", \"bank\", \"bank\", \"bank\", \"bank\", \"bank robbery\", \"barb\", \"barb\", \"barb\", \"barb\", \"barb\", \"barb\", \"barnes\", \"barnes\", \"barnes\", \"barnes\", \"barnes\", \"barnes\", \"barnes\", \"barney\", \"barney\", \"barney\", \"barney\", \"barney\", \"barney\", \"barney\", \"barry\", \"barry\", \"barry\", \"barry\", \"barry\", \"bart\", \"bart\", \"bart\", \"bart\", \"baxter\", \"baxter\", \"baxter\", \"baxter\", \"baxter\", \"beatin\", \"beatin\", \"beck\", \"beck\", \"beck\", \"beck\", \"beck\", \"beck\", \"beck\", \"bella\", \"bella\", \"bella\", \"bella\", \"ben\", \"ben\", \"ben\", \"ben\", \"ben\", \"ben\", \"ben\", \"ben\", \"ben\", \"ben\", \"ben\", \"bender\", \"bender\", \"bender\", \"benedict\", \"benedict\", \"benjamin\", \"benjamin\", \"benjamin\", \"benjamin\", \"benjamin\", \"benson\", \"benson\", \"benson\", \"benson\", \"beth\", \"beth\", \"beth\", \"beth\", \"betty\", \"betty\", \"betty\", \"betty\", \"betty\", \"betty\", \"betty\", \"betty\", \"bien\", \"bien\", \"bien\", \"bike\", \"bike\", \"bike\", \"bike\", \"bike\", \"bike\", \"bike\", \"bike\", \"bike\", \"bike\", \"bike\", \"bike\", \"billy\", \"billy\", \"billy\", \"billy\", \"billy\", \"billy\", \"billy\", \"billy\", \"billy\", \"billy\", \"billy\", \"billy\", \"black\", \"black\", \"black\", \"black\", \"black\", \"black\", \"black\", \"black\", \"black\", \"black\", \"black\", \"black\", \"black\", \"black\", \"black\", \"black\", \"black\", \"black\", \"black\", \"black guy\", \"black guy\", \"blade\", \"blade\", \"blade\", \"blade\", \"blade\", \"blade\", \"blade\", \"blade\", \"blade\", \"blade\", \"blake\", \"blake\", \"blake\", \"blake\", \"blake\", \"blood\", \"blood\", \"blood\", \"blood\", \"blood\", \"blood\", \"blood\", \"blood\", \"blood\", \"blood\", \"blood\", \"blood\", \"blood\", \"blood\", \"blood\", \"blood\", \"blood\", \"blood\", \"bloodstream\", \"bloodstream\", \"bloodstream\", \"blow whistle\", \"blow whistle\", \"blow whistle\", \"blow whistle\", \"blow whistle\", \"blow whistle\", \"blow whistle\", \"blow whistle\", \"blow whistle\", \"boa\", \"boa\", \"boa\", \"boa\", \"boa\", \"boat\", \"boat\", \"boat\", \"boat\", \"boat\", \"boat\", \"boat\", \"boat\", \"boat\", \"boat\", \"boat\", \"boat\", \"boat\", \"boat\", \"boat\", \"boat\", \"bob\", \"bob\", \"bob\", \"bob\", \"bob\", \"bob\", \"bob\", \"bob\", \"bob\", \"bob\", \"bob\", \"bob\", \"bob\", \"bob\", \"bob\", \"bobby\", \"bobby\", \"bobby\", \"bobby\", \"bobby\", \"bobby\", \"bobby\", \"bobby\", \"bobby\", \"bobby\", \"body\", \"body\", \"body\", \"body\", \"body\", \"body\", \"body\", \"body\", \"body\", \"body\", \"body\", \"body\", \"body\", \"body\", \"body\", \"body\", \"body\", \"body\", \"body\", \"bond\", \"bond\", \"bond\", \"bond\", \"bond\", \"bond\", \"bond\", \"bond\", \"bond\", \"bond\", \"bond\", \"book\", \"book\", \"book\", \"book\", \"book\", \"book\", \"book\", \"book\", \"book\", \"book\", \"book\", \"book\", \"book\", \"book\", \"book\", \"book\", \"book\", \"book\", \"bow\", \"bow\", \"bow\", \"bow\", \"bow\", \"bow\", \"bow\", \"bow\", \"bow\", \"bow\", \"bow\", \"bow\", \"bow\", \"bow\", \"bow\", \"bow\", \"bowman\", \"bowman\", \"bowman\", \"bowman\", \"bowman\", \"bowman\", \"bowman\", \"boy\", \"boy\", \"boy\", \"boy\", \"boy\", \"boy\", \"boy\", \"boy\", \"boy\", \"boy\", \"boy\", \"boy\", \"boy\", \"boy\", \"boy\", \"boy\", \"boy\", \"boy\", \"boy\", \"bracken\", \"bracken\", \"brain\", \"brain\", \"brain\", \"brain\", \"brain\", \"brain\", \"brain\", \"brain\", \"brain\", \"brain\", \"brain\", \"brain\", \"brain\", \"brain\", \"brain\", \"breaker\", \"breaker\", \"breaker\", \"breaker\", \"breaker\", \"breaker\", \"breaker\", \"brian\", \"brian\", \"brian\", \"brian\", \"brian\", \"brian\", \"brian\", \"brien\", \"brien\", \"brien\", \"brien\", \"brien\", \"browning\", \"browning\", \"browning\", \"browning\", \"browning\", \"browning\", \"bruce\", \"bruce\", \"bruce\", \"bruce\", \"bruce\", \"bruce\", \"bruce\", \"bruce\", \"bruce\", \"bruno\", \"bruno\", \"bruno\", \"bruno\", \"bruno\", \"bud\", \"bud\", \"bud\", \"bud\", \"bud\", \"bud\", \"bud\", \"bud\", \"bud bud\", \"buff\", \"buff\", \"buff\", \"buff\", \"buff\", \"buff\", \"burke\", \"burke\", \"burke\", \"burke\", \"burke\", \"burton\", \"burton\", \"burton\", \"burton\", \"burton\", \"butch\", \"butch\", \"cabbie\", \"cabbie\", \"cabbie\", \"cabbie\", \"cabbie\", \"cabbie\", \"cabbie\", \"cadet\", \"cadet\", \"cadet\", \"cadet\", \"caesar\", \"caesar\", \"caesar\", \"caesar\", \"caesar\", \"cage\", \"cage\", \"cage\", \"cage\", \"cage\", \"cage\", \"cage\", \"cage\", \"cage\", \"cage\", \"cage\", \"cage\", \"cage\", \"cal\", \"cal\", \"cal\", \"cal\", \"cal\", \"cal\", \"cal\", \"camera\", \"camera\", \"camera\", \"camera\", \"camera\", \"camera\", \"camera\", \"camera\", \"camera\", \"camera\", \"camera\", \"camera\", \"camera\", \"camera\", \"camera\", \"camera\", \"camera\", \"camera\", \"cameron\", \"cameron\", \"cameron\", \"cameron\", \"cameron\", \"cameron\", \"cameron\", \"candy\", \"candy\", \"candy\", \"candy\", \"candy\", \"candy\", \"candy\", \"candy\", \"candy\", \"candy\", \"captain\", \"captain\", \"captain\", \"captain\", \"captain\", \"captain\", \"captain\", \"captain\", \"captain\", \"captain\", \"captain\", \"captain\", \"captain\", \"captain\", \"captain\", \"carl\", \"carl\", \"carl\", \"carl\", \"carl\", \"carl carl\", \"carl carl\", \"carmine\", \"carmine\", \"carmine\", \"carmine\", \"carnegie\", \"carnegie\", \"carnegie\", \"carol\", \"carol\", \"carol\", \"carol\", \"carol\", \"carol\", \"carol\", \"carol\", \"caroline\", \"caroline\", \"caroline\", \"caroline\", \"caroline\", \"carrie\", \"carter\", \"carter\", \"carter\", \"carter\", \"carter\", \"carter\", \"carter\", \"carter\", \"carter\", \"carter\", \"cary\", \"cary\", \"cary\", \"casanova\", \"casanova\", \"casanova\", \"casey\", \"casey\", \"casey\", \"casey\", \"casey\", \"castle\", \"castle\", \"castle\", \"castle\", \"castle\", \"castle\", \"castle\", \"castle\", \"castle\", \"castle\", \"castle\", \"catherine\", \"catherine\", \"catherine\", \"catherine\", \"catherine\", \"cathy\", \"cathy\", \"cathy\", \"ce\", \"ce\", \"ce\", \"ce\", \"ce que\", \"cedar\", \"cedar\", \"cedar\", \"cedar\", \"cedar\", \"cedar\", \"chair\", \"chair\", \"chair\", \"chair\", \"chair\", \"chair\", \"chair\", \"chair\", \"chair\", \"chair\", \"chair\", \"chair\", \"chair\", \"chair\", \"chair\", \"chair\", \"chair\", \"chair\", \"chang\", \"chang\", \"chang\", \"chang\", \"chang\", \"charley\", \"charley\", \"charley\", \"charley\", \"charlie\", \"charlie\", \"charlie\", \"charlie\", \"charlie\", \"charlie\", \"charlie\", \"charlie\", \"charlie\", \"charlie\", \"charlie\", \"charlie\", \"charlie\", \"charlie\", \"charlie\", \"charlie charlie\", \"charlie charlie\", \"charlie charlie\", \"charlie charlie\", \"charlotte\", \"charlotte\", \"charlotte\", \"charlotte\", \"charlotte\", \"chase\", \"chase\", \"chase\", \"chase\", \"chase\", \"chase\", \"chase\", \"chase\", \"chase\", \"chase\", \"chase\", \"chase\", \"chase\", \"chase\", \"chase\", \"chase\", \"chase\", \"chick\", \"chick\", \"chick\", \"chick\", \"chick\", \"chick\", \"chick\", \"chief\", \"chief\", \"chief\", \"chief\", \"chief\", \"chief\", \"chief\", \"chief\", \"chief\", \"chief\", \"chief\", \"child\", \"child\", \"child\", \"child\", \"child\", \"child\", \"child\", \"child\", \"child\", \"child\", \"child\", \"child\", \"child\", \"child\", \"child\", \"child\", \"chimp\", \"chimp\", \"chimp\", \"chimp\", \"chimp\", \"chimpanzee\", \"chimpanzee\", \"chimpanzee\", \"chimpanzee\", \"chopper\", \"chopper\", \"chopper\", \"chopper\", \"chopper\", \"chris\", \"chris\", \"chris\", \"chris\", \"chris\", \"chris\", \"chris\", \"chris\", \"chris\", \"christmas\", \"christmas\", \"christmas\", \"christmas\", \"christmas\", \"christmas\", \"christmas\", \"christmas\", \"christmas\", \"christmas\", \"christmas\", \"christmas\", \"christmas\", \"chuck\", \"chuck\", \"chuck\", \"chuck\", \"chuck\", \"chuck\", \"chuck\", \"chuck\", \"cider\", \"cider\", \"cindy\", \"cindy\", \"cindy\", \"cindy\", \"cindy\", \"cindy\", \"circuitry\", \"claire\", \"claire\", \"claire\", \"claire\", \"claire\", \"claire\", \"clara\", \"clarence\", \"clarence\", \"clarence\", \"clarence\", \"clark\", \"clark\", \"clark\", \"clark\", \"clark\", \"clark\", \"clark\", \"clark\", \"clay\", \"clay\", \"clay\", \"clay\", \"clay\", \"clay\", \"clayton\", \"clayton\", \"clayton\", \"clayton\", \"clifford\", \"clifford\", \"clifford\", \"climb\", \"climb\", \"climb\", \"climb\", \"climb\", \"climb\", \"climb\", \"climb\", \"climb\", \"climb\", \"climb\", \"climb\", \"climb\", \"climb\", \"climb\", \"climb\", \"climb\", \"climb\", \"climb\", \"clint\", \"clint\", \"clint\", \"close shot\", \"close shot\", \"close shot\", \"close shot\", \"close shot\", \"close shot\", \"close shot\", \"close shot\", \"close view\", \"close view\", \"close view\", \"close view\", \"close view\", \"clyde\", \"clyde\", \"clyde\", \"clyde\", \"clyde\", \"clyde\", \"clyde\", \"clyde\", \"clyde\", \"coach\", \"coach\", \"coach\", \"coach\", \"coach\", \"coach\", \"coach\", \"coach\", \"coach\", \"coach\", \"coach\", \"coach\", \"cobb\", \"cobb\", \"cobb\", \"cockpit\", \"cockpit\", \"cockpit\", \"cockpit\", \"cockpit\", \"cockpit\", \"code red\", \"code red\", \"code red\", \"cody\", \"cody\", \"cody\", \"colin\", \"colin\", \"colin\", \"colin\", \"colin\", \"colin\", \"colin\", \"colonel\", \"colonel\", \"colonel\", \"colonel\", \"colonel\", \"colonel\", \"colonel\", \"colonel\", \"colonel\", \"colonel\", \"colossus\", \"colossus\", \"colossus\", \"colossus\", \"comanche\", \"comanche\", \"commandeer\", \"commandeer\", \"commandeer\", \"commandeer\", \"comme\", \"console\", \"console\", \"console\", \"console\", \"console\", \"console\", \"console\", \"console\", \"console\", \"console\", \"console\", \"console\", \"control\", \"control\", \"control\", \"control\", \"control\", \"control\", \"control\", \"control\", \"control\", \"control\", \"control\", \"control\", \"control\", \"control\", \"control\", \"control\", \"control\", \"control panel\", \"control panel\", \"control panel\", \"control panel\", \"control panel\", \"control panel\", \"convert\", \"convert\", \"convert\", \"convert\", \"convert\", \"convert\", \"convert\", \"convert\", \"convert\", \"convert\", \"cooper\", \"cooper\", \"cooper\", \"cooper\", \"cooper\", \"cooper\", \"cop\", \"cop\", \"cop\", \"cop\", \"cop\", \"cop\", \"cop\", \"cop\", \"cop\", \"cop\", \"cop\", \"cop\", \"cop\", \"cop\", \"cop\", \"cop\", \"cop kill\", \"cop kill\", \"cosmo\", \"cosmo\", \"costa\", \"costa\", \"costa\", \"costa\", \"cougar\", \"cougar\", \"cougar\", \"cougar\", \"cougar\", \"count\", \"count\", \"count\", \"count\", \"count\", \"count\", \"count\", \"count\", \"count\", \"count\", \"count\", \"count\", \"count\", \"count\", \"count\", \"country\", \"country\", \"country\", \"country\", \"country\", \"country\", \"country\", \"country\", \"country\", \"country\", \"country\", \"country\", \"country\", \"country\", \"country\", \"country\", \"country\", \"craig\", \"craig\", \"craig\", \"craig\", \"craig\", \"craig\", \"craig\", \"craig\", \"crawford\", \"crawford\", \"crawford\", \"creature\", \"creature\", \"creature\", \"creature\", \"creature\", \"creature\", \"creature\", \"creature\", \"creature\", \"creature\", \"creature\", \"creed\", \"creed\", \"creed\", \"creed\", \"crockett\", \"crockett\", \"crockett\", \"crockett\", \"cross\", \"cross\", \"cross\", \"cross\", \"cross\", \"cross\", \"cross\", \"cross\", \"cross\", \"cross\", \"cross\", \"cross\", \"cross\", \"cross\", \"cross\", \"cross\", \"cross\", \"cross\", \"crow\", \"crow\", \"crow\", \"crow\", \"crow\", \"crow\", \"crow\", \"crowd\", \"crowd\", \"crowd\", \"crowd\", \"crowd\", \"crowd\", \"crowd\", \"crowd\", \"crowd\", \"crowd\", \"crowd\", \"crowd\", \"crowd\", \"crowd\", \"crowd\", \"crowd\", \"crowd\", \"crowd\", \"cruz\", \"cruz\", \"cruz\", \"cruz\", \"cup\", \"cup\", \"cup\", \"cup\", \"cup\", \"cup\", \"cup\", \"cup\", \"cup\", \"cup\", \"cup\", \"cup\", \"cup\", \"cup\", \"cup\", \"cup\", \"cup\", \"curtis\", \"curtis\", \"curtis\", \"curtis\", \"cymbal\", \"cymbal\", \"cynthia\", \"cynthia\", \"cynthia\", \"cynthia\", \"dad\", \"dad\", \"dad\", \"dad\", \"dad\", \"dad\", \"dad\", \"dad\", \"dad\", \"dad\", \"dad\", \"dad\", \"dad\", \"dad\", \"dad\", \"dad\", \"dad\", \"daisy\", \"daisy\", \"daisy\", \"daisy\", \"daisy\", \"daisy\", \"daisy\", \"daisy\", \"daisy\", \"dale\", \"dale\", \"dale\", \"dale\", \"dale\", \"dan\", \"dan\", \"dan\", \"dan\", \"dan\", \"dan\", \"dan\", \"dan\", \"dan\", \"dan\", \"dan\", \"dance\", \"dance\", \"dance\", \"dance\", \"dance\", \"dance\", \"dance\", \"dance\", \"dance\", \"dance\", \"dance\", \"dance\", \"dance\", \"dance\", \"dance\", \"dance\", \"dance\", \"danny\", \"danny\", \"danny\", \"danny\", \"danny\", \"danny\", \"danny\", \"dans\", \"dark\", \"dark\", \"dark\", \"dark\", \"dark\", \"dark\", \"dark\", \"dark\", \"dark\", \"dark\", \"dark\", \"dark\", \"dark\", \"dark\", \"dark\", \"dark\", \"dark\", \"dark\", \"darwin\", \"darwin\", \"darwin\", \"darwin\", \"data\", \"data\", \"data\", \"data\", \"data\", \"data\", \"date\", \"date\", \"date\", \"date\", \"date\", \"date\", \"date\", \"date\", \"date\", \"date\", \"date\", \"date\", \"date\", \"date\", \"date\", \"dave\", \"dave\", \"dave\", \"dave\", \"dave\", \"david\", \"david\", \"david\", \"david\", \"david\", \"david\", \"david\", \"david\", \"david\", \"david\", \"david\", \"david\", \"david\", \"david\", \"dayton\", \"dayton\", \"dayton\", \"dayton\", \"deacon\", \"deacon\", \"deacon\", \"deacon\", \"deacon\", \"dean\", \"dean\", \"dean\", \"dean\", \"dean\", \"dean\", \"dean\", \"dean\", \"death star\", \"death star\", \"debris\", \"debris\", \"debris\", \"debris\", \"debris\", \"debris\", \"debris\", \"debris\", \"debris\", \"debris\", \"debris\", \"debris\", \"deck\", \"deck\", \"deck\", \"deck\", \"deck\", \"deck\", \"deck\", \"deck\", \"deck\", \"deck\", \"deck\", \"deck\", \"deck\", \"deck\", \"deed\", \"deed\", \"deed\", \"deed\", \"deed\", \"deed\", \"deed\", \"deed\", \"deed\", \"deed\", \"dennis\", \"dennis\", \"dennis\", \"dennis\", \"dennis\", \"dennis\", \"dennis\", \"denver\", \"denver\", \"denver\", \"denver\", \"denver\", \"denver\", \"denver\", \"derek\", \"derek\", \"derek\", \"derek\", \"descendant\", \"descendant\", \"descendant\", \"descendant\", \"descendant\", \"desk\", \"desk\", \"desk\", \"desk\", \"desk\", \"desk\", \"desk\", \"desk\", \"desk\", \"desk\", \"desk\", \"desk\", \"desk\", \"desk\", \"desk\", \"desk\", \"desk\", \"desk\", \"desk\", \"detonation\", \"deux\", \"deux\", \"deux\", \"dewey\", \"dewey\", \"dewey\", \"dewey\", \"diameter\", \"diana\", \"diana\", \"diana\", \"diana\", \"die\", \"die\", \"die\", \"die\", \"die\", \"die\", \"die\", \"die\", \"die\", \"die\", \"die\", \"die\", \"die\", \"die\", \"die\", \"die\", \"die\", \"die\", \"diego\", \"diego\", \"diego\", \"diego\", \"diego\", \"diego\", \"dino\", \"dino\", \"dino\", \"disciple\", \"disciple\", \"disciple\", \"disciple\", \"disciple\", \"disney\", \"disney\", \"disney\", \"disney\", \"disney\", \"dit\", \"doc\", \"doc\", \"doc\", \"doc\", \"doc\", \"doc\", \"doc\", \"doc\", \"doc\", \"doc\", \"doc\", \"doc doc\", \"doc doc\", \"doctor\", \"doctor\", \"doctor\", \"doctor\", \"doctor\", \"doctor\", \"doctor\", \"doctor\", \"doctor\", \"doctor\", \"doctor\", \"doctor\", \"doctor\", \"doctor\", \"doctor\", \"doctor\", \"doctor\", \"doctor\", \"dorothy\", \"dorothy\", \"dorothy\", \"dorothy\", \"doug\", \"doug\", \"doug\", \"doug\", \"doug\", \"dr\", \"dr\", \"dr\", \"dr\", \"dr\", \"dr\", \"dr\", \"dr\", \"dr\", \"dr\", \"dr\", \"dr\", \"dr\", \"dr\", \"dr\", \"draft\", \"draft\", \"draft\", \"draft\", \"draft\", \"draft\", \"draft\", \"draft\", \"draft\", \"draft\", \"draw sword\", \"draw sword\", \"dream\", \"dream\", \"dream\", \"dream\", \"dream\", \"dream\", \"dream\", \"dream\", \"dream\", \"dream\", \"dream\", \"dream\", \"dream\", \"dream\", \"dream\", \"dream\", \"dress\", \"dress\", \"dress\", \"dress\", \"dress\", \"dress\", \"dress\", \"dress\", \"dress\", \"dress\", \"dress\", \"dress\", \"dress\", \"dress\", \"dress\", \"dress\", \"dress\", \"dress\", \"dress\", \"dress\", \"drew\", \"drew\", \"drew\", \"drew\", \"drew\", \"drew\", \"drew\", \"drew\", \"drew\", \"drew\", \"drew\", \"drew\", \"drive\", \"drive\", \"drive\", \"drive\", \"drive\", \"drive\", \"drive\", \"drive\", \"drive\", \"drive\", \"drive\", \"drive\", \"drive\", \"drive\", \"drive\", \"drive\", \"drive\", \"drive\", \"drive\", \"drive\", \"driver watch\", \"driver watch\", \"du\", \"du\", \"du\", \"du\", \"du\", \"du\", \"dude\", \"dude\", \"dude\", \"dude\", \"dude\", \"dude\", \"dude\", \"dude\", \"dude\", \"duke\", \"duke\", \"duke\", \"duke\", \"duke\", \"duke\", \"duke\", \"duke\", \"duke\", \"dwayne\", \"dwayne\", \"dwayne\", \"dwight\", \"dwight\", \"dylan\", \"dylan\", \"dylan\", \"early\", \"early\", \"early\", \"early\", \"early\", \"early\", \"early\", \"early\", \"early\", \"early\", \"early\", \"early\", \"early\", \"early\", \"early\", \"early\", \"early\", \"ed\", \"ed\", \"ed\", \"ed\", \"ed\", \"ed\", \"ed\", \"ed\", \"ed ed\", \"ed ed\", \"ed ed\", \"eddie\", \"eddie\", \"eddie\", \"eddie\", \"eddie\", \"eddie\", \"eddie\", \"eddie\", \"eddie\", \"eddie eddie\", \"eddie eddie\", \"eddy\", \"eddy\", \"eddy\", \"eddy\", \"eddy\", \"eddy\", \"eddy\", \"edith\", \"edith\", \"edith\", \"edith\", \"edith\", \"edith\", \"edward\", \"edward\", \"edward\", \"edward\", \"edward\", \"edward\", \"edward\", \"edward\", \"edward\", \"edward\", \"edward\", \"elaine\", \"elaine\", \"elaine\", \"elaine\", \"elaine\", \"elaine\", \"elaine\", \"eleanor\", \"eleanor\", \"eleanor\", \"eleanor\", \"eleanor\", \"eleanor\", \"eleanor\", \"eleanor\", \"eleanor\", \"eleanor\", \"eli\", \"eli\", \"eli\", \"eli\", \"eli\", \"elizabeth\", \"elizabeth\", \"elizabeth\", \"elizabeth\", \"elizabeth\", \"elizabeth\", \"elizabeth\", \"elle\", \"elle\", \"ellen\", \"ellen\", \"ellen\", \"ellen\", \"ellen\", \"ellen\", \"ellen\", \"elli\", \"elli\", \"elli\", \"elli\", \"ellie\", \"ellie\", \"ellie\", \"ellie\", \"ellie\", \"ellie\", \"ellie\", \"elliot\", \"elliot\", \"elliot\", \"elliot\", \"elliot\", \"elliot\", \"em\", \"em\", \"em\", \"em\", \"em\", \"em\", \"em\", \"em\", \"em\", \"em\", \"em\", \"em\", \"em\", \"em\", \"em\", \"em\", \"emily\", \"emily\", \"emily\", \"emily\", \"emma\", \"emma\", \"emma\", \"emma\", \"emma\", \"emma\", \"emperor\", \"emperor\", \"emperor\", \"emperor\", \"emperor\", \"empress\", \"empress\", \"en\", \"en\", \"en\", \"en\", \"en\", \"en\", \"en\", \"en\", \"en\", \"en\", \"en\", \"engine\", \"engine\", \"engine\", \"engine\", \"engine\", \"engine\", \"engine\", \"engine\", \"engine\", \"engine\", \"engine\", \"engine\", \"engine\", \"engine\", \"engine\", \"enters\", \"enters\", \"enters\", \"enters\", \"enters\", \"enters\", \"enters\", \"enters\", \"enters\", \"enters\", \"enters\", \"enters\", \"enters\", \"enters\", \"enters\", \"enters\", \"enters\", \"enters\", \"enters\", \"entre\", \"entre\", \"eric\", \"eric\", \"eric\", \"eric\", \"eric\", \"eric\", \"eric eric\", \"est\", \"est\", \"est\", \"est\", \"est\", \"est ce\", \"esther\", \"esther\", \"esther\", \"esther\", \"et\", \"et\", \"et\", \"et\", \"et\", \"et\", \"et\", \"ethan\", \"ethan\", \"eugene\", \"eugene\", \"eugene\", \"eugene\", \"evelyn\", \"evelyn\", \"evelyn\", \"exit scene\", \"exit scene\", \"fairway\", \"fairway\", \"fait\", \"fait\", \"falcon\", \"falcon\", \"falcon\", \"falcon\", \"falcon\", \"falcon\", \"family\", \"family\", \"family\", \"family\", \"family\", \"family\", \"family\", \"family\", \"family\", \"family\", \"family\", \"family\", \"family\", \"family\", \"family\", \"family\", \"family\", \"family\", \"fastball\", \"fastball\", \"fastball\", \"fastball\", \"fastball\", \"father\", \"father\", \"father\", \"father\", \"father\", \"father\", \"father\", \"father\", \"father\", \"father\", \"father\", \"father\", \"father\", \"father\", \"father\", \"father\", \"father\", \"father\", \"father\", \"father\", \"federation\", \"ferris\", \"ferris\", \"ferris\", \"ferris\", \"ferris\", \"fiat\", \"fiat\", \"field\", \"field\", \"field\", \"field\", \"field\", \"field\", \"field\", \"field\", \"field\", \"field\", \"field\", \"field\", \"field\", \"field\", \"fight\", \"fight\", \"fight\", \"fight\", \"fight\", \"fight\", \"fight\", \"fight\", \"fight\", \"fight\", \"fight\", \"fight\", \"fight\", \"fight\", \"fight\", \"fight\", \"fight\", \"fight\", \"fighter\", \"fighter\", \"fighter\", \"fighter\", \"fighter\", \"fighter\", \"fighter\", \"fighter\", \"fighter\", \"fighter\", \"fighter\", \"final\", \"final\", \"final\", \"final\", \"final\", \"final\", \"final\", \"final\", \"final\", \"final\", \"final\", \"final\", \"final\", \"final\", \"final\", \"final\", \"final\", \"fine\", \"fine\", \"fine\", \"fine\", \"fine\", \"fine\", \"fine\", \"fine\", \"fine\", \"fine\", \"fine\", \"fine\", \"fine\", \"fine\", \"fine\", \"fine\", \"fine\", \"fine\", \"finn\", \"finn\", \"finn\", \"fisher\", \"fisher\", \"fisher\", \"fisher\", \"fisher\", \"fisher\", \"fitzgerald\", \"fitzgerald\", \"flamethrower\", \"fletcher\", \"fletcher\", \"fletcher\", \"fly\", \"fly\", \"fly\", \"fly\", \"fly\", \"fly\", \"fly\", \"fly\", \"fly\", \"fly\", \"fly\", \"fly\", \"fly\", \"fly\", \"fly\", \"fly\", \"fly\", \"fly\", \"fly\", \"font\", \"font\", \"font\", \"font\", \"font\", \"font\", \"forecourt\", \"forecourt\", \"foreman\", \"foreman\", \"foreman\", \"foreman\", \"foreman\", \"foreman\", \"foreman\", \"forest\", \"forest\", \"forest\", \"forest\", \"forest\", \"forest\", \"forest\", \"forest\", \"forest\", \"forest\", \"forest\", \"forest\", \"forward\", \"forward\", \"forward\", \"forward\", \"forward\", \"forward\", \"forward\", \"forward\", \"forward\", \"forward\", \"forward\", \"forward\", \"forward\", \"forward\", \"forward\", \"forward\", \"forward\", \"forward\", \"fran\", \"fran\", \"fran\", \"fran\", \"france\", \"france\", \"france\", \"france\", \"france\", \"france\", \"france\", \"frank\", \"frank\", \"frank\", \"frank\", \"frank\", \"frank\", \"frank\", \"frank\", \"frank\", \"frank\", \"frank frank\", \"frank frank\", \"frank frank\", \"frank glance\", \"frank glance\", \"frank reach\", \"frank shake\", \"frank sit\", \"frankie\", \"frankie\", \"frankie\", \"frankie\", \"frankie\", \"frankie\", \"franklin\", \"franklin\", \"franklin\", \"franklin\", \"franklin\", \"franklin\", \"franklin\", \"fraulein\", \"fraulein\", \"fred\", \"fred\", \"fred\", \"fred\", \"fred\", \"fred\", \"fred\", \"fred\", \"freddy\", \"freddy\", \"freddy\", \"freddy\", \"freddy\", \"freddy\", \"freddy\", \"freddy\", \"friend\", \"friend\", \"friend\", \"friend\", \"friend\", \"friend\", \"friend\", \"friend\", \"friend\", \"friend\", \"friend\", \"friend\", \"friend\", \"friend\", \"friend\", \"friend\", \"friend\", \"friend\", \"friend\", \"fuck\", \"fuck\", \"fuck\", \"fuck\", \"fuck\", \"fuck\", \"fuck\", \"fuck\", \"fuck\", \"fuck\", \"fuck\", \"fuck\", \"fuck\", \"fuck\", \"fuck\", \"fuck\", \"fuck\", \"fuck fuckin\", \"fuckin\", \"fuckin\", \"fuckin\", \"fuckin\", \"fuckin\", \"fuckin\", \"gabriel\", \"gabriel\", \"gabriel\", \"gabriel\", \"gabriel\", \"gaffer\", \"gaffer\", \"gaffer\", \"gaffer\", \"gandhi\", \"gandhi\", \"gandhi\", \"garfield\", \"garfield\", \"garfield\", \"garfield\", \"garfield\", \"garrison\", \"garrison\", \"garrison\", \"gary\", \"gary\", \"gary\", \"gary\", \"gary\", \"gary\", \"gary\", \"gat\", \"gat\", \"gat\", \"gat\", \"gavin\", \"gavin\", \"gavin\", \"general\", \"general\", \"general\", \"general\", \"general\", \"general\", \"general\", \"general\", \"general\", \"general\", \"general\", \"general\", \"general\", \"general\", \"general\", \"george\", \"george\", \"george\", \"george\", \"george\", \"george\", \"george\", \"george\", \"george\", \"george\", \"george\", \"george\", \"george\", \"george\", \"george george\", \"george george\", \"george george\", \"george watch\", \"gideon\", \"gideon\", \"girl\", \"girl\", \"girl\", \"girl\", \"girl\", \"girl\", \"girl\", \"girl\", \"girl\", \"girl\", \"girl\", \"girl\", \"girl\", \"girl\", \"girl\", \"girl\", \"girl\", \"girl\", \"girl\", \"girl\", \"glance\", \"glance\", \"glance\", \"glance\", \"glance\", \"glance\", \"glance\", \"glance\", \"glance\", \"glance\", \"glance\", \"glance\", \"glance\", \"glance\", \"glance\", \"glance\", \"glance\", \"glance\", \"glass\", \"glass\", \"glass\", \"glass\", \"glass\", \"glass\", \"glass\", \"glass\", \"glass\", \"glass\", \"glass\", \"glass\", \"glass\", \"glass\", \"glass\", \"glass\", \"glass\", \"glass\", \"glass\", \"glider\", \"glider\", \"glider\", \"god\", \"god\", \"god\", \"god\", \"god\", \"god\", \"god\", \"god\", \"god\", \"god\", \"god\", \"god\", \"god\", \"god\", \"god\", \"god\", \"god\", \"god\", \"godzilla\", \"godzilla\", \"godzilla\", \"gordon\", \"gordon\", \"gordon\", \"gordon\", \"gordon\", \"gordon\", \"gordon\", \"gordon\", \"gordon\", \"grab\", \"grab\", \"grab\", \"grab\", \"grab\", \"grab\", \"grab\", \"grab\", \"grab\", \"grab\", \"grab\", \"grab\", \"grab\", \"grab\", \"grab\", \"grab\", \"grab\", \"grab\", \"grab\", \"grab mike\", \"grab mike\", \"grab mike\", \"grab mike\", \"grab mike\", \"grab mike\", \"grab mike\", \"grace\", \"grace\", \"grace\", \"grace\", \"grace\", \"grace\", \"grace\", \"grace\", \"grace\", \"grace\", \"gracie\", \"gracie\", \"graham\", \"graham\", \"graham\", \"graham\", \"graham\", \"graham\", \"grand hotel\", \"grand hotel\", \"grand hotel\", \"grand jury\", \"grand jury\", \"great\", \"great\", \"great\", \"great\", \"great\", \"great\", \"great\", \"great\", \"great\", \"great\", \"great\", \"great\", \"great\", \"great\", \"great\", \"great\", \"great\", \"great\", \"great\", \"grocer\", \"grocer\", \"grocer\", \"grocer\", \"ground\", \"ground\", \"ground\", \"ground\", \"ground\", \"ground\", \"ground\", \"ground\", \"ground\", \"ground\", \"ground\", \"ground\", \"ground\", \"ground\", \"ground\", \"ground\", \"ground\", \"ground\", \"ground crew\", \"ground crew\", \"ground crew\", \"ground crew\", \"ground crew\", \"ground crew\", \"gu\", \"gu\", \"gu\", \"gu\", \"gu\", \"gu\", \"guard\", \"guard\", \"guard\", \"guard\", \"guard\", \"guard\", \"guard\", \"guard\", \"guard\", \"guard\", \"guard\", \"guard\", \"guard\", \"guard\", \"guard\", \"guard\", \"guard\", \"guard\", \"guardian\", \"guardian\", \"guardian\", \"guardian\", \"guardian\", \"guardian\", \"guardian\", \"guess\", \"guess\", \"guess\", \"guess\", \"guess\", \"guess\", \"guess\", \"guess\", \"guess\", \"guess\", \"guess\", \"guess\", \"guess\", \"guess\", \"guess\", \"guess\", \"guess\", \"guess\", \"gun\", \"gun\", \"gun\", \"gun\", \"gun\", \"gun\", \"gun\", \"gun\", \"gun\", \"gun\", \"gun\", \"gun\", \"gun\", \"gun\", \"gun\", \"gun\", \"gun\", \"gun\", \"gun fuck\", \"gunship\", \"guy\", \"guy\", \"guy\", \"guy\", \"guy\", \"guy\", \"guy\", \"guy\", \"guy\", \"guy\", \"guy\", \"guy\", \"guy\", \"guy\", \"guy\", \"guy\", \"guy\", \"guy\", \"habitat\", \"habitat\", \"habitat\", \"habitat\", \"habitat\", \"hair\", \"hair\", \"hair\", \"hair\", \"hair\", \"hair\", \"hair\", \"hair\", \"hair\", \"hair\", \"hair\", \"hair\", \"hair\", \"hair\", \"hair\", \"hair\", \"hair\", \"hair\", \"hairdresser\", \"hairdresser\", \"hairdresser\", \"hairdresser\", \"hairdresser\", \"hale\", \"hale\", \"hale\", \"hall pas\", \"hall pas\", \"hall pas\", \"hammond\", \"hammond\", \"hammond\", \"hammond\", \"han\", \"han\", \"han\", \"han\", \"han\", \"han\", \"hancock\", \"hancock\", \"hancock\", \"hang receiver\", \"hang receiver\", \"hang receiver\", \"hannah\", \"hannah\", \"hardy\", \"hardy\", \"hardy\", \"hardy\", \"hardy\", \"hardy\", \"harriet\", \"harriet\", \"harriet\", \"harriet\", \"harry\", \"harry\", \"harry\", \"harry\", \"harry\", \"harry\", \"harry\", \"harry\", \"harry\", \"harry\", \"harry harry\", \"harry harry\", \"harry sit\", \"harvey\", \"harvey\", \"harvey\", \"harvey\", \"harvey\", \"harvey\", \"hatch\", \"hatch\", \"hatch\", \"hatch\", \"hatch\", \"hatch\", \"hatch\", \"hatch\", \"hatch\", \"hatch\", \"hatch\", \"hatch\", \"hawk\", \"hawk\", \"hawk\", \"hawk\", \"hawk\", \"hawk\", \"hawk\", \"hazel\", \"hazel\", \"hazel\", \"hazel\", \"hazel\", \"hazel\", \"head\", \"head\", \"head\", \"head\", \"head\", \"head\", \"head\", \"head\", \"head\", \"head\", \"head\", \"head\", \"head\", \"head\", \"head\", \"head\", \"head\", \"head\", \"head\", \"heat signature\", \"heat signature\", \"heat signature\", \"hector\", \"hector\", \"hector\", \"hector\", \"hector\", \"hector\", \"hector\", \"helen\", \"helen\", \"helen\", \"helen\", \"helen\", \"helen\", \"helen\", \"helen\", \"helen\", \"helen\", \"helen\", \"hell\", \"hell\", \"hell\", \"hell\", \"hell\", \"hell\", \"hell\", \"hell\", \"hell\", \"hell\", \"hell\", \"hell\", \"hell\", \"hell\", \"hell\", \"hell\", \"hell\", \"hell\", \"hell\", \"henri\", \"henri\", \"henri\", \"henri\", \"henry\", \"henry\", \"henry\", \"henry\", \"henry\", \"henry\", \"henry\", \"henry\", \"henry\", \"henry\", \"henry\", \"henry henry\", \"hi\", \"hi\", \"hi\", \"hi\", \"hi\", \"hi\", \"hi\", \"hi\", \"hi\", \"hi\", \"hi\", \"hi\", \"hi\", \"hi\", \"hi\", \"hi\", \"hi\", \"hi\", \"hi\", \"hi ya\", \"hiccup\", \"hiccup\", \"hiccup\", \"hiccup\", \"hiccup\", \"hitchcock\", \"hitchcock\", \"hitchcock\", \"hitler\", \"hitler\", \"hitler\", \"hitler\", \"hitler\", \"hitler\", \"holdin\", \"holdin\", \"hole\", \"hole\", \"hole\", \"hole\", \"hole\", \"hole\", \"hole\", \"hole\", \"hole\", \"hole\", \"hole\", \"hole\", \"hole\", \"hole\", \"hole\", \"hole\", \"holly\", \"holly\", \"holly\", \"holmes\", \"holmes\", \"holmes\", \"holmes\", \"holographic\", \"homer\", \"homer\", \"homer\", \"homme\", \"hong\", \"hong\", \"hong\", \"hong\", \"hong kong\", \"hong kong\", \"hong kong\", \"hong kong\", \"hooker\", \"hooker\", \"hooker\", \"hooker\", \"hooker\", \"hooker\", \"hooker\", \"hooker\", \"hooker\", \"hooker\", \"hooker\", \"hooker\", \"horse\", \"horse\", \"horse\", \"horse\", \"horse\", \"horse\", \"horse\", \"horse\", \"horse\", \"horse\", \"horse\", \"horse\", \"horse\", \"horse\", \"horse\", \"horseman\", \"horseman\", \"horseman\", \"horseman\", \"horseman\", \"horseman\", \"houston\", \"houston\", \"houston\", \"houston\", \"houston\", \"hub\", \"hub\", \"hub\", \"hub\", \"hub\", \"hub\", \"hull\", \"hull\", \"hull\", \"humanoid\", \"humvee\", \"humvee\", \"hypo\", \"hypo\", \"hypo\", \"hypo\", \"ice pick\", \"ice pick\", \"ice pick\", \"ice pick\", \"ice pick\", \"il\", \"il\", \"il\", \"il\", \"imperial\", \"imperial\", \"imperial\", \"imperial\", \"imperial\", \"imperial\", \"imperial\", \"indiana\", \"indiana\", \"indiana\", \"indiana\", \"indiana\", \"ingrid\", \"ingrid\", \"ingrid\", \"ingrid\", \"inspector\", \"inspector\", \"inspector\", \"inspector\", \"inspector\", \"irene\", \"irene\", \"irene\", \"irene\", \"irving\", \"irving\", \"irving\", \"irving\", \"irving\", \"irving\", \"islam\", \"islam\", \"islam\", \"islam\", \"ivy\", \"ivy\", \"ivy\", \"ivy\", \"ivy\", \"ivy\", \"ivy\", \"jack\", \"jack\", \"jack\", \"jack\", \"jack\", \"jack\", \"jack\", \"jack\", \"jack\", \"jack\", \"jack\", \"jack\", \"jack hold\", \"jack reach\", \"jack run\", \"jackie\", \"jackie\", \"jackie\", \"jackie\", \"jackie\", \"jackie\", \"jackie\", \"jacob\", \"jacob\", \"jacob\", \"jacob\", \"jacob\", \"jacob\", \"jacob\", \"jake\", \"jake\", \"jake\", \"jake\", \"jake\", \"jake jake\", \"jake jake\", \"james bond\", \"james bond\", \"james bond\", \"jane\", \"jane\", \"jane\", \"jane\", \"jane\", \"jane\", \"jane\", \"jane\", \"jane\", \"jane\", \"jane\", \"jane jane\", \"jane jane\", \"jane jane\", \"janice\", \"janice\", \"janice\", \"janice\", \"jason\", \"jason\", \"jason\", \"jason\", \"jason\", \"jason\", \"jason\", \"jason\", \"jay\", \"jay\", \"jay\", \"jay\", \"jay\", \"jay\", \"jay\", \"je\", \"je\", \"je\", \"je ne\", \"jedi\", \"jedi\", \"jeff\", \"jeff\", \"jeff\", \"jeff\", \"jeff\", \"jeff\", \"jeff\", \"jeff\", \"jeff\", \"jeffrey\", \"jeffrey\", \"jeffrey\", \"jellyfish\", \"jellyfish\", \"jellyfish\", \"jennifer\", \"jennifer\", \"jennifer\", \"jennifer\", \"jennifer\", \"jennifer\", \"jennifer\", \"jennifer\", \"jennifer\", \"jennifer\", \"jenny\", \"jenny\", \"jenny\", \"jenny\", \"jenny\", \"jenny\", \"jenny\", \"jesse\", \"jesse\", \"jesse\", \"jesse\", \"jessica\", \"jessica\", \"jessica\", \"jessica\", \"jill\", \"jill\", \"jill\", \"jill\", \"jim\", \"jim\", \"jim\", \"jim\", \"jim\", \"jim\", \"jim\", \"jim\", \"jim\", \"jim\", \"jimmy\", \"jimmy\", \"jimmy\", \"jimmy\", \"jimmy\", \"jimmy\", \"jimmy\", \"jimmy\", \"jimmy\", \"jimmy\", \"jo\", \"jo\", \"jo\", \"jo\", \"jo\", \"jo\", \"jo\", \"joan\", \"joan\", \"joan\", \"joan\", \"joan\", \"joe\", \"joe\", \"joe\", \"joe\", \"joe\", \"joe\", \"joe\", \"joe\", \"joe\", \"joe\", \"joe\", \"joe joe\", \"joe joe\", \"joe run\", \"joe run\", \"joe watch\", \"joel\", \"joel\", \"joel\", \"joel\", \"joey\", \"joey\", \"joey\", \"joey\", \"joey\", \"joey\", \"john\", \"john\", \"john\", \"john\", \"john\", \"john\", \"john\", \"john\", \"john\", \"john\", \"john\", \"john\", \"john enters\", \"john enters\", \"john grab\", \"john hold\", \"john hold\", \"john hold\", \"john john\", \"john john\", \"john john\", \"john john\", \"john john\", \"john john\", \"john nod\", \"john reach\", \"john reach\", \"john reach\", \"john run\", \"john try\", \"john try\", \"john try\", \"john watch\", \"joker\", \"joker\", \"joker\", \"joker\", \"joker\", \"jonathan\", \"jonathan\", \"jonathan\", \"jonathan\", \"jonathan\", \"jonathan\", \"jordan\", \"jordan\", \"jordan\", \"jordan\", \"jordan\", \"josh\", \"josh\", \"josh\", \"josh\", \"joyce\", \"joyce\", \"joyce\", \"joyce\", \"joyce\", \"joyce\", \"joyce\", \"joyce\", \"juan\", \"juan\", \"juan\", \"juan\", \"juan\", \"jude\", \"jude\", \"jude\", \"jude\", \"judge\", \"judge\", \"judge\", \"judge\", \"judge\", \"judge\", \"judge\", \"judge\", \"judge\", \"judge\", \"juggernaut\", \"julian\", \"julian\", \"julian\", \"julian\", \"juliet\", \"juliet\", \"juliet\", \"juliet\", \"karen\", \"karen\", \"karen\", \"karen\", \"karen\", \"karen\", \"karen\", \"karen\", \"karl\", \"karl\", \"karl\", \"karl\", \"karl\", \"karl\", \"karl\", \"kat\", \"kat\", \"kat\", \"kat\", \"kate\", \"kate\", \"kate\", \"kate\", \"kate\", \"kate\", \"katherine\", \"katherine\", \"katherine\", \"katherine\", \"kay\", \"kay\", \"kay\", \"kay\", \"kay\", \"kay\", \"kay\", \"kay\", \"keefe\", \"keefe\", \"keefe\", \"keefe\", \"kelly\", \"kelly\", \"kelly\", \"kelly\", \"kelly\", \"kelly\", \"kelly\", \"kelly\", \"kelly\", \"kennedy\", \"kennedy\", \"kennedy\", \"kennedy\", \"kenny\", \"kenny\", \"kenny\", \"kenny\", \"kenny\", \"kenny\", \"kevin\", \"kevin\", \"kevin\", \"kevin\", \"kevin\", \"kevin\", \"kevin\", \"kevin\", \"kid\", \"kid\", \"kid\", \"kid\", \"kid\", \"kid\", \"kid\", \"kid\", \"kid\", \"kid\", \"kid\", \"kid\", \"kid\", \"kid\", \"kid\", \"kid\", \"kid\", \"kid\", \"kill\", \"kill\", \"kill\", \"kill\", \"kill\", \"kill\", \"kill\", \"kill\", \"kill\", \"kill\", \"kill\", \"kill\", \"kill\", \"kill\", \"kill\", \"kill\", \"kill\", \"kill\", \"kill\", \"kim\", \"kim\", \"kim\", \"kim\", \"kim\", \"kim\", \"kim\", \"kimberly\", \"kimberly\", \"kimberly\", \"kimberly\", \"kind\", \"kind\", \"kind\", \"kind\", \"kind\", \"kind\", \"kind\", \"kind\", \"kind\", \"kind\", \"kind\", \"kind\", \"kind\", \"kind\", \"kind\", \"kind\", \"kind\", \"king\", \"king\", \"king\", \"king\", \"king\", \"king\", \"king\", \"king\", \"king\", \"king\", \"king\", \"king\", \"king\", \"king\", \"king\", \"kirk\", \"kirk\", \"kirk\", \"kiss\", \"kiss\", \"kiss\", \"kiss\", \"kiss\", \"kiss\", \"kiss\", \"kiss\", \"kiss\", \"kiss\", \"kiss\", \"kiss\", \"kiss\", \"kiss\", \"kiss\", \"kiss\", \"kiss\", \"kiss\", \"kiss\", \"kiss\", \"knox\", \"knox\", \"knox\", \"knox\", \"kong\", \"kong\", \"kong\", \"kong\", \"kong\", \"kong\", \"kong\", \"kramer\", \"kramer\", \"kramer\", \"kramer\", \"kramer\", \"kramer\", \"kyle\", \"kyle\", \"kyle\", \"kyle\", \"kyle\", \"land\", \"land\", \"land\", \"land\", \"land\", \"land\", \"land\", \"land\", \"land\", \"land\", \"land\", \"land\", \"land\", \"land\", \"land\", \"land\", \"land\", \"land\", \"land\", \"large\", \"large\", \"large\", \"large\", \"large\", \"large\", \"large\", \"large\", \"large\", \"large\", \"large\", \"large\", \"large\", \"large\", \"large\", \"large\", \"large\", \"large\", \"large\", \"large\", \"larry\", \"larry\", \"larry\", \"larry\", \"larry\", \"larry\", \"larry\", \"larry\", \"larry\", \"larry\", \"laugh\", \"laugh\", \"laugh\", \"laugh\", \"laugh\", \"laugh\", \"laugh\", \"laugh\", \"laugh\", \"laugh\", \"laugh\", \"laugh\", \"laugh\", \"laugh\", \"laugh\", \"laugh\", \"laugh\", \"laugh\", \"laugh\", \"laura\", \"laura\", \"laura\", \"laura\", \"laura\", \"laura\", \"laurie\", \"laurie\", \"laurie\", \"le\", \"le\", \"le\", \"le\", \"le\", \"le\", \"le\", \"leach\", \"leach\", \"leach\", \"leach\", \"leach\", \"leach\", \"lead\", \"lead\", \"lead\", \"lead\", \"lead\", \"lead\", \"lead\", \"lead\", \"lead\", \"lead\", \"lead\", \"lead\", \"lead\", \"lead\", \"lead\", \"lead\", \"lead\", \"lead\", \"lead\", \"leap horse\", \"lee\", \"lee\", \"lee\", \"lee\", \"lee\", \"lee\", \"lee\", \"leigh\", \"leigh\", \"leigh\", \"leigh\", \"lenny\", \"lenny\", \"lenny\", \"lenny\", \"leo\", \"leo\", \"leo\", \"leo\", \"leo\", \"leo\", \"leo\", \"leon\", \"leon\", \"leon\", \"leon\", \"leon\", \"leon\", \"leon\", \"leon\", \"leonard\", \"leonard\", \"leonard\", \"leonard\", \"leonard\", \"leonard\", \"leslie\", \"leslie\", \"leslie\", \"leslie\", \"leslie\", \"lester\", \"lester\", \"lester\", \"li\", \"li\", \"li\", \"li\", \"li\", \"li\", \"li\", \"li\", \"li\", \"lifeboat\", \"lifeboat\", \"lillian\", \"lillian\", \"lillian\", \"lillian\", \"lillian\", \"lillian\", \"lilly\", \"lilly\", \"lilly\", \"lincoln\", \"lincoln\", \"lincoln\", \"lincoln\", \"lincoln\", \"lincoln\", \"lincoln\", \"lincoln\", \"lincoln\", \"lincoln\", \"linda\", \"linda\", \"linda\", \"linda\", \"linda\", \"linda\", \"lion\", \"lion\", \"lion\", \"lion\", \"lion\", \"lion\", \"lion\", \"lion\", \"lionel\", \"lionel\", \"lionel\", \"lionel\", \"lionel\", \"lisa\", \"lisa\", \"lisa\", \"lisa\", \"lisa\", \"lisa\", \"lisa\", \"lisa\", \"liz\", \"liz\", \"liz\", \"liz\", \"liz\", \"liz\", \"liz\", \"liz\", \"liza\", \"liza\", \"liza\", \"liza\", \"lloyd\", \"lloyd\", \"lloyd\", \"lloyd\", \"lloyd\", \"logan\", \"logan\", \"loon\", \"loon\", \"loon\", \"lord\", \"lord\", \"lord\", \"lord\", \"lord\", \"lord\", \"lord\", \"lord\", \"lord\", \"lord\", \"lord\", \"loretta\", \"loretta\", \"loretta\", \"loretta\", \"lose virginity\", \"lou\", \"lou\", \"lou\", \"lou\", \"lou\", \"lou\", \"lou\", \"lou\", \"lou\", \"louis\", \"louis\", \"louis\", \"louis\", \"louis\", \"louis\", \"louis\", \"louis\", \"lucifer\", \"lucifer\", \"lucifer\", \"lucy\", \"lucy\", \"lucy\", \"lucy\", \"lucy\", \"lucy\", \"lucy\", \"lucy\", \"lucy\", \"lucy\", \"lui\", \"lui\", \"luke\", \"luke\", \"luke\", \"luke\", \"luke\", \"luther\", \"luther\", \"luther\", \"luther\", \"lynn\", \"lynn\", \"lynn\", \"lynn\", \"machete\", \"machete\", \"machete\", \"machete\", \"machine\", \"machine\", \"machine\", \"machine\", \"machine\", \"machine\", \"machine\", \"machine\", \"machine\", \"machine\", \"machine\", \"machine\", \"machine\", \"machine\", \"machine\", \"machine\", \"mack\", \"mack\", \"mack\", \"mack\", \"madam\", \"madam\", \"madam\", \"madam\", \"madam\", \"madam\", \"main\", \"main\", \"main\", \"main\", \"main\", \"main\", \"main\", \"main\", \"main\", \"main\", \"main\", \"main\", \"main\", \"main\", \"main\", \"main\", \"main\", \"main\", \"mais\", \"majesty\", \"majesty\", \"majesty\", \"majesty\", \"mal\", \"mal\", \"mal\", \"malcolm\", \"malcolm\", \"malcolm\", \"malcolm\", \"malcolm\", \"malcolm\", \"malcolm\", \"malcolm\", \"mall\", \"mall\", \"mall\", \"mall\", \"mall\", \"mall\", \"mall\", \"mall\", \"mall\", \"mall\", \"mall\", \"mam\", \"mam\", \"mam\", \"mann\", \"mann\", \"mann\", \"mann\", \"mann\", \"mar\", \"mar\", \"mar\", \"mar\", \"mar\", \"mar\", \"mar\", \"mar\", \"marco\", \"marco\", \"marco\", \"marco\", \"margaret\", \"margaret\", \"margaret\", \"margaret\", \"margaret\", \"margaret\", \"margaret\", \"margaret\", \"margaret\", \"mariachi\", \"mariachi\", \"mariachi\", \"marie\", \"marie\", \"marie\", \"marie\", \"marie\", \"marie\", \"marie\", \"marie\", \"marie\", \"marie\", \"marion\", \"marion\", \"mark\", \"mark\", \"mark\", \"mark\", \"mark\", \"mark\", \"mark\", \"mark\", \"mark\", \"mark\", \"mark\", \"mark\", \"mark\", \"mark\", \"mark\", \"mark\", \"mark\", \"marlin\", \"marrow\", \"marrow\", \"marrow\", \"marrow\", \"marrow\", \"marshall\", \"marshall\", \"marshall\", \"marshall\", \"martha\", \"martha\", \"martha\", \"martha\", \"martha\", \"martha\", \"martha\", \"martin\", \"martin\", \"martin\", \"martin\", \"martin\", \"martin\", \"martin\", \"martin\", \"martin\", \"martin\", \"martin\", \"martin\", \"martin martin\", \"martin martin\", \"martin martin\", \"mary\", \"mary\", \"mary\", \"mary\", \"mary\", \"mary\", \"mary\", \"mary\", \"mary\", \"mary\", \"mary\", \"mary\", \"mary\", \"mary watch\", \"mary watch\", \"mary watch\", \"mary watch\", \"mary watch\", \"matt\", \"matt\", \"matt\", \"maurice\", \"maurice\", \"maurice\", \"maurice\", \"max\", \"max\", \"max\", \"max\", \"max\", \"max\", \"max\", \"max\", \"max\", \"max\", \"max max\", \"max nod\", \"max nod\", \"max watch\", \"mayan\", \"mayan\", \"mayan\", \"mayan\", \"mayan\", \"mccoy\", \"mccoy\", \"mccoy\", \"mccoy\", \"medium\", \"medium\", \"medium\", \"medium\", \"medium\", \"medium\", \"medium\", \"medium\", \"medium\", \"medium\", \"medium\", \"medium\", \"medium shot\", \"medium shot\", \"medium shot\", \"medium shot\", \"medium shot\", \"medium shot\", \"medium shot\", \"meg\", \"meg\", \"meg\", \"meg\", \"memphis\", \"memphis\", \"memphis\", \"memphis\", \"memphis\", \"memphis\", \"menagerie\", \"menagerie\", \"metal\", \"metal\", \"metal\", \"metal\", \"metal\", \"metal\", \"metal\", \"metal\", \"metal\", \"metal\", \"metal\", \"metal\", \"metal\", \"metal\", \"metal\", \"metal\", \"metal\", \"metal\", \"metal\", \"mia\", \"mia\", \"mia\", \"mia\", \"michael\", \"michael\", \"michael\", \"michael\", \"michael\", \"michael\", \"michael\", \"michael\", \"michael\", \"michael\", \"michael\", \"michael\", \"michael\", \"michael\", \"michel\", \"michel\", \"michel\", \"michel\", \"michel\", \"mick\", \"mick\", \"mick\", \"mick\", \"mickey\", \"mickey\", \"mickey\", \"mickey\", \"mickey\", \"midwife\", \"midwife\", \"midwife\", \"midwife\", \"midwife\", \"midwife\", \"miguel\", \"miguel\", \"mike\", \"mike\", \"mike\", \"mike\", \"mike\", \"mike\", \"mike\", \"mike\", \"mike\", \"mike\", \"mike\", \"mike\", \"mike\", \"mike\", \"mike mike\", \"mike mike\", \"mike watch\", \"mikey\", \"mikey\", \"mikey\", \"mikey\", \"mikey\", \"milkshake\", \"milkshake\", \"milkshake\", \"milkshake\", \"milkshake\", \"millennium\", \"millennium\", \"millennium\", \"millennium\", \"millennium\", \"mini\", \"mini\", \"mini\", \"mini\", \"mini\", \"mini\", \"mini\", \"mini\", \"mini\", \"mini\", \"minion\", \"minion\", \"minion\", \"minion\", \"minute\", \"minute\", \"minute\", \"minute\", \"minute\", \"minute\", \"minute\", \"minute\", \"minute\", \"minute\", \"minute\", \"minute\", \"minute\", \"minute\", \"minute\", \"minute\", \"minute\", \"minute\", \"minute\", \"minute\", \"miranda\", \"miranda\", \"miranda\", \"miranda\", \"miranda\", \"miriam\", \"miriam\", \"miriam\", \"miriam\", \"miriam\", \"miss\", \"miss\", \"miss\", \"miss\", \"miss\", \"miss\", \"miss\", \"miss\", \"miss\", \"miss\", \"miss\", \"miss\", \"miss\", \"miss\", \"miss\", \"miss\", \"miss\", \"miss\", \"miss\", \"miss\", \"mission control\", \"mitch\", \"module\", \"module\", \"module\", \"module\", \"moi\", \"moi\", \"moi\", \"moi\", \"moi\", \"molly\", \"molly\", \"molly\", \"molly\", \"molly\", \"mom\", \"mom\", \"mom\", \"mom\", \"mom\", \"mom\", \"mom\", \"mom\", \"mom\", \"mom\", \"mom\", \"mom\", \"mom\", \"mom\", \"mom\", \"mom\", \"mom\", \"mom\", \"money\", \"money\", \"money\", \"money\", \"money\", \"money\", \"money\", \"money\", \"money\", \"money\", \"money\", \"money\", \"money\", \"money\", \"money\", \"money\", \"money\", \"money\", \"money\", \"monica\", \"monica\", \"monica\", \"monica\", \"monica\", \"monitor\", \"monitor\", \"monitor\", \"monitor\", \"monitor\", \"monitor\", \"monitor\", \"monitor\", \"monitor\", \"monitor\", \"monitor\", \"monitor\", \"monitor\", \"monitor\", \"monitor\", \"monk\", \"monk\", \"monk\", \"monk\", \"monk\", \"monk\", \"monk\", \"morrow\", \"morrow\", \"morrow\", \"morrow\", \"morse\", \"morse\", \"morse\", \"morse\", \"moss\", \"moss\", \"moss\", \"moss\", \"moss\", \"moss\", \"moss\", \"moss\", \"mother\", \"mother\", \"mother\", \"mother\", \"mother\", \"mother\", \"mother\", \"mother\", \"mother\", \"mother\", \"mother\", \"mother\", \"mother\", \"mother\", \"mother\", \"mother\", \"mother\", \"mother\", \"mother talk\", \"mother talk\", \"motherfucker\", \"motherfucker\", \"motherfucker\", \"motherfucker\", \"motherfucker\", \"motherfucker\", \"motherfucker\", \"motherfucker\", \"motorcade\", \"motorcade\", \"motorcade\", \"mozart\", \"mozart\", \"mozart\", \"mozart\", \"mozart\", \"mr\", \"mr\", \"mr\", \"mr\", \"mr\", \"mr\", \"mr\", \"mr\", \"mr\", \"mr\", \"mr\", \"mr\", \"mr\", \"mr\", \"mr\", \"mud\", \"mud\", \"mud\", \"mud\", \"mud\", \"mud\", \"mud\", \"mud\", \"mud\", \"mud\", \"mud\", \"mud\", \"muhammad\", \"muhammad\", \"muhammad\", \"muhammad\", \"muhammad\", \"musket\", \"musket\", \"musket\", \"musketeer\", \"musketeer\", \"myers\", \"myers\", \"myers\", \"myers\", \"nan\", \"nan\", \"nan\", \"nan\", \"nan\", \"napoleon\", \"napoleon\", \"napoleon\", \"napoleon\", \"napoleon\", \"nash\", \"nash\", \"nash\", \"nash\", \"nash\", \"natalie\", \"natalie\", \"natalie\", \"natalie\", \"natalie\", \"natalie\", \"natalie\", \"nathan\", \"nathan\", \"nathan\", \"nathan\", \"nathan\", \"nathan\", \"ne\", \"ne\", \"ne\", \"ne\", \"ne\", \"ne\", \"ne\", \"needy\", \"needy\", \"needy\", \"needy\", \"neil\", \"neil\", \"neil\", \"neil\", \"neil\", \"neil\", \"nell\", \"nell\", \"nell\", \"neo\", \"neo\", \"neo\", \"neo\", \"neural\", \"nice\", \"nice\", \"nice\", \"nice\", \"nice\", \"nice\", \"nice\", \"nice\", \"nice\", \"nice\", \"nice\", \"nice\", \"nice\", \"nice\", \"nice\", \"nice\", \"nice\", \"nice\", \"nice\", \"nice\", \"nicholas\", \"nicholas\", \"nicholas\", \"nicholas\", \"nicholas\", \"nick\", \"nick\", \"nick\", \"nick\", \"nick\", \"nick\", \"nick\", \"nick\", \"nick\", \"nick\", \"nick nick\", \"nick nick\", \"nicole\", \"nicole\", \"nicole\", \"nicole\", \"nicole\", \"nigger\", \"nigger\", \"nigger\", \"nigger\", \"nigger\", \"nigger\", \"noah\", \"noah\", \"noah\", \"noah\", \"noah\", \"noah\", \"nod\", \"nod\", \"nod\", \"nod\", \"nod\", \"nod\", \"nod\", \"nod\", \"nod\", \"nod\", \"nod\", \"nod\", \"nod\", \"nod\", \"nod\", \"nod\", \"nod\", \"nod\", \"nod\", \"nora\", \"nora\", \"nora\", \"nora\", \"norman\", \"norman\", \"norman\", \"norman\", \"norman\", \"norman\", \"numbered\", \"numbered\", \"numbered\", \"numbered\", \"numbered\", \"numbered\", \"numbered\", \"numbered\", \"nurse\", \"nurse\", \"nurse\", \"nurse\", \"nurse\", \"nurse\", \"nurse\", \"nurse\", \"nurse\", \"nurse\", \"nurse\", \"nurse\", \"office\", \"office\", \"office\", \"office\", \"office\", \"office\", \"office\", \"office\", \"office\", \"office\", \"office\", \"office\", \"office\", \"office\", \"office\", \"office\", \"office\", \"office\", \"office\", \"office\", \"officer\", \"officer\", \"officer\", \"officer\", \"officer\", \"officer\", \"officer\", \"officer\", \"officer\", \"officer\", \"officer\", \"officer\", \"officer\", \"officer\", \"officer\", \"officer\", \"officer\", \"official\", \"official\", \"official\", \"official\", \"official\", \"official\", \"official\", \"official\", \"official\", \"olive\", \"olive\", \"olive\", \"olive\", \"olive\", \"olive\", \"olive\", \"oracle\", \"oracle\", \"oracle\", \"oracle\", \"orangutan\", \"orangutan\", \"orangutan\", \"orangutan\", \"orangutan\", \"orbit\", \"orbit\", \"orbit\", \"orbit\", \"orbit\", \"order\", \"order\", \"order\", \"order\", \"order\", \"order\", \"order\", \"order\", \"order\", \"order\", \"order\", \"order\", \"order\", \"order\", \"order\", \"order\", \"order\", \"order\", \"oscar\", \"oscar\", \"oscar\", \"oscar\", \"oswald\", \"oswald\", \"otto\", \"otto\", \"otto\", \"oval office\", \"oval office\", \"pa\", \"pa\", \"pa\", \"pa\", \"pa\", \"pa\", \"pa\", \"pa\", \"pa\", \"pa\", \"paddy\", \"paddy\", \"paddy\", \"paddy\", \"pamela\", \"pamela\", \"pamela\", \"pamela\", \"pan left\", \"pan left\", \"pan left\", \"panel\", \"panel\", \"panel\", \"panel\", \"panel\", \"panel\", \"panel\", \"panel\", \"panel\", \"panel\", \"panel\", \"panel\", \"panel\", \"panel\", \"panel\", \"paper\", \"paper\", \"paper\", \"paper\", \"paper\", \"paper\", \"paper\", \"paper\", \"paper\", \"paper\", \"paper\", \"paper\", \"paper\", \"paper\", \"paper\", \"paper\", \"paper\", \"paper\", \"paper\", \"par\", \"par\", \"par\", \"par\", \"par\", \"par\", \"par\", \"parker\", \"parker\", \"parker\", \"parker\", \"parker\", \"parker\", \"parker\", \"patient\", \"patient\", \"patient\", \"patient\", \"patient\", \"patient\", \"patient\", \"patient\", \"patient\", \"patient\", \"patrick\", \"patrick\", \"patrick\", \"patrick\", \"patrick\", \"patrick\", \"patrick\", \"paul\", \"paul\", \"paul\", \"paul\", \"paul\", \"paul\", \"paul\", \"paul\", \"paul\", \"paul\", \"paul paul\", \"paul try\", \"paulie\", \"paulie\", \"paulie\", \"paulie\", \"paulie\", \"pause\", \"pause\", \"pause\", \"pause\", \"pause\", \"pause\", \"pause\", \"pause\", \"pause\", \"pause\", \"pause\", \"pause\", \"pause\", \"pause\", \"pause\", \"pause\", \"pause\", \"pause\", \"pause\", \"peggy\", \"peggy\", \"percy\", \"percy\", \"percy\", \"perrier\", \"perrier\", \"pete\", \"pete\", \"pete\", \"pete\", \"pete\", \"pete\", \"pete\", \"pete\", \"pete\", \"peter\", \"peter\", \"peter\", \"peter\", \"peter\", \"peter\", \"peter\", \"peter\", \"peter\", \"peter\", \"peter\", \"peter peter\", \"peter peter\", \"peter peter\", \"phil\", \"phil\", \"phil\", \"phil\", \"phil\", \"phil\", \"phil\", \"phil phil\", \"philip\", \"philip\", \"philip\", \"philip\", \"philip\", \"philip\", \"phillip\", \"phillip\", \"phillip\", \"phyllis\", \"phyllis\", \"phyllis\", \"pi\", \"pi\", \"pi\", \"pike\", \"pike\", \"pike\", \"pike\", \"pilgrim\", \"pilgrim\", \"pilgrim\", \"pilgrim\", \"pilgrim\", \"pilgrim\", \"pilot\", \"pilot\", \"pilot\", \"pilot\", \"pilot\", \"pilot\", \"pilot\", \"pilot\", \"pilot\", \"pilot\", \"pilot\", \"pilot\", \"pilot\", \"pipeline\", \"pipeline\", \"pipeline\", \"pipeline\", \"pipeline\", \"plan\", \"plan\", \"plan\", \"plan\", \"plan\", \"plan\", \"plan\", \"plan\", \"plan\", \"plan\", \"plan\", \"plan\", \"plan\", \"plan\", \"plan\", \"plan\", \"plan\", \"plan\", \"plan\", \"planet\", \"planet\", \"planet\", \"planet\", \"planet\", \"planet\", \"planet\", \"planet\", \"planet\", \"plutonium\", \"plutonium\", \"plutonium\", \"pod\", \"pod\", \"pod\", \"poe\", \"poe\", \"poe\", \"poe\", \"poe\", \"police\", \"police\", \"police\", \"police\", \"police\", \"police\", \"police\", \"police\", \"police\", \"police\", \"police\", \"police\", \"police\", \"police\", \"police\", \"police\", \"police\", \"pooch\", \"pooch\", \"pooch\", \"pooch\", \"pop trunk\", \"pop trunk\", \"poplar\", \"poplar\", \"poplar\", \"poplar\", \"potter\", \"potter\", \"potter\", \"potter\", \"pour\", \"pour\", \"pour\", \"pour\", \"pour\", \"pour\", \"pour\", \"pour\", \"pour\", \"pour\", \"pour\", \"pour\", \"pour\", \"pour\", \"pour\", \"pour\", \"pour\", \"powell\", \"powell\", \"powell\", \"powell\", \"powell\", \"powell\", \"power\", \"power\", \"power\", \"power\", \"power\", \"power\", \"power\", \"power\", \"power\", \"power\", \"power\", \"power\", \"power\", \"power\", \"power\", \"power\", \"power\", \"power\", \"pox\", \"pox\", \"prada\", \"prada\", \"president\", \"president\", \"president\", \"president\", \"president\", \"president\", \"president\", \"president\", \"president\", \"president\", \"price\", \"price\", \"price\", \"price\", \"price\", \"price\", \"price\", \"price\", \"price\", \"price\", \"price\", \"price\", \"price\", \"price\", \"price\", \"price\", \"primate\", \"primate\", \"primate\", \"primate\", \"prince\", \"prince\", \"prince\", \"prince\", \"prince\", \"prince\", \"prince\", \"prince charm\", \"prince charm\", \"prince charm\", \"princess\", \"princess\", \"princess\", \"princess\", \"princess\", \"princess\", \"princess\", \"princess\", \"probe\", \"probe\", \"probe\", \"probe\", \"probe\", \"probe\", \"prod\", \"prod\", \"prod\", \"prod\", \"prod\", \"prod\", \"prod\", \"prod\", \"prod\", \"production draft\", \"production draft\", \"production draft\", \"production draft\", \"production draft\", \"production draft\", \"programme\", \"programme\", \"programme\", \"protagonist\", \"protagonist\", \"protagonist\", \"pug\", \"pug\", \"pug\", \"pug\", \"pullman\", \"pullman\", \"pullman\", \"pullman\", \"puppeteer\", \"puppeteer\", \"puppeteer\", \"puppeteer\", \"qu\", \"que\", \"que\", \"que\", \"que\", \"que\", \"que\", \"que\", \"que\", \"queen\", \"queen\", \"queen\", \"queen\", \"queen\", \"queen\", \"queen\", \"queen\", \"queen\", \"queen\", \"queen\", \"question\", \"question\", \"question\", \"question\", \"question\", \"question\", \"question\", \"question\", \"question\", \"question\", \"question\", \"question\", \"question\", \"question\", \"question\", \"question\", \"question\", \"question\", \"question\", \"qui\", \"qui\", \"quincy\", \"quincy\", \"quincy\", \"quinn\", \"quinn\", \"quinn\", \"quinn\", \"quinn\", \"race\", \"race\", \"race\", \"race\", \"race\", \"race\", \"race\", \"race\", \"race\", \"race\", \"race\", \"race\", \"race\", \"race\", \"race\", \"race\", \"race\", \"race\", \"race\", \"racer\", \"racer\", \"rachel\", \"rachel\", \"rachel\", \"rachel\", \"rachel\", \"rachel rachel\", \"ramirez\", \"ramirez\", \"ramsey\", \"ramsey\", \"ramsey\", \"ramsey\", \"rapid\", \"rapid\", \"rapid\", \"rapid\", \"rapid\", \"rapid\", \"rapid\", \"rapid\", \"rapid\", \"rapid\", \"rasputin\", \"rasputin\", \"rasputin\", \"rasta\", \"rasta\", \"ray\", \"ray\", \"ray\", \"ray\", \"ray\", \"ray\", \"ray\", \"ray\", \"ray\", \"ray\", \"ray\", \"reactor\", \"reactor\", \"reactor\", \"reactor\", \"read\", \"read\", \"read\", \"read\", \"read\", \"read\", \"read\", \"read\", \"read\", \"read\", \"read\", \"read\", \"read\", \"read\", \"read\", \"read\", \"read\", \"read\", \"read\", \"readout\", \"rebecca\", \"rebecca\", \"rebecca\", \"rebecca\", \"red\", \"red\", \"red\", \"red\", \"red\", \"red\", \"red\", \"red\", \"red\", \"red\", \"red\", \"red\", \"red\", \"red\", \"red\", \"red\", \"red\", \"red\", \"reed\", \"reed\", \"reed\", \"reed\", \"reed\", \"ref\", \"ref\", \"ref\", \"ref\", \"regis\", \"regis\", \"regis\", \"regis\", \"regis\", \"regis\", \"reich\", \"reich\", \"reich\", \"reilly\", \"reilly\", \"reilly\", \"reilly\", \"revision\", \"revision\", \"revision\", \"revision\", \"revision\", \"revision\", \"revision\", \"revision\", \"revision\", \"rez\", \"rez\", \"rez\", \"richard\", \"richard\", \"richard\", \"richard\", \"richard\", \"richard\", \"richard\", \"richard\", \"richard\", \"richard\", \"richard\", \"richard\", \"rick\", \"rick\", \"rick\", \"rick\", \"rick\", \"rick\", \"rick\", \"ride\", \"ride\", \"ride\", \"ride\", \"ride\", \"ride\", \"ride\", \"ride\", \"ride\", \"ride\", \"ride\", \"ride\", \"ride\", \"ride\", \"ride\", \"ride\", \"ride\", \"ride\", \"rifle\", \"rifle\", \"rifle\", \"rifle\", \"rifle\", \"rifle\", \"rifle\", \"rifle\", \"rifle\", \"rifle\", \"rifle\", \"rifle\", \"rifle\", \"ring\", \"ring\", \"ring\", \"ring\", \"ring\", \"ring\", \"ring\", \"ring\", \"ring\", \"ring\", \"ring\", \"ring\", \"ring\", \"ring\", \"ring\", \"ring\", \"ring\", \"ring\", \"ring\", \"ringside\", \"ringside\", \"ringside\", \"ringside\", \"ringside\", \"ringside\", \"rise\", \"rise\", \"rise\", \"rise\", \"rise\", \"rise\", \"rise\", \"rise\", \"rise\", \"rise\", \"rise\", \"rise\", \"rise\", \"rise\", \"rise\", \"rise\", \"rise\", \"rise\", \"rise\", \"rise\", \"rita\", \"rita\", \"rita\", \"rita\", \"rita\", \"rita\", \"rob\", \"rob\", \"rob\", \"rob\", \"rob\", \"rob\", \"rob\", \"rob\", \"rob\", \"rob\", \"robbie\", \"robbie\", \"robbie\", \"robbie\", \"robin\", \"robin\", \"robin\", \"robin\", \"robin\", \"robot\", \"robot\", \"robot\", \"robot\", \"robot\", \"rocket\", \"rocket\", \"rocket\", \"rocket\", \"rocket\", \"rocket\", \"rocket\", \"rocket\", \"rocky\", \"rocky\", \"rocky\", \"rocky\", \"rocky\", \"rocky\", \"rocky\", \"rocky\", \"rocky\", \"rocky\", \"rocky\", \"roger\", \"roger\", \"roger\", \"roger\", \"roger\", \"roger\", \"roger\", \"roger\", \"roger\", \"roll\", \"roll\", \"roll\", \"roll\", \"roll\", \"roll\", \"roll\", \"roll\", \"roll\", \"roll\", \"roll\", \"roll\", \"roll\", \"roll\", \"roll\", \"roll\", \"roll\", \"roll\", \"roll\", \"roll stone\", \"roll stone\", \"roll stone\", \"ron\", \"ron\", \"ron\", \"ronald\", \"ronald\", \"ronald\", \"ronald\", \"ronald\", \"ronald\", \"ronald\", \"ronnie\", \"ronnie\", \"ronnie\", \"rooster\", \"rooster\", \"rooster\", \"rooster\", \"rosie\", \"rosie\", \"rosie\", \"rosie\", \"rosie\", \"rosie\", \"rosie\", \"rubin\", \"rubin\", \"rubin\", \"rudy\", \"rudy\", \"rudy\", \"rus\", \"rus\", \"rus\", \"rush\", \"rush\", \"rush\", \"rush\", \"rush\", \"rush\", \"rush\", \"rush\", \"rush\", \"rush\", \"rush\", \"rush\", \"rush\", \"rush\", \"rush\", \"rush\", \"rush\", \"rush\", \"ruth\", \"ruth\", \"ruth\", \"ruth\", \"ruth\", \"ruth\", \"ruth\", \"ruth\", \"ryan\", \"ryan\", \"ryan\", \"ryan\", \"ryan\", \"ryan\", \"ryan\", \"sa\", \"sa\", \"sa\", \"sa\", \"sa\", \"saddle\", \"saddle\", \"saddle\", \"saddle\", \"saddle\", \"saddle\", \"saddle\", \"saddle\", \"saddle\", \"sal\", \"sal\", \"sal\", \"sal\", \"salvador\", \"salvador\", \"salvador\", \"sam\", \"sam\", \"sam\", \"sam\", \"sam\", \"sam\", \"sam\", \"sam\", \"sam\", \"sam\", \"sam\", \"sam\", \"sam\", \"sam nod\", \"sam nod\", \"sam run\", \"sam run\", \"sam sit\", \"sam sit\", \"sam watch\", \"samantha\", \"samantha\", \"samantha\", \"sammy\", \"sammy\", \"sammy\", \"sammy\", \"sammy\", \"sammy\", \"sammy\", \"sandra\", \"sandra\", \"sandra\", \"sandra\", \"sandra\", \"sandra\", \"sandra\", \"sandra\", \"sandra\", \"sandra\", \"sara\", \"sara\", \"sara\", \"sara\", \"sarah\", \"sarah\", \"sarah\", \"sarah\", \"sarah\", \"sarah\", \"sarah\", \"sarah\", \"saul\", \"saul\", \"scarecrow\", \"scarecrow\", \"scarecrow\", \"scene\", \"scene\", \"scene\", \"scene\", \"scene\", \"scene\", \"scene\", \"scene\", \"scene\", \"scene\", \"scene\", \"scene\", \"scene\", \"scene\", \"scene\", \"scene\", \"scene\", \"school\", \"school\", \"school\", \"school\", \"school\", \"school\", \"school\", \"school\", \"school\", \"school\", \"school\", \"school\", \"school\", \"school\", \"school\", \"school\", \"school\", \"school\", \"schoolteacher\", \"schoolteacher\", \"schoolteacher\", \"schoolteacher\", \"schoolteacher\", \"scimitar\", \"scott\", \"scott\", \"scott\", \"scott\", \"scott\", \"scott\", \"scott\", \"scott\", \"scott\", \"scott\", \"scott\", \"scott scott\", \"scottie\", \"scottie\", \"scottie\", \"scottie\", \"scottie\", \"scottish\", \"scottish\", \"scottish\", \"scottish\", \"scottish\", \"scottish\", \"scottish\", \"screamer\", \"screamer\", \"screamer\", \"screamer\", \"screen\", \"screen\", \"screen\", \"screen\", \"screen\", \"screen\", \"screen\", \"screen\", \"screen\", \"screen\", \"screen\", \"screen\", \"screen\", \"screen\", \"screen\", \"screen\", \"screen\", \"screen\", \"screwball\", \"screwball\", \"script\", \"script\", \"script\", \"script\", \"script\", \"script\", \"script\", \"script\", \"script\", \"script\", \"script\", \"script\", \"script\", \"se\", \"se\", \"se\", \"se\", \"se\", \"se\", \"se\", \"se\", \"sean\", \"sean\", \"sean\", \"sean\", \"seat\", \"seat\", \"seat\", \"seat\", \"seat\", \"seat\", \"seat\", \"seat\", \"seat\", \"seat\", \"seat\", \"seat\", \"seat\", \"seat\", \"seat\", \"seat\", \"seat\", \"seat\", \"seat\", \"sebastian\", \"sebastian\", \"sebastian\", \"sebastian\", \"sebastian\", \"sebastian\", \"secret service agent\", \"secret service agent\", \"secret service agent\", \"security\", \"security\", \"security\", \"security\", \"security\", \"security\", \"security\", \"security\", \"security\", \"security\", \"security\", \"security\", \"security\", \"security\", \"senior\", \"senior\", \"senior\", \"senior\", \"senior\", \"senior\", \"senior\", \"senior\", \"senior\", \"senior\", \"senior\", \"senior\", \"service agent\", \"service agent\", \"service agent\", \"sex\", \"sex\", \"sex\", \"sex\", \"sex\", \"sex\", \"sex\", \"sex\", \"sex\", \"sex\", \"sex\", \"sex\", \"sex\", \"sex\", \"sharon\", \"sharon\", \"sharon\", \"shaw\", \"shaw\", \"shaw\", \"shea\", \"shea\", \"shea\", \"sheila\", \"sheila\", \"sheila\", \"sheila\", \"sherman\", \"sherman\", \"sherman\", \"sherman\", \"sherman\", \"sherman\", \"shifty\", \"shifty\", \"shifty\", \"shifty\", \"shifty\", \"ship\", \"ship\", \"ship\", \"ship\", \"ship\", \"ship\", \"ship\", \"ship\", \"ship\", \"ship\", \"ship\", \"ship begin\", \"shit\", \"shit\", \"shit\", \"shit\", \"shit\", \"shit\", \"shit\", \"shit\", \"shit\", \"shit\", \"shit\", \"shit\", \"shit\", \"shit\", \"shit\", \"shit\", \"shit\", \"shit\", \"shoot\", \"shoot\", \"shoot\", \"shoot\", \"shoot\", \"shoot\", \"shoot\", \"shoot\", \"shoot\", \"shoot\", \"shoot\", \"shoot\", \"shoot\", \"shoot\", \"shoot\", \"shoot\", \"shoot\", \"shoot\", \"shoot draft\", \"shoot draft\", \"shoot draft\", \"shoot draft\", \"shoot draft\", \"shoot script\", \"shoot script\", \"shoot script\", \"shoot script\", \"shoot script\", \"shoot script\", \"shoot script\", \"shot\", \"shot\", \"shot\", \"shot\", \"shot\", \"shot\", \"shot\", \"shot\", \"shot\", \"shot\", \"shot\", \"shot\", \"shot\", \"shot\", \"shot\", \"shot\", \"shot\", \"shot\", \"shot rise\", \"sid\", \"sid\", \"sid\", \"sid\", \"sid\", \"sid\", \"sid\", \"sidney\", \"sidney\", \"signor\", \"silver star\", \"silver star\", \"silver star\", \"simon\", \"simon\", \"simon\", \"simon\", \"simon\", \"simon\", \"simon\", \"simone\", \"simone\", \"simone\", \"sir\", \"sir\", \"sir\", \"sir\", \"sir\", \"sir\", \"sir\", \"sir\", \"sir\", \"sir\", \"sir\", \"sir\", \"sir\", \"sir\", \"sir\", \"sir\", \"sir\", \"sir\", \"sir\", \"skank\", \"skank\", \"skank\", \"slate\", \"slate\", \"slate\", \"slate\", \"slate\", \"slate\", \"slate\", \"slave\", \"slave\", \"slave\", \"slave\", \"slave\", \"slave\", \"slave\", \"sleigh\", \"sleigh\", \"slowly\", \"slowly\", \"slowly\", \"slowly\", \"slowly\", \"slowly\", \"slowly\", \"slowly\", \"slowly\", \"slowly\", \"slowly\", \"slowly\", \"slowly\", \"slowly\", \"slowly\", \"slowly\", \"slowly\", \"slowly\", \"smile\", \"smile\", \"smile\", \"smile\", \"smile\", \"smile\", \"smile\", \"smile\", \"smile\", \"smile\", \"smile\", \"smile\", \"smile\", \"smile\", \"smile\", \"smile\", \"smile\", \"smile\", \"smile\", \"snake\", \"snake\", \"snake\", \"snake\", \"snake\", \"snake\", \"snake\", \"snake\", \"snake\", \"snake\", \"snake\", \"snake\", \"snake\", \"snake snake\", \"snake snake\", \"snake snake\", \"snake snake\", \"snake snake\", \"snitch\", \"snow\", \"snow\", \"snow\", \"snow\", \"snow\", \"snow\", \"snow\", \"snow\", \"snow\", \"snow\", \"snow\", \"snow\", \"snow\", \"snow\", \"snow\", \"snow white\", \"snow white\", \"snow white\", \"snow white\", \"soldier\", \"soldier\", \"soldier\", \"soldier\", \"soldier\", \"soldier\", \"soldier\", \"soldier\", \"soldier\", \"soldier\", \"soldier\", \"soldier\", \"solomon\", \"solomon\", \"son\", \"son\", \"son\", \"son\", \"son\", \"son\", \"son\", \"son\", \"son\", \"son\", \"son\", \"son\", \"son\", \"son\", \"son\", \"son\", \"son\", \"son\", \"son\", \"sonny\", \"sonny\", \"sonny\", \"sonny\", \"sonny\", \"sonny\", \"soundstage\", \"soundstage\", \"soundstage\", \"space\", \"space\", \"space\", \"space\", \"space\", \"space\", \"space\", \"space\", \"space\", \"space\", \"space\", \"space\", \"space\", \"space\", \"space\", \"space suit\", \"speed\", \"speed\", \"speed\", \"speed\", \"speed\", \"speed\", \"speed\", \"speed\", \"speed\", \"speed\", \"speed\", \"speed\", \"speed\", \"speed\", \"speed\", \"speed\", \"speed\", \"sphere\", \"sphere\", \"spin\", \"spin\", \"spin\", \"spin\", \"spin\", \"spin\", \"spin\", \"spin\", \"spin\", \"spin\", \"spin\", \"spin\", \"spin\", \"spin\", \"spin\", \"spin\", \"spin\", \"spin\", \"spot jack\", \"spud\", \"spud\", \"squaw\", \"squaw\", \"squaw\", \"stacy\", \"stacy\", \"stacy\", \"stacy\", \"stair\", \"stair\", \"stair\", \"stair\", \"stair\", \"stair\", \"stair\", \"stair\", \"stair\", \"stair\", \"stair\", \"stair\", \"stair\", \"stair\", \"stair\", \"stair\", \"stair\", \"stair\", \"stair\", \"stan\", \"stan\", \"stan\", \"stan\", \"stanford\", \"stanford\", \"stanford\", \"stanford\", \"stanford\", \"stanton\", \"stanton\", \"stanton\", \"stanton\", \"star\", \"star\", \"star\", \"star\", \"star\", \"star\", \"star\", \"star\", \"star\", \"star\", \"star\", \"star\", \"star\", \"star\", \"star\", \"star\", \"star\", \"star\", \"star\", \"starship\", \"state\", \"state\", \"state\", \"state\", \"state\", \"state\", \"state\", \"state\", \"state\", \"state\", \"state\", \"state\", \"state\", \"state\", \"state\", \"state\", \"state\", \"station\", \"station\", \"station\", \"station\", \"station\", \"station\", \"station\", \"station\", \"station\", \"station\", \"station\", \"station\", \"station\", \"station\", \"station\", \"station\", \"station\", \"station\", \"station\", \"steed\", \"steel\", \"steel\", \"steel\", \"steel\", \"steel\", \"steel\", \"steel\", \"steel\", \"steel\", \"steel\", \"steel\", \"steel\", \"steel\", \"stella\", \"stella\", \"stella\", \"stella\", \"stella\", \"stephanie\", \"stephanie\", \"stephanie\", \"stephen\", \"stephen\", \"stephen\", \"stephen\", \"stephen\", \"stephen\", \"stephen\", \"stephen\", \"stephen\", \"stephen\", \"steve\", \"steve\", \"steve\", \"steve\", \"steve\", \"steve\", \"steve\", \"steve\", \"steve\", \"steve\", \"steve\", \"steve\", \"steve steve\", \"steve steve\", \"steve steve\", \"steven\", \"steven\", \"steven\", \"stevie\", \"stevie\", \"stevie\", \"stevie\", \"stevie\", \"stevie\", \"stew\", \"stew\", \"stew\", \"stew\", \"stew\", \"stew\", \"stew\", \"story\", \"story\", \"story\", \"story\", \"story\", \"story\", \"story\", \"story\", \"story\", \"story\", \"story\", \"story\", \"story\", \"story\", \"story\", \"story\", \"story\", \"story\", \"story\", \"strait\", \"strait\", \"strait\", \"strait\", \"strait\", \"strait\", \"street\", \"street\", \"street\", \"street\", \"street\", \"street\", \"street\", \"street\", \"street\", \"street\", \"street\", \"street\", \"street\", \"street\", \"street\", \"street\", \"street\", \"street\", \"street\", \"striker\", \"striker\", \"striker\", \"stu\", \"stu\", \"stu\", \"stu\", \"stu\", \"stuart\", \"stuart\", \"stuart\", \"stuart\", \"stuart\", \"stuart\", \"stuart\", \"stuart\", \"stump\", \"stump\", \"stump\", \"stump\", \"stump\", \"stump\", \"stump\", \"stump\", \"stump\", \"stump\", \"stump\", \"style\", \"style\", \"style\", \"style\", \"style\", \"style\", \"style\", \"style\", \"style\", \"style\", \"style\", \"style\", \"style\", \"sub\", \"sub\", \"sub\", \"sub\", \"sub\", \"sub\", \"sub\", \"sub\", \"sub\", \"sub\", \"sub\", \"subconscious\", \"subconscious\", \"subconscious\", \"subconscious\", \"subconscious\", \"subconscious\", \"submachine\", \"submachine gun\", \"submarine\", \"submarine\", \"submarine\", \"submarine\", \"submarine\", \"submarine\", \"submarine\", \"submarine\", \"sue\", \"sue\", \"sue\", \"sue\", \"sue\", \"sue\", \"sue\", \"sue\", \"sur\", \"sur\", \"sur\", \"sur\", \"surface\", \"surface\", \"surface\", \"surface\", \"surface\", \"surface\", \"surface\", \"surface\", \"surface\", \"surface\", \"surface\", \"surface\", \"surface\", \"surface\", \"surface\", \"surface\", \"surface\", \"susan\", \"susan\", \"susan\", \"susan\", \"susan\", \"susan\", \"susan\", \"susan\", \"suzy\", \"suzy\", \"suzy\", \"suzy\", \"swede\", \"swede\", \"swim\", \"swim\", \"swim\", \"swim\", \"swim\", \"swim\", \"swim\", \"swim\", \"swim\", \"swim\", \"swim\", \"swim\", \"swim\", \"swim\", \"swim\", \"sword\", \"sword\", \"sword\", \"sword\", \"sword\", \"sword\", \"sword\", \"ta\", \"ta\", \"ta\", \"ta\", \"ta\", \"ta\", \"ta\", \"ta\", \"ta\", \"ta\", \"ta\", \"ta\", \"ta\", \"ta\", \"ta\", \"ta\", \"ta\", \"ta\", \"ta\", \"tab\", \"tab\", \"tab\", \"tab\", \"tab\", \"tab\", \"tab\", \"tab\", \"talk george\", \"talkin\", \"talkin\", \"talkin\", \"talkin\", \"talkin\", \"talkin\", \"talkin\", \"tamara\", \"tamara\", \"tanker\", \"tanker\", \"tanker\", \"tassel\", \"tassel\", \"tassel\", \"taxi\", \"taxi\", \"taxi\", \"taxi\", \"taxi\", \"taxi\", \"taxi\", \"taxi\", \"taxi\", \"taxi\", \"taxi\", \"taxi\", \"team\", \"team\", \"team\", \"team\", \"team\", \"team\", \"team\", \"team\", \"team\", \"team\", \"team\", \"team\", \"team\", \"team\", \"team\", \"team\", \"team\", \"ted\", \"ted\", \"ted\", \"ted\", \"ted\", \"ted\", \"ted\", \"ted\", \"ted ted\", \"ted ted\", \"telephone\", \"telephone\", \"telephone\", \"telephone\", \"telephone\", \"telephone\", \"telephone\", \"telephone\", \"telephone\", \"telephone\", \"telephone\", \"telephone\", \"telephone ring\", \"telephone ring\", \"telephone ring\", \"telephone ring\", \"temple\", \"temple\", \"temple\", \"temple\", \"temple\", \"temple\", \"temple\", \"temple\", \"temple\", \"temple\", \"temple\", \"temple\", \"tenure\", \"tenure\", \"terminator\", \"terminator\", \"terry\", \"terry\", \"terry\", \"terry\", \"terry\", \"terry\", \"thank\", \"thank\", \"thank\", \"thank\", \"thank\", \"thank\", \"thank\", \"thank\", \"thank\", \"thank\", \"thank\", \"thank\", \"thank\", \"thank\", \"thank\", \"thank\", \"thank\", \"thank\", \"thank\", \"thank\", \"thanks\", \"thanks\", \"thanks\", \"thanks\", \"thanks\", \"thanks\", \"thanks\", \"thanks\", \"thanks\", \"thanks\", \"thanks\", \"thanks\", \"thanks\", \"thanks\", \"thanks\", \"thanks\", \"thanks\", \"thanks\", \"thanks\", \"thermal\", \"thermal\", \"thermal\", \"thor\", \"thruster\", \"thug\", \"thug\", \"thug\", \"thug\", \"thug\", \"thug\", \"thug\", \"thug\", \"thug\", \"thug\", \"thug\", \"tim\", \"tim\", \"tim\", \"tim\", \"tim\", \"tim\", \"tim\", \"tim\", \"tim\", \"tim\", \"time\", \"time\", \"time\", \"time\", \"time\", \"time\", \"time\", \"time\", \"time\", \"time\", \"time\", \"time\", \"time\", \"time\", \"time\", \"time\", \"time\", \"time\", \"timmy\", \"timmy\", \"timmy\", \"timmy\", \"tin cup\", \"tin cup\", \"titan\", \"titan\", \"titan\", \"titan\", \"title card\", \"title card\", \"title card\", \"title card\", \"title card\", \"title card\", \"title card\", \"toby\", \"toby\", \"toby\", \"toby\", \"todd\", \"todd\", \"todd\", \"todd\", \"todd\", \"todd\", \"told\", \"told\", \"told\", \"told\", \"told\", \"told\", \"told\", \"told\", \"told\", \"told\", \"told\", \"told\", \"told\", \"told\", \"told\", \"told\", \"told\", \"told\", \"told\", \"tom\", \"tom\", \"tom\", \"tom\", \"tom\", \"tom\", \"tom\", \"tom\", \"tom\", \"tom\", \"tom\", \"tom\", \"tommy\", \"tommy\", \"tommy\", \"tommy\", \"tommy\", \"tommy\", \"tommy\", \"tony\", \"tony\", \"tony\", \"tony\", \"tony\", \"tony\", \"tony\", \"tony\", \"tony\", \"toothless\", \"toothless\", \"tracer\", \"tracer\", \"tracer\", \"tracer\", \"tracy\", \"tracy\", \"tracy\", \"tracy\", \"tracy\", \"tracy\", \"tracy\", \"tranquilizer\", \"tranquilizer\", \"tranquilizer\", \"tranquilizer\", \"tre\", \"tre\", \"tree\", \"tree\", \"tree\", \"tree\", \"tree\", \"tree\", \"tree\", \"tree\", \"tree\", \"tree\", \"tree\", \"tree\", \"tree\", \"tree\", \"tree\", \"tree\", \"tree\", \"trevor\", \"tropic\", \"tropic\", \"tropic\", \"tropic\", \"truck\", \"truck\", \"truck\", \"truck\", \"truck\", \"truck\", \"truck\", \"truck\", \"truck\", \"truck\", \"truck\", \"truck\", \"truck\", \"truck\", \"truck\", \"truck\", \"true story\", \"true story\", \"true story\", \"true story\", \"true story\", \"true story\", \"truman\", \"truman\", \"truman\", \"truman\", \"tsunami\", \"tsunami\", \"tsunami\", \"tsunami\", \"tsunami\", \"tsunami\", \"tu\", \"tu\", \"tu\", \"tu\", \"tu\", \"tu\", \"tu\", \"tuba\", \"tuba\", \"tuba\", \"tuba\", \"tuba\", \"tumbler\", \"tumbler\", \"tumbler\", \"tumbler\", \"tumbler\", \"tumbler\", \"tumbler\", \"tumbler\", \"tumbler\", \"tunnel\", \"tunnel\", \"tunnel\", \"tunnel\", \"tunnel\", \"tunnel\", \"tunnel\", \"tunnel\", \"tunnel\", \"tunnel\", \"tunnel\", \"tunnel\", \"turbine\", \"turn jack\", \"ty\", \"ty\", \"ty\", \"ty\", \"tyler\", \"tyler\", \"tyler\", \"tyler\", \"tyler\", \"tyler\", \"tyler\", \"tyler\", \"tyler\", \"uh\", \"uh\", \"uh\", \"uh\", \"uh\", \"uh\", \"uh\", \"uh\", \"uh\", \"uh\", \"uh\", \"uh\", \"uh\", \"uh\", \"uh\", \"uh\", \"uh\", \"une\", \"unemployment\", \"unemployment\", \"unemployment\", \"unemployment\", \"unemployment\", \"uranium\", \"uranium\", \"uranium\", \"uranium\", \"uranium\", \"vader\", \"vader\", \"vader\", \"vader\", \"valentine\", \"valentine\", \"valentine\", \"valentine\", \"valentine\", \"valentine\", \"vanessa\", \"vanessa\", \"vanessa\", \"vanessa\", \"vermillion\", \"vermillion\", \"vermillion\", \"vermillion\", \"vernon\", \"vernon\", \"vernon\", \"vernon\", \"vernon\", \"vernon\", \"victor\", \"victor\", \"victor\", \"victor\", \"victor\", \"victor\", \"victor\", \"victor\", \"victor\", \"victor\", \"victor\", \"video store\", \"vienna\", \"vienna\", \"vienna\", \"vienna\", \"village\", \"village\", \"village\", \"village\", \"village\", \"village\", \"village\", \"village\", \"village\", \"village\", \"village\", \"villager\", \"villager\", \"villager\", \"vincent\", \"vincent\", \"vincent\", \"vincent\", \"vincent\", \"vincent\", \"vincent\", \"vivian\", \"vivian\", \"vivian\", \"vivian\", \"vladimir\", \"vladimir\", \"vladimir\", \"voice\", \"voice\", \"voice\", \"voice\", \"voice\", \"voice\", \"voice\", \"voice\", \"voice\", \"voice\", \"voice\", \"voice\", \"voice\", \"voice\", \"voice\", \"voice\", \"voice\", \"voice\", \"votre\", \"vous\", \"vous\", \"vous\", \"wade\", \"wade\", \"wade\", \"wade\", \"wade\", \"wade\", \"wade\", \"wade\", \"wade\", \"wagon\", \"wagon\", \"wagon\", \"wagon\", \"wagon\", \"wagon\", \"wagon\", \"wagon\", \"wally\", \"wally\", \"wally\", \"wally\", \"wally\", \"walter\", \"walter\", \"walter\", \"walter\", \"walter\", \"walter\", \"walter\", \"walter\", \"walter\", \"war\", \"war\", \"war\", \"war\", \"war\", \"war\", \"war\", \"war\", \"war\", \"war\", \"war\", \"war\", \"war\", \"war\", \"warhead\", \"warhead\", \"warhead\", \"water\", \"water\", \"water\", \"water\", \"water\", \"water\", \"water\", \"water\", \"water\", \"water\", \"water\", \"water\", \"water\", \"water\", \"water\", \"water\", \"water\", \"water\", \"water\", \"water\", \"watson\", \"watson\", \"watson\", \"watson\", \"wayne\", \"wayne\", \"wayne\", \"wayne\", \"wayne\", \"wayne\", \"weapon\", \"weapon\", \"weapon\", \"weapon\", \"weapon\", \"weapon\", \"weapon\", \"weapon\", \"weapon\", \"weapon\", \"weapon\", \"weapon\", \"weapon\", \"wear\", \"wear\", \"wear\", \"wear\", \"wear\", \"wear\", \"wear\", \"wear\", \"wear\", \"wear\", \"wear\", \"wear\", \"wear\", \"wear\", \"wear\", \"wear\", \"wear\", \"wear\", \"wear\", \"wedding gown\", \"wedding gown\", \"wedding gown\", \"wedding gown\", \"wedding gown\", \"wedding gown\", \"weirdo\", \"weirdo\", \"weirdo\", \"weirdo\", \"weirdo\", \"wendy\", \"wendy\", \"wendy\", \"wendy\", \"wes\", \"wes\", \"west\", \"west\", \"west\", \"west\", \"west\", \"west\", \"west\", \"west\", \"west\", \"west\", \"west\", \"whale\", \"whale\", \"whale\", \"whale\", \"whale\", \"whale\", \"whale\", \"whale\", \"whale\", \"white\", \"white\", \"white\", \"white\", \"white\", \"white\", \"white\", \"white\", \"white\", \"white\", \"white\", \"white\", \"white\", \"white\", \"white\", \"white\", \"white\", \"white\", \"wicked witch\", \"wicked witch\", \"wilder\", \"wilder\", \"wilder\", \"wilder\", \"wilder\", \"wilder\", \"willow\", \"willow\", \"willow\", \"willy\", \"willy\", \"willy\", \"willy\", \"wilson\", \"wilson\", \"wilson\", \"wilson\", \"wilson\", \"wilson\", \"wilson\", \"wilson\", \"wilson\", \"wilson\", \"wilson\", \"wind\", \"wind\", \"wind\", \"wind\", \"wind\", \"wind\", \"wind\", \"wind\", \"wind\", \"wind\", \"wind\", \"wind\", \"wind\", \"wind\", \"wind\", \"wind\", \"wind\", \"wind hair\", \"wind hair\", \"wind hair\", \"wind hair\", \"winter\", \"winter\", \"winter\", \"winter\", \"winter\", \"winter\", \"winter\", \"winter\", \"winter\", \"winter\", \"winter\", \"winter\", \"winter\", \"witch\", \"witch\", \"witch\", \"witch\", \"witch\", \"witch\", \"witch\", \"wolf\", \"wolf\", \"wolf\", \"wolf\", \"wolf\", \"wolf\", \"wolf\", \"wolf\", \"wolf\", \"wolf\", \"woman\", \"woman\", \"woman\", \"woman\", \"woman\", \"woman\", \"woman\", \"woman\", \"woman\", \"woman\", \"woman\", \"woman\", \"woman\", \"woman\", \"woman\", \"woman\", \"woman\", \"woman\", \"woman\", \"wood\", \"wood\", \"wood\", \"wood\", \"wood\", \"wood\", \"wood\", \"wood\", \"wood\", \"wood\", \"wood\", \"wood\", \"wood\", \"wood\", \"wood\", \"world\", \"world\", \"world\", \"world\", \"world\", \"world\", \"world\", \"world\", \"world\", \"world\", \"world\", \"world\", \"world\", \"world\", \"world\", \"world\", \"world\", \"world\", \"worm\", \"worm\", \"worm\", \"worm\", \"worm\", \"worm\", \"worm\", \"worm\", \"worm\", \"worm\", \"worm\", \"worm\", \"worm\", \"wow\", \"wow\", \"wow\", \"wow\", \"wow\", \"wow\", \"wow\", \"wow\", \"wow\", \"wow\", \"wow\", \"wow\", \"wow\", \"wrestler\", \"wrestler\", \"wrestler\", \"wrestler\", \"wrestler\", \"wrestler\", \"wrestler\", \"wrestler\", \"wrestler\", \"wyatt\", \"wyatt\", \"ya\", \"ya\", \"ya\", \"ya\", \"ya\", \"ya\", \"ya\", \"ya\", \"ya\", \"ya\", \"ya\", \"ya\", \"ya\", \"ya\", \"ya\", \"young\", \"young\", \"young\", \"young\", \"young\", \"young\", \"young\", \"young\", \"young\", \"young\", \"young\", \"young\", \"young\", \"young\", \"young\", \"young\", \"young\", \"young\", \"young\", \"yukon\", \"yukon\", \"yukon\", \"yukon\", \"yuri\", \"yuri\", \"yuri\", \"zoe\", \"zoe\", \"zombie\", \"zombie\", \"zombie\", \"zombie\", \"zombie\", \"zombie\", \"zombie\", \"zombie\"]}, \"R\": 30, \"lambda.step\": 0.01, \"plot.opts\": {\"xlab\": \"PC1\", \"ylab\": \"PC2\"}, \"topic.order\": [6, 7, 17, 19, 1, 2, 10, 11, 3, 8, 9, 14, 16, 12, 15, 18, 4, 20, 13, 5]};\n",
       "\n",
       "function LDAvis_load_lib(url, callback){\n",
       "  var s = document.createElement('script');\n",
       "  s.src = url;\n",
       "  s.async = true;\n",
       "  s.onreadystatechange = s.onload = callback;\n",
       "  s.onerror = function(){console.warn(\"failed to load library \" + url);};\n",
       "  document.getElementsByTagName(\"head\")[0].appendChild(s);\n",
       "}\n",
       "\n",
       "if(typeof(LDAvis) !== \"undefined\"){\n",
       "   // already loaded: just create the visualization\n",
       "   !function(LDAvis){\n",
       "       new LDAvis(\"#\" + \"ldavis_el91381401993202666966268703217\", ldavis_el91381401993202666966268703217_data);\n",
       "   }(LDAvis);\n",
       "}else if(typeof define === \"function\" && define.amd){\n",
       "   // require.js is available: use it to load d3/LDAvis\n",
       "   require.config({paths: {d3: \"https://cdnjs.cloudflare.com/ajax/libs/d3/3.5.5/d3.min\"}});\n",
       "   require([\"d3\"], function(d3){\n",
       "      window.d3 = d3;\n",
       "      LDAvis_load_lib(\"https://cdn.rawgit.com/bmabey/pyLDAvis/files/ldavis.v1.0.0.js\", function(){\n",
       "        new LDAvis(\"#\" + \"ldavis_el91381401993202666966268703217\", ldavis_el91381401993202666966268703217_data);\n",
       "      });\n",
       "    });\n",
       "}else{\n",
       "    // require.js not available: dynamically load d3 & LDAvis\n",
       "    LDAvis_load_lib(\"https://cdnjs.cloudflare.com/ajax/libs/d3/3.5.5/d3.min.js\", function(){\n",
       "         LDAvis_load_lib(\"https://cdn.rawgit.com/bmabey/pyLDAvis/files/ldavis.v1.0.0.js\", function(){\n",
       "                 new LDAvis(\"#\" + \"ldavis_el91381401993202666966268703217\", ldavis_el91381401993202666966268703217_data);\n",
       "            })\n",
       "         });\n",
       "}\n",
       "</script>"
      ],
      "text/plain": [
       "<IPython.core.display.HTML object>"
      ]
     },
     "execution_count": 25,
     "metadata": {},
     "output_type": "execute_result"
    }
   ],
   "source": [
    "#Visualize LDA topics\n",
    "vis = pyLDAvis.sklearn.prepare(lda, X_train_vect, vect)\n",
    "pyLDAvis.display(vis)"
   ]
  },
  {
   "cell_type": "markdown",
   "id": "aware-accent",
   "metadata": {},
   "source": [
    "There is a lot of overlap in these topics which is typically not what we want to see. From view the topics above it is clear that many of the topics include the names of characters which is likely the reason for the overlap."
   ]
  },
  {
   "cell_type": "markdown",
   "id": "experienced-copper",
   "metadata": {},
   "source": [
    "## Embedding"
   ]
  },
  {
   "cell_type": "code",
   "execution_count": null,
   "id": "resident-entrance",
   "metadata": {},
   "outputs": [],
   "source": [
    "#Implementing glove to create an embedding layer"
   ]
  },
  {
   "cell_type": "code",
   "execution_count": 26,
   "id": "emerging-situation",
   "metadata": {},
   "outputs": [],
   "source": [
    "tokenizer = Tokenizer(num_words=20000)\n",
    "tokenizer.fit_on_texts(X_train)"
   ]
  },
  {
   "cell_type": "code",
   "execution_count": 27,
   "id": "otherwise-margin",
   "metadata": {},
   "outputs": [],
   "source": [
    "X_train = tokenizer.texts_to_sequences(X_train)\n",
    "X_test = tokenizer.texts_to_sequences(X_test)"
   ]
  },
  {
   "cell_type": "code",
   "execution_count": 28,
   "id": "quantitative-oklahoma",
   "metadata": {},
   "outputs": [],
   "source": [
    "vocab_size = len(tokenizer.word_index) + 1\n",
    "\n",
    "maxlen = 200\n",
    "\n",
    "X_train = pad_sequences(X_train, padding='post', maxlen=maxlen)\n",
    "X_test = pad_sequences(X_test, padding='post', maxlen=maxlen)"
   ]
  },
  {
   "cell_type": "code",
   "execution_count": 29,
   "id": "western-marriage",
   "metadata": {},
   "outputs": [],
   "source": [
    "from numpy import array\n",
    "from numpy import asarray\n",
    "from numpy import zeros\n",
    "\n",
    "embeddings_dictionary = dict()\n",
    "\n",
    "glove_file = open('../../glove.6B.300d.txt', encoding=\"utf8\")\n",
    "\n",
    "for line in glove_file:\n",
    "    records = line.split()\n",
    "    word = records[0]\n",
    "    vector_dimensions = asarray(records[1:], dtype='float32')\n",
    "    embeddings_dictionary[word] = vector_dimensions\n",
    "glove_file.close()\n",
    "\n",
    "embedding_matrix = zeros((vocab_size, 300))\n",
    "for word, index in tokenizer.word_index.items():\n",
    "    embedding_vector = embeddings_dictionary.get(word)\n",
    "    if embedding_vector is not None:\n",
    "        embedding_matrix[index] = embedding_vector"
   ]
  },
  {
   "cell_type": "markdown",
   "id": "thermal-outside",
   "metadata": {},
   "source": [
    "## t-SNE"
   ]
  },
  {
   "cell_type": "markdown",
   "id": "minute-poker",
   "metadata": {},
   "source": [
    "TSNE allows me to visualize my vector relationships on a 2D scale."
   ]
  },
  {
   "cell_type": "code",
   "execution_count": 30,
   "id": "automotive-spare",
   "metadata": {},
   "outputs": [],
   "source": [
    "from sklearn.manifold import TSNE"
   ]
  },
  {
   "cell_type": "code",
   "execution_count": 31,
   "id": "reasonable-expense",
   "metadata": {},
   "outputs": [
    {
     "data": {
      "image/png": "[encoded data removed]",
      "text/plain": [
       "<Figure size 432x288 with 1 Axes>"
      ]
     },
     "metadata": {
      "needs_background": "light"
     },
     "output_type": "display_data"
    }
   ],
   "source": [
    "tsne = TSNE(n_components=2, random_state=0)\n",
    "words =  list(embeddings_dictionary.keys())\n",
    "vectors = [embeddings_dictionary[word] for word in words]\n",
    "Yt = tsne.fit_transform(vectors[150:250])\n",
    "plt.scatter(Yt[:, 0], Yt[:, 1])\n",
    "\n",
    "for label, x, y in zip(words, Yt[:, 0], Yt[:, 1]):\n",
    "    plt.annotate(label, xy=(x, y), xytext=(0, 0), textcoords=\"offset points\")\n",
    "plt.show()"
   ]
  },
  {
   "cell_type": "markdown",
   "id": "optimum-committee",
   "metadata": {},
   "source": [
    "This displays the relationship between each of these words. In this particular snapshot there are very closely related like \"world\" and \"government\" while \"his\"(upper right) and \"her\"(lower left) are have a further euclidean distance."
   ]
  },
  {
   "cell_type": "markdown",
   "id": "understanding-valuable",
   "metadata": {},
   "source": [
    "## Model A - Simple"
   ]
  },
  {
   "cell_type": "code",
   "execution_count": 32,
   "id": "ceramic-wages",
   "metadata": {},
   "outputs": [
    {
     "name": "stdout",
     "output_type": "stream",
     "text": [
      "Model: \"sequential_1\"\n",
      "_________________________________________________________________\n",
      "Layer (type)                 Output Shape              Param #   \n",
      "=================================================================\n",
      "embedding_1 (Embedding)      (None, None, 300)         26949000  \n",
      "_________________________________________________________________\n",
      "lstm_1 (LSTM)                (None, 128)               219648    \n",
      "_________________________________________________________________\n",
      "dense_1 (Dense)              (None, 22)                2838      \n",
      "_________________________________________________________________\n",
      "dropout_1 (Dropout)          (None, 22)                0         \n",
      "_________________________________________________________________\n",
      "dense_2 (Dense)              (None, 11)                253       \n",
      "=================================================================\n",
      "Total params: 27,171,739\n",
      "Trainable params: 222,739\n",
      "Non-trainable params: 26,949,000\n",
      "_________________________________________________________________\n"
     ]
    }
   ],
   "source": [
    "modela = Sequential()\n",
    "\n",
    "modela.add(Embedding(vocab_size, 300, weights=[embedding_matrix], trainable=False))\n",
    "\n",
    "modela.add(LSTM(128))\n",
    "\n",
    "modela.add(Dense(22, activation='relu'))\n",
    "modela.add(Dropout(0.2))\n",
    "modela.add(Dense(11, activation='sigmoid'))\n",
    "\n",
    "modela.compile(loss='binary_crossentropy', optimizer='adam', metrics=[Precision(), Recall(), AUC(), 'acc'])\n",
    "\n",
    "modela.summary()"
   ]
  },
  {
   "cell_type": "code",
   "execution_count": 33,
   "id": "express-individual",
   "metadata": {},
   "outputs": [],
   "source": [
    "callbacks1 = [\n",
    "    ReduceLROnPlateau(), \n",
    "    TQDMNotebookCallback(leave_inner = True, leave_outer = True),\n",
    "    EarlyStopping(monitor='val_loss', patience=10), \n",
    "    ModelCheckpoint(filepath='../../modela-conv1d1.h5', monitor='val_loss', save_best_only=True)\n",
    "]\n"
   ]
  },
  {
   "cell_type": "code",
   "execution_count": 34,
   "id": "selective-active",
   "metadata": {
    "scrolled": true
   },
   "outputs": [
    {
     "data": {
      "application/vnd.jupyter.widget-view+json": {
       "model_id": "03fcb1d39bd1401d844aea25df13a00c",
       "version_major": 2,
       "version_minor": 0
      },
      "text/plain": [
       "HBox(children=(FloatProgress(value=0.0, description='Training', max=50.0, style=ProgressStyle(description_widt…"
      ]
     },
     "metadata": {},
     "output_type": "display_data"
    },
    {
     "data": {
      "application/vnd.jupyter.widget-view+json": {
       "model_id": "a658a3cddd404d2fa426f6fd025a32ab",
       "version_major": 2,
       "version_minor": 0
      },
      "text/plain": [
       "HBox(children=(FloatProgress(value=0.0, description='Epoch 0', max=684.0, style=ProgressStyle(description_widt…"
      ]
     },
     "metadata": {},
     "output_type": "display_data"
    },
    {
     "name": "stdout",
     "output_type": "stream",
     "text": [
      "\n"
     ]
    },
    {
     "data": {
      "application/vnd.jupyter.widget-view+json": {
       "model_id": "93eab83a5aac48e8b11b13e6a67a4867",
       "version_major": 2,
       "version_minor": 0
      },
      "text/plain": [
       "HBox(children=(FloatProgress(value=0.0, description='Epoch 1', max=684.0, style=ProgressStyle(description_widt…"
      ]
     },
     "metadata": {},
     "output_type": "display_data"
    },
    {
     "name": "stdout",
     "output_type": "stream",
     "text": [
      "\n"
     ]
    },
    {
     "data": {
      "application/vnd.jupyter.widget-view+json": {
       "model_id": "e1401e7cac3c4e29ba57f5798da7ca26",
       "version_major": 2,
       "version_minor": 0
      },
      "text/plain": [
       "HBox(children=(FloatProgress(value=0.0, description='Epoch 2', max=684.0, style=ProgressStyle(description_widt…"
      ]
     },
     "metadata": {},
     "output_type": "display_data"
    },
    {
     "name": "stdout",
     "output_type": "stream",
     "text": [
      "\n"
     ]
    },
    {
     "data": {
      "application/vnd.jupyter.widget-view+json": {
       "model_id": "173ac51e577d42368a2f82d234ef86f8",
       "version_major": 2,
       "version_minor": 0
      },
      "text/plain": [
       "HBox(children=(FloatProgress(value=0.0, description='Epoch 3', max=684.0, style=ProgressStyle(description_widt…"
      ]
     },
     "metadata": {},
     "output_type": "display_data"
    },
    {
     "name": "stdout",
     "output_type": "stream",
     "text": [
      "\n"
     ]
    },
    {
     "data": {
      "application/vnd.jupyter.widget-view+json": {
       "model_id": "8cab3ad96e1c4b3eb23c29411aa57296",
       "version_major": 2,
       "version_minor": 0
      },
      "text/plain": [
       "HBox(children=(FloatProgress(value=0.0, description='Epoch 4', max=684.0, style=ProgressStyle(description_widt…"
      ]
     },
     "metadata": {},
     "output_type": "display_data"
    },
    {
     "name": "stdout",
     "output_type": "stream",
     "text": [
      "\n"
     ]
    },
    {
     "data": {
      "application/vnd.jupyter.widget-view+json": {
       "model_id": "043e1b785d6246dd8d22c11560363a3a",
       "version_major": 2,
       "version_minor": 0
      },
      "text/plain": [
       "HBox(children=(FloatProgress(value=0.0, description='Epoch 5', max=684.0, style=ProgressStyle(description_widt…"
      ]
     },
     "metadata": {},
     "output_type": "display_data"
    },
    {
     "name": "stdout",
     "output_type": "stream",
     "text": [
      "\n"
     ]
    },
    {
     "data": {
      "application/vnd.jupyter.widget-view+json": {
       "model_id": "c188e0458a4d41baadc39d3b3fe8d127",
       "version_major": 2,
       "version_minor": 0
      },
      "text/plain": [
       "HBox(children=(FloatProgress(value=0.0, description='Epoch 6', max=684.0, style=ProgressStyle(description_widt…"
      ]
     },
     "metadata": {},
     "output_type": "display_data"
    },
    {
     "name": "stdout",
     "output_type": "stream",
     "text": [
      "\n"
     ]
    },
    {
     "data": {
      "application/vnd.jupyter.widget-view+json": {
       "model_id": "210de84e9de9449097265a233eb245da",
       "version_major": 2,
       "version_minor": 0
      },
      "text/plain": [
       "HBox(children=(FloatProgress(value=0.0, description='Epoch 7', max=684.0, style=ProgressStyle(description_widt…"
      ]
     },
     "metadata": {},
     "output_type": "display_data"
    },
    {
     "name": "stdout",
     "output_type": "stream",
     "text": [
      "\n"
     ]
    },
    {
     "data": {
      "application/vnd.jupyter.widget-view+json": {
       "model_id": "7fe022bcd92447c1bc7ef049fa60b36c",
       "version_major": 2,
       "version_minor": 0
      },
      "text/plain": [
       "HBox(children=(FloatProgress(value=0.0, description='Epoch 8', max=684.0, style=ProgressStyle(description_widt…"
      ]
     },
     "metadata": {},
     "output_type": "display_data"
    },
    {
     "name": "stdout",
     "output_type": "stream",
     "text": [
      "\n"
     ]
    },
    {
     "data": {
      "application/vnd.jupyter.widget-view+json": {
       "model_id": "ca5c81cff3754832ad02d528d9071723",
       "version_major": 2,
       "version_minor": 0
      },
      "text/plain": [
       "HBox(children=(FloatProgress(value=0.0, description='Epoch 9', max=684.0, style=ProgressStyle(description_widt…"
      ]
     },
     "metadata": {},
     "output_type": "display_data"
    },
    {
     "name": "stdout",
     "output_type": "stream",
     "text": [
      "\n"
     ]
    },
    {
     "data": {
      "application/vnd.jupyter.widget-view+json": {
       "model_id": "1bf2342d6fc54f84a4c59a8eaf5f19f9",
       "version_major": 2,
       "version_minor": 0
      },
      "text/plain": [
       "HBox(children=(FloatProgress(value=0.0, description='Epoch 10', max=684.0, style=ProgressStyle(description_wid…"
      ]
     },
     "metadata": {},
     "output_type": "display_data"
    },
    {
     "name": "stdout",
     "output_type": "stream",
     "text": [
      "\n"
     ]
    },
    {
     "data": {
      "application/vnd.jupyter.widget-view+json": {
       "model_id": "b9d8e54c26a449a991777e76ba82ae85",
       "version_major": 2,
       "version_minor": 0
      },
      "text/plain": [
       "HBox(children=(FloatProgress(value=0.0, description='Epoch 11', max=684.0, style=ProgressStyle(description_wid…"
      ]
     },
     "metadata": {},
     "output_type": "display_data"
    },
    {
     "name": "stdout",
     "output_type": "stream",
     "text": [
      "\n"
     ]
    },
    {
     "data": {
      "application/vnd.jupyter.widget-view+json": {
       "model_id": "06b4b9ad937e418697dff68d6b870105",
       "version_major": 2,
       "version_minor": 0
      },
      "text/plain": [
       "HBox(children=(FloatProgress(value=0.0, description='Epoch 12', max=684.0, style=ProgressStyle(description_wid…"
      ]
     },
     "metadata": {},
     "output_type": "display_data"
    },
    {
     "name": "stdout",
     "output_type": "stream",
     "text": [
      "\n"
     ]
    },
    {
     "data": {
      "application/vnd.jupyter.widget-view+json": {
       "model_id": "a6459351d7a34b8bb222ef68c971ab7f",
       "version_major": 2,
       "version_minor": 0
      },
      "text/plain": [
       "HBox(children=(FloatProgress(value=0.0, description='Epoch 13', max=684.0, style=ProgressStyle(description_wid…"
      ]
     },
     "metadata": {},
     "output_type": "display_data"
    },
    {
     "name": "stdout",
     "output_type": "stream",
     "text": [
      "\n"
     ]
    },
    {
     "data": {
      "application/vnd.jupyter.widget-view+json": {
       "model_id": "2ed74ea05987440db28cd2653f78c395",
       "version_major": 2,
       "version_minor": 0
      },
      "text/plain": [
       "HBox(children=(FloatProgress(value=0.0, description='Epoch 14', max=684.0, style=ProgressStyle(description_wid…"
      ]
     },
     "metadata": {},
     "output_type": "display_data"
    },
    {
     "name": "stdout",
     "output_type": "stream",
     "text": [
      "\n"
     ]
    },
    {
     "data": {
      "application/vnd.jupyter.widget-view+json": {
       "model_id": "fd1fe749b1a7401aa19e11726c56caee",
       "version_major": 2,
       "version_minor": 0
      },
      "text/plain": [
       "HBox(children=(FloatProgress(value=0.0, description='Epoch 15', max=684.0, style=ProgressStyle(description_wid…"
      ]
     },
     "metadata": {},
     "output_type": "display_data"
    },
    {
     "name": "stdout",
     "output_type": "stream",
     "text": [
      "\n"
     ]
    },
    {
     "data": {
      "application/vnd.jupyter.widget-view+json": {
       "model_id": "3d3f76bb40ba49c19e2f833a9bef28b8",
       "version_major": 2,
       "version_minor": 0
      },
      "text/plain": [
       "HBox(children=(FloatProgress(value=0.0, description='Epoch 16', max=684.0, style=ProgressStyle(description_wid…"
      ]
     },
     "metadata": {},
     "output_type": "display_data"
    },
    {
     "name": "stdout",
     "output_type": "stream",
     "text": [
      "\n"
     ]
    },
    {
     "data": {
      "application/vnd.jupyter.widget-view+json": {
       "model_id": "bd885413176747cdaf7ac424f31baebc",
       "version_major": 2,
       "version_minor": 0
      },
      "text/plain": [
       "HBox(children=(FloatProgress(value=0.0, description='Epoch 17', max=684.0, style=ProgressStyle(description_wid…"
      ]
     },
     "metadata": {},
     "output_type": "display_data"
    },
    {
     "name": "stdout",
     "output_type": "stream",
     "text": [
      "\n"
     ]
    },
    {
     "data": {
      "application/vnd.jupyter.widget-view+json": {
       "model_id": "cbfa0f63145d4e5791e2d06c1660f613",
       "version_major": 2,
       "version_minor": 0
      },
      "text/plain": [
       "HBox(children=(FloatProgress(value=0.0, description='Epoch 18', max=684.0, style=ProgressStyle(description_wid…"
      ]
     },
     "metadata": {},
     "output_type": "display_data"
    },
    {
     "name": "stdout",
     "output_type": "stream",
     "text": [
      "\n"
     ]
    },
    {
     "data": {
      "application/vnd.jupyter.widget-view+json": {
       "model_id": "c313310481684b1aa4982a6cd78dbfe3",
       "version_major": 2,
       "version_minor": 0
      },
      "text/plain": [
       "HBox(children=(FloatProgress(value=0.0, description='Epoch 19', max=684.0, style=ProgressStyle(description_wid…"
      ]
     },
     "metadata": {},
     "output_type": "display_data"
    },
    {
     "name": "stdout",
     "output_type": "stream",
     "text": [
      "\n"
     ]
    },
    {
     "data": {
      "application/vnd.jupyter.widget-view+json": {
       "model_id": "4e90cf6b65164ed9b0366f59be9ebc0b",
       "version_major": 2,
       "version_minor": 0
      },
      "text/plain": [
       "HBox(children=(FloatProgress(value=0.0, description='Epoch 20', max=684.0, style=ProgressStyle(description_wid…"
      ]
     },
     "metadata": {},
     "output_type": "display_data"
    },
    {
     "name": "stdout",
     "output_type": "stream",
     "text": [
      "\n"
     ]
    },
    {
     "data": {
      "application/vnd.jupyter.widget-view+json": {
       "model_id": "7139cbd814c94669a80d9bcec2f0e0c7",
       "version_major": 2,
       "version_minor": 0
      },
      "text/plain": [
       "HBox(children=(FloatProgress(value=0.0, description='Epoch 21', max=684.0, style=ProgressStyle(description_wid…"
      ]
     },
     "metadata": {},
     "output_type": "display_data"
    },
    {
     "name": "stdout",
     "output_type": "stream",
     "text": [
      "\n",
      "\n"
     ]
    }
   ],
   "source": [
    "historya = modela.fit(X_train, y_train, class_weight=class_weight, batch_size=128, epochs=50, verbose=0, validation_split=0.2,callbacks=callbacks1)"
   ]
  },
  {
   "cell_type": "code",
   "execution_count": 37,
   "id": "indie-domain",
   "metadata": {},
   "outputs": [
    {
     "name": "stdout",
     "output_type": "stream",
     "text": [
      "286/286 [==============================] - 1s 2ms/step\n",
      "[0.49943567197639627, 0.0, 0.0, 0.6838269829750061, 0.7733629941940308]\n",
      "Test Loss: 0.49943567197639627\n",
      "Test Accuracy: 0.7733629941940308\n"
     ]
    }
   ],
   "source": [
    "score = modela.evaluate(X_test, y_test, verbose=1)\n",
    "print(score)\n",
    "print(\"Test Loss:\", score[0])\n",
    "print(\"Test Accuracy:\", score[-1])"
   ]
  },
  {
   "cell_type": "code",
   "execution_count": 38,
   "id": "spoken-nightlife",
   "metadata": {},
   "outputs": [
    {
     "data": {
      "image/png": "[encoded data removed]",
      "text/plain": [
       "<Figure size 432x288 with 1 Axes>"
      ]
     },
     "metadata": {
      "needs_background": "light"
     },
     "output_type": "display_data"
    },
    {
     "data": {
      "image/png": "[encoded data removed]",
      "text/plain": [
       "<Figure size 432x288 with 1 Axes>"
      ]
     },
     "metadata": {
      "needs_background": "light"
     },
     "output_type": "display_data"
    }
   ],
   "source": [
    "plt.plot(historya.history['acc'])\n",
    "plt.plot(historya.history['val_acc'])\n",
    "\n",
    "plt.title('model accuracy')\n",
    "plt.ylabel('accuracy')\n",
    "plt.xlabel('epoch')\n",
    "plt.legend(['train','test'], loc='upper left')\n",
    "plt.show()\n",
    "\n",
    "plt.plot(historya.history['loss'])\n",
    "plt.plot(historya.history['val_loss'])\n",
    "\n",
    "plt.title('model loss')\n",
    "plt.ylabel('loss')\n",
    "plt.xlabel('epoch')\n",
    "plt.legend(['train','test'], loc='upper left')\n",
    "plt.show()"
   ]
  },
  {
   "cell_type": "markdown",
   "id": "resistant-problem",
   "metadata": {},
   "source": [
    "## Model B - Added Layers"
   ]
  },
  {
   "cell_type": "code",
   "execution_count": 39,
   "id": "greater-toolbox",
   "metadata": {
    "scrolled": true
   },
   "outputs": [
    {
     "name": "stdout",
     "output_type": "stream",
     "text": [
      "Model: \"sequential_2\"\n",
      "_________________________________________________________________\n",
      "Layer (type)                 Output Shape              Param #   \n",
      "=================================================================\n",
      "embedding_2 (Embedding)      (None, None, 300)         26949000  \n",
      "_________________________________________________________________\n",
      "lstm_2 (LSTM)                (None, None, 128)         219648    \n",
      "_________________________________________________________________\n",
      "dropout_2 (Dropout)          (None, None, 128)         0         \n",
      "_________________________________________________________________\n",
      "lstm_3 (LSTM)                (None, None, 128)         131584    \n",
      "_________________________________________________________________\n",
      "dropout_3 (Dropout)          (None, None, 128)         0         \n",
      "_________________________________________________________________\n",
      "lstm_4 (LSTM)                (None, 128)               131584    \n",
      "_________________________________________________________________\n",
      "dropout_4 (Dropout)          (None, 128)               0         \n",
      "_________________________________________________________________\n",
      "dense_3 (Dense)              (None, 22)                2838      \n",
      "_________________________________________________________________\n",
      "dropout_5 (Dropout)          (None, 22)                0         \n",
      "_________________________________________________________________\n",
      "dense_4 (Dense)              (None, 11)                253       \n",
      "=================================================================\n",
      "Total params: 27,434,907\n",
      "Trainable params: 485,907\n",
      "Non-trainable params: 26,949,000\n",
      "_________________________________________________________________\n"
     ]
    }
   ],
   "source": [
    "modelb = Sequential()\n",
    "\n",
    "modelb.add(Embedding(vocab_size, 300, weights=[embedding_matrix], trainable=False))\n",
    "\n",
    "modelb.add(LSTM(128, return_sequences=True))\n",
    "modelb.add(Dropout(0.2))\n",
    "\n",
    "modelb.add(LSTM(128, return_sequences=True))\n",
    "modelb.add(Dropout(0.2))\n",
    "\n",
    "modelb.add(LSTM(128))\n",
    "modelb.add(Dropout(0.2))\n",
    "\n",
    "modelb.add(Dense(22, activation='relu'))\n",
    "modelb.add(Dropout(0.2))\n",
    "modelb.add(Dense(11, activation='sigmoid'))\n",
    "\n",
    "\n",
    "modelb.compile(loss='binary_crossentropy', optimizer='adam', metrics=[Precision(), Recall(), AUC(), 'acc'])\n",
    "\n",
    "modelb.summary()"
   ]
  },
  {
   "cell_type": "code",
   "execution_count": 81,
   "id": "joint-decrease",
   "metadata": {},
   "outputs": [
    {
     "name": "stdout",
     "output_type": "stream",
     "text": [
      "Requirement already satisfied: pydot in /home/ec2-user/anaconda3/envs/tensorflow2_p36/lib/python3.6/site-packages (1.4.2)\n",
      "Requirement already satisfied: pyparsing>=2.1.4 in /home/ec2-user/anaconda3/envs/tensorflow2_p36/lib/python3.6/site-packages (from pydot) (2.4.7)\n",
      "Collecting pydotplus\n",
      "  Downloading pydotplus-2.0.2.tar.gz (278 kB)\n",
      "\u001b[K     |████████████████████████████████| 278 kB 6.4 MB/s eta 0:00:01\n",
      "\u001b[?25hRequirement already satisfied: pyparsing>=2.0.1 in /home/ec2-user/anaconda3/envs/tensorflow2_p36/lib/python3.6/site-packages (from pydotplus) (2.4.7)\n",
      "Building wheels for collected packages: pydotplus\n",
      "  Building wheel for pydotplus (setup.py) ... \u001b[?25ldone\n",
      "\u001b[?25h  Created wheel for pydotplus: filename=pydotplus-2.0.2-py3-none-any.whl size=24566 sha256=392cadbca05c10e9b87d2ff4271c999c2deb9ce60d9cb5808d37c84d15debb8a\n",
      "  Stored in directory: /home/ec2-user/.cache/pip/wheels/1f/5c/ba/f931f74fcac8f48b18ae597279203b1c1f92fc76249c2b6f66\n",
      "Successfully built pydotplus\n",
      "Installing collected packages: pydotplus\n",
      "Successfully installed pydotplus-2.0.2\n",
      "Requirement already satisfied: graphviz in /home/ec2-user/anaconda3/envs/tensorflow2_p36/lib/python3.6/site-packages (0.16)\n"
     ]
    }
   ],
   "source": [
    "!pip install pydot\n",
    "!pip install pydotplus\n",
    "\n",
    "!pip install graphviz"
   ]
  },
  {
   "cell_type": "code",
   "execution_count": 85,
   "id": "challenging-hindu",
   "metadata": {},
   "outputs": [],
   "source": [
    "import keras\n",
    "import pydot\n",
    "import pydotplus\n",
    "from pydotplus import graphviz\n",
    "from keras.utils.vis_utils import plot_model\n",
    "from keras.utils.vis_utils import model_to_dot\n",
    "keras.utils.vis_utils.pydot = pydot"
   ]
  },
  {
   "cell_type": "code",
   "execution_count": 87,
   "id": "increasing-lloyd",
   "metadata": {
    "scrolled": true
   },
   "outputs": [
    {
     "data": {
      "image/png": "[encoded data removed]",
      "text/plain": [
       "<IPython.core.display.Image object>"
      ]
     },
     "execution_count": 87,
     "metadata": {},
     "output_type": "execute_result"
    }
   ],
   "source": [
    "plot_model(modelb, to_file='../../modelb_plot.png', show_shapes=False, show_layer_names=True)"
   ]
  },
  {
   "cell_type": "code",
   "execution_count": 40,
   "id": "wrapped-ottawa",
   "metadata": {},
   "outputs": [
    {
     "data": {
      "application/vnd.jupyter.widget-view+json": {
       "model_id": "9a969e49d2ef45f197bc6d13955341f7",
       "version_major": 2,
       "version_minor": 0
      },
      "text/plain": [
       "HBox(children=(FloatProgress(value=0.0, description='Training', max=50.0, style=ProgressStyle(description_widt…"
      ]
     },
     "metadata": {},
     "output_type": "display_data"
    },
    {
     "data": {
      "application/vnd.jupyter.widget-view+json": {
       "model_id": "1ac118c86c504b83a5bfa4c4e2584f3b",
       "version_major": 2,
       "version_minor": 0
      },
      "text/plain": [
       "HBox(children=(FloatProgress(value=0.0, description='Epoch 0', max=684.0, style=ProgressStyle(description_widt…"
      ]
     },
     "metadata": {},
     "output_type": "display_data"
    },
    {
     "name": "stdout",
     "output_type": "stream",
     "text": [
      "\n"
     ]
    },
    {
     "data": {
      "application/vnd.jupyter.widget-view+json": {
       "model_id": "e886547bedd74910a700b4e542cbe1f8",
       "version_major": 2,
       "version_minor": 0
      },
      "text/plain": [
       "HBox(children=(FloatProgress(value=0.0, description='Epoch 1', max=684.0, style=ProgressStyle(description_widt…"
      ]
     },
     "metadata": {},
     "output_type": "display_data"
    },
    {
     "name": "stdout",
     "output_type": "stream",
     "text": [
      "\n"
     ]
    },
    {
     "data": {
      "application/vnd.jupyter.widget-view+json": {
       "model_id": "d9d7f05231d14614ba69b98bb429cd8a",
       "version_major": 2,
       "version_minor": 0
      },
      "text/plain": [
       "HBox(children=(FloatProgress(value=0.0, description='Epoch 2', max=684.0, style=ProgressStyle(description_widt…"
      ]
     },
     "metadata": {},
     "output_type": "display_data"
    },
    {
     "name": "stdout",
     "output_type": "stream",
     "text": [
      "\n"
     ]
    },
    {
     "data": {
      "application/vnd.jupyter.widget-view+json": {
       "model_id": "e88733737ed643a6b5f962f6f2eb26a6",
       "version_major": 2,
       "version_minor": 0
      },
      "text/plain": [
       "HBox(children=(FloatProgress(value=0.0, description='Epoch 3', max=684.0, style=ProgressStyle(description_widt…"
      ]
     },
     "metadata": {},
     "output_type": "display_data"
    },
    {
     "name": "stdout",
     "output_type": "stream",
     "text": [
      "\n"
     ]
    },
    {
     "data": {
      "application/vnd.jupyter.widget-view+json": {
       "model_id": "5e51dc8d8f2c4dbea7dbdeccaf6d24b9",
       "version_major": 2,
       "version_minor": 0
      },
      "text/plain": [
       "HBox(children=(FloatProgress(value=0.0, description='Epoch 4', max=684.0, style=ProgressStyle(description_widt…"
      ]
     },
     "metadata": {},
     "output_type": "display_data"
    },
    {
     "name": "stdout",
     "output_type": "stream",
     "text": [
      "\n"
     ]
    },
    {
     "data": {
      "application/vnd.jupyter.widget-view+json": {
       "model_id": "d322904841af46308ee3d52d7dc07167",
       "version_major": 2,
       "version_minor": 0
      },
      "text/plain": [
       "HBox(children=(FloatProgress(value=0.0, description='Epoch 5', max=684.0, style=ProgressStyle(description_widt…"
      ]
     },
     "metadata": {},
     "output_type": "display_data"
    },
    {
     "name": "stdout",
     "output_type": "stream",
     "text": [
      "\n"
     ]
    },
    {
     "data": {
      "application/vnd.jupyter.widget-view+json": {
       "model_id": "6112288d6719472c9455ba8110327ee7",
       "version_major": 2,
       "version_minor": 0
      },
      "text/plain": [
       "HBox(children=(FloatProgress(value=0.0, description='Epoch 6', max=684.0, style=ProgressStyle(description_widt…"
      ]
     },
     "metadata": {},
     "output_type": "display_data"
    },
    {
     "name": "stdout",
     "output_type": "stream",
     "text": [
      "\n"
     ]
    },
    {
     "data": {
      "application/vnd.jupyter.widget-view+json": {
       "model_id": "07aa1b4c98504eddabde4872e6f316e9",
       "version_major": 2,
       "version_minor": 0
      },
      "text/plain": [
       "HBox(children=(FloatProgress(value=0.0, description='Epoch 7', max=684.0, style=ProgressStyle(description_widt…"
      ]
     },
     "metadata": {},
     "output_type": "display_data"
    },
    {
     "name": "stdout",
     "output_type": "stream",
     "text": [
      "\n"
     ]
    },
    {
     "data": {
      "application/vnd.jupyter.widget-view+json": {
       "model_id": "eed9233273a8409bbcc4b3c6fac062e1",
       "version_major": 2,
       "version_minor": 0
      },
      "text/plain": [
       "HBox(children=(FloatProgress(value=0.0, description='Epoch 8', max=684.0, style=ProgressStyle(description_widt…"
      ]
     },
     "metadata": {},
     "output_type": "display_data"
    },
    {
     "name": "stdout",
     "output_type": "stream",
     "text": [
      "\n"
     ]
    },
    {
     "data": {
      "application/vnd.jupyter.widget-view+json": {
       "model_id": "a42033bc278f4b62be9c7dd49bb57bcc",
       "version_major": 2,
       "version_minor": 0
      },
      "text/plain": [
       "HBox(children=(FloatProgress(value=0.0, description='Epoch 9', max=684.0, style=ProgressStyle(description_widt…"
      ]
     },
     "metadata": {},
     "output_type": "display_data"
    },
    {
     "name": "stdout",
     "output_type": "stream",
     "text": [
      "\n"
     ]
    },
    {
     "data": {
      "application/vnd.jupyter.widget-view+json": {
       "model_id": "d054a3420b5f49ac895f8ab4593dd2f3",
       "version_major": 2,
       "version_minor": 0
      },
      "text/plain": [
       "HBox(children=(FloatProgress(value=0.0, description='Epoch 10', max=684.0, style=ProgressStyle(description_wid…"
      ]
     },
     "metadata": {},
     "output_type": "display_data"
    },
    {
     "name": "stdout",
     "output_type": "stream",
     "text": [
      "\n"
     ]
    },
    {
     "data": {
      "application/vnd.jupyter.widget-view+json": {
       "model_id": "9d5ccff98358411ba06fb581c1f01ca9",
       "version_major": 2,
       "version_minor": 0
      },
      "text/plain": [
       "HBox(children=(FloatProgress(value=0.0, description='Epoch 11', max=684.0, style=ProgressStyle(description_wid…"
      ]
     },
     "metadata": {},
     "output_type": "display_data"
    },
    {
     "name": "stdout",
     "output_type": "stream",
     "text": [
      "\n"
     ]
    },
    {
     "data": {
      "application/vnd.jupyter.widget-view+json": {
       "model_id": "7195ae3b87c64bc6938de2e3d50f18de",
       "version_major": 2,
       "version_minor": 0
      },
      "text/plain": [
       "HBox(children=(FloatProgress(value=0.0, description='Epoch 12', max=684.0, style=ProgressStyle(description_wid…"
      ]
     },
     "metadata": {},
     "output_type": "display_data"
    },
    {
     "name": "stdout",
     "output_type": "stream",
     "text": [
      "\n"
     ]
    },
    {
     "data": {
      "application/vnd.jupyter.widget-view+json": {
       "model_id": "0cb5ea01a5384625b944318bbe4ae19a",
       "version_major": 2,
       "version_minor": 0
      },
      "text/plain": [
       "HBox(children=(FloatProgress(value=0.0, description='Epoch 13', max=684.0, style=ProgressStyle(description_wid…"
      ]
     },
     "metadata": {},
     "output_type": "display_data"
    },
    {
     "name": "stdout",
     "output_type": "stream",
     "text": [
      "\n"
     ]
    },
    {
     "data": {
      "application/vnd.jupyter.widget-view+json": {
       "model_id": "1b3f1582eea2404d950d8d2e61bd8840",
       "version_major": 2,
       "version_minor": 0
      },
      "text/plain": [
       "HBox(children=(FloatProgress(value=0.0, description='Epoch 14', max=684.0, style=ProgressStyle(description_wid…"
      ]
     },
     "metadata": {},
     "output_type": "display_data"
    },
    {
     "name": "stdout",
     "output_type": "stream",
     "text": [
      "\n"
     ]
    },
    {
     "data": {
      "application/vnd.jupyter.widget-view+json": {
       "model_id": "7bc76df840a64b83b584159481699eef",
       "version_major": 2,
       "version_minor": 0
      },
      "text/plain": [
       "HBox(children=(FloatProgress(value=0.0, description='Epoch 15', max=684.0, style=ProgressStyle(description_wid…"
      ]
     },
     "metadata": {},
     "output_type": "display_data"
    },
    {
     "name": "stdout",
     "output_type": "stream",
     "text": [
      "\n"
     ]
    },
    {
     "data": {
      "application/vnd.jupyter.widget-view+json": {
       "model_id": "b5293a99852e4750a2ab734f85074e91",
       "version_major": 2,
       "version_minor": 0
      },
      "text/plain": [
       "HBox(children=(FloatProgress(value=0.0, description='Epoch 16', max=684.0, style=ProgressStyle(description_wid…"
      ]
     },
     "metadata": {},
     "output_type": "display_data"
    },
    {
     "name": "stdout",
     "output_type": "stream",
     "text": [
      "\n"
     ]
    },
    {
     "data": {
      "application/vnd.jupyter.widget-view+json": {
       "model_id": "23057c5472d64a5e9162bb36a64341c7",
       "version_major": 2,
       "version_minor": 0
      },
      "text/plain": [
       "HBox(children=(FloatProgress(value=0.0, description='Epoch 17', max=684.0, style=ProgressStyle(description_wid…"
      ]
     },
     "metadata": {},
     "output_type": "display_data"
    },
    {
     "name": "stdout",
     "output_type": "stream",
     "text": [
      "\n"
     ]
    },
    {
     "data": {
      "application/vnd.jupyter.widget-view+json": {
       "model_id": "d865813709ef4d8cb3fb273785ec80d5",
       "version_major": 2,
       "version_minor": 0
      },
      "text/plain": [
       "HBox(children=(FloatProgress(value=0.0, description='Epoch 18', max=684.0, style=ProgressStyle(description_wid…"
      ]
     },
     "metadata": {},
     "output_type": "display_data"
    },
    {
     "name": "stdout",
     "output_type": "stream",
     "text": [
      "\n"
     ]
    },
    {
     "data": {
      "application/vnd.jupyter.widget-view+json": {
       "model_id": "228c85eb615d465ea60ee0babcc0b606",
       "version_major": 2,
       "version_minor": 0
      },
      "text/plain": [
       "HBox(children=(FloatProgress(value=0.0, description='Epoch 19', max=684.0, style=ProgressStyle(description_wid…"
      ]
     },
     "metadata": {},
     "output_type": "display_data"
    },
    {
     "name": "stdout",
     "output_type": "stream",
     "text": [
      "\n"
     ]
    },
    {
     "data": {
      "application/vnd.jupyter.widget-view+json": {
       "model_id": "0c111e38eac0482d9051dd8dae705600",
       "version_major": 2,
       "version_minor": 0
      },
      "text/plain": [
       "HBox(children=(FloatProgress(value=0.0, description='Epoch 20', max=684.0, style=ProgressStyle(description_wid…"
      ]
     },
     "metadata": {},
     "output_type": "display_data"
    },
    {
     "name": "stdout",
     "output_type": "stream",
     "text": [
      "\n"
     ]
    },
    {
     "data": {
      "application/vnd.jupyter.widget-view+json": {
       "model_id": "d741e9b4d9e9459593211eb9701d62cd",
       "version_major": 2,
       "version_minor": 0
      },
      "text/plain": [
       "HBox(children=(FloatProgress(value=0.0, description='Epoch 21', max=684.0, style=ProgressStyle(description_wid…"
      ]
     },
     "metadata": {},
     "output_type": "display_data"
    },
    {
     "name": "stdout",
     "output_type": "stream",
     "text": [
      "\n"
     ]
    },
    {
     "data": {
      "application/vnd.jupyter.widget-view+json": {
       "model_id": "7e8b9134d98d435ea11e4c76ae7a4932",
       "version_major": 2,
       "version_minor": 0
      },
      "text/plain": [
       "HBox(children=(FloatProgress(value=0.0, description='Epoch 22', max=684.0, style=ProgressStyle(description_wid…"
      ]
     },
     "metadata": {},
     "output_type": "display_data"
    },
    {
     "name": "stdout",
     "output_type": "stream",
     "text": [
      "\n"
     ]
    },
    {
     "data": {
      "application/vnd.jupyter.widget-view+json": {
       "model_id": "a8b2385341b24e6998cca885297521c5",
       "version_major": 2,
       "version_minor": 0
      },
      "text/plain": [
       "HBox(children=(FloatProgress(value=0.0, description='Epoch 23', max=684.0, style=ProgressStyle(description_wid…"
      ]
     },
     "metadata": {},
     "output_type": "display_data"
    },
    {
     "name": "stdout",
     "output_type": "stream",
     "text": [
      "\n"
     ]
    },
    {
     "data": {
      "application/vnd.jupyter.widget-view+json": {
       "model_id": "29180ffe09e1427cbf8ad12b04130739",
       "version_major": 2,
       "version_minor": 0
      },
      "text/plain": [
       "HBox(children=(FloatProgress(value=0.0, description='Epoch 24', max=684.0, style=ProgressStyle(description_wid…"
      ]
     },
     "metadata": {},
     "output_type": "display_data"
    },
    {
     "name": "stdout",
     "output_type": "stream",
     "text": [
      "\n"
     ]
    },
    {
     "data": {
      "application/vnd.jupyter.widget-view+json": {
       "model_id": "e0709b039af743d09fa28f6da9c96d9b",
       "version_major": 2,
       "version_minor": 0
      },
      "text/plain": [
       "HBox(children=(FloatProgress(value=0.0, description='Epoch 25', max=684.0, style=ProgressStyle(description_wid…"
      ]
     },
     "metadata": {},
     "output_type": "display_data"
    },
    {
     "name": "stdout",
     "output_type": "stream",
     "text": [
      "\n"
     ]
    },
    {
     "data": {
      "application/vnd.jupyter.widget-view+json": {
       "model_id": "3b864ca0232d46a68e90710e21f707ed",
       "version_major": 2,
       "version_minor": 0
      },
      "text/plain": [
       "HBox(children=(FloatProgress(value=0.0, description='Epoch 26', max=684.0, style=ProgressStyle(description_wid…"
      ]
     },
     "metadata": {},
     "output_type": "display_data"
    },
    {
     "name": "stdout",
     "output_type": "stream",
     "text": [
      "\n"
     ]
    },
    {
     "data": {
      "application/vnd.jupyter.widget-view+json": {
       "model_id": "05d8f53aa461464b98e00117962136ea",
       "version_major": 2,
       "version_minor": 0
      },
      "text/plain": [
       "HBox(children=(FloatProgress(value=0.0, description='Epoch 27', max=684.0, style=ProgressStyle(description_wid…"
      ]
     },
     "metadata": {},
     "output_type": "display_data"
    },
    {
     "name": "stdout",
     "output_type": "stream",
     "text": [
      "\n"
     ]
    },
    {
     "data": {
      "application/vnd.jupyter.widget-view+json": {
       "model_id": "167b0c0e89114f98a2852c1411973f1e",
       "version_major": 2,
       "version_minor": 0
      },
      "text/plain": [
       "HBox(children=(FloatProgress(value=0.0, description='Epoch 28', max=684.0, style=ProgressStyle(description_wid…"
      ]
     },
     "metadata": {},
     "output_type": "display_data"
    },
    {
     "name": "stdout",
     "output_type": "stream",
     "text": [
      "\n"
     ]
    },
    {
     "data": {
      "application/vnd.jupyter.widget-view+json": {
       "model_id": "dabb8357e49846668c9b2ffc2bed1130",
       "version_major": 2,
       "version_minor": 0
      },
      "text/plain": [
       "HBox(children=(FloatProgress(value=0.0, description='Epoch 29', max=684.0, style=ProgressStyle(description_wid…"
      ]
     },
     "metadata": {},
     "output_type": "display_data"
    },
    {
     "name": "stdout",
     "output_type": "stream",
     "text": [
      "\n"
     ]
    },
    {
     "data": {
      "application/vnd.jupyter.widget-view+json": {
       "model_id": "ad5ba6f49cbe41379e177b11259aeadf",
       "version_major": 2,
       "version_minor": 0
      },
      "text/plain": [
       "HBox(children=(FloatProgress(value=0.0, description='Epoch 30', max=684.0, style=ProgressStyle(description_wid…"
      ]
     },
     "metadata": {},
     "output_type": "display_data"
    },
    {
     "name": "stdout",
     "output_type": "stream",
     "text": [
      "\n"
     ]
    },
    {
     "data": {
      "application/vnd.jupyter.widget-view+json": {
       "model_id": "96e59aedd9e34885a4893cbf8accc139",
       "version_major": 2,
       "version_minor": 0
      },
      "text/plain": [
       "HBox(children=(FloatProgress(value=0.0, description='Epoch 31', max=684.0, style=ProgressStyle(description_wid…"
      ]
     },
     "metadata": {},
     "output_type": "display_data"
    },
    {
     "name": "stdout",
     "output_type": "stream",
     "text": [
      "\n",
      "\n"
     ]
    }
   ],
   "source": [
    "callbacks2 = [\n",
    "    ReduceLROnPlateau(), \n",
    "    TQDMNotebookCallback(leave_inner = True, leave_outer = True),\n",
    "    EarlyStopping(monitor='val_loss', patience=10), \n",
    "    ModelCheckpoint(filepath='../../modelb-conv1d1.h5', monitor='val_loss', save_best_only=True)\n",
    "]\n",
    "\n",
    "historyb = modelb.fit(X_train, y_train, class_weight=class_weight, batch_size=128, epochs=50, verbose=0, validation_split=0.2, callbacks=callbacks2)"
   ]
  },
  {
   "cell_type": "code",
   "execution_count": 41,
   "id": "executed-manual",
   "metadata": {},
   "outputs": [
    {
     "name": "stdout",
     "output_type": "stream",
     "text": [
      "286/286 [==============================] - 2s 5ms/step\n",
      "[0.49898679564882825, 0.0, 0.0, 0.6854757070541382, 0.7733629941940308]\n",
      "Test Loss: 0.49898679564882825\n",
      "Test Accuracy: 0.7733629941940308\n"
     ]
    }
   ],
   "source": [
    "score = modelb.evaluate(X_test, y_test, verbose=1)\n",
    "print(score)\n",
    "print(\"Test Loss:\", score[0])\n",
    "print(\"Test Accuracy:\", score[-1])"
   ]
  },
  {
   "cell_type": "code",
   "execution_count": null,
   "id": "republican-reserve",
   "metadata": {},
   "outputs": [],
   "source": [
    "y_preds = modelb.predict(X_test[:5])\n",
    "\n",
    "print(y_preds > 0.5)\n",
    "\n",
    "print(y_test[:5])"
   ]
  },
  {
   "cell_type": "code",
   "execution_count": 43,
   "id": "assumed-surveillance",
   "metadata": {},
   "outputs": [
    {
     "data": {
      "image/png": "[encoded data removed]",
      "text/plain": [
       "<Figure size 432x288 with 1 Axes>"
      ]
     },
     "metadata": {
      "needs_background": "light"
     },
     "output_type": "display_data"
    },
    {
     "data": {
      "image/png": "[encoded data removed]",
      "text/plain": [
       "<Figure size 432x288 with 1 Axes>"
      ]
     },
     "metadata": {
      "needs_background": "light"
     },
     "output_type": "display_data"
    }
   ],
   "source": [
    "plt.plot(historyb.history['acc'])\n",
    "plt.plot(historyb.history['val_acc'])\n",
    "\n",
    "plt.title('model accuracy')\n",
    "plt.ylabel('accuracy')\n",
    "plt.xlabel('epoch')\n",
    "plt.legend(['train','test'], loc='upper left')\n",
    "plt.show()\n",
    "\n",
    "plt.plot(historyb.history['loss'])\n",
    "plt.plot(historyb.history['val_loss'])\n",
    "\n",
    "plt.title('model loss')\n",
    "plt.ylabel('loss')\n",
    "plt.xlabel('epoch')\n",
    "plt.legend(['train','test'], loc='upper left')\n",
    "plt.show()"
   ]
  },
  {
   "cell_type": "markdown",
   "id": "liberal-survivor",
   "metadata": {},
   "source": [
    "## Model C"
   ]
  },
  {
   "cell_type": "code",
   "execution_count": 44,
   "id": "known-kansas",
   "metadata": {},
   "outputs": [],
   "source": [
    "from keras.preprocessing.sequence import pad_sequences\n",
    "from keras.layers import Input, Dense, LSTM, Embedding\n",
    "from keras.layers import Dropout, Activation, Bidirectional, GlobalMaxPool1D\n",
    "from keras.models import Sequential\n",
    "from keras import initializers, regularizers, constraints, optimizers, layers\n",
    "from keras.preprocessing import text, sequence"
   ]
  },
  {
   "cell_type": "code",
   "execution_count": 45,
   "id": "virtual-independence",
   "metadata": {},
   "outputs": [
    {
     "name": "stdout",
     "output_type": "stream",
     "text": [
      "Model: \"sequential_3\"\n",
      "_________________________________________________________________\n",
      "Layer (type)                 Output Shape              Param #   \n",
      "=================================================================\n",
      "embedding_3 (Embedding)      (None, None, 300)         26949000  \n",
      "_________________________________________________________________\n",
      "lstm_5 (LSTM)                (None, None, 25)          32600     \n",
      "_________________________________________________________________\n",
      "global_max_pooling1d_1 (Glob (None, 25)                0         \n",
      "_________________________________________________________________\n",
      "dropout_6 (Dropout)          (None, 25)                0         \n",
      "_________________________________________________________________\n",
      "dense_5 (Dense)              (None, 50)                1300      \n",
      "_________________________________________________________________\n",
      "dropout_7 (Dropout)          (None, 50)                0         \n",
      "_________________________________________________________________\n",
      "dense_6 (Dense)              (None, 11)                561       \n",
      "=================================================================\n",
      "Total params: 26,983,461\n",
      "Trainable params: 34,461\n",
      "Non-trainable params: 26,949,000\n",
      "_________________________________________________________________\n"
     ]
    }
   ],
   "source": [
    "modelc = Sequential()\n",
    "\n",
    "modelc.add(Embedding(vocab_size, 300, weights=[embedding_matrix], trainable=False))\n",
    "modelc.add(LSTM(25, return_sequences=True))\n",
    "modelc.add(GlobalMaxPool1D())\n",
    "modelc.add(Dropout(0.5))\n",
    "modelc.add(Dense(50, activation='relu'))\n",
    "modelc.add(Dropout(0.5))\n",
    "modelc.add(Dense(11, activation='sigmoid'))\n",
    "\n",
    "modelc.summary()"
   ]
  },
  {
   "cell_type": "code",
   "execution_count": 46,
   "id": "governmental-calcium",
   "metadata": {},
   "outputs": [],
   "source": [
    "modelc.compile(loss='binary_crossentropy', \n",
    "              optimizer='adam', \n",
    "              metrics=[Precision(), Recall(), AUC(), 'acc'])"
   ]
  },
  {
   "cell_type": "code",
   "execution_count": 47,
   "id": "rubber-boost",
   "metadata": {},
   "outputs": [
    {
     "name": "stdout",
     "output_type": "stream",
     "text": [
      "Train on 684 samples, validate on 171 samples\n"
     ]
    },
    {
     "data": {
      "application/vnd.jupyter.widget-view+json": {
       "model_id": "047bd3b53d4a42939a66d8bcc4c10c66",
       "version_major": 2,
       "version_minor": 0
      },
      "text/plain": [
       "HBox(children=(FloatProgress(value=0.0, description='Training', max=50.0, style=ProgressStyle(description_widt…"
      ]
     },
     "metadata": {},
     "output_type": "display_data"
    },
    {
     "name": "stdout",
     "output_type": "stream",
     "text": [
      "Epoch 1/50\n"
     ]
    },
    {
     "data": {
      "application/vnd.jupyter.widget-view+json": {
       "model_id": "0bcbf0d5bf494f1da50d11772897c07c",
       "version_major": 2,
       "version_minor": 0
      },
      "text/plain": [
       "HBox(children=(FloatProgress(value=0.0, description='Epoch 0', max=684.0, style=ProgressStyle(description_widt…"
      ]
     },
     "metadata": {},
     "output_type": "display_data"
    },
    {
     "name": "stdout",
     "output_type": "stream",
     "text": [
      "684/684 [==============================] - 7s 11ms/step - loss: 0.0259 - precision_3: 0.0000e+00 - recall_3: 0.0000e+00 - auc_3: 0.5054 - acc: 0.7864 - val_loss: 0.0252 - val_precision_3: 0.0000e+00 - val_recall_3: 0.0000e+00 - val_auc_3: 0.5019 - val_acc: 0.7852\n",
      "\n",
      "Epoch 2/50\n"
     ]
    },
    {
     "data": {
      "application/vnd.jupyter.widget-view+json": {
       "model_id": "b80c347df0df40e39e7254fc06117e70",
       "version_major": 2,
       "version_minor": 0
      },
      "text/plain": [
       "HBox(children=(FloatProgress(value=0.0, description='Epoch 1', max=684.0, style=ProgressStyle(description_widt…"
      ]
     },
     "metadata": {},
     "output_type": "display_data"
    },
    {
     "name": "stdout",
     "output_type": "stream",
     "text": [
      "684/684 [==============================] - 5s 7ms/step - loss: 0.0253 - precision_3: 0.3348 - recall_3: 0.0936 - auc_3: 0.5689 - acc: 0.7674 - val_loss: 0.0237 - val_precision_3: 0.2281 - val_recall_3: 0.0965 - val_auc_3: 0.5562 - val_acc: 0.7358\n",
      "\n",
      "Epoch 3/50\n"
     ]
    },
    {
     "data": {
      "application/vnd.jupyter.widget-view+json": {
       "model_id": "ab4c0f9eace549c49c57f94a62ccfaf6",
       "version_major": 2,
       "version_minor": 0
      },
      "text/plain": [
       "HBox(children=(FloatProgress(value=0.0, description='Epoch 2', max=684.0, style=ProgressStyle(description_widt…"
      ]
     },
     "metadata": {},
     "output_type": "display_data"
    },
    {
     "name": "stdout",
     "output_type": "stream",
     "text": [
      "684/684 [==============================] - 5s 7ms/step - loss: 0.0221 - precision_3: 0.3442 - recall_3: 0.2035 - auc_3: 0.5730 - acc: 0.7479 - val_loss: 0.0193 - val_precision_3: 0.0000e+00 - val_recall_3: 0.0000e+00 - val_auc_3: 0.6129 - val_acc: 0.7852\n",
      "\n",
      "Epoch 4/50\n"
     ]
    },
    {
     "data": {
      "application/vnd.jupyter.widget-view+json": {
       "model_id": "a990a53b52b5433c827e1cd7cc105310",
       "version_major": 2,
       "version_minor": 0
      },
      "text/plain": [
       "HBox(children=(FloatProgress(value=0.0, description='Epoch 3', max=684.0, style=ProgressStyle(description_widt…"
      ]
     },
     "metadata": {},
     "output_type": "display_data"
    },
    {
     "name": "stdout",
     "output_type": "stream",
     "text": [
      "684/684 [==============================] - 5s 7ms/step - loss: 0.0208 - precision_3: 0.3919 - recall_3: 0.1392 - auc_3: 0.5893 - acc: 0.7707 - val_loss: 0.0189 - val_precision_3: 0.0000e+00 - val_recall_3: 0.0000e+00 - val_auc_3: 0.6691 - val_acc: 0.7852\n",
      "\n",
      "Epoch 5/50\n"
     ]
    },
    {
     "data": {
      "application/vnd.jupyter.widget-view+json": {
       "model_id": "bc89533b8a5240dabadf97cae69fcae9",
       "version_major": 2,
       "version_minor": 0
      },
      "text/plain": [
       "HBox(children=(FloatProgress(value=0.0, description='Epoch 4', max=684.0, style=ProgressStyle(description_widt…"
      ]
     },
     "metadata": {},
     "output_type": "display_data"
    },
    {
     "name": "stdout",
     "output_type": "stream",
     "text": [
      "684/684 [==============================] - 4s 7ms/step - loss: 0.0203 - precision_3: 0.3860 - recall_3: 0.0930 - auc_3: 0.6062 - acc: 0.7754 - val_loss: 0.0189 - val_precision_3: 0.0000e+00 - val_recall_3: 0.0000e+00 - val_auc_3: 0.6694 - val_acc: 0.7852\n",
      "\n",
      "Epoch 6/50\n"
     ]
    },
    {
     "data": {
      "application/vnd.jupyter.widget-view+json": {
       "model_id": "6d292eae67cb431d95b0e1dab911232d",
       "version_major": 2,
       "version_minor": 0
      },
      "text/plain": [
       "HBox(children=(FloatProgress(value=0.0, description='Epoch 5', max=684.0, style=ProgressStyle(description_widt…"
      ]
     },
     "metadata": {},
     "output_type": "display_data"
    },
    {
     "name": "stdout",
     "output_type": "stream",
     "text": [
      "684/684 [==============================] - 4s 7ms/step - loss: 0.0202 - precision_3: 0.4167 - recall_3: 0.0749 - auc_3: 0.6034 - acc: 0.7807 - val_loss: 0.0188 - val_precision_3: 0.0000e+00 - val_recall_3: 0.0000e+00 - val_auc_3: 0.6694 - val_acc: 0.7852\n",
      "\n",
      "Epoch 7/50\n"
     ]
    },
    {
     "data": {
      "application/vnd.jupyter.widget-view+json": {
       "model_id": "f0d974d9dcb040a7aeb0c56a5b6253ee",
       "version_major": 2,
       "version_minor": 0
      },
      "text/plain": [
       "HBox(children=(FloatProgress(value=0.0, description='Epoch 6', max=684.0, style=ProgressStyle(description_widt…"
      ]
     },
     "metadata": {},
     "output_type": "display_data"
    },
    {
     "name": "stdout",
     "output_type": "stream",
     "text": [
      "684/684 [==============================] - 5s 7ms/step - loss: 0.0203 - precision_3: 0.3430 - recall_3: 0.0518 - auc_3: 0.5974 - acc: 0.7770 - val_loss: 0.0189 - val_precision_3: 0.0000e+00 - val_recall_3: 0.0000e+00 - val_auc_3: 0.6629 - val_acc: 0.7852\n",
      "\n",
      "Epoch 8/50\n"
     ]
    },
    {
     "data": {
      "application/vnd.jupyter.widget-view+json": {
       "model_id": "88d430c2791b4cd39f933aa728bf5a62",
       "version_major": 2,
       "version_minor": 0
      },
      "text/plain": [
       "HBox(children=(FloatProgress(value=0.0, description='Epoch 7', max=684.0, style=ProgressStyle(description_widt…"
      ]
     },
     "metadata": {},
     "output_type": "display_data"
    },
    {
     "name": "stdout",
     "output_type": "stream",
     "text": [
      "684/684 [==============================] - 4s 7ms/step - loss: 0.0200 - precision_3: 0.3980 - recall_3: 0.0487 - auc_3: 0.6068 - acc: 0.7818 - val_loss: 0.0187 - val_precision_3: 0.0000e+00 - val_recall_3: 0.0000e+00 - val_auc_3: 0.6694 - val_acc: 0.7852\n",
      "\n",
      "Epoch 9/50\n"
     ]
    },
    {
     "data": {
      "application/vnd.jupyter.widget-view+json": {
       "model_id": "4758c459975249b7a8b13974824afec9",
       "version_major": 2,
       "version_minor": 0
      },
      "text/plain": [
       "HBox(children=(FloatProgress(value=0.0, description='Epoch 8', max=684.0, style=ProgressStyle(description_widt…"
      ]
     },
     "metadata": {},
     "output_type": "display_data"
    },
    {
     "name": "stdout",
     "output_type": "stream",
     "text": [
      "684/684 [==============================] - 4s 7ms/step - loss: 0.0199 - precision_3: 0.4201 - recall_3: 0.0443 - auc_3: 0.6147 - acc: 0.7835 - val_loss: 0.0187 - val_precision_3: 0.0000e+00 - val_recall_3: 0.0000e+00 - val_auc_3: 0.6674 - val_acc: 0.7852\n",
      "\n",
      "Epoch 10/50\n"
     ]
    },
    {
     "data": {
      "application/vnd.jupyter.widget-view+json": {
       "model_id": "13db4e43c74242bcb24485f6a23d99f6",
       "version_major": 2,
       "version_minor": 0
      },
      "text/plain": [
       "HBox(children=(FloatProgress(value=0.0, description='Epoch 9', max=684.0, style=ProgressStyle(description_widt…"
      ]
     },
     "metadata": {},
     "output_type": "display_data"
    },
    {
     "name": "stdout",
     "output_type": "stream",
     "text": [
      "684/684 [==============================] - 5s 7ms/step - loss: 0.0200 - precision_3: 0.4610 - recall_3: 0.0406 - auc_3: 0.6147 - acc: 0.7856 - val_loss: 0.0187 - val_precision_3: 0.0000e+00 - val_recall_3: 0.0000e+00 - val_auc_3: 0.6735 - val_acc: 0.7852\n",
      "\n",
      "Epoch 11/50\n"
     ]
    },
    {
     "data": {
      "application/vnd.jupyter.widget-view+json": {
       "model_id": "9e11ebf7eff14eeda945757daf6671f7",
       "version_major": 2,
       "version_minor": 0
      },
      "text/plain": [
       "HBox(children=(FloatProgress(value=0.0, description='Epoch 10', max=684.0, style=ProgressStyle(description_wid…"
      ]
     },
     "metadata": {},
     "output_type": "display_data"
    },
    {
     "name": "stdout",
     "output_type": "stream",
     "text": [
      "684/684 [==============================] - 5s 7ms/step - loss: 0.0198 - precision_3: 0.3741 - recall_3: 0.0325 - auc_3: 0.6171 - acc: 0.7824 - val_loss: 0.0187 - val_precision_3: 0.0000e+00 - val_recall_3: 0.0000e+00 - val_auc_3: 0.6718 - val_acc: 0.7852\n",
      "\n",
      "Epoch 12/50\n"
     ]
    },
    {
     "data": {
      "application/vnd.jupyter.widget-view+json": {
       "model_id": "fc798f5ca4c54ae0bab3a353870fc8db",
       "version_major": 2,
       "version_minor": 0
      },
      "text/plain": [
       "HBox(children=(FloatProgress(value=0.0, description='Epoch 11', max=684.0, style=ProgressStyle(description_wid…"
      ]
     },
     "metadata": {},
     "output_type": "display_data"
    },
    {
     "name": "stdout",
     "output_type": "stream",
     "text": [
      "684/684 [==============================] - 5s 7ms/step - loss: 0.0197 - precision_3: 0.5049 - recall_3: 0.0325 - auc_3: 0.6189 - acc: 0.7872 - val_loss: 0.0187 - val_precision_3: 0.0000e+00 - val_recall_3: 0.0000e+00 - val_auc_3: 0.6762 - val_acc: 0.7852\n",
      "\n",
      "Epoch 13/50\n"
     ]
    },
    {
     "data": {
      "application/vnd.jupyter.widget-view+json": {
       "model_id": "1eba9cfd762b409e9a8a701fa85294cb",
       "version_major": 2,
       "version_minor": 0
      },
      "text/plain": [
       "HBox(children=(FloatProgress(value=0.0, description='Epoch 12', max=684.0, style=ProgressStyle(description_wid…"
      ]
     },
     "metadata": {},
     "output_type": "display_data"
    },
    {
     "name": "stdout",
     "output_type": "stream",
     "text": [
      "684/684 [==============================] - 4s 7ms/step - loss: 0.0197 - precision_3: 0.4045 - recall_3: 0.0225 - auc_3: 0.6285 - acc: 0.7848 - val_loss: 0.0187 - val_precision_3: 0.0000e+00 - val_recall_3: 0.0000e+00 - val_auc_3: 0.6728 - val_acc: 0.7852\n",
      "\n",
      "Epoch 14/50\n"
     ]
    },
    {
     "data": {
      "application/vnd.jupyter.widget-view+json": {
       "model_id": "f7b5d79a886544c4b65c20bd69f994f2",
       "version_major": 2,
       "version_minor": 0
      },
      "text/plain": [
       "HBox(children=(FloatProgress(value=0.0, description='Epoch 13', max=684.0, style=ProgressStyle(description_wid…"
      ]
     },
     "metadata": {},
     "output_type": "display_data"
    },
    {
     "name": "stdout",
     "output_type": "stream",
     "text": [
      "684/684 [==============================] - 5s 7ms/step - loss: 0.0197 - precision_3: 0.5341 - recall_3: 0.0293 - auc_3: 0.6229 - acc: 0.7879 - val_loss: 0.0187 - val_precision_3: 0.0000e+00 - val_recall_3: 0.0000e+00 - val_auc_3: 0.6711 - val_acc: 0.7852\n",
      "\n",
      "Epoch 15/50\n"
     ]
    },
    {
     "data": {
      "application/vnd.jupyter.widget-view+json": {
       "model_id": "64e30553ae6644329ba95ede14bf6b87",
       "version_major": 2,
       "version_minor": 0
      },
      "text/plain": [
       "HBox(children=(FloatProgress(value=0.0, description='Epoch 14', max=684.0, style=ProgressStyle(description_wid…"
      ]
     },
     "metadata": {},
     "output_type": "display_data"
    },
    {
     "name": "stdout",
     "output_type": "stream",
     "text": [
      "684/684 [==============================] - 4s 7ms/step - loss: 0.0195 - precision_3: 0.4265 - recall_3: 0.0181 - auc_3: 0.6341 - acc: 0.7858 - val_loss: 0.0186 - val_precision_3: 0.0000e+00 - val_recall_3: 0.0000e+00 - val_auc_3: 0.6744 - val_acc: 0.7852\n",
      "\n",
      "Epoch 16/50\n"
     ]
    },
    {
     "data": {
      "application/vnd.jupyter.widget-view+json": {
       "model_id": "fe82b1bb67da4ecca463a9c54118a986",
       "version_major": 2,
       "version_minor": 0
      },
      "text/plain": [
       "HBox(children=(FloatProgress(value=0.0, description='Epoch 15', max=684.0, style=ProgressStyle(description_wid…"
      ]
     },
     "metadata": {},
     "output_type": "display_data"
    },
    {
     "name": "stdout",
     "output_type": "stream",
     "text": [
      "684/684 [==============================] - 4s 7ms/step - loss: 0.0194 - precision_3: 0.5556 - recall_3: 0.0218 - auc_3: 0.6384 - acc: 0.7880 - val_loss: 0.0187 - val_precision_3: 0.0000e+00 - val_recall_3: 0.0000e+00 - val_auc_3: 0.6732 - val_acc: 0.7852\n",
      "\n",
      "Epoch 17/50\n"
     ]
    },
    {
     "data": {
      "application/vnd.jupyter.widget-view+json": {
       "model_id": "73c64e4cd1814c36b7b7826a3d476383",
       "version_major": 2,
       "version_minor": 0
      },
      "text/plain": [
       "HBox(children=(FloatProgress(value=0.0, description='Epoch 16', max=684.0, style=ProgressStyle(description_wid…"
      ]
     },
     "metadata": {},
     "output_type": "display_data"
    },
    {
     "name": "stdout",
     "output_type": "stream",
     "text": [
      "684/684 [==============================] - 5s 7ms/step - loss: 0.0196 - precision_3: 0.4630 - recall_3: 0.0156 - auc_3: 0.6351 - acc: 0.7865 - val_loss: 0.0186 - val_precision_3: 0.0000e+00 - val_recall_3: 0.0000e+00 - val_auc_3: 0.6804 - val_acc: 0.7852\n",
      "\n",
      "Epoch 18/50\n"
     ]
    },
    {
     "data": {
      "application/vnd.jupyter.widget-view+json": {
       "model_id": "e57c9bb3012b4e9d84eb5e04a6cdfe35",
       "version_major": 2,
       "version_minor": 0
      },
      "text/plain": [
       "HBox(children=(FloatProgress(value=0.0, description='Epoch 17', max=684.0, style=ProgressStyle(description_wid…"
      ]
     },
     "metadata": {},
     "output_type": "display_data"
    },
    {
     "name": "stdout",
     "output_type": "stream",
     "text": [
      "684/684 [==============================] - 5s 7ms/step - loss: 0.0196 - precision_3: 0.5000 - recall_3: 0.0144 - auc_3: 0.6266 - acc: 0.7871 - val_loss: 0.0186 - val_precision_3: 0.0000e+00 - val_recall_3: 0.0000e+00 - val_auc_3: 0.6760 - val_acc: 0.7852\n",
      "\n",
      "Epoch 19/50\n"
     ]
    },
    {
     "data": {
      "application/vnd.jupyter.widget-view+json": {
       "model_id": "2372d7d442d44c5ca0917404b3987397",
       "version_major": 2,
       "version_minor": 0
      },
      "text/plain": [
       "HBox(children=(FloatProgress(value=0.0, description='Epoch 18', max=684.0, style=ProgressStyle(description_wid…"
      ]
     },
     "metadata": {},
     "output_type": "display_data"
    },
    {
     "name": "stdout",
     "output_type": "stream",
     "text": [
      "684/684 [==============================] - 4s 7ms/step - loss: 0.0195 - precision_3: 0.5952 - recall_3: 0.0156 - auc_3: 0.6346 - acc: 0.7881 - val_loss: 0.0186 - val_precision_3: 0.0000e+00 - val_recall_3: 0.0000e+00 - val_auc_3: 0.6785 - val_acc: 0.7852\n",
      "\n",
      "Epoch 20/50\n"
     ]
    },
    {
     "data": {
      "application/vnd.jupyter.widget-view+json": {
       "model_id": "9644c8a4c86c40918d0baee9a0e16b8b",
       "version_major": 2,
       "version_minor": 0
      },
      "text/plain": [
       "HBox(children=(FloatProgress(value=0.0, description='Epoch 19', max=684.0, style=ProgressStyle(description_wid…"
      ]
     },
     "metadata": {},
     "output_type": "display_data"
    },
    {
     "name": "stdout",
     "output_type": "stream",
     "text": [
      "684/684 [==============================] - 5s 8ms/step - loss: 0.0194 - precision_3: 0.6957 - recall_3: 0.0100 - auc_3: 0.6345 - acc: 0.7883 - val_loss: 0.0186 - val_precision_3: 0.0000e+00 - val_recall_3: 0.0000e+00 - val_auc_3: 0.6741 - val_acc: 0.7852\n",
      "\n",
      "Epoch 21/50\n"
     ]
    },
    {
     "data": {
      "application/vnd.jupyter.widget-view+json": {
       "model_id": "4d12dfd558bd411ba4afe6926eff40ce",
       "version_major": 2,
       "version_minor": 0
      },
      "text/plain": [
       "HBox(children=(FloatProgress(value=0.0, description='Epoch 20', max=684.0, style=ProgressStyle(description_wid…"
      ]
     },
     "metadata": {},
     "output_type": "display_data"
    },
    {
     "name": "stdout",
     "output_type": "stream",
     "text": [
      "684/684 [==============================] - 13s 19ms/step - loss: 0.0195 - precision_3: 0.4688 - recall_3: 0.0094 - auc_3: 0.6336 - acc: 0.7868 - val_loss: 0.0187 - val_precision_3: 0.0000e+00 - val_recall_3: 0.0000e+00 - val_auc_3: 0.6805 - val_acc: 0.7852\n",
      "\n",
      "Epoch 22/50\n"
     ]
    },
    {
     "data": {
      "application/vnd.jupyter.widget-view+json": {
       "model_id": "cba104fcf38942f084f5c1aee8ea1966",
       "version_major": 2,
       "version_minor": 0
      },
      "text/plain": [
       "HBox(children=(FloatProgress(value=0.0, description='Epoch 21', max=684.0, style=ProgressStyle(description_wid…"
      ]
     },
     "metadata": {},
     "output_type": "display_data"
    },
    {
     "name": "stdout",
     "output_type": "stream",
     "text": [
      "684/684 [==============================] - 34s 50ms/step - loss: 0.0194 - precision_3: 0.3939 - recall_3: 0.0081 - auc_3: 0.6402 - acc: 0.7862 - val_loss: 0.0186 - val_precision_3: 0.0000e+00 - val_recall_3: 0.0000e+00 - val_auc_3: 0.6823 - val_acc: 0.7852\n",
      "\n",
      "Epoch 23/50\n"
     ]
    },
    {
     "data": {
      "application/vnd.jupyter.widget-view+json": {
       "model_id": "13cd7698509b46899f450b9470f71621",
       "version_major": 2,
       "version_minor": 0
      },
      "text/plain": [
       "HBox(children=(FloatProgress(value=0.0, description='Epoch 22', max=684.0, style=ProgressStyle(description_wid…"
      ]
     },
     "metadata": {},
     "output_type": "display_data"
    },
    {
     "name": "stdout",
     "output_type": "stream",
     "text": [
      "684/684 [==============================] - 26s 38ms/step - loss: 0.0193 - precision_3: 0.2857 - recall_3: 0.0037 - auc_3: 0.6447 - acc: 0.7859 - val_loss: 0.0186 - val_precision_3: 0.0000e+00 - val_recall_3: 0.0000e+00 - val_auc_3: 0.6780 - val_acc: 0.7852\n",
      "\n",
      "Epoch 24/50\n"
     ]
    },
    {
     "data": {
      "application/vnd.jupyter.widget-view+json": {
       "model_id": "7fcde2816aff42e9b99e2ea8e1ff760d",
       "version_major": 2,
       "version_minor": 0
      },
      "text/plain": [
       "HBox(children=(FloatProgress(value=0.0, description='Epoch 23', max=684.0, style=ProgressStyle(description_wid…"
      ]
     },
     "metadata": {},
     "output_type": "display_data"
    },
    {
     "name": "stdout",
     "output_type": "stream",
     "text": [
      "684/684 [==============================] - 25s 37ms/step - loss: 0.0194 - precision_3: 0.4000 - recall_3: 0.0037 - auc_3: 0.6367 - acc: 0.7867 - val_loss: 0.0186 - val_precision_3: 0.0000e+00 - val_recall_3: 0.0000e+00 - val_auc_3: 0.6754 - val_acc: 0.7852\n",
      "\n",
      "Epoch 25/50\n"
     ]
    },
    {
     "data": {
      "application/vnd.jupyter.widget-view+json": {
       "model_id": "087e93a8c3ee47eab9eed4e0b5409443",
       "version_major": 2,
       "version_minor": 0
      },
      "text/plain": [
       "HBox(children=(FloatProgress(value=0.0, description='Epoch 24', max=684.0, style=ProgressStyle(description_wid…"
      ]
     },
     "metadata": {},
     "output_type": "display_data"
    },
    {
     "name": "stdout",
     "output_type": "stream",
     "text": [
      "684/684 [==============================] - 25s 37ms/step - loss: 0.0194 - precision_3: 0.4286 - recall_3: 0.0037 - auc_3: 0.6432 - acc: 0.7868 - val_loss: 0.0186 - val_precision_3: 0.0000e+00 - val_recall_3: 0.0000e+00 - val_auc_3: 0.6775 - val_acc: 0.7852\n",
      "\n",
      "Epoch 26/50\n"
     ]
    },
    {
     "data": {
      "application/vnd.jupyter.widget-view+json": {
       "model_id": "dccaea6abb55457cb0f0ca8bcaf4850f",
       "version_major": 2,
       "version_minor": 0
      },
      "text/plain": [
       "HBox(children=(FloatProgress(value=0.0, description='Epoch 25', max=684.0, style=ProgressStyle(description_wid…"
      ]
     },
     "metadata": {},
     "output_type": "display_data"
    },
    {
     "name": "stdout",
     "output_type": "stream",
     "text": [
      "684/684 [==============================] - 26s 38ms/step - loss: 0.0194 - precision_3: 0.5333 - recall_3: 0.0050 - auc_3: 0.6345 - acc: 0.7872 - val_loss: 0.0186 - val_precision_3: 0.0000e+00 - val_recall_3: 0.0000e+00 - val_auc_3: 0.6775 - val_acc: 0.7852\n",
      "\n",
      "Epoch 27/50\n"
     ]
    },
    {
     "data": {
      "application/vnd.jupyter.widget-view+json": {
       "model_id": "7dae91f5041d401f86426f143f411b5f",
       "version_major": 2,
       "version_minor": 0
      },
      "text/plain": [
       "HBox(children=(FloatProgress(value=0.0, description='Epoch 26', max=684.0, style=ProgressStyle(description_wid…"
      ]
     },
     "metadata": {},
     "output_type": "display_data"
    },
    {
     "name": "stdout",
     "output_type": "stream",
     "text": [
      "684/684 [==============================] - 25s 37ms/step - loss: 0.0194 - precision_3: 0.5000 - recall_3: 0.0062 - auc_3: 0.6439 - acc: 0.7871 - val_loss: 0.0186 - val_precision_3: 0.0000e+00 - val_recall_3: 0.0000e+00 - val_auc_3: 0.6797 - val_acc: 0.7852\n",
      "\n",
      "Epoch 28/50\n"
     ]
    },
    {
     "data": {
      "application/vnd.jupyter.widget-view+json": {
       "model_id": "c6c857d15eb74d93b79dcc1a21367e49",
       "version_major": 2,
       "version_minor": 0
      },
      "text/plain": [
       "HBox(children=(FloatProgress(value=0.0, description='Epoch 27', max=684.0, style=ProgressStyle(description_wid…"
      ]
     },
     "metadata": {},
     "output_type": "display_data"
    },
    {
     "name": "stdout",
     "output_type": "stream",
     "text": [
      "684/684 [==============================] - 14s 20ms/step - loss: 0.0193 - precision_3: 0.4545 - recall_3: 0.0031 - auc_3: 0.6455 - acc: 0.7869 - val_loss: 0.0186 - val_precision_3: 0.0000e+00 - val_recall_3: 0.0000e+00 - val_auc_3: 0.6780 - val_acc: 0.7852\n",
      "\n",
      "\n"
     ]
    }
   ],
   "source": [
    "callbacks3 = [\n",
    "    ReduceLROnPlateau(), \n",
    "    TQDMNotebookCallback(leave_inner = True, leave_outer = True),\n",
    "    EarlyStopping(monitor='val_loss', patience=10), \n",
    "    ModelCheckpoint(filepath='../../modelc-conv1d1.h5', monitor='val_loss', save_best_only=True)\n",
    "]\n",
    "\n",
    "historyc = modelc.fit(X_train, y_train, class_weight=class_weight, epochs=50, batch_size=32, validation_split=0.2, callbacks=callbacks3)"
   ]
  },
  {
   "cell_type": "code",
   "execution_count": 48,
   "id": "critical-hierarchy",
   "metadata": {},
   "outputs": [
    {
     "name": "stdout",
     "output_type": "stream",
     "text": [
      "286/286 [==============================] - 0s 1ms/step\n",
      "[0.4999984365243178, 0.0, 0.0, 0.6800349950790405, 0.7733629941940308]\n",
      "Test Loss: 0.4999984365243178\n",
      "Test Accuracy: 0.7733629941940308\n"
     ]
    }
   ],
   "source": [
    "score = modelc.evaluate(X_test, y_test, verbose=1)\n",
    "print(score)\n",
    "print(\"Test Loss:\", score[0])\n",
    "print(\"Test Accuracy:\", score[-1])"
   ]
  },
  {
   "cell_type": "code",
   "execution_count": 49,
   "id": "challenging-wallet",
   "metadata": {},
   "outputs": [],
   "source": [
    "y_pred = modelc.predict(X_test)\n",
    "\n",
    "y_preds = modelc.predict(X_test[:5])\n",
    "\n",
    "y_preds > 0.5"
   ]
  },
  {
   "cell_type": "code",
   "execution_count": 52,
   "id": "digital-belarus",
   "metadata": {},
   "outputs": [
    {
     "name": "stdout",
     "output_type": "stream",
     "text": [
      "      Action  Adventure  Comedy  Crime  Drama  Fantasy  Horror  Mystery  \\\n",
      "1071       1          0       0      0      1        0       0        0   \n",
      "907        0          0       1      0      0        1       0        0   \n",
      "290        1          0       0      1      1        0       0        0   \n",
      "844        0          0       0      0      1        0       0        0   \n",
      "333        1          0       0      1      1        0       0        0   \n",
      "\n",
      "      Romance  Sci-Fi  Thriller  \n",
      "1071        0       0         0  \n",
      "907         0       0         0  \n",
      "290         0       0         1  \n",
      "844         0       0         0  \n",
      "333         0       0         1  \n"
     ]
    }
   ],
   "source": [
    "print(y_test[:5])"
   ]
  },
  {
   "cell_type": "code",
   "execution_count": 63,
   "id": "electoral-cincinnati",
   "metadata": {},
   "outputs": [
    {
     "data": {
      "image/png": "[encoded data removed]",
      "text/plain": [
       "<Figure size 432x288 with 1 Axes>"
      ]
     },
     "metadata": {
      "needs_background": "light"
     },
     "output_type": "display_data"
    },
    {
     "data": {
      "image/png": "[encoded data removed]",
      "text/plain": [
       "<Figure size 432x288 with 1 Axes>"
      ]
     },
     "metadata": {
      "needs_background": "light"
     },
     "output_type": "display_data"
    }
   ],
   "source": [
    "plt.plot(historyc.history['acc'])\n",
    "plt.plot(historyc.history['val_acc'])\n",
    "\n",
    "plt.title('model accuracy')\n",
    "plt.ylabel('accuracy')\n",
    "plt.xlabel('epoch')\n",
    "plt.legend(['train','test'], loc='upper left')\n",
    "plt.show()\n",
    "\n",
    "plt.plot(historyc.history['loss'])\n",
    "plt.plot(historyc.history['val_loss'])\n",
    "\n",
    "plt.title('model loss')\n",
    "plt.ylabel('loss')\n",
    "plt.xlabel('epoch')\n",
    "plt.legend(['train','test'], loc='upper left')\n",
    "plt.show()"
   ]
  },
  {
   "cell_type": "markdown",
   "id": "compound-consent",
   "metadata": {},
   "source": [
    "## Model D - GRU layers\n"
   ]
  },
  {
   "cell_type": "code",
   "execution_count": 54,
   "id": "eleven-payroll",
   "metadata": {},
   "outputs": [
    {
     "name": "stdout",
     "output_type": "stream",
     "text": [
      "Model: \"sequential_4\"\n",
      "_________________________________________________________________\n",
      "Layer (type)                 Output Shape              Param #   \n",
      "=================================================================\n",
      "embedding_4 (Embedding)      (None, 200, 128)          11498240  \n",
      "_________________________________________________________________\n",
      "gru_1 (GRU)                  (None, 200, 128)          98688     \n",
      "_________________________________________________________________\n",
      "dropout_8 (Dropout)          (None, 200, 128)          0         \n",
      "_________________________________________________________________\n",
      "gru_2 (GRU)                  (None, 200, 128)          98688     \n",
      "_________________________________________________________________\n",
      "global_max_pooling1d_2 (Glob (None, 128)               0         \n",
      "_________________________________________________________________\n",
      "dropout_9 (Dropout)          (None, 128)               0         \n",
      "_________________________________________________________________\n",
      "dense_7 (Dense)              (None, 50)                6450      \n",
      "_________________________________________________________________\n",
      "dropout_10 (Dropout)         (None, 50)                0         \n",
      "_________________________________________________________________\n",
      "dense_8 (Dense)              (None, 11)                561       \n",
      "=================================================================\n",
      "Total params: 11,702,627\n",
      "Trainable params: 11,702,627\n",
      "Non-trainable params: 0\n",
      "_________________________________________________________________\n"
     ]
    }
   ],
   "source": [
    "from keras_tqdm import TQDMNotebookCallback\n",
    "\n",
    "from keras.models import Sequential\n",
    "from keras.layers import Dense, Activation, MaxPooling1D, Embedding, Flatten, GlobalMaxPool1D, Dropout, Conv1D, GRU, SeparableConv2D\n",
    "from keras.callbacks import ReduceLROnPlateau, EarlyStopping, ModelCheckpoint\n",
    "from keras.losses import binary_crossentropy\n",
    "from keras.optimizers import Adam\n",
    "from keras_tqdm import TQDMCallback \n",
    "\n",
    "# tqdm_callback = tfa.callbacks.TQDMProgressBar()\n",
    "\n",
    "filter_length = 64\n",
    "num_classes = 11\n",
    "modeld = Sequential()\n",
    "modeld.add(Embedding(vocab_size, 128, input_length=maxlen))\n",
    "modeld.add(GRU(128, return_sequences=True))\n",
    "modeld.add(Dropout(0.1))\n",
    "modeld.add(GRU(128, return_sequences=True))\n",
    "# model.add(SeparableConv2D(filter_length, 5, padding='valid', activation='relu', strides=1))\n",
    "modeld.add(GlobalMaxPool1D())\n",
    "modeld.add(Dropout(0.5))\n",
    "modeld.add(Dense(50, activation='relu'))\n",
    "modeld.add(Dropout(0.5))\n",
    "modeld.add(Dense(11, activation='sigmoid'))\n",
    "\n",
    "modeld.compile(optimizer='adam', loss='binary_crossentropy', metrics=[Precision(), Recall(), AUC(), 'acc'])\n",
    "modeld.summary()"
   ]
  },
  {
   "cell_type": "code",
   "execution_count": 55,
   "id": "peaceful-modeling",
   "metadata": {
    "scrolled": true
   },
   "outputs": [
    {
     "name": "stderr",
     "output_type": "stream",
     "text": [
      "/home/ec2-user/anaconda3/envs/tensorflow2_p36/lib/python3.6/site-packages/tensorflow_core/python/framework/indexed_slices.py:433: UserWarning: Converting sparse IndexedSlices to a dense Tensor of unknown shape. This may consume a large amount of memory.\n",
      "  \"Converting sparse IndexedSlices to a dense Tensor of unknown shape. \"\n"
     ]
    },
    {
     "data": {
      "application/vnd.jupyter.widget-view+json": {
       "model_id": "5fdd0a0e026a441fb6224c5e27355a3a",
       "version_major": 2,
       "version_minor": 0
      },
      "text/plain": [
       "HBox(children=(FloatProgress(value=0.0, description='Training', max=40.0, style=ProgressStyle(description_widt…"
      ]
     },
     "metadata": {},
     "output_type": "display_data"
    },
    {
     "data": {
      "application/vnd.jupyter.widget-view+json": {
       "model_id": "e05a0da078534c2b9d53211da735ddad",
       "version_major": 2,
       "version_minor": 0
      },
      "text/plain": [
       "HBox(children=(FloatProgress(value=0.0, description='Epoch 0', max=684.0, style=ProgressStyle(description_widt…"
      ]
     },
     "metadata": {},
     "output_type": "display_data"
    },
    {
     "name": "stdout",
     "output_type": "stream",
     "text": [
      "\n"
     ]
    },
    {
     "data": {
      "application/vnd.jupyter.widget-view+json": {
       "model_id": "2e23f00cf4a94d0a8d3fa56427ad7719",
       "version_major": 2,
       "version_minor": 0
      },
      "text/plain": [
       "HBox(children=(FloatProgress(value=0.0, description='Epoch 1', max=684.0, style=ProgressStyle(description_widt…"
      ]
     },
     "metadata": {},
     "output_type": "display_data"
    },
    {
     "name": "stdout",
     "output_type": "stream",
     "text": [
      "\n"
     ]
    },
    {
     "data": {
      "application/vnd.jupyter.widget-view+json": {
       "model_id": "21e9e6a4358a41a0805b3427b5f0e2e6",
       "version_major": 2,
       "version_minor": 0
      },
      "text/plain": [
       "HBox(children=(FloatProgress(value=0.0, description='Epoch 2', max=684.0, style=ProgressStyle(description_widt…"
      ]
     },
     "metadata": {},
     "output_type": "display_data"
    },
    {
     "name": "stdout",
     "output_type": "stream",
     "text": [
      "\n"
     ]
    },
    {
     "data": {
      "application/vnd.jupyter.widget-view+json": {
       "model_id": "40acd3b69f0d4cbc8adadf5fba7b72a1",
       "version_major": 2,
       "version_minor": 0
      },
      "text/plain": [
       "HBox(children=(FloatProgress(value=0.0, description='Epoch 3', max=684.0, style=ProgressStyle(description_widt…"
      ]
     },
     "metadata": {},
     "output_type": "display_data"
    },
    {
     "name": "stdout",
     "output_type": "stream",
     "text": [
      "\n"
     ]
    },
    {
     "data": {
      "application/vnd.jupyter.widget-view+json": {
       "model_id": "13f1d99c0dd74fff863080a8c35f498d",
       "version_major": 2,
       "version_minor": 0
      },
      "text/plain": [
       "HBox(children=(FloatProgress(value=0.0, description='Epoch 4', max=684.0, style=ProgressStyle(description_widt…"
      ]
     },
     "metadata": {},
     "output_type": "display_data"
    },
    {
     "name": "stdout",
     "output_type": "stream",
     "text": [
      "\n"
     ]
    },
    {
     "data": {
      "application/vnd.jupyter.widget-view+json": {
       "model_id": "0bdac9c6a7bc4fb2a8adf4d3700ea0b5",
       "version_major": 2,
       "version_minor": 0
      },
      "text/plain": [
       "HBox(children=(FloatProgress(value=0.0, description='Epoch 5', max=684.0, style=ProgressStyle(description_widt…"
      ]
     },
     "metadata": {},
     "output_type": "display_data"
    },
    {
     "name": "stdout",
     "output_type": "stream",
     "text": [
      "\n"
     ]
    },
    {
     "data": {
      "application/vnd.jupyter.widget-view+json": {
       "model_id": "c446207420a543ebbece23e1dc43bb07",
       "version_major": 2,
       "version_minor": 0
      },
      "text/plain": [
       "HBox(children=(FloatProgress(value=0.0, description='Epoch 6', max=684.0, style=ProgressStyle(description_widt…"
      ]
     },
     "metadata": {},
     "output_type": "display_data"
    },
    {
     "name": "stdout",
     "output_type": "stream",
     "text": [
      "\n"
     ]
    },
    {
     "data": {
      "application/vnd.jupyter.widget-view+json": {
       "model_id": "963a8f69415f49f2b7716089d1fe26ab",
       "version_major": 2,
       "version_minor": 0
      },
      "text/plain": [
       "HBox(children=(FloatProgress(value=0.0, description='Epoch 7', max=684.0, style=ProgressStyle(description_widt…"
      ]
     },
     "metadata": {},
     "output_type": "display_data"
    },
    {
     "name": "stdout",
     "output_type": "stream",
     "text": [
      "\n"
     ]
    },
    {
     "data": {
      "application/vnd.jupyter.widget-view+json": {
       "model_id": "fae7c084776440b090bc2795aae5c46d",
       "version_major": 2,
       "version_minor": 0
      },
      "text/plain": [
       "HBox(children=(FloatProgress(value=0.0, description='Epoch 8', max=684.0, style=ProgressStyle(description_widt…"
      ]
     },
     "metadata": {},
     "output_type": "display_data"
    },
    {
     "name": "stdout",
     "output_type": "stream",
     "text": [
      "\n"
     ]
    },
    {
     "data": {
      "application/vnd.jupyter.widget-view+json": {
       "model_id": "ed4abeac10bf40c385fb022bf874a8d2",
       "version_major": 2,
       "version_minor": 0
      },
      "text/plain": [
       "HBox(children=(FloatProgress(value=0.0, description='Epoch 9', max=684.0, style=ProgressStyle(description_widt…"
      ]
     },
     "metadata": {},
     "output_type": "display_data"
    },
    {
     "name": "stdout",
     "output_type": "stream",
     "text": [
      "\n"
     ]
    },
    {
     "data": {
      "application/vnd.jupyter.widget-view+json": {
       "model_id": "3de235a09f1049618d909a259b0cbc25",
       "version_major": 2,
       "version_minor": 0
      },
      "text/plain": [
       "HBox(children=(FloatProgress(value=0.0, description='Epoch 10', max=684.0, style=ProgressStyle(description_wid…"
      ]
     },
     "metadata": {},
     "output_type": "display_data"
    },
    {
     "name": "stdout",
     "output_type": "stream",
     "text": [
      "\n"
     ]
    },
    {
     "data": {
      "application/vnd.jupyter.widget-view+json": {
       "model_id": "4d19c2a5076449c48093807e8fc7b2cd",
       "version_major": 2,
       "version_minor": 0
      },
      "text/plain": [
       "HBox(children=(FloatProgress(value=0.0, description='Epoch 11', max=684.0, style=ProgressStyle(description_wid…"
      ]
     },
     "metadata": {},
     "output_type": "display_data"
    },
    {
     "name": "stdout",
     "output_type": "stream",
     "text": [
      "\n"
     ]
    },
    {
     "data": {
      "application/vnd.jupyter.widget-view+json": {
       "model_id": "cb3f0b7de76c42cfa0597118ca0612a4",
       "version_major": 2,
       "version_minor": 0
      },
      "text/plain": [
       "HBox(children=(FloatProgress(value=0.0, description='Epoch 12', max=684.0, style=ProgressStyle(description_wid…"
      ]
     },
     "metadata": {},
     "output_type": "display_data"
    },
    {
     "name": "stdout",
     "output_type": "stream",
     "text": [
      "\n"
     ]
    },
    {
     "data": {
      "application/vnd.jupyter.widget-view+json": {
       "model_id": "bfeb4daf78af43dba79f1d3476f68a3e",
       "version_major": 2,
       "version_minor": 0
      },
      "text/plain": [
       "HBox(children=(FloatProgress(value=0.0, description='Epoch 13', max=684.0, style=ProgressStyle(description_wid…"
      ]
     },
     "metadata": {},
     "output_type": "display_data"
    },
    {
     "name": "stdout",
     "output_type": "stream",
     "text": [
      "\n"
     ]
    },
    {
     "data": {
      "application/vnd.jupyter.widget-view+json": {
       "model_id": "b7793207bc644ff9bb6583408f7fe210",
       "version_major": 2,
       "version_minor": 0
      },
      "text/plain": [
       "HBox(children=(FloatProgress(value=0.0, description='Epoch 14', max=684.0, style=ProgressStyle(description_wid…"
      ]
     },
     "metadata": {},
     "output_type": "display_data"
    },
    {
     "name": "stdout",
     "output_type": "stream",
     "text": [
      "\n"
     ]
    },
    {
     "data": {
      "application/vnd.jupyter.widget-view+json": {
       "model_id": "dcdcf63c50bb4a8e8e68ab67b73983ab",
       "version_major": 2,
       "version_minor": 0
      },
      "text/plain": [
       "HBox(children=(FloatProgress(value=0.0, description='Epoch 15', max=684.0, style=ProgressStyle(description_wid…"
      ]
     },
     "metadata": {},
     "output_type": "display_data"
    },
    {
     "name": "stdout",
     "output_type": "stream",
     "text": [
      "\n"
     ]
    },
    {
     "data": {
      "application/vnd.jupyter.widget-view+json": {
       "model_id": "3b88ab42146f4fc0a1b5bb13d5b6ab57",
       "version_major": 2,
       "version_minor": 0
      },
      "text/plain": [
       "HBox(children=(FloatProgress(value=0.0, description='Epoch 16', max=684.0, style=ProgressStyle(description_wid…"
      ]
     },
     "metadata": {},
     "output_type": "display_data"
    },
    {
     "name": "stdout",
     "output_type": "stream",
     "text": [
      "\n"
     ]
    },
    {
     "data": {
      "application/vnd.jupyter.widget-view+json": {
       "model_id": "d2464299f22d447281ff022264838773",
       "version_major": 2,
       "version_minor": 0
      },
      "text/plain": [
       "HBox(children=(FloatProgress(value=0.0, description='Epoch 17', max=684.0, style=ProgressStyle(description_wid…"
      ]
     },
     "metadata": {},
     "output_type": "display_data"
    },
    {
     "name": "stdout",
     "output_type": "stream",
     "text": [
      "\n"
     ]
    },
    {
     "data": {
      "application/vnd.jupyter.widget-view+json": {
       "model_id": "e23f3b9983d244408fe3c1cd671c8a4d",
       "version_major": 2,
       "version_minor": 0
      },
      "text/plain": [
       "HBox(children=(FloatProgress(value=0.0, description='Epoch 18', max=684.0, style=ProgressStyle(description_wid…"
      ]
     },
     "metadata": {},
     "output_type": "display_data"
    },
    {
     "name": "stdout",
     "output_type": "stream",
     "text": [
      "\n"
     ]
    },
    {
     "data": {
      "application/vnd.jupyter.widget-view+json": {
       "model_id": "b778cec342734b3691354f7561a7f9c5",
       "version_major": 2,
       "version_minor": 0
      },
      "text/plain": [
       "HBox(children=(FloatProgress(value=0.0, description='Epoch 19', max=684.0, style=ProgressStyle(description_wid…"
      ]
     },
     "metadata": {},
     "output_type": "display_data"
    },
    {
     "name": "stdout",
     "output_type": "stream",
     "text": [
      "\n"
     ]
    },
    {
     "data": {
      "application/vnd.jupyter.widget-view+json": {
       "model_id": "02e17b3d9d424f6597e085b0838795b9",
       "version_major": 2,
       "version_minor": 0
      },
      "text/plain": [
       "HBox(children=(FloatProgress(value=0.0, description='Epoch 20', max=684.0, style=ProgressStyle(description_wid…"
      ]
     },
     "metadata": {},
     "output_type": "display_data"
    },
    {
     "name": "stdout",
     "output_type": "stream",
     "text": [
      "\n"
     ]
    },
    {
     "data": {
      "application/vnd.jupyter.widget-view+json": {
       "model_id": "b8dbfdea66a644c9979c1d5902382435",
       "version_major": 2,
       "version_minor": 0
      },
      "text/plain": [
       "HBox(children=(FloatProgress(value=0.0, description='Epoch 21', max=684.0, style=ProgressStyle(description_wid…"
      ]
     },
     "metadata": {},
     "output_type": "display_data"
    },
    {
     "name": "stdout",
     "output_type": "stream",
     "text": [
      "\n"
     ]
    },
    {
     "data": {
      "application/vnd.jupyter.widget-view+json": {
       "model_id": "9d003cf3652a44c8b1e4924d1827a0f9",
       "version_major": 2,
       "version_minor": 0
      },
      "text/plain": [
       "HBox(children=(FloatProgress(value=0.0, description='Epoch 22', max=684.0, style=ProgressStyle(description_wid…"
      ]
     },
     "metadata": {},
     "output_type": "display_data"
    },
    {
     "name": "stdout",
     "output_type": "stream",
     "text": [
      "\n"
     ]
    },
    {
     "data": {
      "application/vnd.jupyter.widget-view+json": {
       "model_id": "55ce213d85494ae9b87f767b9919782c",
       "version_major": 2,
       "version_minor": 0
      },
      "text/plain": [
       "HBox(children=(FloatProgress(value=0.0, description='Epoch 23', max=684.0, style=ProgressStyle(description_wid…"
      ]
     },
     "metadata": {},
     "output_type": "display_data"
    },
    {
     "name": "stdout",
     "output_type": "stream",
     "text": [
      "\n"
     ]
    },
    {
     "data": {
      "application/vnd.jupyter.widget-view+json": {
       "model_id": "77db6b863bcb409ca5cd7156e162b582",
       "version_major": 2,
       "version_minor": 0
      },
      "text/plain": [
       "HBox(children=(FloatProgress(value=0.0, description='Epoch 24', max=684.0, style=ProgressStyle(description_wid…"
      ]
     },
     "metadata": {},
     "output_type": "display_data"
    },
    {
     "name": "stdout",
     "output_type": "stream",
     "text": [
      "\n"
     ]
    },
    {
     "data": {
      "application/vnd.jupyter.widget-view+json": {
       "model_id": "405feaca25ff446ba4b67a1fa0ebefd6",
       "version_major": 2,
       "version_minor": 0
      },
      "text/plain": [
       "HBox(children=(FloatProgress(value=0.0, description='Epoch 25', max=684.0, style=ProgressStyle(description_wid…"
      ]
     },
     "metadata": {},
     "output_type": "display_data"
    },
    {
     "name": "stdout",
     "output_type": "stream",
     "text": [
      "\n"
     ]
    },
    {
     "data": {
      "application/vnd.jupyter.widget-view+json": {
       "model_id": "585dcf95b11343568f5460a56f7ee174",
       "version_major": 2,
       "version_minor": 0
      },
      "text/plain": [
       "HBox(children=(FloatProgress(value=0.0, description='Epoch 26', max=684.0, style=ProgressStyle(description_wid…"
      ]
     },
     "metadata": {},
     "output_type": "display_data"
    },
    {
     "name": "stdout",
     "output_type": "stream",
     "text": [
      "\n",
      "\n"
     ]
    }
   ],
   "source": [
    "callbacks4 = [\n",
    "    ReduceLROnPlateau(), \n",
    "    TQDMNotebookCallback(leave_inner = True, leave_outer = True),\n",
    "    EarlyStopping(monitor='val_loss', patience=10), \n",
    "    ModelCheckpoint(filepath='../../modeld-conv1d1.h5', monitor='val_loss', save_best_only=True)\n",
    "]\n",
    "\n",
    "historyd = modeld.fit(X_train, y_train,\n",
    "                    class_weight=class_weight,\n",
    "                    epochs=40,\n",
    "                    batch_size=10,\n",
    "                    validation_split=0.2,\n",
    "                    callbacks=callbacks4,\n",
    "                   verbose=0)"
   ]
  },
  {
   "cell_type": "code",
   "execution_count": 56,
   "id": "immune-contest",
   "metadata": {},
   "outputs": [
    {
     "name": "stdout",
     "output_type": "stream",
     "text": [
      "286/286 [==============================] - 1s 5ms/step\n",
      "[0.5682461186722442, 0.4699331820011139, 0.29593268036842346, 0.689056396484375, 0.7647806406021118]\n",
      "Test Loss: 0.5682461186722442\n",
      "Test Accuracy: 0.7647806406021118\n"
     ]
    }
   ],
   "source": [
    "scored = modeld.evaluate(X_test, y_test, verbose=1)\n",
    "print(scored)\n",
    "print(\"Test Loss:\", scored[0])\n",
    "print(\"Test Accuracy:\", scored[-1])"
   ]
  },
  {
   "cell_type": "code",
   "execution_count": 57,
   "id": "monetary-saying",
   "metadata": {},
   "outputs": [],
   "source": [
    "y_pred = modeld.predict(X_test)"
   ]
  },
  {
   "cell_type": "code",
   "execution_count": 58,
   "id": "included-fleet",
   "metadata": {},
   "outputs": [],
   "source": [
    "y_preds = modeld.predict(X_test[:5])"
   ]
  },
  {
   "cell_type": "code",
   "execution_count": 59,
   "id": "endangered-springfield",
   "metadata": {},
   "outputs": [
    {
     "data": {
      "text/plain": [
       "array([[ True, False, False, False, False, False, False, False, False,\n",
       "        False, False],\n",
       "       [False, False,  True, False,  True, False, False, False,  True,\n",
       "        False, False],\n",
       "       [False, False,  True, False, False, False, False, False, False,\n",
       "        False, False],\n",
       "       [False, False, False, False,  True, False, False, False, False,\n",
       "        False,  True],\n",
       "       [False, False, False, False, False, False, False, False, False,\n",
       "        False,  True]])"
      ]
     },
     "execution_count": 59,
     "metadata": {},
     "output_type": "execute_result"
    }
   ],
   "source": [
    "(y_preds > 0.5)"
   ]
  },
  {
   "cell_type": "code",
   "execution_count": 60,
   "id": "demographic-mission",
   "metadata": {},
   "outputs": [
    {
     "name": "stdout",
     "output_type": "stream",
     "text": [
      "      Action  Adventure  Comedy  Crime  Drama  Fantasy  Horror  Mystery  \\\n",
      "1071       1          0       0      0      1        0       0        0   \n",
      "907        0          0       1      0      0        1       0        0   \n",
      "290        1          0       0      1      1        0       0        0   \n",
      "844        0          0       0      0      1        0       0        0   \n",
      "333        1          0       0      1      1        0       0        0   \n",
      "\n",
      "      Romance  Sci-Fi  Thriller  \n",
      "1071        0       0         0  \n",
      "907         0       0         0  \n",
      "290         0       0         1  \n",
      "844         0       0         0  \n",
      "333         0       0         1  \n"
     ]
    }
   ],
   "source": [
    "print(y_test[:5])"
   ]
  },
  {
   "cell_type": "code",
   "execution_count": 61,
   "id": "coral-concern",
   "metadata": {},
   "outputs": [
    {
     "data": {
      "image/png": "[encoded data removed]",
      "text/plain": [
       "<Figure size 432x288 with 1 Axes>"
      ]
     },
     "metadata": {
      "needs_background": "light"
     },
     "output_type": "display_data"
    },
    {
     "data": {
      "image/png": "[encoded data removed]",
      "text/plain": [
       "<Figure size 432x288 with 1 Axes>"
      ]
     },
     "metadata": {
      "needs_background": "light"
     },
     "output_type": "display_data"
    }
   ],
   "source": [
    "plt.plot(historyd.history['acc'])\n",
    "plt.plot(historyd.history['val_acc'])\n",
    "\n",
    "plt.title('model accuracy')\n",
    "plt.ylabel('accuracy')\n",
    "plt.xlabel('epoch')\n",
    "plt.legend(['train','test'], loc='upper left')\n",
    "plt.show()\n",
    "\n",
    "plt.plot(historyd.history['loss'])\n",
    "plt.plot(historyd.history['val_loss'])\n",
    "\n",
    "plt.title('model loss')\n",
    "plt.ylabel('loss')\n",
    "plt.xlabel('epoch')\n",
    "plt.legend(['train','test'], loc='upper left')\n",
    "plt.show()"
   ]
  },
  {
   "cell_type": "code",
   "execution_count": 88,
   "id": "higher-piece",
   "metadata": {},
   "outputs": [
    {
     "data": {
      "image/png": "[encoded data removed]",
      "text/plain": [
       "<IPython.core.display.Image object>"
      ]
     },
     "execution_count": 88,
     "metadata": {},
     "output_type": "execute_result"
    }
   ],
   "source": [
    "plot_model(modeld, to_file='../../modeld_plot.png', show_shapes=False, show_layer_names=True)"
   ]
  },
  {
   "cell_type": "code",
   "execution_count": 62,
   "id": "noted-probe",
   "metadata": {},
   "outputs": [],
   "source": [
    "def plot_roc(model,y_bin,X):\n",
    "    fpr = {}\n",
    "    tpr = {}\n",
    "    for i, cl in enumerate(model.classes_):\n",
    "        fpr[cl], tpr[cl], _ = metrics.roc_curve(y_bin[:,i],model.predict_proba(X)[:,i])\n",
    "    auc_scores = [round(metrics.roc_auc_score(y_bin[:,i],model.predict_proba(X)[:,i]),2) for i in range(len(model.classes_))]\n",
    "    for i, key in enumerate(fpr.keys()):\n",
    "        plt.plot(fpr[key],tpr[key],lw=2,label='class {}, ROC_AUC {}'.format(key,auc_scores[i]))\n",
    "    plt.plot([0,1],[0,1],ls='--',lw=2)\n",
    "    plt.ylim([0,1.05])\n",
    "    plt.legend(loc='lower right')\n",
    "    plt.title('ROC Curve',fontsize=20)\n",
    "    plt.xlabel('FPR',fontsize=18)\n",
    "    plt.ylabel('TPR',fontsize=18)\n",
    "    \n",
    "    plt.show()"
   ]
  },
  {
   "cell_type": "markdown",
   "id": "frozen-decision",
   "metadata": {},
   "source": [
    "## Model E - Conv"
   ]
  },
  {
   "cell_type": "code",
   "execution_count": 64,
   "id": "wrapped-austria",
   "metadata": {},
   "outputs": [
    {
     "name": "stdout",
     "output_type": "stream",
     "text": [
      "Model: \"sequential_5\"\n",
      "_________________________________________________________________\n",
      "Layer (type)                 Output Shape              Param #   \n",
      "=================================================================\n",
      "embedding_5 (Embedding)      (None, 200, 32)           2874560   \n",
      "_________________________________________________________________\n",
      "separable_conv1d_1 (Separabl (None, 198, 128)          4320      \n",
      "_________________________________________________________________\n",
      "max_pooling1d_1 (MaxPooling1 (None, 66, 128)           0         \n",
      "_________________________________________________________________\n",
      "separable_conv1d_2 (Separabl (None, 64, 128)           16896     \n",
      "_________________________________________________________________\n",
      "max_pooling1d_2 (MaxPooling1 (None, 21, 128)           0         \n",
      "_________________________________________________________________\n",
      "separable_conv1d_3 (Separabl (None, 19, 128)           16896     \n",
      "_________________________________________________________________\n",
      "global_max_pooling1d_3 (Glob (None, 128)               0         \n",
      "_________________________________________________________________\n",
      "dense_9 (Dense)              (None, 11)                1419      \n",
      "=================================================================\n",
      "Total params: 2,914,091\n",
      "Trainable params: 39,531\n",
      "Non-trainable params: 2,874,560\n",
      "_________________________________________________________________\n"
     ]
    }
   ],
   "source": [
    "modele = Sequential()\n",
    "\n",
    "\n",
    "modele.add(Embedding(vocab_size, 32, input_length=maxlen, trainable = False))\n",
    "\n",
    "modele.add(SeparableConv1D(128,3,activation='relu'))\n",
    "modele.add(MaxPooling1D(3))\n",
    "\n",
    "modele.add(SeparableConv1D(128,3,activation='relu'))\n",
    "modele.add(MaxPooling1D(3))\n",
    "\n",
    "modele.add(SeparableConv1D(128,3,activation='relu'))\n",
    "modele.add(GlobalMaxPooling1D())\n",
    "\n",
    "modele.add(Dense(11,activation='sigmoid'))\n",
    "\n",
    "modele.compile(loss='binary_crossentropy',\n",
    "             optimizer='adam',\n",
    "             metrics=[Precision(), Recall(), AUC(), 'acc'])\n",
    "\n",
    "\n",
    "modele.summary()"
   ]
  },
  {
   "cell_type": "code",
   "execution_count": 66,
   "id": "ecological-relief",
   "metadata": {},
   "outputs": [
    {
     "data": {
      "application/vnd.jupyter.widget-view+json": {
       "model_id": "21ceb7efcd75432ebca0770c55ab8355",
       "version_major": 2,
       "version_minor": 0
      },
      "text/plain": [
       "HBox(children=(FloatProgress(value=0.0, description='Training', max=40.0, style=ProgressStyle(description_widt…"
      ]
     },
     "metadata": {},
     "output_type": "display_data"
    },
    {
     "data": {
      "application/vnd.jupyter.widget-view+json": {
       "model_id": "a1287844900b43999bf7423f25783921",
       "version_major": 2,
       "version_minor": 0
      },
      "text/plain": [
       "HBox(children=(FloatProgress(value=0.0, description='Epoch 0', max=684.0, style=ProgressStyle(description_widt…"
      ]
     },
     "metadata": {},
     "output_type": "display_data"
    },
    {
     "name": "stdout",
     "output_type": "stream",
     "text": [
      "\n"
     ]
    },
    {
     "data": {
      "application/vnd.jupyter.widget-view+json": {
       "model_id": "5f6689030053499d8cae188d9cf570c6",
       "version_major": 2,
       "version_minor": 0
      },
      "text/plain": [
       "HBox(children=(FloatProgress(value=0.0, description='Epoch 1', max=684.0, style=ProgressStyle(description_widt…"
      ]
     },
     "metadata": {},
     "output_type": "display_data"
    },
    {
     "name": "stdout",
     "output_type": "stream",
     "text": [
      "\n"
     ]
    },
    {
     "data": {
      "application/vnd.jupyter.widget-view+json": {
       "model_id": "155a6eadc2c3459f9502cb93b50754de",
       "version_major": 2,
       "version_minor": 0
      },
      "text/plain": [
       "HBox(children=(FloatProgress(value=0.0, description='Epoch 2', max=684.0, style=ProgressStyle(description_widt…"
      ]
     },
     "metadata": {},
     "output_type": "display_data"
    },
    {
     "name": "stdout",
     "output_type": "stream",
     "text": [
      "\n"
     ]
    },
    {
     "data": {
      "application/vnd.jupyter.widget-view+json": {
       "model_id": "3871e6b169c043df8d84003a13cd5b5d",
       "version_major": 2,
       "version_minor": 0
      },
      "text/plain": [
       "HBox(children=(FloatProgress(value=0.0, description='Epoch 3', max=684.0, style=ProgressStyle(description_widt…"
      ]
     },
     "metadata": {},
     "output_type": "display_data"
    },
    {
     "name": "stdout",
     "output_type": "stream",
     "text": [
      "\n"
     ]
    },
    {
     "data": {
      "application/vnd.jupyter.widget-view+json": {
       "model_id": "2d4940e2a3d941eb8e448054864d781e",
       "version_major": 2,
       "version_minor": 0
      },
      "text/plain": [
       "HBox(children=(FloatProgress(value=0.0, description='Epoch 4', max=684.0, style=ProgressStyle(description_widt…"
      ]
     },
     "metadata": {},
     "output_type": "display_data"
    },
    {
     "name": "stdout",
     "output_type": "stream",
     "text": [
      "\n"
     ]
    },
    {
     "data": {
      "application/vnd.jupyter.widget-view+json": {
       "model_id": "de4dcab0e84b4df1a8de5d4b28c8cf38",
       "version_major": 2,
       "version_minor": 0
      },
      "text/plain": [
       "HBox(children=(FloatProgress(value=0.0, description='Epoch 5', max=684.0, style=ProgressStyle(description_widt…"
      ]
     },
     "metadata": {},
     "output_type": "display_data"
    },
    {
     "name": "stdout",
     "output_type": "stream",
     "text": [
      "\n"
     ]
    },
    {
     "data": {
      "application/vnd.jupyter.widget-view+json": {
       "model_id": "97d4b0e50a8f4cf7adbbed72acacba77",
       "version_major": 2,
       "version_minor": 0
      },
      "text/plain": [
       "HBox(children=(FloatProgress(value=0.0, description='Epoch 6', max=684.0, style=ProgressStyle(description_widt…"
      ]
     },
     "metadata": {},
     "output_type": "display_data"
    },
    {
     "name": "stdout",
     "output_type": "stream",
     "text": [
      "\n"
     ]
    },
    {
     "data": {
      "application/vnd.jupyter.widget-view+json": {
       "model_id": "dfdc2b5f63d447ee9b8a282d8e303bda",
       "version_major": 2,
       "version_minor": 0
      },
      "text/plain": [
       "HBox(children=(FloatProgress(value=0.0, description='Epoch 7', max=684.0, style=ProgressStyle(description_widt…"
      ]
     },
     "metadata": {},
     "output_type": "display_data"
    },
    {
     "name": "stdout",
     "output_type": "stream",
     "text": [
      "\n"
     ]
    },
    {
     "data": {
      "application/vnd.jupyter.widget-view+json": {
       "model_id": "d018be6586874da8ac0221445c613e84",
       "version_major": 2,
       "version_minor": 0
      },
      "text/plain": [
       "HBox(children=(FloatProgress(value=0.0, description='Epoch 8', max=684.0, style=ProgressStyle(description_widt…"
      ]
     },
     "metadata": {},
     "output_type": "display_data"
    },
    {
     "name": "stdout",
     "output_type": "stream",
     "text": [
      "\n"
     ]
    },
    {
     "data": {
      "application/vnd.jupyter.widget-view+json": {
       "model_id": "06a129d6b1e64d93bf5017df33833e84",
       "version_major": 2,
       "version_minor": 0
      },
      "text/plain": [
       "HBox(children=(FloatProgress(value=0.0, description='Epoch 9', max=684.0, style=ProgressStyle(description_widt…"
      ]
     },
     "metadata": {},
     "output_type": "display_data"
    },
    {
     "name": "stdout",
     "output_type": "stream",
     "text": [
      "\n"
     ]
    },
    {
     "data": {
      "application/vnd.jupyter.widget-view+json": {
       "model_id": "77500a66d97f43cd8c75d0da562a9a87",
       "version_major": 2,
       "version_minor": 0
      },
      "text/plain": [
       "HBox(children=(FloatProgress(value=0.0, description='Epoch 10', max=684.0, style=ProgressStyle(description_wid…"
      ]
     },
     "metadata": {},
     "output_type": "display_data"
    },
    {
     "name": "stdout",
     "output_type": "stream",
     "text": [
      "\n"
     ]
    },
    {
     "data": {
      "application/vnd.jupyter.widget-view+json": {
       "model_id": "357e7c77adce41e2a9a5a9c43892a624",
       "version_major": 2,
       "version_minor": 0
      },
      "text/plain": [
       "HBox(children=(FloatProgress(value=0.0, description='Epoch 11', max=684.0, style=ProgressStyle(description_wid…"
      ]
     },
     "metadata": {},
     "output_type": "display_data"
    },
    {
     "name": "stdout",
     "output_type": "stream",
     "text": [
      "\n"
     ]
    },
    {
     "data": {
      "application/vnd.jupyter.widget-view+json": {
       "model_id": "b02265f96017494fb9c10f02eaad1959",
       "version_major": 2,
       "version_minor": 0
      },
      "text/plain": [
       "HBox(children=(FloatProgress(value=0.0, description='Epoch 12', max=684.0, style=ProgressStyle(description_wid…"
      ]
     },
     "metadata": {},
     "output_type": "display_data"
    },
    {
     "name": "stdout",
     "output_type": "stream",
     "text": [
      "\n"
     ]
    },
    {
     "data": {
      "application/vnd.jupyter.widget-view+json": {
       "model_id": "1c7eb244f842401dbe1441937ef2f3c4",
       "version_major": 2,
       "version_minor": 0
      },
      "text/plain": [
       "HBox(children=(FloatProgress(value=0.0, description='Epoch 13', max=684.0, style=ProgressStyle(description_wid…"
      ]
     },
     "metadata": {},
     "output_type": "display_data"
    },
    {
     "name": "stdout",
     "output_type": "stream",
     "text": [
      "\n"
     ]
    },
    {
     "data": {
      "application/vnd.jupyter.widget-view+json": {
       "model_id": "928a5438d15e4333988077986ab593f7",
       "version_major": 2,
       "version_minor": 0
      },
      "text/plain": [
       "HBox(children=(FloatProgress(value=0.0, description='Epoch 14', max=684.0, style=ProgressStyle(description_wid…"
      ]
     },
     "metadata": {},
     "output_type": "display_data"
    },
    {
     "name": "stdout",
     "output_type": "stream",
     "text": [
      "\n",
      "\n"
     ]
    }
   ],
   "source": [
    "callbacks5 = [\n",
    "    ReduceLROnPlateau(), \n",
    "    TQDMNotebookCallback(leave_inner = True, leave_outer = True),\n",
    "    EarlyStopping(monitor='val_loss', patience=10), \n",
    "    ModelCheckpoint(filepath='../../modele-conv1d1.h5', monitor='val_loss', save_best_only=True)\n",
    "]\n",
    "\n",
    "historye = modele.fit(X_train, y_train,\n",
    "                    class_weight=class_weight,\n",
    "                    epochs=40,\n",
    "                    batch_size=10,\n",
    "                    validation_split=0.2,\n",
    "                    callbacks=callbacks5,\n",
    "                   verbose=0)"
   ]
  },
  {
   "cell_type": "code",
   "execution_count": 67,
   "id": "chronic-officer",
   "metadata": {},
   "outputs": [
    {
     "name": "stdout",
     "output_type": "stream",
     "text": [
      "286/286 [==============================] - 0s 373us/step\n",
      "[0.498530600246016, 0.0, 0.0, 0.6802641749382019, 0.7733629941940308]\n",
      "Test Loss: 0.498530600246016\n",
      "Test Accuracy: 0.7733629941940308\n"
     ]
    }
   ],
   "source": [
    "score = modele.evaluate(X_test, y_test, verbose=1)\n",
    "print(score)\n",
    "print(\"Test Loss:\", score[0])\n",
    "print(\"Test Accuracy:\", score[-1])"
   ]
  },
  {
   "cell_type": "code",
   "execution_count": 68,
   "id": "diverse-story",
   "metadata": {},
   "outputs": [],
   "source": [
    "y_pred = modele.predict(X_test)"
   ]
  },
  {
   "cell_type": "code",
   "execution_count": 69,
   "id": "vital-circular",
   "metadata": {},
   "outputs": [
    {
     "data": {
      "image/png": "[encoded data removed]",
      "text/plain": [
       "<Figure size 432x288 with 1 Axes>"
      ]
     },
     "metadata": {
      "needs_background": "light"
     },
     "output_type": "display_data"
    },
    {
     "data": {
      "image/png": "[encoded data removed]",
      "text/plain": [
       "<Figure size 432x288 with 1 Axes>"
      ]
     },
     "metadata": {
      "needs_background": "light"
     },
     "output_type": "display_data"
    }
   ],
   "source": [
    "plt.plot(historye.history['acc'])\n",
    "plt.plot(historye.history['val_acc'])\n",
    "\n",
    "plt.title('model accuracy')\n",
    "plt.ylabel('accuracy')\n",
    "plt.xlabel('epoch')\n",
    "plt.legend(['train','test'], loc='upper left')\n",
    "plt.show()\n",
    "\n",
    "plt.plot(historye.history['loss'])\n",
    "plt.plot(historye.history['val_loss'])\n",
    "\n",
    "plt.title('model loss')\n",
    "plt.ylabel('loss')\n",
    "plt.xlabel('epoch')\n",
    "plt.legend(['train','test'], loc='upper left')\n",
    "plt.show()"
   ]
  },
  {
   "cell_type": "code",
   "execution_count": null,
   "id": "dominant-pioneer",
   "metadata": {},
   "outputs": [],
   "source": []
  }
 ],
 "metadata": {
  "kernelspec": {
   "display_name": "conda_tensorflow2_p36",
   "language": "python",
   "name": "conda_tensorflow2_p36"
  },
  "language_info": {
   "codemirror_mode": {
    "name": "ipython",
    "version": 3
   },
   "file_extension": ".py",
   "mimetype": "text/x-python",
   "name": "python",
   "nbconvert_exporter": "python",
   "pygments_lexer": "ipython3",
   "version": "3.6.10"
  }
 },
 "nbformat": 4,
 "nbformat_minor": 5
}
