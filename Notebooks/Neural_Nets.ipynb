{
 "cells": [
  {
   "cell_type": "code",
   "execution_count": 1,
   "id": "indie-puzzle",
   "metadata": {},
   "outputs": [
    {
     "name": "stdout",
     "output_type": "stream",
     "text": [
      "Requirement already satisfied: pip in /home/ec2-user/anaconda3/envs/tensorflow2_p36/lib/python3.6/site-packages (20.3.3)\n",
      "Collecting pip\n",
      "  Using cached pip-21.0.1-py3-none-any.whl (1.5 MB)\n",
      "Installing collected packages: pip\n",
      "  Attempting uninstall: pip\n",
      "    Found existing installation: pip 20.3.3\n",
      "    Uninstalling pip-20.3.3:\n",
      "      Successfully uninstalled pip-20.3.3\n",
      "Successfully installed pip-21.0.1\n",
      "Collecting wordcloud\n",
      "  Downloading wordcloud-1.8.1-cp36-cp36m-manylinux1_x86_64.whl (366 kB)\n",
      "\u001b[K     |████████████████████████████████| 366 kB 6.3 MB/s eta 0:00:01\n",
      "\u001b[?25hRequirement already satisfied: numpy>=1.6.1 in /home/ec2-user/anaconda3/envs/tensorflow2_p36/lib/python3.6/site-packages (from wordcloud) (1.18.5)\n",
      "Requirement already satisfied: matplotlib in /home/ec2-user/anaconda3/envs/tensorflow2_p36/lib/python3.6/site-packages (from wordcloud) (3.1.3)\n",
      "Requirement already satisfied: pillow in /home/ec2-user/anaconda3/envs/tensorflow2_p36/lib/python3.6/site-packages (from wordcloud) (7.0.0)\n",
      "Requirement already satisfied: kiwisolver>=1.0.1 in /home/ec2-user/anaconda3/envs/tensorflow2_p36/lib/python3.6/site-packages (from matplotlib->wordcloud) (1.1.0)\n",
      "Requirement already satisfied: cycler>=0.10 in /home/ec2-user/anaconda3/envs/tensorflow2_p36/lib/python3.6/site-packages (from matplotlib->wordcloud) (0.10.0)\n",
      "Requirement already satisfied: python-dateutil>=2.1 in /home/ec2-user/anaconda3/envs/tensorflow2_p36/lib/python3.6/site-packages (from matplotlib->wordcloud) (2.8.1)\n",
      "Requirement already satisfied: pyparsing!=2.0.4,!=2.1.2,!=2.1.6,>=2.0.1 in /home/ec2-user/anaconda3/envs/tensorflow2_p36/lib/python3.6/site-packages (from matplotlib->wordcloud) (2.4.7)\n",
      "Requirement already satisfied: six in /home/ec2-user/anaconda3/envs/tensorflow2_p36/lib/python3.6/site-packages (from cycler>=0.10->matplotlib->wordcloud) (1.15.0)\n",
      "Requirement already satisfied: setuptools in /home/ec2-user/anaconda3/envs/tensorflow2_p36/lib/python3.6/site-packages (from kiwisolver>=1.0.1->matplotlib->wordcloud) (45.2.0.post20200210)\n",
      "Installing collected packages: wordcloud\n",
      "Successfully installed wordcloud-1.8.1\n",
      "Collecting neattext\n",
      "  Downloading neattext-0.1.0-py3-none-any.whl (112 kB)\n",
      "\u001b[K     |████████████████████████████████| 112 kB 6.1 MB/s eta 0:00:01\n",
      "\u001b[?25hInstalling collected packages: neattext\n",
      "Successfully installed neattext-0.1.0\n",
      "Collecting imblearn\n",
      "  Downloading imblearn-0.0-py2.py3-none-any.whl (1.9 kB)\n",
      "Collecting imbalanced-learn\n",
      "  Downloading imbalanced_learn-0.7.0-py3-none-any.whl (167 kB)\n",
      "\u001b[K     |████████████████████████████████| 167 kB 6.1 MB/s eta 0:00:01\n",
      "\u001b[?25hRequirement already satisfied: joblib>=0.11 in /home/ec2-user/anaconda3/envs/tensorflow2_p36/lib/python3.6/site-packages (from imbalanced-learn->imblearn) (0.14.1)\n",
      "Collecting scikit-learn>=0.23\n",
      "  Downloading scikit_learn-0.24.1-cp36-cp36m-manylinux2010_x86_64.whl (22.2 MB)\n",
      "\u001b[K     |████████████████████████████████| 22.2 MB 5.3 MB/s eta 0:00:01\n",
      "\u001b[?25hRequirement already satisfied: numpy>=1.13.3 in /home/ec2-user/anaconda3/envs/tensorflow2_p36/lib/python3.6/site-packages (from imbalanced-learn->imblearn) (1.18.5)\n",
      "Requirement already satisfied: scipy>=0.19.1 in /home/ec2-user/anaconda3/envs/tensorflow2_p36/lib/python3.6/site-packages (from imbalanced-learn->imblearn) (1.4.1)\n",
      "Collecting threadpoolctl>=2.0.0\n",
      "  Downloading threadpoolctl-2.1.0-py3-none-any.whl (12 kB)\n",
      "Installing collected packages: threadpoolctl, scikit-learn, imbalanced-learn, imblearn\n",
      "  Attempting uninstall: scikit-learn\n",
      "    Found existing installation: scikit-learn 0.22.1\n",
      "    Uninstalling scikit-learn-0.22.1:\n",
      "      Successfully uninstalled scikit-learn-0.22.1\n",
      "Successfully installed imbalanced-learn-0.7.0 imblearn-0.0 scikit-learn-0.24.1 threadpoolctl-2.1.0\n",
      "Collecting mglearn\n",
      "  Downloading mglearn-0.1.9.tar.gz (540 kB)\n",
      "\u001b[K     |████████████████████████████████| 540 kB 6.2 MB/s eta 0:00:01\n",
      "\u001b[?25hRequirement already satisfied: numpy in /home/ec2-user/anaconda3/envs/tensorflow2_p36/lib/python3.6/site-packages (from mglearn) (1.18.5)\n",
      "Requirement already satisfied: matplotlib in /home/ec2-user/anaconda3/envs/tensorflow2_p36/lib/python3.6/site-packages (from mglearn) (3.1.3)\n",
      "Requirement already satisfied: scikit-learn in /home/ec2-user/anaconda3/envs/tensorflow2_p36/lib/python3.6/site-packages (from mglearn) (0.24.1)\n",
      "Requirement already satisfied: pandas in /home/ec2-user/anaconda3/envs/tensorflow2_p36/lib/python3.6/site-packages (from mglearn) (1.0.1)\n",
      "Requirement already satisfied: pillow in /home/ec2-user/anaconda3/envs/tensorflow2_p36/lib/python3.6/site-packages (from mglearn) (7.0.0)\n",
      "Requirement already satisfied: cycler in /home/ec2-user/anaconda3/envs/tensorflow2_p36/lib/python3.6/site-packages (from mglearn) (0.10.0)\n",
      "Requirement already satisfied: imageio in /home/ec2-user/anaconda3/envs/tensorflow2_p36/lib/python3.6/site-packages (from mglearn) (2.6.1)\n",
      "Requirement already satisfied: joblib in /home/ec2-user/anaconda3/envs/tensorflow2_p36/lib/python3.6/site-packages (from mglearn) (0.14.1)\n",
      "Requirement already satisfied: six in /home/ec2-user/anaconda3/envs/tensorflow2_p36/lib/python3.6/site-packages (from cycler->mglearn) (1.15.0)\n",
      "Requirement already satisfied: python-dateutil>=2.1 in /home/ec2-user/anaconda3/envs/tensorflow2_p36/lib/python3.6/site-packages (from matplotlib->mglearn) (2.8.1)\n",
      "Requirement already satisfied: pyparsing!=2.0.4,!=2.1.2,!=2.1.6,>=2.0.1 in /home/ec2-user/anaconda3/envs/tensorflow2_p36/lib/python3.6/site-packages (from matplotlib->mglearn) (2.4.7)\n",
      "Requirement already satisfied: kiwisolver>=1.0.1 in /home/ec2-user/anaconda3/envs/tensorflow2_p36/lib/python3.6/site-packages (from matplotlib->mglearn) (1.1.0)\n",
      "Requirement already satisfied: setuptools in /home/ec2-user/anaconda3/envs/tensorflow2_p36/lib/python3.6/site-packages (from kiwisolver>=1.0.1->matplotlib->mglearn) (45.2.0.post20200210)\n",
      "Requirement already satisfied: pytz>=2017.2 in /home/ec2-user/anaconda3/envs/tensorflow2_p36/lib/python3.6/site-packages (from pandas->mglearn) (2019.3)\n",
      "Requirement already satisfied: threadpoolctl>=2.0.0 in /home/ec2-user/anaconda3/envs/tensorflow2_p36/lib/python3.6/site-packages (from scikit-learn->mglearn) (2.1.0)\n",
      "Requirement already satisfied: scipy>=0.19.1 in /home/ec2-user/anaconda3/envs/tensorflow2_p36/lib/python3.6/site-packages (from scikit-learn->mglearn) (1.4.1)\n",
      "Building wheels for collected packages: mglearn\n",
      "  Building wheel for mglearn (setup.py) ... \u001b[?25ldone\n",
      "\u001b[?25h  Created wheel for mglearn: filename=mglearn-0.1.9-py2.py3-none-any.whl size=582638 sha256=ab21dae1a7bef2e330c8626751c084cf2307bfb415f53dd84491ba586ed2d05b\n",
      "  Stored in directory: /home/ec2-user/.cache/pip/wheels/d6/a5/f5/78d1aacafab120a99614ca8c044d485691a11bbc1e99c3c1a3\n",
      "Successfully built mglearn\n",
      "Installing collected packages: mglearn\n",
      "Successfully installed mglearn-0.1.9\n",
      "Collecting scikit-plot\n",
      "  Downloading scikit_plot-0.3.7-py3-none-any.whl (33 kB)\n",
      "Requirement already satisfied: matplotlib>=1.4.0 in /home/ec2-user/anaconda3/envs/tensorflow2_p36/lib/python3.6/site-packages (from scikit-plot) (3.1.3)\n",
      "Requirement already satisfied: joblib>=0.10 in /home/ec2-user/anaconda3/envs/tensorflow2_p36/lib/python3.6/site-packages (from scikit-plot) (0.14.1)\n",
      "Requirement already satisfied: scikit-learn>=0.18 in /home/ec2-user/anaconda3/envs/tensorflow2_p36/lib/python3.6/site-packages (from scikit-plot) (0.24.1)\n",
      "Requirement already satisfied: scipy>=0.9 in /home/ec2-user/anaconda3/envs/tensorflow2_p36/lib/python3.6/site-packages (from scikit-plot) (1.4.1)\n",
      "Requirement already satisfied: pyparsing!=2.0.4,!=2.1.2,!=2.1.6,>=2.0.1 in /home/ec2-user/anaconda3/envs/tensorflow2_p36/lib/python3.6/site-packages (from matplotlib>=1.4.0->scikit-plot) (2.4.7)\n",
      "Requirement already satisfied: python-dateutil>=2.1 in /home/ec2-user/anaconda3/envs/tensorflow2_p36/lib/python3.6/site-packages (from matplotlib>=1.4.0->scikit-plot) (2.8.1)\n",
      "Requirement already satisfied: numpy>=1.11 in /home/ec2-user/anaconda3/envs/tensorflow2_p36/lib/python3.6/site-packages (from matplotlib>=1.4.0->scikit-plot) (1.18.5)\n",
      "Requirement already satisfied: kiwisolver>=1.0.1 in /home/ec2-user/anaconda3/envs/tensorflow2_p36/lib/python3.6/site-packages (from matplotlib>=1.4.0->scikit-plot) (1.1.0)\n",
      "Requirement already satisfied: cycler>=0.10 in /home/ec2-user/anaconda3/envs/tensorflow2_p36/lib/python3.6/site-packages (from matplotlib>=1.4.0->scikit-plot) (0.10.0)\n",
      "Requirement already satisfied: six in /home/ec2-user/anaconda3/envs/tensorflow2_p36/lib/python3.6/site-packages (from cycler>=0.10->matplotlib>=1.4.0->scikit-plot) (1.15.0)\n",
      "Requirement already satisfied: setuptools in /home/ec2-user/anaconda3/envs/tensorflow2_p36/lib/python3.6/site-packages (from kiwisolver>=1.0.1->matplotlib>=1.4.0->scikit-plot) (45.2.0.post20200210)\n",
      "Requirement already satisfied: threadpoolctl>=2.0.0 in /home/ec2-user/anaconda3/envs/tensorflow2_p36/lib/python3.6/site-packages (from scikit-learn>=0.18->scikit-plot) (2.1.0)\n",
      "Installing collected packages: scikit-plot\n",
      "Successfully installed scikit-plot-0.3.7\n",
      "Collecting keras-tqdm\n",
      "  Downloading keras_tqdm-2.0.1-py2.py3-none-any.whl (7.1 kB)\n",
      "Requirement already satisfied: tqdm in /home/ec2-user/anaconda3/envs/tensorflow2_p36/lib/python3.6/site-packages (from keras-tqdm) (4.42.1)\n",
      "Requirement already satisfied: Keras in /home/ec2-user/anaconda3/envs/tensorflow2_p36/lib/python3.6/site-packages (from keras-tqdm) (2.3.0)\n",
      "Requirement already satisfied: numpy>=1.9.1 in /home/ec2-user/anaconda3/envs/tensorflow2_p36/lib/python3.6/site-packages (from Keras->keras-tqdm) (1.18.5)\n",
      "Requirement already satisfied: scipy>=0.14 in /home/ec2-user/anaconda3/envs/tensorflow2_p36/lib/python3.6/site-packages (from Keras->keras-tqdm) (1.4.1)\n",
      "Requirement already satisfied: six>=1.9.0 in /home/ec2-user/anaconda3/envs/tensorflow2_p36/lib/python3.6/site-packages (from Keras->keras-tqdm) (1.15.0)\n",
      "Requirement already satisfied: pyyaml in /home/ec2-user/anaconda3/envs/tensorflow2_p36/lib/python3.6/site-packages (from Keras->keras-tqdm) (5.3.1)\n",
      "Requirement already satisfied: keras-preprocessing>=1.0.5 in /home/ec2-user/anaconda3/envs/tensorflow2_p36/lib/python3.6/site-packages (from Keras->keras-tqdm) (1.1.0)\n",
      "Requirement already satisfied: keras-applications>=1.0.6 in /home/ec2-user/anaconda3/envs/tensorflow2_p36/lib/python3.6/site-packages (from Keras->keras-tqdm) (1.0.8)\n",
      "Requirement already satisfied: h5py in /home/ec2-user/anaconda3/envs/tensorflow2_p36/lib/python3.6/site-packages (from Keras->keras-tqdm) (2.10.0)\n",
      "Installing collected packages: keras-tqdm\n",
      "Successfully installed keras-tqdm-2.0.1\n"
     ]
    }
   ],
   "source": [
    "!pip install --upgrade pip\n",
    "\n",
    "!pip install wordcloud\n",
    "\n",
    "!pip install neattext\n",
    "\n",
    "!pip install imblearn\n",
    "\n",
    "!pip install mglearn\n",
    "\n",
    "!pip install scikit-plot\n",
    "\n",
    "!pip install keras-tqdm"
   ]
  },
  {
   "cell_type": "code",
   "execution_count": 2,
   "id": "drawn-lithuania",
   "metadata": {},
   "outputs": [
    {
     "name": "stderr",
     "output_type": "stream",
     "text": [
      "[nltk_data] Downloading package stopwords to\n",
      "[nltk_data]     /home/ec2-user/nltk_data...\n",
      "[nltk_data]   Unzipping corpora/stopwords.zip.\n",
      "[nltk_data] Downloading package punkt to /home/ec2-user/nltk_data...\n",
      "[nltk_data]   Unzipping tokenizers/punkt.zip.\n",
      "[nltk_data] Downloading package wordnet to /home/ec2-user/nltk_data...\n",
      "[nltk_data]   Unzipping corpora/wordnet.zip.\n"
     ]
    },
    {
     "data": {
      "text/plain": [
       "True"
      ]
     },
     "execution_count": 2,
     "metadata": {},
     "output_type": "execute_result"
    }
   ],
   "source": [
    "import boto3\n",
    "import re\n",
    "import string\n",
    "import math\n",
    "\n",
    "import pandas as pd\n",
    "import numpy as np\n",
    "import seaborn as sns\n",
    "import matplotlib.pyplot as plt\n",
    "from matplotlib import cm\n",
    "get_ipython().magic('matplotlib inline')\n",
    "\n",
    "from sklearn import metrics\n",
    "from sklearn.metrics import accuracy_score, f1_score, multilabel_confusion_matrix\n",
    "from sklearn.metrics import classification_report, roc_curve, roc_auc_score\n",
    "from sklearn.metrics import confusion_matrix, ConfusionMatrixDisplay \n",
    "from sklearn.metrics import plot_precision_recall_curve, plot_roc_curve\n",
    "\n",
    "from sklearn.naive_bayes import MultinomialNB\n",
    "from sklearn.model_selection import train_test_split\n",
    "from sklearn.ensemble import RandomForestClassifier\n",
    "from sklearn.feature_extraction.text import CountVectorizer, TfidfVectorizer, TfidfTransformer\n",
    "from sklearn.decomposition import LatentDirichletAllocation \n",
    "\n",
    "import neattext as nt\n",
    "import neattext.functions as nfx\n",
    "from wordcloud import WordCloud, STOPWORDS, tokenization\n",
    "\n",
    "import nltk\n",
    "from nltk.probability import FreqDist\n",
    "from nltk.corpus import stopwords\n",
    "from nltk.stem import PorterStemmer, WordNetLemmatizer \n",
    "from nltk.stem.snowball import SnowballStemmer\n",
    "from nltk.tokenize import RegexpTokenizer\n",
    "\n",
    "pd.set_option(\"display.max_rows\", 50, \"display.max_columns\", 50, \"display.max_colwidth\", 100)\n",
    "\n",
    "nltk.download('stopwords')\n",
    "nltk.download('punkt')\n",
    "nltk.download('wordnet')"
   ]
  },
  {
   "cell_type": "code",
   "execution_count": 3,
   "id": "instant-trace",
   "metadata": {},
   "outputs": [
    {
     "name": "stderr",
     "output_type": "stream",
     "text": [
      "Using TensorFlow backend.\n"
     ]
    }
   ],
   "source": [
    "from numpy import array\n",
    "from keras.preprocessing.text import one_hot\n",
    "from keras.preprocessing.sequence import pad_sequences\n",
    "from keras.models import Sequential\n",
    "from keras.layers.core import Activation, Dropout, Dense\n",
    "from keras.layers import Flatten, LSTM\n",
    "from keras.layers import GlobalMaxPooling1D, GRU, SeparableConv2D\n",
    "from keras.models import Model\n",
    "from keras.layers.embeddings import Embedding\n",
    "from sklearn.model_selection import train_test_split\n",
    "from keras.preprocessing.text import Tokenizer\n",
    "from keras.layers import Input\n",
    "from keras.layers.merge import Concatenate\n",
    "from keras.metrics import Accuracy, Precision, Recall, AUC"
   ]
  },
  {
   "cell_type": "code",
   "execution_count": 4,
   "id": "elementary-russian",
   "metadata": {},
   "outputs": [],
   "source": [
    "df = pd.read_csv(\"no_stop_words-2.csv\")\n",
    "\n",
    "pd.set_option(\"display.max_rows\", 50, \"display.max_columns\", 50, \"display.max_colwidth\", 400)"
   ]
  },
  {
   "cell_type": "code",
   "execution_count": 5,
   "id": "legislative-cattle",
   "metadata": {},
   "outputs": [
    {
     "data": {
      "text/html": [
       "<div>\n",
       "<style scoped>\n",
       "    .dataframe tbody tr th:only-of-type {\n",
       "        vertical-align: middle;\n",
       "    }\n",
       "\n",
       "    .dataframe tbody tr th {\n",
       "        vertical-align: top;\n",
       "    }\n",
       "\n",
       "    .dataframe thead th {\n",
       "        text-align: right;\n",
       "    }\n",
       "</style>\n",
       "<table border=\"1\" class=\"dataframe\">\n",
       "  <thead>\n",
       "    <tr style=\"text-align: right;\">\n",
       "      <th></th>\n",
       "      <th>file_name</th>\n",
       "      <th>text</th>\n",
       "      <th>movie_title</th>\n",
       "      <th>genre</th>\n",
       "      <th>Action</th>\n",
       "      <th>Adventure</th>\n",
       "      <th>Animation</th>\n",
       "      <th>Biography</th>\n",
       "      <th>Comedy</th>\n",
       "      <th>Crime</th>\n",
       "      <th>Drama</th>\n",
       "      <th>Family</th>\n",
       "      <th>Fantasy</th>\n",
       "      <th>Film-Noir</th>\n",
       "      <th>History</th>\n",
       "      <th>Horror</th>\n",
       "      <th>Music</th>\n",
       "      <th>Musical</th>\n",
       "      <th>Mystery</th>\n",
       "      <th>Romance</th>\n",
       "      <th>Sci-Fi</th>\n",
       "      <th>Short</th>\n",
       "      <th>Sport</th>\n",
       "      <th>Thriller</th>\n",
       "      <th>War</th>\n",
       "      <th>Western</th>\n",
       "    </tr>\n",
       "  </thead>\n",
       "  <tbody>\n",
       "    <tr>\n",
       "      <th>0</th>\n",
       "      <td>Beasts_of_No_Nation.txt</td>\n",
       "      <td>cary joji fukunaga based novel uzodinma iweala dialogue screenplay faithful form novel originally lighter form nigerian pidgin english known krio krio dialects lingua franca west africa gambia cameroon spoken millions accented starting angle plastic exterior screen television children running circles football pitch angle boy balancing warm smile clever littler best friend ones talent agu passe...</td>\n",
       "      <td>Beasts of No Nation</td>\n",
       "      <td>['Drama', 'War']</td>\n",
       "      <td>0</td>\n",
       "      <td>0</td>\n",
       "      <td>0</td>\n",
       "      <td>0</td>\n",
       "      <td>0</td>\n",
       "      <td>0</td>\n",
       "      <td>1</td>\n",
       "      <td>0</td>\n",
       "      <td>0</td>\n",
       "      <td>0</td>\n",
       "      <td>0</td>\n",
       "      <td>0</td>\n",
       "      <td>0</td>\n",
       "      <td>0</td>\n",
       "      <td>0</td>\n",
       "      <td>0</td>\n",
       "      <td>0</td>\n",
       "      <td>0</td>\n",
       "      <td>0</td>\n",
       "      <td>0</td>\n",
       "      <td>1</td>\n",
       "      <td>0</td>\n",
       "    </tr>\n",
       "    <tr>\n",
       "      <th>1</th>\n",
       "      <td>Beauty_and_the_Beast.txt</td>\n",
       "      <td>stephen chbosky evan spiliotopoulos based animated film beauty beast screenplay linda woolverton august resplendent bespeaking great wealth power grounds stonework immaculate hidden heart france handsome young prince lived beautiful castle single clinging rose bush stormy spring night plucks rose heart desired prince selfish unkind groomed servants faces paints exotic animal mask princes feath...</td>\n",
       "      <td>Beauty and the Beast</td>\n",
       "      <td>['Family', 'Fantasy', 'Musical']</td>\n",
       "      <td>0</td>\n",
       "      <td>0</td>\n",
       "      <td>0</td>\n",
       "      <td>0</td>\n",
       "      <td>0</td>\n",
       "      <td>0</td>\n",
       "      <td>0</td>\n",
       "      <td>1</td>\n",
       "      <td>1</td>\n",
       "      <td>0</td>\n",
       "      <td>0</td>\n",
       "      <td>0</td>\n",
       "      <td>0</td>\n",
       "      <td>1</td>\n",
       "      <td>0</td>\n",
       "      <td>0</td>\n",
       "      <td>0</td>\n",
       "      <td>0</td>\n",
       "      <td>0</td>\n",
       "      <td>0</td>\n",
       "      <td>0</td>\n",
       "      <td>0</td>\n",
       "    </tr>\n",
       "    <tr>\n",
       "      <th>2</th>\n",
       "      <td>Beavis_and_Butt-head_Do_America.txt</td>\n",
       "      <td>beavis butt america mike judge joe stillman location href location href mike judge joe stillman movie begins scenes screaming horror running streets big city ground shakes giant footsteps pieces building debris falling getting crushed power lines coming etc complete pandemonium japanese animated king kong godzilla movie footsteps getting closer ground shaking intense debris falling frame smash...</td>\n",
       "      <td>Beavis and Butt-head Do America</td>\n",
       "      <td>['Animation', 'Comedy']</td>\n",
       "      <td>0</td>\n",
       "      <td>0</td>\n",
       "      <td>1</td>\n",
       "      <td>0</td>\n",
       "      <td>1</td>\n",
       "      <td>0</td>\n",
       "      <td>0</td>\n",
       "      <td>0</td>\n",
       "      <td>0</td>\n",
       "      <td>0</td>\n",
       "      <td>0</td>\n",
       "      <td>0</td>\n",
       "      <td>0</td>\n",
       "      <td>0</td>\n",
       "      <td>0</td>\n",
       "      <td>0</td>\n",
       "      <td>0</td>\n",
       "      <td>0</td>\n",
       "      <td>0</td>\n",
       "      <td>0</td>\n",
       "      <td>0</td>\n",
       "      <td>0</td>\n",
       "    </tr>\n",
       "    <tr>\n",
       "      <th>3</th>\n",
       "      <td>Beginners.txt</td>\n",
       "      <td>mike mills single daisy vase kitchen clicks light closet rack parents clothes begins box marked home box marked thrift oliver enters bathroom flushes bottle bottle pills liquids toilet struggles toothbrush hairbrush bottles tubes sink stares throws oliver hauls trash outside adding large pile bags older jack russell terrier follows oliver arthur sit office surrounded papers boxes books trash b...</td>\n",
       "      <td>Beginners</td>\n",
       "      <td>['Comedy', 'Drama', 'Romance']</td>\n",
       "      <td>0</td>\n",
       "      <td>0</td>\n",
       "      <td>0</td>\n",
       "      <td>0</td>\n",
       "      <td>1</td>\n",
       "      <td>0</td>\n",
       "      <td>1</td>\n",
       "      <td>0</td>\n",
       "      <td>0</td>\n",
       "      <td>0</td>\n",
       "      <td>0</td>\n",
       "      <td>0</td>\n",
       "      <td>0</td>\n",
       "      <td>0</td>\n",
       "      <td>0</td>\n",
       "      <td>1</td>\n",
       "      <td>0</td>\n",
       "      <td>0</td>\n",
       "      <td>0</td>\n",
       "      <td>0</td>\n",
       "      <td>0</td>\n",
       "      <td>0</td>\n",
       "    </tr>\n",
       "    <tr>\n",
       "      <th>4</th>\n",
       "      <td>Being_Human.txt</td>\n",
       "      <td>bill forsyth january warner boulevard burbank california rights reserved stared sky listened cow mooing dreamily distant village tried understand meant sky fields humming telegraph pole felt point understanding started spin lucid languor intolerable vladimir nabokov script main characters inhabit different periods pre history present day story blend developing narrative lives suggestion travel...</td>\n",
       "      <td>Being Human</td>\n",
       "      <td>['Comedy', 'Drama', 'Fantasy']</td>\n",
       "      <td>0</td>\n",
       "      <td>0</td>\n",
       "      <td>0</td>\n",
       "      <td>0</td>\n",
       "      <td>1</td>\n",
       "      <td>0</td>\n",
       "      <td>1</td>\n",
       "      <td>0</td>\n",
       "      <td>1</td>\n",
       "      <td>0</td>\n",
       "      <td>0</td>\n",
       "      <td>0</td>\n",
       "      <td>0</td>\n",
       "      <td>0</td>\n",
       "      <td>0</td>\n",
       "      <td>0</td>\n",
       "      <td>0</td>\n",
       "      <td>0</td>\n",
       "      <td>0</td>\n",
       "      <td>0</td>\n",
       "      <td>0</td>\n",
       "      <td>0</td>\n",
       "    </tr>\n",
       "  </tbody>\n",
       "</table>\n",
       "</div>"
      ],
      "text/plain": [
       "                             file_name  \\\n",
       "0              Beasts_of_No_Nation.txt   \n",
       "1             Beauty_and_the_Beast.txt   \n",
       "2  Beavis_and_Butt-head_Do_America.txt   \n",
       "3                        Beginners.txt   \n",
       "4                      Being_Human.txt   \n",
       "\n",
       "                                                                                                                                                                                                                                                                                                                                                                                                              text  \\\n",
       "0  cary joji fukunaga based novel uzodinma iweala dialogue screenplay faithful form novel originally lighter form nigerian pidgin english known krio krio dialects lingua franca west africa gambia cameroon spoken millions accented starting angle plastic exterior screen television children running circles football pitch angle boy balancing warm smile clever littler best friend ones talent agu passe...   \n",
       "1  stephen chbosky evan spiliotopoulos based animated film beauty beast screenplay linda woolverton august resplendent bespeaking great wealth power grounds stonework immaculate hidden heart france handsome young prince lived beautiful castle single clinging rose bush stormy spring night plucks rose heart desired prince selfish unkind groomed servants faces paints exotic animal mask princes feath...   \n",
       "2  beavis butt america mike judge joe stillman location href location href mike judge joe stillman movie begins scenes screaming horror running streets big city ground shakes giant footsteps pieces building debris falling getting crushed power lines coming etc complete pandemonium japanese animated king kong godzilla movie footsteps getting closer ground shaking intense debris falling frame smash...   \n",
       "3  mike mills single daisy vase kitchen clicks light closet rack parents clothes begins box marked home box marked thrift oliver enters bathroom flushes bottle bottle pills liquids toilet struggles toothbrush hairbrush bottles tubes sink stares throws oliver hauls trash outside adding large pile bags older jack russell terrier follows oliver arthur sit office surrounded papers boxes books trash b...   \n",
       "4  bill forsyth january warner boulevard burbank california rights reserved stared sky listened cow mooing dreamily distant village tried understand meant sky fields humming telegraph pole felt point understanding started spin lucid languor intolerable vladimir nabokov script main characters inhabit different periods pre history present day story blend developing narrative lives suggestion travel...   \n",
       "\n",
       "                       movie_title                             genre  Action  \\\n",
       "0              Beasts of No Nation                  ['Drama', 'War']       0   \n",
       "1             Beauty and the Beast  ['Family', 'Fantasy', 'Musical']       0   \n",
       "2  Beavis and Butt-head Do America           ['Animation', 'Comedy']       0   \n",
       "3                        Beginners    ['Comedy', 'Drama', 'Romance']       0   \n",
       "4                      Being Human    ['Comedy', 'Drama', 'Fantasy']       0   \n",
       "\n",
       "   Adventure  Animation  Biography  Comedy  Crime  Drama  Family  Fantasy  \\\n",
       "0          0          0          0       0      0      1       0        0   \n",
       "1          0          0          0       0      0      0       1        1   \n",
       "2          0          1          0       1      0      0       0        0   \n",
       "3          0          0          0       1      0      1       0        0   \n",
       "4          0          0          0       1      0      1       0        1   \n",
       "\n",
       "   Film-Noir  History  Horror  Music  Musical  Mystery  Romance  Sci-Fi  \\\n",
       "0          0        0       0      0        0        0        0       0   \n",
       "1          0        0       0      0        1        0        0       0   \n",
       "2          0        0       0      0        0        0        0       0   \n",
       "3          0        0       0      0        0        0        1       0   \n",
       "4          0        0       0      0        0        0        0       0   \n",
       "\n",
       "   Short  Sport  Thriller  War  Western  \n",
       "0      0      0         0    1        0  \n",
       "1      0      0         0    0        0  \n",
       "2      0      0         0    0        0  \n",
       "3      0      0         0    0        0  \n",
       "4      0      0         0    0        0  "
      ]
     },
     "execution_count": 5,
     "metadata": {},
     "output_type": "execute_result"
    }
   ],
   "source": [
    "df.head()"
   ]
  },
  {
   "cell_type": "markdown",
   "id": "cutting-influence",
   "metadata": {},
   "source": [
    "## Define X and y variables"
   ]
  },
  {
   "cell_type": "code",
   "execution_count": 6,
   "id": "plain-madness",
   "metadata": {},
   "outputs": [],
   "source": [
    "X = df['text']\n",
    "y = df[['Action', 'Adventure', 'Comedy', 'Crime', 'Drama', 'Fantasy', 'Horror', 'Mystery', 'Romance', 'Sci-Fi', 'Thriller']]"
   ]
  },
  {
   "cell_type": "markdown",
   "id": "western-hepatitis",
   "metadata": {},
   "source": [
    "### Assign Weights"
   ]
  },
  {
   "cell_type": "code",
   "execution_count": 7,
   "id": "funny-huntington",
   "metadata": {},
   "outputs": [
    {
     "data": {
      "text/html": [
       "<div>\n",
       "<style scoped>\n",
       "    .dataframe tbody tr th:only-of-type {\n",
       "        vertical-align: middle;\n",
       "    }\n",
       "\n",
       "    .dataframe tbody tr th {\n",
       "        vertical-align: top;\n",
       "    }\n",
       "\n",
       "    .dataframe thead th {\n",
       "        text-align: right;\n",
       "    }\n",
       "</style>\n",
       "<table border=\"1\" class=\"dataframe\">\n",
       "  <thead>\n",
       "    <tr style=\"text-align: right;\">\n",
       "      <th></th>\n",
       "      <th>genres1</th>\n",
       "      <th>count</th>\n",
       "    </tr>\n",
       "  </thead>\n",
       "  <tbody>\n",
       "    <tr>\n",
       "      <th>0</th>\n",
       "      <td>Action</td>\n",
       "      <td>296</td>\n",
       "    </tr>\n",
       "    <tr>\n",
       "      <th>1</th>\n",
       "      <td>Adventure</td>\n",
       "      <td>179</td>\n",
       "    </tr>\n",
       "    <tr>\n",
       "      <th>2</th>\n",
       "      <td>Comedy</td>\n",
       "      <td>368</td>\n",
       "    </tr>\n",
       "    <tr>\n",
       "      <th>3</th>\n",
       "      <td>Crime</td>\n",
       "      <td>215</td>\n",
       "    </tr>\n",
       "    <tr>\n",
       "      <th>4</th>\n",
       "      <td>Drama</td>\n",
       "      <td>615</td>\n",
       "    </tr>\n",
       "  </tbody>\n",
       "</table>\n",
       "</div>"
      ],
      "text/plain": [
       "     genres1  count\n",
       "0     Action    296\n",
       "1  Adventure    179\n",
       "2     Comedy    368\n",
       "3      Crime    215\n",
       "4      Drama    615"
      ]
     },
     "execution_count": 7,
     "metadata": {},
     "output_type": "execute_result"
    }
   ],
   "source": [
    "cate = pd.DataFrame(y.sum()).reset_index().rename(columns = {'index':'genres1',0:'count'})\n",
    "cate.head()"
   ]
  },
  {
   "cell_type": "code",
   "execution_count": 8,
   "id": "abandoned-sample",
   "metadata": {},
   "outputs": [],
   "source": [
    "labels1 = cate.genres1.values"
   ]
  },
  {
   "cell_type": "code",
   "execution_count": 9,
   "id": "received-significance",
   "metadata": {},
   "outputs": [
    {
     "data": {
      "text/html": [
       "<div>\n",
       "<style scoped>\n",
       "    .dataframe tbody tr th:only-of-type {\n",
       "        vertical-align: middle;\n",
       "    }\n",
       "\n",
       "    .dataframe tbody tr th {\n",
       "        vertical-align: top;\n",
       "    }\n",
       "\n",
       "    .dataframe thead th {\n",
       "        text-align: right;\n",
       "    }\n",
       "</style>\n",
       "<table border=\"1\" class=\"dataframe\">\n",
       "  <thead>\n",
       "    <tr style=\"text-align: right;\">\n",
       "      <th></th>\n",
       "      <th>genres1</th>\n",
       "      <th>count</th>\n",
       "      <th>class_weight</th>\n",
       "    </tr>\n",
       "  </thead>\n",
       "  <tbody>\n",
       "    <tr>\n",
       "      <th>0</th>\n",
       "      <td>Action</td>\n",
       "      <td>296</td>\n",
       "      <td>0.037162</td>\n",
       "    </tr>\n",
       "    <tr>\n",
       "      <th>1</th>\n",
       "      <td>Adventure</td>\n",
       "      <td>179</td>\n",
       "      <td>0.061453</td>\n",
       "    </tr>\n",
       "    <tr>\n",
       "      <th>2</th>\n",
       "      <td>Comedy</td>\n",
       "      <td>368</td>\n",
       "      <td>0.029891</td>\n",
       "    </tr>\n",
       "    <tr>\n",
       "      <th>3</th>\n",
       "      <td>Crime</td>\n",
       "      <td>215</td>\n",
       "      <td>0.051163</td>\n",
       "    </tr>\n",
       "    <tr>\n",
       "      <th>4</th>\n",
       "      <td>Drama</td>\n",
       "      <td>615</td>\n",
       "      <td>0.017886</td>\n",
       "    </tr>\n",
       "  </tbody>\n",
       "</table>\n",
       "</div>"
      ],
      "text/plain": [
       "     genres1  count  class_weight\n",
       "0     Action    296      0.037162\n",
       "1  Adventure    179      0.061453\n",
       "2     Comedy    368      0.029891\n",
       "3      Crime    215      0.051163\n",
       "4      Drama    615      0.017886"
      ]
     },
     "execution_count": 9,
     "metadata": {},
     "output_type": "execute_result"
    }
   ],
   "source": [
    "cate['class_weight'] = len(cate) / cate['count']\n",
    "class_weight = {}\n",
    "for index, label in enumerate(labels1):\n",
    "    class_weight[index] = cate[cate['genres1'] == label]['class_weight'].values[0]\n",
    "    \n",
    "cate.head()"
   ]
  },
  {
   "cell_type": "code",
   "execution_count": 10,
   "id": "domestic-hollow",
   "metadata": {},
   "outputs": [
    {
     "data": {
      "text/html": [
       "<div>\n",
       "<style scoped>\n",
       "    .dataframe tbody tr th:only-of-type {\n",
       "        vertical-align: middle;\n",
       "    }\n",
       "\n",
       "    .dataframe tbody tr th {\n",
       "        vertical-align: top;\n",
       "    }\n",
       "\n",
       "    .dataframe thead th {\n",
       "        text-align: right;\n",
       "    }\n",
       "</style>\n",
       "<table border=\"1\" class=\"dataframe\">\n",
       "  <thead>\n",
       "    <tr style=\"text-align: right;\">\n",
       "      <th></th>\n",
       "      <th>genres1</th>\n",
       "      <th>count</th>\n",
       "      <th>class_weight</th>\n",
       "    </tr>\n",
       "  </thead>\n",
       "  <tbody>\n",
       "    <tr>\n",
       "      <th>7</th>\n",
       "      <td>Mystery</td>\n",
       "      <td>108</td>\n",
       "      <td>0.101852</td>\n",
       "    </tr>\n",
       "    <tr>\n",
       "      <th>5</th>\n",
       "      <td>Fantasy</td>\n",
       "      <td>110</td>\n",
       "      <td>0.100000</td>\n",
       "    </tr>\n",
       "    <tr>\n",
       "      <th>6</th>\n",
       "      <td>Horror</td>\n",
       "      <td>155</td>\n",
       "      <td>0.070968</td>\n",
       "    </tr>\n",
       "    <tr>\n",
       "      <th>9</th>\n",
       "      <td>Sci-Fi</td>\n",
       "      <td>170</td>\n",
       "      <td>0.064706</td>\n",
       "    </tr>\n",
       "    <tr>\n",
       "      <th>1</th>\n",
       "      <td>Adventure</td>\n",
       "      <td>179</td>\n",
       "      <td>0.061453</td>\n",
       "    </tr>\n",
       "    <tr>\n",
       "      <th>8</th>\n",
       "      <td>Romance</td>\n",
       "      <td>194</td>\n",
       "      <td>0.056701</td>\n",
       "    </tr>\n",
       "    <tr>\n",
       "      <th>3</th>\n",
       "      <td>Crime</td>\n",
       "      <td>215</td>\n",
       "      <td>0.051163</td>\n",
       "    </tr>\n",
       "    <tr>\n",
       "      <th>0</th>\n",
       "      <td>Action</td>\n",
       "      <td>296</td>\n",
       "      <td>0.037162</td>\n",
       "    </tr>\n",
       "    <tr>\n",
       "      <th>10</th>\n",
       "      <td>Thriller</td>\n",
       "      <td>309</td>\n",
       "      <td>0.035599</td>\n",
       "    </tr>\n",
       "    <tr>\n",
       "      <th>2</th>\n",
       "      <td>Comedy</td>\n",
       "      <td>368</td>\n",
       "      <td>0.029891</td>\n",
       "    </tr>\n",
       "    <tr>\n",
       "      <th>4</th>\n",
       "      <td>Drama</td>\n",
       "      <td>615</td>\n",
       "      <td>0.017886</td>\n",
       "    </tr>\n",
       "  </tbody>\n",
       "</table>\n",
       "</div>"
      ],
      "text/plain": [
       "      genres1  count  class_weight\n",
       "7     Mystery    108      0.101852\n",
       "5     Fantasy    110      0.100000\n",
       "6      Horror    155      0.070968\n",
       "9      Sci-Fi    170      0.064706\n",
       "1   Adventure    179      0.061453\n",
       "8     Romance    194      0.056701\n",
       "3       Crime    215      0.051163\n",
       "0      Action    296      0.037162\n",
       "10   Thriller    309      0.035599\n",
       "2      Comedy    368      0.029891\n",
       "4       Drama    615      0.017886"
      ]
     },
     "execution_count": 10,
     "metadata": {},
     "output_type": "execute_result"
    }
   ],
   "source": [
    "cate.sort_values('count')"
   ]
  },
  {
   "cell_type": "code",
   "execution_count": null,
   "id": "informative-hudson",
   "metadata": {},
   "outputs": [],
   "source": []
  },
  {
   "cell_type": "markdown",
   "id": "typical-behalf",
   "metadata": {},
   "source": [
    "## Train-Test-Split"
   ]
  },
  {
   "cell_type": "code",
   "execution_count": 11,
   "id": "recognized-strategy",
   "metadata": {},
   "outputs": [],
   "source": [
    "X_train, X_test, y_train, y_test = train_test_split(X, y, test_size=0.25, random_state=42)"
   ]
  },
  {
   "cell_type": "code",
   "execution_count": 12,
   "id": "environmental-consent",
   "metadata": {},
   "outputs": [
    {
     "name": "stdout",
     "output_type": "stream",
     "text": [
      "X_train Shape: (855,)\n",
      "y_train Shape: (855, 11)\n",
      "X_test Shape: (286,)\n",
      "y_test Shape: (286, 11)\n"
     ]
    }
   ],
   "source": [
    "#Preview the shape of training and test set\n",
    "print(\"X_train Shape:\", X_train.shape)\n",
    "print(\"y_train Shape:\", y_train.shape)\n",
    "print(\"X_test Shape:\", X_test.shape)\n",
    "print(\"y_test Shape:\", y_test.shape)"
   ]
  },
  {
   "cell_type": "code",
   "execution_count": 13,
   "id": "respiratory-netherlands",
   "metadata": {},
   "outputs": [
    {
     "data": {
      "text/plain": [
       "array(['Action', 'Adventure', 'Comedy', 'Crime', 'Drama', 'Fantasy',\n",
       "       'Horror', 'Mystery', 'Romance', 'Sci-Fi', 'Thriller'], dtype=object)"
      ]
     },
     "execution_count": 13,
     "metadata": {},
     "output_type": "execute_result"
    }
   ],
   "source": [
    "y_train.columns.values"
   ]
  },
  {
   "cell_type": "code",
   "execution_count": 14,
   "id": "curious-husband",
   "metadata": {},
   "outputs": [
    {
     "data": {
      "image/png": "[encoded data removed]",
      "text/plain": [
       "<Figure size 720x720 with 2 Axes>"
      ]
     },
     "metadata": {
      "needs_background": "light"
     },
     "output_type": "display_data"
    }
   ],
   "source": [
    "\n",
    "corr=y_train.corr()\n",
    "plt.figure(figsize=(10,10))\n",
    "sns.heatmap(corr,\n",
    "            xticklabels=corr.columns.values,\n",
    "            yticklabels=corr.columns.values, annot=True)\n",
    "\n",
    "plt.show()"
   ]
  },
  {
   "cell_type": "markdown",
   "id": "collaborative-prime",
   "metadata": {},
   "source": [
    "## LDA"
   ]
  },
  {
   "cell_type": "code",
   "execution_count": 15,
   "id": "worst-ecuador",
   "metadata": {},
   "outputs": [],
   "source": [
    "vect = CountVectorizer(max_features=20000, ngram_range=(1, 4), min_df = .10, stop_words='english')\n",
    "X_train_vect = vect.fit_transform(X_train)\n",
    "X_vect_test = vect.transform(X_test)"
   ]
  },
  {
   "cell_type": "code",
   "execution_count": 16,
   "id": "hazardous-female",
   "metadata": {},
   "outputs": [],
   "source": [
    "from sklearn.decomposition import LatentDirichletAllocation\n",
    "lda = LatentDirichletAllocation(max_iter=25, random_state=0) \n",
    "# We build the model and transform the data in one step\n",
    "# Computing transform takes some time,\n",
    "# and we can save time by doing both at once \n",
    "\n",
    "document_topics = lda.fit_transform(X_train_vect)"
   ]
  },
  {
   "cell_type": "code",
   "execution_count": 17,
   "id": "likely-compensation",
   "metadata": {},
   "outputs": [
    {
     "data": {
      "text/plain": [
       "(10, 6808)"
      ]
     },
     "execution_count": 17,
     "metadata": {},
     "output_type": "execute_result"
    }
   ],
   "source": [
    "lda.components_.shape"
   ]
  },
  {
   "cell_type": "code",
   "execution_count": 18,
   "id": "electric-rugby",
   "metadata": {},
   "outputs": [],
   "source": [
    "# For each topic (a row in the components_), sort the features (ascending) # Invert rows with [:, ::-1] to make sorting descending\n",
    "sorting = np.argsort(lda.components_, axis=1)[:, ::-1]\n",
    "# Get the feature names from the vectorizer\n",
    "feature_names = np.array(vect.get_feature_names())"
   ]
  },
  {
   "cell_type": "code",
   "execution_count": 19,
   "id": "invalid-vault",
   "metadata": {},
   "outputs": [
    {
     "name": "stdout",
     "output_type": "stream",
     "text": [
      "topic 0       topic 1       topic 2       topic 3       topic 4       \n",
      "--------      --------      --------      --------      --------      \n",
      "fuck          sam           jack          mrs           john          \n",
      "fucking       et            george        mary          feet          \n",
      "shit          harry         walter        david         ray           \n",
      "max           charlie       nick          night         grabs         \n",
      "money         rose          ed            sir           road          \n",
      "ta            en            camera        young         gun           \n",
      "ya            son           drew          miss          steps         \n",
      "mean          plan          shot          pause         truck         \n",
      "aint          pour          jim           thank         reaches       \n",
      "fuckin        main          uh            boy           glass         \n",
      "\n",
      "\n",
      "topic 5       topic 6       topic 7       topic 8       topic 9       \n",
      "--------      --------      --------      --------      --------      \n",
      "ship          men           gun           bed           hey           \n",
      "wall          ground        frank         light         love          \n",
      "air           water         street        contd         sorry         \n",
      "light         horse         guy           paul          mean          \n",
      "begins        dead          men           stares        big           \n",
      "water         white         police        joe           guys          \n",
      "space         father        shot          wall          great         \n",
      "control       sword         building      reaches       dad           \n",
      "feet          feet          cars          slowly        new           \n",
      "power         forward       sir           steps         life          \n",
      "\n",
      "\n"
     ]
    }
   ],
   "source": [
    "import mglearn\n",
    "# Print out the 10 topics:\n",
    "mglearn.tools.print_topics(topics=range(10), feature_names=feature_names,\n",
    "                                sorting=sorting, topics_per_chunk=5, n_words=10)"
   ]
  },
  {
   "cell_type": "code",
   "execution_count": 20,
   "id": "representative-offense",
   "metadata": {},
   "outputs": [],
   "source": [
    "lda100 = LatentDirichletAllocation(n_components=100, max_iter=25, random_state=0)\n",
    "document_topics100 = lda100.fit_transform(X_train_vect)"
   ]
  },
  {
   "cell_type": "code",
   "execution_count": 21,
   "id": "original-jamaica",
   "metadata": {},
   "outputs": [
    {
     "name": "stdout",
     "output_type": "stream",
     "text": [
      "topic 7       topic 16      topic 24      topic 25      topic 28      topic 36      topic 37      \n",
      "--------      --------      --------      --------      --------      --------      --------      \n",
      "gun           stage         president     zooms         fuck          horse         gun           \n",
      "street        music         white         flapping      fucking       glass         light         \n",
      "building      audience      war           flare         shit          horses        street        \n",
      "security      song          office        flares        money         men           blood         \n",
      "cars          play          country       flash         guy           river         wall          \n",
      "doors         singing       general       flashes       guys          rifle         bed           \n",
      "guard         crowd         world         flashing      fuckin        ground        police        \n",
      "elevator      dance         black         flashlight    ass           trees         dark          \n",
      "moving        begins        government    flashlights   ta            camp          dead          \n",
      "crowd         sing          united        flask         mean          gun           black         \n",
      "trying        family        new           flat          hey           ride          body          \n",
      "running       great         men           flattered     hell          forest        white         \n",
      "shot          applause      crowd         flee          talk          rides         apartment     \n",
      "police        playing       american      fleeing       jesus         water         building      \n",
      "second        band          desk          flees         big           hill          night         \n",
      "past          plays         team          flesh         talking       tree          close         \n",
      "glass         theatre       field         flew          lot           saddle        lights        \n",
      "train         dressing      nods          flick         gun           rock          cop           \n",
      "radio         piano         smile         flicker       maybe         trail         cops          \n",
      "screen        life          states        flickering    job           knife         puts          \n",
      "\n",
      "\n",
      "topic 45      topic 51      topic 53      topic 54      topic 63      topic 89      topic 97      \n",
      "--------      --------      --------      --------      --------      --------      --------      \n",
      "harry         air           stares        plane         william       martin        dog           \n",
      "chick         light         watches       pilot         round         indian        professor     \n",
      "golden        control       nods          air           short         charlie       girls         \n",
      "sharp         space         bed           flight        penny         crowd         corner        \n",
      "hole          computer      reaches       planes        knives        camera        interview     \n",
      "bear          screen        steps         cockpit       band          police        spots         \n",
      "grace         lights        glances       red           contd         shot          lo            \n",
      "max           sir           enters        pilots        rock          white         key           \n",
      "temple        begins        picks         water         watches       close         sister        \n",
      "drill         radio         kitchen       flying        kid           slowly        curb          \n",
      "freedom       minutes       glass         chief         grabs         british       curtain       \n",
      "space         station       grabs         runway        tunnel        near          ticket        \n",
      "feet          ship          heads         fly           guards        view          complete      \n",
      "guys          red           smile         sky           stones        point         roger         \n",
      "pipe          crew          girl          final         guard         featuring     united        \n",
      "surface       earth         leans         land          stone         smile         shower        \n",
      "skip          suit          quickly       tail          plane         stares        train         \n",
      "contd         hatch         puts          captain       wall          point view    guy           \n",
      "rig           hell          slowly        japanese      dick          holds         security      \n",
      "oil           panel         bag           wing          finally       nods          program       \n",
      "\n",
      "\n"
     ]
    }
   ],
   "source": [
    "topics = np.array([7, 16, 24, 25, 28, 36, 37, 45, 51, 53, 54, 63, 89, 97])\n",
    "\n",
    "sorting = np.argsort(lda100.components_, axis=1)[:, ::-1]\n",
    "\n",
    "feature_names = np.array(vect.get_feature_names())\n",
    "\n",
    "mglearn.tools.print_topics(topics=topics, feature_names=feature_names, sorting=sorting, topics_per_chunk=7, n_words=20)"
   ]
  },
  {
   "cell_type": "code",
   "execution_count": 22,
   "id": "fitted-reality",
   "metadata": {},
   "outputs": [
    {
     "data": {
      "image/png": "[encoded data removed]",
      "text/plain": [
       "<Figure size 720x720 with 2 Axes>"
      ]
     },
     "metadata": {
      "needs_background": "light"
     },
     "output_type": "display_data"
    }
   ],
   "source": [
    "fig, ax = plt.subplots(1, 2, figsize=(10, 10))\n",
    "\n",
    "topic_names = [\"{:>2} \".format(i) + \" \".join(words) for i, words in enumerate(feature_names[sorting[:, :2]])] # two column bar chart:\n",
    "    \n",
    "for col in [0, 1]: \n",
    "    start=col*50\n",
    "    end=(col+1)*50\n",
    "    ax[col].barh(np.arange(50), np.sum(document_topics100, axis=0)[start:end]) \n",
    "    ax[col].set_yticks(np.arange(50)) \n",
    "    ax[col].set_yticklabels(topic_names[start:end], ha=\"left\", va=\"top\") \n",
    "    ax[col].invert_yaxis()\n",
    "    ax[col].set_xlim(0, 2000)\n",
    "    yax = ax[col].get_yaxis()\n",
    "    yax.set_tick_params(pad=130)\n",
    "\n",
    "plt.tight_layout()"
   ]
  },
  {
   "cell_type": "markdown",
   "id": "minimal-privacy",
   "metadata": {},
   "source": [
    "## Embedding"
   ]
  },
  {
   "cell_type": "code",
   "execution_count": 23,
   "id": "touched-watson",
   "metadata": {},
   "outputs": [],
   "source": [
    "tokenizer = Tokenizer(num_words=20000)\n",
    "tokenizer.fit_on_texts(X_train)"
   ]
  },
  {
   "cell_type": "code",
   "execution_count": 24,
   "id": "advance-payday",
   "metadata": {},
   "outputs": [],
   "source": [
    "X_train = tokenizer.texts_to_sequences(X_train)\n",
    "X_test = tokenizer.texts_to_sequences(X_test)"
   ]
  },
  {
   "cell_type": "code",
   "execution_count": 25,
   "id": "immune-dragon",
   "metadata": {},
   "outputs": [],
   "source": [
    "vocab_size = len(tokenizer.word_index) + 1\n",
    "\n",
    "maxlen = 200\n",
    "\n",
    "X_train = pad_sequences(X_train, padding='post', maxlen=maxlen)\n",
    "X_test = pad_sequences(X_test, padding='post', maxlen=maxlen)"
   ]
  },
  {
   "cell_type": "code",
   "execution_count": 26,
   "id": "welcome-excuse",
   "metadata": {},
   "outputs": [],
   "source": [
    "from numpy import array\n",
    "from numpy import asarray\n",
    "from numpy import zeros\n",
    "\n",
    "embeddings_dictionary = dict()\n",
    "\n",
    "glove_file = open('glove.6B.300d.txt', encoding=\"utf8\")\n",
    "\n",
    "for line in glove_file:\n",
    "    records = line.split()\n",
    "    word = records[0]\n",
    "    vector_dimensions = asarray(records[1:], dtype='float32')\n",
    "    embeddings_dictionary[word] = vector_dimensions\n",
    "glove_file.close()\n",
    "\n",
    "embedding_matrix = zeros((vocab_size, 300))\n",
    "for word, index in tokenizer.word_index.items():\n",
    "    embedding_vector = embeddings_dictionary.get(word)\n",
    "    if embedding_vector is not None:\n",
    "        embedding_matrix[index] = embedding_vector"
   ]
  },
  {
   "cell_type": "markdown",
   "id": "nervous-carrier",
   "metadata": {},
   "source": [
    "## t-SNE"
   ]
  },
  {
   "cell_type": "code",
   "execution_count": 27,
   "id": "viral-caution",
   "metadata": {},
   "outputs": [],
   "source": [
    "from sklearn.manifold import TSNE"
   ]
  },
  {
   "cell_type": "code",
   "execution_count": 28,
   "id": "assigned-popularity",
   "metadata": {},
   "outputs": [
    {
     "data": {
      "image/png": "[encoded data removed]",
      "text/plain": [
       "<Figure size 432x288 with 1 Axes>"
      ]
     },
     "metadata": {
      "needs_background": "light"
     },
     "output_type": "display_data"
    }
   ],
   "source": [
    "tsne = TSNE(n_components=2, random_state=0)\n",
    "words =  list(embeddings_dictionary.keys())\n",
    "vectors = [embeddings_dictionary[word] for word in words]\n",
    "Yt = tsne.fit_transform(vectors[:10])\n",
    "plt.scatter(Yt[:, 0], Yt[:, 1])\n",
    "\n",
    "for label, x, y in zip(words, Yt[:, 0], Yt[:, 1]):\n",
    "    plt.annotate(label, xy=(x, y), xytext=(0, 0), textcoords=\"offset points\")\n",
    "plt.show()"
   ]
  },
  {
   "cell_type": "markdown",
   "id": "bronze-lafayette",
   "metadata": {},
   "source": [
    "## Model 1"
   ]
  },
  {
   "cell_type": "code",
   "execution_count": 29,
   "id": "olive-return",
   "metadata": {},
   "outputs": [],
   "source": [
    "model = Sequential()\n",
    "\n",
    "model.add(Embedding(vocab_size, 300, weights=[embedding_matrix], trainable=False))\n",
    "\n",
    "model.add(LSTM(128, return_sequences=True))\n",
    "# model.add(GlobalMaxPooling1D())\n",
    "model.add(Dropout(0.2))\n",
    "model.add(LSTM(128))\n",
    "# model.add(GlobalMaxPooling1D())\n",
    "model.add(Dropout(0.2))\n",
    "\n",
    "# model.add(Flatten())\n",
    "model.add(Dense(22, activation='relu'))\n",
    "model.add(Dropout(0.2))\n",
    "model.add(Dense(11, activation='sigmoid'))\n",
    "\n",
    "\n",
    "model.compile(loss='binary_crossentropy', optimizer='adam', metrics=[Precision(), Recall(), AUC(), 'acc'])"
   ]
  },
  {
   "cell_type": "code",
   "execution_count": 30,
   "id": "color-audio",
   "metadata": {},
   "outputs": [
    {
     "name": "stdout",
     "output_type": "stream",
     "text": [
      "Model: \"sequential_1\"\n",
      "_________________________________________________________________\n",
      "Layer (type)                 Output Shape              Param #   \n",
      "=================================================================\n",
      "embedding_1 (Embedding)      (None, None, 300)         35583900  \n",
      "_________________________________________________________________\n",
      "lstm_1 (LSTM)                (None, None, 128)         219648    \n",
      "_________________________________________________________________\n",
      "dropout_1 (Dropout)          (None, None, 128)         0         \n",
      "_________________________________________________________________\n",
      "lstm_2 (LSTM)                (None, 128)               131584    \n",
      "_________________________________________________________________\n",
      "dropout_2 (Dropout)          (None, 128)               0         \n",
      "_________________________________________________________________\n",
      "dense_1 (Dense)              (None, 22)                2838      \n",
      "_________________________________________________________________\n",
      "dropout_3 (Dropout)          (None, 22)                0         \n",
      "_________________________________________________________________\n",
      "dense_2 (Dense)              (None, 11)                253       \n",
      "=================================================================\n",
      "Total params: 35,938,223\n",
      "Trainable params: 354,323\n",
      "Non-trainable params: 35,583,900\n",
      "_________________________________________________________________\n"
     ]
    }
   ],
   "source": [
    "model.summary()"
   ]
  },
  {
   "cell_type": "code",
   "execution_count": 31,
   "id": "martial-apparatus",
   "metadata": {},
   "outputs": [
    {
     "name": "stdout",
     "output_type": "stream",
     "text": [
      "Train on 684 samples, validate on 171 samples\n",
      "Epoch 1/5\n",
      "684/684 [==============================] - 33s 49ms/step - loss: 0.0250 - precision_1: 0.2323 - recall_1: 0.3333 - auc_1: 0.5266 - acc: 0.6235 - val_loss: 0.0225 - val_precision_1: 0.2000 - val_recall_1: 0.0941 - val_auc_1: 0.5530 - val_acc: 0.7246\n",
      "Epoch 2/5\n",
      "684/684 [==============================] - 28s 42ms/step - loss: 0.0224 - precision_1: 0.2524 - recall_1: 0.1954 - auc_1: 0.5445 - acc: 0.7055 - val_loss: 0.0205 - val_precision_1: 0.0000e+00 - val_recall_1: 0.0000e+00 - val_auc_1: 0.5387 - val_acc: 0.7852\n",
      "Epoch 3/5\n",
      "684/684 [==============================] - 29s 42ms/step - loss: 0.0219 - precision_1: 0.2811 - recall_1: 0.1467 - auc_1: 0.5317 - acc: 0.7384 - val_loss: 0.0202 - val_precision_1: 0.0000e+00 - val_recall_1: 0.0000e+00 - val_auc_1: 0.5496 - val_acc: 0.7852\n",
      "Epoch 4/5\n",
      "684/684 [==============================] - 30s 44ms/step - loss: 0.0214 - precision_1: 0.2980 - recall_1: 0.1367 - auc_1: 0.5373 - acc: 0.7476 - val_loss: 0.0201 - val_precision_1: 0.0000e+00 - val_recall_1: 0.0000e+00 - val_auc_1: 0.5558 - val_acc: 0.7852\n",
      "Epoch 5/5\n",
      "684/684 [==============================] - 29s 43ms/step - loss: 0.0212 - precision_1: 0.3214 - recall_1: 0.1454 - auc_1: 0.5527 - acc: 0.7527 - val_loss: 0.0199 - val_precision_1: 0.0000e+00 - val_recall_1: 0.0000e+00 - val_auc_1: 0.5635 - val_acc: 0.7852\n"
     ]
    }
   ],
   "source": [
    "history = model.fit(X_train, y_train, class_weight=class_weight, batch_size=128, epochs=5, verbose=1, validation_split=0.2)"
   ]
  },
  {
   "cell_type": "code",
   "execution_count": 32,
   "id": "comparative-ireland",
   "metadata": {},
   "outputs": [
    {
     "name": "stdout",
     "output_type": "stream",
     "text": [
      "286/286 [==============================] - 4s 12ms/step\n",
      "[0.5409686857170158, 0.0, 0.0, 0.5672482848167419, 0.7733629941940308]\n",
      "Test Loss: 0.5409686857170158\n",
      "Test Accuracy: 0.7733629941940308\n"
     ]
    }
   ],
   "source": [
    "score = model.evaluate(X_test, y_test, verbose=1)\n",
    "print(score)\n",
    "print(\"Test Loss:\", score[0])\n",
    "print(\"Test Accuracy:\", score[-1])"
   ]
  },
  {
   "cell_type": "code",
   "execution_count": 33,
   "id": "weekly-starter",
   "metadata": {},
   "outputs": [],
   "source": [
    "y_pred = model.predict(X_test)"
   ]
  },
  {
   "cell_type": "code",
   "execution_count": 34,
   "id": "driven-study",
   "metadata": {},
   "outputs": [],
   "source": [
    "y_preds = model.predict(X_test[:5])"
   ]
  },
  {
   "cell_type": "code",
   "execution_count": 35,
   "id": "respiratory-vision",
   "metadata": {},
   "outputs": [
    {
     "data": {
      "text/plain": [
       "array([[False, False, False, False, False, False, False, False, False,\n",
       "        False, False],\n",
       "       [False, False, False, False, False, False, False, False, False,\n",
       "        False, False],\n",
       "       [False, False, False, False, False, False, False, False, False,\n",
       "        False, False],\n",
       "       [False, False, False, False, False, False, False, False, False,\n",
       "        False, False],\n",
       "       [False, False, False, False, False, False, False, False, False,\n",
       "        False, False]])"
      ]
     },
     "execution_count": 35,
     "metadata": {},
     "output_type": "execute_result"
    }
   ],
   "source": [
    "y_preds > 0.5"
   ]
  },
  {
   "cell_type": "code",
   "execution_count": 36,
   "id": "infinite-values",
   "metadata": {},
   "outputs": [
    {
     "name": "stdout",
     "output_type": "stream",
     "text": [
      "      Action  Adventure  Comedy  Crime  Drama  Fantasy  Horror  Mystery  \\\n",
      "1071       1          0       0      0      1        0       0        0   \n",
      "907        0          0       1      0      0        1       0        0   \n",
      "290        1          0       0      1      1        0       0        0   \n",
      "844        0          0       0      0      1        0       0        0   \n",
      "333        1          0       0      1      1        0       0        0   \n",
      "\n",
      "      Romance  Sci-Fi  Thriller  \n",
      "1071        0       0         0  \n",
      "907         0       0         0  \n",
      "290         0       0         1  \n",
      "844         0       0         0  \n",
      "333         0       0         1  \n"
     ]
    }
   ],
   "source": [
    "print(y_test[:5])"
   ]
  },
  {
   "cell_type": "code",
   "execution_count": 37,
   "id": "controlled-packet",
   "metadata": {},
   "outputs": [
    {
     "data": {
      "image/png": "[encoded data removed]",
      "text/plain": [
       "<Figure size 432x288 with 1 Axes>"
      ]
     },
     "metadata": {
      "needs_background": "light"
     },
     "output_type": "display_data"
    },
    {
     "data": {
      "image/png": "[encoded data removed]",
      "text/plain": [
       "<Figure size 432x288 with 1 Axes>"
      ]
     },
     "metadata": {
      "needs_background": "light"
     },
     "output_type": "display_data"
    }
   ],
   "source": [
    "plt.plot(history.history['acc'])\n",
    "plt.plot(history.history['val_acc'])\n",
    "\n",
    "plt.title('model accuracy')\n",
    "plt.ylabel('accuracy')\n",
    "plt.xlabel('epoch')\n",
    "plt.legend(['train','test'], loc='upper left')\n",
    "plt.show()\n",
    "\n",
    "plt.plot(history.history['loss'])\n",
    "plt.plot(history.history['val_loss'])\n",
    "\n",
    "plt.title('model loss')\n",
    "plt.ylabel('loss')\n",
    "plt.xlabel('epoch')\n",
    "plt.legend(['train','test'], loc='upper left')\n",
    "plt.show()"
   ]
  },
  {
   "cell_type": "code",
   "execution_count": null,
   "id": "determined-interim",
   "metadata": {},
   "outputs": [],
   "source": []
  },
  {
   "cell_type": "code",
   "execution_count": 39,
   "id": "fossil-basics",
   "metadata": {},
   "outputs": [],
   "source": [
    "# import scikitplot as skplt\n",
    "# predicted_probas = model.predict_proba(X_test)\n",
    "\n",
    "# skplt.metrics.plot_roc(y_test, predicted_probas)\n",
    "# plt.show()"
   ]
  },
  {
   "cell_type": "markdown",
   "id": "maritime-progress",
   "metadata": {},
   "source": [
    "## Model 2"
   ]
  },
  {
   "cell_type": "code",
   "execution_count": 40,
   "id": "individual-replacement",
   "metadata": {},
   "outputs": [],
   "source": [
    "from keras.preprocessing.sequence import pad_sequences\n",
    "from keras.layers import Input, Dense, LSTM, Embedding\n",
    "from keras.layers import Dropout, Activation, Bidirectional, GlobalMaxPool1D\n",
    "from keras.models import Sequential\n",
    "from keras import initializers, regularizers, constraints, optimizers, layers\n",
    "from keras.preprocessing import text, sequence"
   ]
  },
  {
   "cell_type": "code",
   "execution_count": 41,
   "id": "insured-flight",
   "metadata": {},
   "outputs": [
    {
     "name": "stdout",
     "output_type": "stream",
     "text": [
      "Model: \"sequential_2\"\n",
      "_________________________________________________________________\n",
      "Layer (type)                 Output Shape              Param #   \n",
      "=================================================================\n",
      "embedding_2 (Embedding)      (None, None, 300)         35583900  \n",
      "_________________________________________________________________\n",
      "lstm_3 (LSTM)                (None, None, 25)          32600     \n",
      "_________________________________________________________________\n",
      "global_max_pooling1d_1 (Glob (None, 25)                0         \n",
      "_________________________________________________________________\n",
      "dropout_4 (Dropout)          (None, 25)                0         \n",
      "_________________________________________________________________\n",
      "dense_3 (Dense)              (None, 50)                1300      \n",
      "_________________________________________________________________\n",
      "dropout_5 (Dropout)          (None, 50)                0         \n",
      "_________________________________________________________________\n",
      "dense_4 (Dense)              (None, 11)                561       \n",
      "=================================================================\n",
      "Total params: 35,618,361\n",
      "Trainable params: 34,461\n",
      "Non-trainable params: 35,583,900\n",
      "_________________________________________________________________\n"
     ]
    }
   ],
   "source": [
    "model = Sequential()\n",
    "\n",
    "model.add(Embedding(vocab_size, 300, weights=[embedding_matrix], trainable=False))\n",
    "model.add(LSTM(25, return_sequences=True))\n",
    "model.add(GlobalMaxPool1D())\n",
    "model.add(Dropout(0.5))\n",
    "model.add(Dense(50, activation='relu'))\n",
    "model.add(Dropout(0.5))\n",
    "model.add(Dense(11, activation='sigmoid'))\n",
    "\n",
    "model.summary()"
   ]
  },
  {
   "cell_type": "code",
   "execution_count": 42,
   "id": "complex-bullet",
   "metadata": {},
   "outputs": [],
   "source": [
    "model.compile(loss='binary_crossentropy', \n",
    "              optimizer='adam', \n",
    "              metrics=[Precision(), Recall(), AUC(), 'acc'])"
   ]
  },
  {
   "cell_type": "code",
   "execution_count": 43,
   "id": "abandoned-royalty",
   "metadata": {},
   "outputs": [
    {
     "name": "stdout",
     "output_type": "stream",
     "text": [
      "Train on 684 samples, validate on 171 samples\n",
      "Epoch 1/10\n",
      "684/684 [==============================] - 10s 15ms/step - loss: 0.0283 - precision_2: 0.2208 - recall_2: 0.5787 - auc_2: 0.5221 - acc: 0.4755 - val_loss: 0.0253 - val_precision_2: 0.2744 - val_recall_2: 0.5644 - val_auc_2: 0.5873 - val_acc: 0.5859\n",
      "Epoch 2/10\n",
      "684/684 [==============================] - 7s 10ms/step - loss: 0.0264 - precision_2: 0.2329 - recall_2: 0.5006 - auc_2: 0.5362 - acc: 0.5427 - val_loss: 0.0241 - val_precision_2: 0.2876 - val_recall_2: 0.4876 - val_auc_2: 0.6037 - val_acc: 0.6305\n",
      "Epoch 3/10\n",
      "684/684 [==============================] - 7s 10ms/step - loss: 0.0252 - precision_2: 0.2472 - recall_2: 0.4295 - auc_2: 0.5457 - acc: 0.6001 - val_loss: 0.0232 - val_precision_2: 0.3000 - val_recall_2: 0.2450 - val_auc_2: 0.6176 - val_acc: 0.7150\n",
      "Epoch 4/10\n",
      "684/684 [==============================] - 7s 10ms/step - loss: 0.0242 - precision_2: 0.2539 - recall_2: 0.3571 - auc_2: 0.5579 - acc: 0.6397 - val_loss: 0.0225 - val_precision_2: 0.3171 - val_recall_2: 0.0322 - val_auc_2: 0.6384 - val_acc: 0.7772\n",
      "Epoch 5/10\n",
      "684/684 [==============================] - 7s 10ms/step - loss: 0.0237 - precision_2: 0.2552 - recall_2: 0.2971 - auc_2: 0.5626 - acc: 0.6657 - val_loss: 0.0218 - val_precision_2: 0.4000 - val_recall_2: 0.0050 - val_auc_2: 0.6484 - val_acc: 0.7847\n",
      "Epoch 6/10\n",
      "684/684 [==============================] - 7s 10ms/step - loss: 0.0228 - precision_2: 0.2677 - recall_2: 0.2553 - auc_2: 0.5800 - acc: 0.6927 - val_loss: 0.0211 - val_precision_2: 0.5000 - val_recall_2: 0.0025 - val_auc_2: 0.6534 - val_acc: 0.7852\n",
      "Epoch 7/10\n",
      "684/684 [==============================] - 7s 10ms/step - loss: 0.0226 - precision_2: 0.2548 - recall_2: 0.2079 - auc_2: 0.5620 - acc: 0.7019 - val_loss: 0.0205 - val_precision_2: 0.0000e+00 - val_recall_2: 0.0000e+00 - val_auc_2: 0.6594 - val_acc: 0.7852\n",
      "Epoch 8/10\n",
      "684/684 [==============================] - 7s 10ms/step - loss: 0.0219 - precision_2: 0.2881 - recall_2: 0.1910 - auc_2: 0.5785 - acc: 0.7273 - val_loss: 0.0200 - val_precision_2: 0.0000e+00 - val_recall_2: 0.0000e+00 - val_auc_2: 0.6623 - val_acc: 0.7852\n",
      "Epoch 9/10\n",
      "684/684 [==============================] - 7s 10ms/step - loss: 0.0218 - precision_2: 0.2778 - recall_2: 0.1511 - auc_2: 0.5701 - acc: 0.7356 - val_loss: 0.0196 - val_precision_2: 0.0000e+00 - val_recall_2: 0.0000e+00 - val_auc_2: 0.6635 - val_acc: 0.7852\n",
      "Epoch 10/10\n",
      "684/684 [==============================] - 7s 10ms/step - loss: 0.0217 - precision_2: 0.3108 - recall_2: 0.1492 - auc_2: 0.5656 - acc: 0.7484 - val_loss: 0.0194 - val_precision_2: 0.0000e+00 - val_recall_2: 0.0000e+00 - val_auc_2: 0.6635 - val_acc: 0.7852\n"
     ]
    },
    {
     "data": {
      "text/plain": [
       "<keras.callbacks.callbacks.History at 0x7f717e78df28>"
      ]
     },
     "execution_count": 43,
     "metadata": {},
     "output_type": "execute_result"
    }
   ],
   "source": [
    "model.fit(X_train, y_train, class_weight=class_weight, epochs=10, batch_size=128, validation_split=0.2)"
   ]
  },
  {
   "cell_type": "code",
   "execution_count": 44,
   "id": "seven-teaching",
   "metadata": {},
   "outputs": [
    {
     "name": "stdout",
     "output_type": "stream",
     "text": [
      "286/286 [==============================] - 1s 4ms/step\n",
      "[0.5168712214156465, 0.0, 0.0, 0.6759920120239258, 0.7733629941940308]\n",
      "Test Loss: 0.5168712214156465\n",
      "Test Accuracy: 0.7733629941940308\n"
     ]
    }
   ],
   "source": [
    "score = model.evaluate(X_test, y_test, verbose=1)\n",
    "print(score)\n",
    "print(\"Test Loss:\", score[0])\n",
    "print(\"Test Accuracy:\", score[-1])"
   ]
  },
  {
   "cell_type": "code",
   "execution_count": 45,
   "id": "cordless-halifax",
   "metadata": {},
   "outputs": [],
   "source": [
    "y_pred = model.predict(X_test)"
   ]
  },
  {
   "cell_type": "code",
   "execution_count": 46,
   "id": "hydraulic-jacket",
   "metadata": {},
   "outputs": [],
   "source": [
    "y_preds = model.predict(X_test[:5])"
   ]
  },
  {
   "cell_type": "code",
   "execution_count": 47,
   "id": "sublime-patrick",
   "metadata": {},
   "outputs": [
    {
     "data": {
      "text/plain": [
       "array([[False, False, False, False, False, False, False, False, False,\n",
       "        False, False],\n",
       "       [False, False, False, False, False, False, False, False, False,\n",
       "        False, False],\n",
       "       [False, False, False, False, False, False, False, False, False,\n",
       "        False, False],\n",
       "       [False, False, False, False, False, False, False, False, False,\n",
       "        False, False],\n",
       "       [False, False, False, False, False, False, False, False, False,\n",
       "        False, False]])"
      ]
     },
     "execution_count": 47,
     "metadata": {},
     "output_type": "execute_result"
    }
   ],
   "source": [
    "y_preds > 0.5"
   ]
  },
  {
   "cell_type": "code",
   "execution_count": 48,
   "id": "secure-civilian",
   "metadata": {},
   "outputs": [
    {
     "name": "stdout",
     "output_type": "stream",
     "text": [
      "      Action  Adventure  Comedy  Crime  Drama  Fantasy  Horror  Mystery  \\\n",
      "1071       1          0       0      0      1        0       0        0   \n",
      "907        0          0       1      0      0        1       0        0   \n",
      "290        1          0       0      1      1        0       0        0   \n",
      "844        0          0       0      0      1        0       0        0   \n",
      "333        1          0       0      1      1        0       0        0   \n",
      "\n",
      "      Romance  Sci-Fi  Thriller  \n",
      "1071        0       0         0  \n",
      "907         0       0         0  \n",
      "290         0       0         1  \n",
      "844         0       0         0  \n",
      "333         0       0         1  \n"
     ]
    }
   ],
   "source": [
    "print(y_test[:5])"
   ]
  },
  {
   "cell_type": "code",
   "execution_count": 49,
   "id": "noble-water",
   "metadata": {},
   "outputs": [
    {
     "data": {
      "image/png": "[encoded data removed]",
      "text/plain": [
       "<Figure size 432x288 with 1 Axes>"
      ]
     },
     "metadata": {
      "needs_background": "light"
     },
     "output_type": "display_data"
    },
    {
     "data": {
      "image/png": "[encoded data removed]",
      "text/plain": [
       "<Figure size 432x288 with 1 Axes>"
      ]
     },
     "metadata": {
      "needs_background": "light"
     },
     "output_type": "display_data"
    }
   ],
   "source": [
    "plt.plot(history.history['acc'])\n",
    "plt.plot(history.history['val_acc'])\n",
    "\n",
    "plt.title('model accuracy')\n",
    "plt.ylabel('accuracy')\n",
    "plt.xlabel('epoch')\n",
    "plt.legend(['train','test'], loc='upper left')\n",
    "plt.show()\n",
    "\n",
    "plt.plot(history.history['loss'])\n",
    "plt.plot(history.history['val_loss'])\n",
    "\n",
    "plt.title('model loss')\n",
    "plt.ylabel('loss')\n",
    "plt.xlabel('epoch')\n",
    "plt.legend(['train','test'], loc='upper left')\n",
    "plt.show()"
   ]
  },
  {
   "cell_type": "markdown",
   "id": "governmental-calculator",
   "metadata": {},
   "source": [
    "## Model 3"
   ]
  },
  {
   "cell_type": "code",
   "execution_count": 50,
   "id": "renewable-banks",
   "metadata": {},
   "outputs": [
    {
     "name": "stdout",
     "output_type": "stream",
     "text": [
      "Model: \"sequential_3\"\n",
      "_________________________________________________________________\n",
      "Layer (type)                 Output Shape              Param #   \n",
      "=================================================================\n",
      "embedding_3 (Embedding)      (None, 200, 128)          15182464  \n",
      "_________________________________________________________________\n",
      "gru_1 (GRU)                  (None, 200, 128)          98688     \n",
      "_________________________________________________________________\n",
      "dropout_6 (Dropout)          (None, 200, 128)          0         \n",
      "_________________________________________________________________\n",
      "global_max_pooling1d_2 (Glob (None, 128)               0         \n",
      "_________________________________________________________________\n",
      "dense_5 (Dense)              (None, 50)                6450      \n",
      "_________________________________________________________________\n",
      "dropout_7 (Dropout)          (None, 50)                0         \n",
      "_________________________________________________________________\n",
      "dense_6 (Dense)              (None, 11)                561       \n",
      "=================================================================\n",
      "Total params: 15,288,163\n",
      "Trainable params: 15,288,163\n",
      "Non-trainable params: 0\n",
      "_________________________________________________________________\n"
     ]
    }
   ],
   "source": [
    "from keras_tqdm import TQDMNotebookCallback\n",
    "\n",
    "from keras.models import Sequential\n",
    "from keras.layers import Dense, Activation, MaxPooling1D, Embedding, Flatten, GlobalMaxPool1D, Dropout, Conv1D, GRU, SeparableConv2D\n",
    "from keras.callbacks import ReduceLROnPlateau, EarlyStopping, ModelCheckpoint\n",
    "from keras.losses import binary_crossentropy\n",
    "from keras.optimizers import Adam\n",
    "from keras_tqdm import TQDMCallback \n",
    "\n",
    "# tqdm_callback = tfa.callbacks.TQDMProgressBar()\n",
    "\n",
    "filter_length = 64\n",
    "num_classes = 11\n",
    "model = Sequential()\n",
    "model.add(Embedding(vocab_size, 128, input_length=maxlen))\n",
    "model.add(GRU(128, return_sequences=True))\n",
    "model.add(Dropout(0.1))\n",
    "# model.add(SeparableConv2D(filter_length, 5, padding='valid', activation='relu', strides=1))\n",
    "model.add(GlobalMaxPool1D())\n",
    "model.add(Dense(50, activation='relu'))\n",
    "model.add(Dropout(0.5))\n",
    "model.add(Dense(11, activation='sigmoid'))\n",
    "\n",
    "model.compile(optimizer='adam', loss='binary_crossentropy', metrics=[Precision(), Recall(), AUC(), 'acc'])\n",
    "model.summary()"
   ]
  },
  {
   "cell_type": "code",
   "execution_count": 51,
   "id": "decimal-secondary",
   "metadata": {},
   "outputs": [
    {
     "name": "stderr",
     "output_type": "stream",
     "text": [
      "/home/ec2-user/anaconda3/envs/tensorflow2_p36/lib/python3.6/site-packages/tensorflow_core/python/framework/indexed_slices.py:433: UserWarning: Converting sparse IndexedSlices to a dense Tensor of unknown shape. This may consume a large amount of memory.\n",
      "  \"Converting sparse IndexedSlices to a dense Tensor of unknown shape. \"\n"
     ]
    },
    {
     "data": {
      "application/vnd.jupyter.widget-view+json": {
       "model_id": "c789b6b0d3c941e18cae4e8292e528d7",
       "version_major": 2,
       "version_minor": 0
      },
      "text/plain": [
       "HBox(children=(FloatProgress(value=0.0, description='Training', max=40.0, style=ProgressStyle(description_widt…"
      ]
     },
     "metadata": {},
     "output_type": "display_data"
    },
    {
     "data": {
      "application/vnd.jupyter.widget-view+json": {
       "model_id": "b2e590f2e3804c45ad843b7311ed88a4",
       "version_major": 2,
       "version_minor": 0
      },
      "text/plain": [
       "HBox(children=(FloatProgress(value=0.0, description='Epoch 0', max=769.0, style=ProgressStyle(description_widt…"
      ]
     },
     "metadata": {},
     "output_type": "display_data"
    },
    {
     "name": "stdout",
     "output_type": "stream",
     "text": [
      "\n"
     ]
    },
    {
     "data": {
      "application/vnd.jupyter.widget-view+json": {
       "model_id": "6089960880eb40ea8416d23191b57fe5",
       "version_major": 2,
       "version_minor": 0
      },
      "text/plain": [
       "HBox(children=(FloatProgress(value=0.0, description='Epoch 1', max=769.0, style=ProgressStyle(description_widt…"
      ]
     },
     "metadata": {},
     "output_type": "display_data"
    },
    {
     "name": "stdout",
     "output_type": "stream",
     "text": [
      "\n"
     ]
    },
    {
     "data": {
      "application/vnd.jupyter.widget-view+json": {
       "model_id": "d2e69edd00ee4cbba9373420fb85f9ef",
       "version_major": 2,
       "version_minor": 0
      },
      "text/plain": [
       "HBox(children=(FloatProgress(value=0.0, description='Epoch 2', max=769.0, style=ProgressStyle(description_widt…"
      ]
     },
     "metadata": {},
     "output_type": "display_data"
    },
    {
     "name": "stdout",
     "output_type": "stream",
     "text": [
      "\n"
     ]
    },
    {
     "data": {
      "application/vnd.jupyter.widget-view+json": {
       "model_id": "99bbe7aff7cb41868739eaf91309a021",
       "version_major": 2,
       "version_minor": 0
      },
      "text/plain": [
       "HBox(children=(FloatProgress(value=0.0, description='Epoch 3', max=769.0, style=ProgressStyle(description_widt…"
      ]
     },
     "metadata": {},
     "output_type": "display_data"
    },
    {
     "name": "stdout",
     "output_type": "stream",
     "text": [
      "\n"
     ]
    },
    {
     "data": {
      "application/vnd.jupyter.widget-view+json": {
       "model_id": "c43d262a71f848008aafb5ff42019507",
       "version_major": 2,
       "version_minor": 0
      },
      "text/plain": [
       "HBox(children=(FloatProgress(value=0.0, description='Epoch 4', max=769.0, style=ProgressStyle(description_widt…"
      ]
     },
     "metadata": {},
     "output_type": "display_data"
    },
    {
     "name": "stdout",
     "output_type": "stream",
     "text": [
      "\n"
     ]
    },
    {
     "data": {
      "application/vnd.jupyter.widget-view+json": {
       "model_id": "1529caacdfc24a7e8435adf5c8d4863f",
       "version_major": 2,
       "version_minor": 0
      },
      "text/plain": [
       "HBox(children=(FloatProgress(value=0.0, description='Epoch 5', max=769.0, style=ProgressStyle(description_widt…"
      ]
     },
     "metadata": {},
     "output_type": "display_data"
    },
    {
     "name": "stdout",
     "output_type": "stream",
     "text": [
      "\n"
     ]
    },
    {
     "data": {
      "application/vnd.jupyter.widget-view+json": {
       "model_id": "34591a2973d94f2aa3c3c0a954041c6f",
       "version_major": 2,
       "version_minor": 0
      },
      "text/plain": [
       "HBox(children=(FloatProgress(value=0.0, description='Epoch 6', max=769.0, style=ProgressStyle(description_widt…"
      ]
     },
     "metadata": {},
     "output_type": "display_data"
    },
    {
     "name": "stdout",
     "output_type": "stream",
     "text": [
      "\n"
     ]
    },
    {
     "data": {
      "application/vnd.jupyter.widget-view+json": {
       "model_id": "26c3fcb2b6d14a8eac9edfe0f2a58034",
       "version_major": 2,
       "version_minor": 0
      },
      "text/plain": [
       "HBox(children=(FloatProgress(value=0.0, description='Epoch 7', max=769.0, style=ProgressStyle(description_widt…"
      ]
     },
     "metadata": {},
     "output_type": "display_data"
    },
    {
     "name": "stdout",
     "output_type": "stream",
     "text": [
      "\n"
     ]
    },
    {
     "data": {
      "application/vnd.jupyter.widget-view+json": {
       "model_id": "b8a48ee366ba4b90ab7a6641bd416b5b",
       "version_major": 2,
       "version_minor": 0
      },
      "text/plain": [
       "HBox(children=(FloatProgress(value=0.0, description='Epoch 8', max=769.0, style=ProgressStyle(description_widt…"
      ]
     },
     "metadata": {},
     "output_type": "display_data"
    },
    {
     "name": "stdout",
     "output_type": "stream",
     "text": [
      "\n"
     ]
    },
    {
     "data": {
      "application/vnd.jupyter.widget-view+json": {
       "model_id": "32d22f55fddb4adb94be85353ac286ae",
       "version_major": 2,
       "version_minor": 0
      },
      "text/plain": [
       "HBox(children=(FloatProgress(value=0.0, description='Epoch 9', max=769.0, style=ProgressStyle(description_widt…"
      ]
     },
     "metadata": {},
     "output_type": "display_data"
    },
    {
     "name": "stdout",
     "output_type": "stream",
     "text": [
      "\n"
     ]
    },
    {
     "data": {
      "application/vnd.jupyter.widget-view+json": {
       "model_id": "38a5c2a473674a01ae4b02407ef851a3",
       "version_major": 2,
       "version_minor": 0
      },
      "text/plain": [
       "HBox(children=(FloatProgress(value=0.0, description='Epoch 10', max=769.0, style=ProgressStyle(description_wid…"
      ]
     },
     "metadata": {},
     "output_type": "display_data"
    },
    {
     "name": "stdout",
     "output_type": "stream",
     "text": [
      "\n"
     ]
    },
    {
     "data": {
      "application/vnd.jupyter.widget-view+json": {
       "model_id": "2dfcdd4ef75b4426ad87078630fd5d8a",
       "version_major": 2,
       "version_minor": 0
      },
      "text/plain": [
       "HBox(children=(FloatProgress(value=0.0, description='Epoch 11', max=769.0, style=ProgressStyle(description_wid…"
      ]
     },
     "metadata": {},
     "output_type": "display_data"
    },
    {
     "name": "stdout",
     "output_type": "stream",
     "text": [
      "\n"
     ]
    },
    {
     "data": {
      "application/vnd.jupyter.widget-view+json": {
       "model_id": "c40a5e4fd515496fa06d7a234dbd2b7c",
       "version_major": 2,
       "version_minor": 0
      },
      "text/plain": [
       "HBox(children=(FloatProgress(value=0.0, description='Epoch 12', max=769.0, style=ProgressStyle(description_wid…"
      ]
     },
     "metadata": {},
     "output_type": "display_data"
    },
    {
     "name": "stdout",
     "output_type": "stream",
     "text": [
      "\n"
     ]
    },
    {
     "data": {
      "application/vnd.jupyter.widget-view+json": {
       "model_id": "b06db0ba67d8475a8e0298641fbdac2d",
       "version_major": 2,
       "version_minor": 0
      },
      "text/plain": [
       "HBox(children=(FloatProgress(value=0.0, description='Epoch 13', max=769.0, style=ProgressStyle(description_wid…"
      ]
     },
     "metadata": {},
     "output_type": "display_data"
    },
    {
     "name": "stdout",
     "output_type": "stream",
     "text": [
      "\n"
     ]
    },
    {
     "data": {
      "application/vnd.jupyter.widget-view+json": {
       "model_id": "673b8b59ba434a039eb4a51531ce0dc8",
       "version_major": 2,
       "version_minor": 0
      },
      "text/plain": [
       "HBox(children=(FloatProgress(value=0.0, description='Epoch 14', max=769.0, style=ProgressStyle(description_wid…"
      ]
     },
     "metadata": {},
     "output_type": "display_data"
    },
    {
     "name": "stdout",
     "output_type": "stream",
     "text": [
      "\n"
     ]
    },
    {
     "data": {
      "application/vnd.jupyter.widget-view+json": {
       "model_id": "854b81938c784640a6226ba50391cb86",
       "version_major": 2,
       "version_minor": 0
      },
      "text/plain": [
       "HBox(children=(FloatProgress(value=0.0, description='Epoch 15', max=769.0, style=ProgressStyle(description_wid…"
      ]
     },
     "metadata": {},
     "output_type": "display_data"
    },
    {
     "name": "stdout",
     "output_type": "stream",
     "text": [
      "\n"
     ]
    },
    {
     "data": {
      "application/vnd.jupyter.widget-view+json": {
       "model_id": "4e2e2a094dba4b58a77ed86868659f00",
       "version_major": 2,
       "version_minor": 0
      },
      "text/plain": [
       "HBox(children=(FloatProgress(value=0.0, description='Epoch 16', max=769.0, style=ProgressStyle(description_wid…"
      ]
     },
     "metadata": {},
     "output_type": "display_data"
    },
    {
     "name": "stdout",
     "output_type": "stream",
     "text": [
      "\n"
     ]
    },
    {
     "data": {
      "application/vnd.jupyter.widget-view+json": {
       "model_id": "a813b92c58ec4716b5b2908d43a6758a",
       "version_major": 2,
       "version_minor": 0
      },
      "text/plain": [
       "HBox(children=(FloatProgress(value=0.0, description='Epoch 17', max=769.0, style=ProgressStyle(description_wid…"
      ]
     },
     "metadata": {},
     "output_type": "display_data"
    },
    {
     "name": "stdout",
     "output_type": "stream",
     "text": [
      "\n"
     ]
    },
    {
     "data": {
      "application/vnd.jupyter.widget-view+json": {
       "model_id": "15b288bf959d4536817931572d495936",
       "version_major": 2,
       "version_minor": 0
      },
      "text/plain": [
       "HBox(children=(FloatProgress(value=0.0, description='Epoch 18', max=769.0, style=ProgressStyle(description_wid…"
      ]
     },
     "metadata": {},
     "output_type": "display_data"
    },
    {
     "name": "stdout",
     "output_type": "stream",
     "text": [
      "\n"
     ]
    },
    {
     "data": {
      "application/vnd.jupyter.widget-view+json": {
       "model_id": "7a67ca9691694011a679f9858e9dd280",
       "version_major": 2,
       "version_minor": 0
      },
      "text/plain": [
       "HBox(children=(FloatProgress(value=0.0, description='Epoch 19', max=769.0, style=ProgressStyle(description_wid…"
      ]
     },
     "metadata": {},
     "output_type": "display_data"
    },
    {
     "name": "stdout",
     "output_type": "stream",
     "text": [
      "\n"
     ]
    },
    {
     "data": {
      "application/vnd.jupyter.widget-view+json": {
       "model_id": "692e5ec896a14753ac007839a01a5c64",
       "version_major": 2,
       "version_minor": 0
      },
      "text/plain": [
       "HBox(children=(FloatProgress(value=0.0, description='Epoch 20', max=769.0, style=ProgressStyle(description_wid…"
      ]
     },
     "metadata": {},
     "output_type": "display_data"
    },
    {
     "name": "stdout",
     "output_type": "stream",
     "text": [
      "\n"
     ]
    },
    {
     "data": {
      "application/vnd.jupyter.widget-view+json": {
       "model_id": "6fbdc6a587964f77af2822ab3e8e99c7",
       "version_major": 2,
       "version_minor": 0
      },
      "text/plain": [
       "HBox(children=(FloatProgress(value=0.0, description='Epoch 21', max=769.0, style=ProgressStyle(description_wid…"
      ]
     },
     "metadata": {},
     "output_type": "display_data"
    },
    {
     "name": "stdout",
     "output_type": "stream",
     "text": [
      "\n"
     ]
    },
    {
     "data": {
      "application/vnd.jupyter.widget-view+json": {
       "model_id": "39a698d49845432ca025c74c4fbea01e",
       "version_major": 2,
       "version_minor": 0
      },
      "text/plain": [
       "HBox(children=(FloatProgress(value=0.0, description='Epoch 22', max=769.0, style=ProgressStyle(description_wid…"
      ]
     },
     "metadata": {},
     "output_type": "display_data"
    },
    {
     "name": "stdout",
     "output_type": "stream",
     "text": [
      "\n"
     ]
    },
    {
     "data": {
      "application/vnd.jupyter.widget-view+json": {
       "model_id": "2a8fd50724a9455b8e87ac9e64b4bc28",
       "version_major": 2,
       "version_minor": 0
      },
      "text/plain": [
       "HBox(children=(FloatProgress(value=0.0, description='Epoch 23', max=769.0, style=ProgressStyle(description_wid…"
      ]
     },
     "metadata": {},
     "output_type": "display_data"
    },
    {
     "name": "stdout",
     "output_type": "stream",
     "text": [
      "\n"
     ]
    },
    {
     "data": {
      "application/vnd.jupyter.widget-view+json": {
       "model_id": "9aa667ddda1f43448d1f16fd9c46d9dd",
       "version_major": 2,
       "version_minor": 0
      },
      "text/plain": [
       "HBox(children=(FloatProgress(value=0.0, description='Epoch 24', max=769.0, style=ProgressStyle(description_wid…"
      ]
     },
     "metadata": {},
     "output_type": "display_data"
    },
    {
     "name": "stdout",
     "output_type": "stream",
     "text": [
      "\n",
      "\n"
     ]
    }
   ],
   "source": [
    "callbacks1 = [\n",
    "    ReduceLROnPlateau(), \n",
    "    TQDMNotebookCallback(leave_inner = True, leave_outer = True),\n",
    "    EarlyStopping(monitor='val_loss', patience=10), \n",
    "    ModelCheckpoint(filepath='model-conv1d1.h5', monitor='val_loss', save_best_only=True)\n",
    "]\n",
    "\n",
    "history = model.fit(X_train, y_train,\n",
    "                    class_weight=class_weight,\n",
    "                    epochs=40,\n",
    "                    batch_size=10,\n",
    "                    validation_split=0.1,\n",
    "                    callbacks=callbacks1,\n",
    "                   verbose=0)"
   ]
  },
  {
   "cell_type": "code",
   "execution_count": 52,
   "id": "julian-northeast",
   "metadata": {},
   "outputs": [
    {
     "name": "stdout",
     "output_type": "stream",
     "text": [
      "286/286 [==============================] - 2s 8ms/step\n",
      "[0.4189602770171799, 0.6708595156669617, 0.44880786538124084, 0.839986264705658, 0.8251748085021973]\n",
      "Test Loss: 0.4189602770171799\n",
      "Test Accuracy: 0.8251748085021973\n"
     ]
    }
   ],
   "source": [
    "score = model.evaluate(X_test, y_test, verbose=1)\n",
    "print(score)\n",
    "print(\"Test Loss:\", score[0])\n",
    "print(\"Test Accuracy:\", score[-1])"
   ]
  },
  {
   "cell_type": "code",
   "execution_count": 53,
   "id": "legislative-bouquet",
   "metadata": {},
   "outputs": [],
   "source": [
    "y_pred = model.predict(X_test)"
   ]
  },
  {
   "cell_type": "code",
   "execution_count": 54,
   "id": "individual-dominican",
   "metadata": {},
   "outputs": [],
   "source": [
    "y_preds = model.predict(X_test[:5])"
   ]
  },
  {
   "cell_type": "code",
   "execution_count": 55,
   "id": "immediate-egyptian",
   "metadata": {},
   "outputs": [
    {
     "data": {
      "text/plain": [
       "array([[False, False, False, False,  True, False, False, False, False,\n",
       "        False, False],\n",
       "       [False, False,  True, False, False, False, False, False, False,\n",
       "        False, False],\n",
       "       [False, False, False,  True,  True, False, False, False, False,\n",
       "        False,  True],\n",
       "       [False, False, False, False,  True, False, False, False, False,\n",
       "        False, False],\n",
       "       [False, False, False, False,  True, False, False, False, False,\n",
       "        False, False]])"
      ]
     },
     "execution_count": 55,
     "metadata": {},
     "output_type": "execute_result"
    }
   ],
   "source": [
    "(y_preds > 0.5)"
   ]
  },
  {
   "cell_type": "code",
   "execution_count": 56,
   "id": "inclusive-clear",
   "metadata": {},
   "outputs": [
    {
     "name": "stdout",
     "output_type": "stream",
     "text": [
      "      Action  Adventure  Comedy  Crime  Drama  Fantasy  Horror  Mystery  \\\n",
      "1071       1          0       0      0      1        0       0        0   \n",
      "907        0          0       1      0      0        1       0        0   \n",
      "290        1          0       0      1      1        0       0        0   \n",
      "844        0          0       0      0      1        0       0        0   \n",
      "333        1          0       0      1      1        0       0        0   \n",
      "\n",
      "      Romance  Sci-Fi  Thriller  \n",
      "1071        0       0         0  \n",
      "907         0       0         0  \n",
      "290         0       0         1  \n",
      "844         0       0         0  \n",
      "333         0       0         1  \n"
     ]
    }
   ],
   "source": [
    "print(y_test[:5])"
   ]
  },
  {
   "cell_type": "code",
   "execution_count": 57,
   "id": "prerequisite-guess",
   "metadata": {},
   "outputs": [
    {
     "data": {
      "image/png": "[encoded data removed]",
      "text/plain": [
       "<Figure size 432x288 with 1 Axes>"
      ]
     },
     "metadata": {
      "needs_background": "light"
     },
     "output_type": "display_data"
    },
    {
     "data": {
      "image/png": "[encoded data removed]",
      "text/plain": [
       "<Figure size 432x288 with 1 Axes>"
      ]
     },
     "metadata": {
      "needs_background": "light"
     },
     "output_type": "display_data"
    }
   ],
   "source": [
    "plt.plot(history.history['acc'])\n",
    "plt.plot(history.history['val_acc'])\n",
    "\n",
    "plt.title('model accuracy')\n",
    "plt.ylabel('accuracy')\n",
    "plt.xlabel('epoch')\n",
    "plt.legend(['train','test'], loc='upper left')\n",
    "plt.show()\n",
    "\n",
    "plt.plot(history.history['loss'])\n",
    "plt.plot(history.history['val_loss'])\n",
    "\n",
    "plt.title('model loss')\n",
    "plt.ylabel('loss')\n",
    "plt.xlabel('epoch')\n",
    "plt.legend(['train','test'], loc='upper left')\n",
    "plt.show()"
   ]
  },
  {
   "cell_type": "code",
   "execution_count": null,
   "id": "removed-innocent",
   "metadata": {},
   "outputs": [],
   "source": []
  },
  {
   "cell_type": "code",
   "execution_count": 58,
   "id": "inner-slovakia",
   "metadata": {},
   "outputs": [],
   "source": [
    "def plot_roc(model,y_bin,X):\n",
    "    fpr = {}\n",
    "    tpr = {}\n",
    "    for i, cl in enumerate(model.classes_):\n",
    "        fpr[cl], tpr[cl], _ = metrics.roc_curve(y_bin[:,i],model.predict_proba(X)[:,i])\n",
    "    auc_scores = [round(metrics.roc_auc_score(y_bin[:,i],model.predict_proba(X)[:,i]),2) for i in range(len(model.classes_))]\n",
    "    for i, key in enumerate(fpr.keys()):\n",
    "        plt.plot(fpr[key],tpr[key],lw=2,label='class {}, ROC_AUC {}'.format(key,auc_scores[i]))\n",
    "    plt.plot([0,1],[0,1],ls='--',lw=2)\n",
    "    plt.ylim([0,1.05])\n",
    "    plt.legend(loc='lower right')\n",
    "    plt.title('ROC Curve',fontsize=20)\n",
    "    plt.xlabel('FPR',fontsize=18)\n",
    "    plt.ylabel('TPR',fontsize=18)\n",
    "    \n",
    "    plt.show()"
   ]
  },
  {
   "cell_type": "markdown",
   "id": "reflected-spare",
   "metadata": {},
   "source": [
    "## Model 4"
   ]
  },
  {
   "cell_type": "code",
   "execution_count": null,
   "id": "outer-roller",
   "metadata": {},
   "outputs": [],
   "source": [
    "model = Sequential()\n",
    "\n",
    "\n",
    "model.add(Embedding(vocab_size, 32, input_length=maxlen, trainable = False))\n",
    "\n",
    "model.add(SeparableConv2D(128,3,activation='relu'))\n",
    "model.add(MaxPooling1D(3))\n",
    "\n",
    "model.add(SeparableConv2D(128,3,activation='relu'))\n",
    "model.add(MaxPooling1D(3))\n",
    "\n",
    "model.add(SeparableConv2D(128,3,activation='relu'))\n",
    "model.add(GlobalMaxPooling1D())\n",
    "\n",
    "model.add(Dense(22,activation='sigmoid'))\n",
    "\n",
    "model.compile(loss='binary_crossentropy',\n",
    "             optimizer='adam',\n",
    "             metrics=[Precision(), Recall(), AUC(), 'acc'])\n",
    "\n",
    "\n",
    "model.summary()"
   ]
  },
  {
   "cell_type": "code",
   "execution_count": null,
   "id": "indoor-interference",
   "metadata": {},
   "outputs": [],
   "source": [
    "callbacks1 = [\n",
    "    ReduceLROnPlateau(), \n",
    "    TQDMNotebookCallback(leave_inner = True, leave_outer = True),\n",
    "    EarlyStopping(monitor='val_loss', patience=10), \n",
    "    ModelCheckpoint(filepath='model-conv1d1.h5', monitor='val_loss', save_best_only=True)\n",
    "]\n",
    "\n",
    "history = model.fit(X_train, y_train,\n",
    "                    class_weight=class_weight,\n",
    "                    epochs=40,\n",
    "                    batch_size=10,\n",
    "                    validation_split=0.1,\n",
    "                    callbacks=callbacks1,\n",
    "                   verbose=0)"
   ]
  },
  {
   "cell_type": "code",
   "execution_count": null,
   "id": "alien-richards",
   "metadata": {},
   "outputs": [],
   "source": [
    "score = model.evaluate(X_test, y_test, verbose=1)\n",
    "print(score)\n",
    "print(\"Test Loss:\", score[0])\n",
    "print(\"Test Accuracy:\", score[-1])"
   ]
  },
  {
   "cell_type": "code",
   "execution_count": null,
   "id": "straight-input",
   "metadata": {},
   "outputs": [],
   "source": [
    "y_pred = model.predict(X_test)"
   ]
  },
  {
   "cell_type": "code",
   "execution_count": null,
   "id": "colonial-suite",
   "metadata": {},
   "outputs": [],
   "source": [
    "# plt.plot(history.history['acc'])\n",
    "# plt.plot(history.history['val_acc'])\n",
    "\n",
    "# plt.title('model accuracy')\n",
    "# plt.ylabel('accuracy')\n",
    "# plt.xlabel('epoch')\n",
    "# plt.legend(['train','test'], loc='upper left')\n",
    "# plt.show()\n",
    "\n",
    "# plt.plot(history.history['loss'])\n",
    "# plt.plot(history.history['val_loss'])\n",
    "\n",
    "# plt.title('model loss')\n",
    "# plt.ylabel('loss')\n",
    "# plt.xlabel('epoch')\n",
    "# plt.legend(['train','test'], loc='upper left')\n",
    "# plt.show()"
   ]
  },
  {
   "cell_type": "code",
   "execution_count": null,
   "id": "manufactured-opportunity",
   "metadata": {},
   "outputs": [],
   "source": []
  },
  {
   "cell_type": "markdown",
   "id": "pleased-locator",
   "metadata": {},
   "source": [
    "## Model 5"
   ]
  },
  {
   "cell_type": "code",
   "execution_count": null,
   "id": "straight-earthquake",
   "metadata": {},
   "outputs": [],
   "source": [
    "model = Sequential()\n",
    "model.add(Embedding(30000, 128))\n",
    "model.add(LSTM(units = 128, dropout = 0.2, recurrent_dropout = 0.2,return_sequences=True))\n",
    "model.add(LSTM(units = 128, dropout = 0.2, recurrent_dropout = 0.2))\n",
    "model.add(Dense(units = 22, activation = 'sigmoid'))\n",
    "model.summary()"
   ]
  },
  {
   "cell_type": "code",
   "execution_count": null,
   "id": "adjusted-vietnam",
   "metadata": {},
   "outputs": [],
   "source": [
    "model.compile(loss='binary_crossentropy',\n",
    "             optimizer='adam',\n",
    "             metrics=[Precision(), Recall(), AUC(), 'acc'])\n",
    "\n",
    "\n"
   ]
  },
  {
   "cell_type": "code",
   "execution_count": null,
   "id": "christian-stretch",
   "metadata": {},
   "outputs": [],
   "source": [
    "callbacks1 = [\n",
    "    ReduceLROnPlateau(), \n",
    "    TQDMNotebookCallback(leave_inner = True, leave_outer = True),\n",
    "    EarlyStopping(monitor='val_loss', patience=10), \n",
    "    ModelCheckpoint(filepath='model-conv1d1.h5', monitor='val_loss', save_best_only=True)\n",
    "]\n",
    "\n",
    "history = model.fit(X_train, y_train,\n",
    "                    class_weight=class_weight,\n",
    "                    epochs=40,\n",
    "                    batch_size=10,\n",
    "                    validation_split=0.1,\n",
    "                    callbacks=callbacks1,\n",
    "                   verbose=0)"
   ]
  },
  {
   "cell_type": "code",
   "execution_count": null,
   "id": "painted-majority",
   "metadata": {},
   "outputs": [],
   "source": [
    "score = model.evaluate(X_test, y_test, verbose=1)\n",
    "print(score)\n",
    "print(\"Test Loss:\", score[0])\n",
    "print(\"Test Accuracy:\", score[-1])"
   ]
  },
  {
   "cell_type": "code",
   "execution_count": null,
   "id": "metallic-isaac",
   "metadata": {},
   "outputs": [],
   "source": [
    "y_pred = model.predict(X_test)"
   ]
  },
  {
   "cell_type": "code",
   "execution_count": null,
   "id": "three-spirit",
   "metadata": {},
   "outputs": [],
   "source": []
  },
  {
   "cell_type": "code",
   "execution_count": null,
   "id": "choice-extra",
   "metadata": {},
   "outputs": [],
   "source": []
  }
 ],
 "metadata": {
  "kernelspec": {
   "display_name": "conda_tensorflow2_p36",
   "language": "python",
   "name": "conda_tensorflow2_p36"
  },
  "language_info": {
   "codemirror_mode": {
    "name": "ipython",
    "version": 3
   },
   "file_extension": ".py",
   "mimetype": "text/x-python",
   "name": "python",
   "nbconvert_exporter": "python",
   "pygments_lexer": "ipython3",
   "version": "3.6.10"
  }
 },
 "nbformat": 4,
 "nbformat_minor": 5
}
